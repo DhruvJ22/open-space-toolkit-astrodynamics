{
 "cells": [
  {
   "cell_type": "markdown",
   "metadata": {},
   "source": [
    "# Sensor Modeling"
   ]
  },
  {
   "cell_type": "markdown",
   "metadata": {},
   "source": [
    "# This tutorial demonstrates how to model sensor geometries."
   ]
  },
  {
   "cell_type": "markdown",
   "metadata": {},
   "source": [
    "## Setup"
   ]
  },
  {
   "cell_type": "code",
   "execution_count": null,
   "metadata": {},
   "outputs": [],
   "source": [
    "import sys\n",
    "\n",
    "! {sys.executable} -m pip install --quiet numpy --upgrade\n",
    "! {sys.executable} -m pip install --quiet plotly\n",
    "\n",
    "# ! {sys.executable} -m pip install --quiet --index-url https://test.pypi.org/simple/ LibraryCorePy==0.1.9\n",
    "# ! {sys.executable} -m pip install --quiet --index-url https://test.pypi.org/simple/ LibraryMathematicsPy==0.1.5\n",
    "# ! {sys.executable} -m pip install --quiet --index-url https://test.pypi.org/simple/ LibraryPhysicsPy==0.1.3"
   ]
  },
  {
   "cell_type": "code",
   "execution_count": 1,
   "metadata": {},
   "outputs": [
    {
     "data": {
      "text/html": [
       "<script>requirejs.config({paths: { 'plotly': ['https://cdn.plot.ly/plotly-latest.min']},});if(!window.Plotly) {{require(['plotly'],function(plotly) {window.Plotly=plotly;});}}</script>"
      ],
      "text/vnd.plotly.v1+html": [
       "<script>requirejs.config({paths: { 'plotly': ['https://cdn.plot.ly/plotly-latest.min']},});if(!window.Plotly) {{require(['plotly'],function(plotly) {window.Plotly=plotly;});}}</script>"
      ]
     },
     "metadata": {},
     "output_type": "display_data"
    }
   ],
   "source": [
    "import numpy as np\n",
    "import pandas as pd\n",
    "\n",
    "from plotly.offline import download_plotlyjs, init_notebook_mode, plot, iplot\n",
    "import plotly.graph_objs as go\n",
    "\n",
    "init_notebook_mode(connected=True)"
   ]
  },
  {
   "cell_type": "code",
   "execution_count": 2,
   "metadata": {},
   "outputs": [],
   "source": [
    "import Library.Core as Core\n",
    "import Library.Mathematics as Mathematics\n",
    "import Library.Physics as Physics\n",
    "import Library.Astrodynamics as Astrodynamics"
   ]
  },
  {
   "cell_type": "code",
   "execution_count": 3,
   "metadata": {},
   "outputs": [],
   "source": [
    "Object2 = Mathematics.Geometry.D2.Object\n",
    "Point2 = Mathematics.Geometry.D2.Objects.Point\n",
    "LineString2 = Mathematics.Geometry.D2.Objects.LineString\n",
    "Polygon2 = Mathematics.Geometry.D2.Objects.Polygon\n",
    "Point3 = Mathematics.Geometry.D3.Objects.Point\n",
    "Polygon3 = Mathematics.Geometry.D3.Objects.Polygon\n",
    "Ellipsoid = Mathematics.Geometry.D3.Objects.Ellipsoid\n",
    "Pyramid = Mathematics.Geometry.D3.Objects.Pyramid\n",
    "\n",
    "Length = Physics.Units.Length\n",
    "Angle = Physics.Units.Angle\n",
    "Scale = Physics.Time.Scale\n",
    "Instant = Physics.Time.Instant\n",
    "Duration = Physics.Time.Duration\n",
    "Interval = Physics.Time.Interval\n",
    "DateTime = Physics.Time.DateTime\n",
    "LLA = Physics.Coordinate.Spherical.LLA\n",
    "Position = Physics.Coordinate.Position\n",
    "Velocity = Physics.Coordinate.Velocity\n",
    "Frame = Physics.Coordinate.Frame\n",
    "Environment = Physics.Environment\n",
    "Geometry = Physics.Environment.Object.Geometry\n",
    "Earth = Physics.Environment.Objects.CelestialBodies.Earth\n",
    "\n",
    "Trajectory = Astrodynamics.Trajectory\n",
    "Orbit = Astrodynamics.Trajectory.Orbit\n",
    "State = Astrodynamics.Trajectory.State\n",
    "Access = Astrodynamics.Access"
   ]
  },
  {
   "cell_type": "markdown",
   "metadata": {},
   "source": [
    "---"
   ]
  },
  {
   "cell_type": "markdown",
   "metadata": {},
   "source": [
    "## Computation"
   ]
  },
  {
   "cell_type": "markdown",
   "metadata": {},
   "source": [
    "### Environment"
   ]
  },
  {
   "cell_type": "code",
   "execution_count": 4,
   "metadata": {},
   "outputs": [],
   "source": [
    "environment = Environment.Default() ;"
   ]
  },
  {
   "cell_type": "code",
   "execution_count": 5,
   "metadata": {},
   "outputs": [],
   "source": [
    "earth = environment.accessCelestialObjectWithName(\"Earth\")"
   ]
  },
  {
   "cell_type": "code",
   "execution_count": 6,
   "metadata": {},
   "outputs": [],
   "source": [
    "earth_geometry = earth.getGeometryIn(Frame.ITRF())"
   ]
  },
  {
   "cell_type": "markdown",
   "metadata": {},
   "source": [
    "### Satellite"
   ]
  },
  {
   "cell_type": "markdown",
   "metadata": {},
   "source": [
    "Let's define the orbit of a satellite in LEO. In this example, we're modeling the orbit using SGP4."
   ]
  },
  {
   "cell_type": "code",
   "execution_count": 7,
   "metadata": {},
   "outputs": [],
   "source": [
    "a = Length.Kilometers(7000.0)\n",
    "e = 0.0\n",
    "i = Angle.Degrees(0.0)\n",
    "raan = Angle.Degrees(0.0)\n",
    "aop = Angle.Degrees(0.0)\n",
    "nu = Angle.Degrees(0.0)\n",
    "\n",
    "coe = Orbit.Models.Kepler.COE(a, e, i, raan, aop, nu)"
   ]
  },
  {
   "cell_type": "code",
   "execution_count": 8,
   "metadata": {},
   "outputs": [],
   "source": [
    "epoch = Instant.DateTime(DateTime(2018, 1, 1, 0, 0, 0), Scale.UTC)\n",
    "earth = Environment.Objects.CelestialBodies.Earth.Analytical(epoch)\n",
    "\n",
    "keplerian_model = Orbit.Models.Kepler(coe, epoch, earth, Orbit.Models.Kepler.PerturbationType.No, True)"
   ]
  },
  {
   "cell_type": "code",
   "execution_count": 9,
   "metadata": {},
   "outputs": [
    {
     "data": {
      "text/plain": [
       "-- Classical Orbital Elements ----------------------------------------------------------------------\n",
       "    Semi-major axis:                         6999999.9999999991 [m]                   \n",
       "    Eccentricity:                            1.3267272446711252e-16                   \n",
       "    Inclination:                             0.098876602957656656 [deg]               \n",
       "    Right ascension of the ascending node:   88.682615344273074 [deg]                 \n",
       "    Argument of periapsis:                   0.0 [deg]                                \n",
       "    True anomaly:                            11.686893410122007 [deg]                 \n",
       "----------------------------------------------------------------------------------------------------"
      ]
     },
     "execution_count": 9,
     "metadata": {},
     "output_type": "execute_result"
    }
   ],
   "source": [
    "keplerian_model.getClassicalOrbitalElements()"
   ]
  },
  {
   "cell_type": "markdown",
   "metadata": {},
   "source": [
    "First, we need a **Two-Line Element** (TLE) set:"
   ]
  },
  {
   "cell_type": "code",
   "execution_count": 10,
   "metadata": {},
   "outputs": [],
   "source": [
    "tle = Orbit.Models.SGP4.TLE(\"1 25544U 98067A   18231.17878740  .00000187  00000-0  10196-4 0  9994\",\n",
    "                            \"2 25544  51.6447  64.7824 0005971  73.1467  36.4366 15.53848234128316\")"
   ]
  },
  {
   "cell_type": "markdown",
   "metadata": {},
   "source": [
    "To setup a **SGP4** orbital model:"
   ]
  },
  {
   "cell_type": "code",
   "execution_count": 11,
   "metadata": {},
   "outputs": [],
   "source": [
    "sgp4_model = Orbit.Models.SGP4(tle)"
   ]
  },
  {
   "cell_type": "markdown",
   "metadata": {},
   "source": [
    "We then obtain the satellite orbit (which is a trajectory):"
   ]
  },
  {
   "cell_type": "code",
   "execution_count": 12,
   "metadata": {},
   "outputs": [],
   "source": [
    "# satellite_orbit = Orbit(keplerian_model, earth)\n",
    "satellite_orbit = Orbit(sgp4_model, earth)"
   ]
  },
  {
   "cell_type": "code",
   "execution_count": 13,
   "metadata": {},
   "outputs": [],
   "source": [
    "start_instant = Instant.DateTime(DateTime(2018, 1, 1, 0, 0, 0), Scale.UTC) ;\n",
    "end_instant = Instant.DateTime(DateTime(2018, 1, 1, 1, 0, 0), Scale.UTC) ;\n",
    "\n",
    "interval = Interval.Closed(start_instant, end_instant) ;"
   ]
  },
  {
   "cell_type": "code",
   "execution_count": 14,
   "metadata": {},
   "outputs": [],
   "source": [
    "step = Duration.Minutes(1.0)"
   ]
  },
  {
   "cell_type": "code",
   "execution_count": 15,
   "metadata": {},
   "outputs": [],
   "source": [
    "instants = interval.generateGrid(step)"
   ]
  },
  {
   "cell_type": "code",
   "execution_count": 16,
   "metadata": {},
   "outputs": [],
   "source": [
    "states = [satellite_orbit.getStateAt(instant) for instant in instants]"
   ]
  },
  {
   "cell_type": "code",
   "execution_count": 17,
   "metadata": {},
   "outputs": [],
   "source": [
    "states_lla = [LLA.Cartesian(state.inFrame(Frame.ITRF()).getPosition().getCoordinates(), Earth.EquatorialRadius, Earth.Flattening) for state in states]"
   ]
  },
  {
   "cell_type": "code",
   "execution_count": 18,
   "metadata": {},
   "outputs": [],
   "source": [
    "states_line_string = LineString2([Point2(state_lla.getLongitude().inDegrees(), state_lla.getLatitude().inDegrees()) for state_lla in states_lla])"
   ]
  },
  {
   "cell_type": "code",
   "execution_count": 19,
   "metadata": {},
   "outputs": [],
   "source": [
    "ground_track_df = pd.DataFrame([[float(state_lla.getLongitude().inDegrees()), float(state_lla.getLatitude().inDegrees())] for state_lla in states_lla], columns=['Longitude', 'Latitude']) ;"
   ]
  },
  {
   "cell_type": "code",
   "execution_count": 20,
   "metadata": {},
   "outputs": [
    {
     "data": {
      "text/html": [
       "<div>\n",
       "<style scoped>\n",
       "    .dataframe tbody tr th:only-of-type {\n",
       "        vertical-align: middle;\n",
       "    }\n",
       "\n",
       "    .dataframe tbody tr th {\n",
       "        vertical-align: top;\n",
       "    }\n",
       "\n",
       "    .dataframe thead th {\n",
       "        text-align: right;\n",
       "    }\n",
       "</style>\n",
       "<table border=\"1\" class=\"dataframe\">\n",
       "  <thead>\n",
       "    <tr style=\"text-align: right;\">\n",
       "      <th></th>\n",
       "      <th>Longitude</th>\n",
       "      <th>Latitude</th>\n",
       "    </tr>\n",
       "  </thead>\n",
       "  <tbody>\n",
       "    <tr>\n",
       "      <th>0</th>\n",
       "      <td>-105.144161</td>\n",
       "      <td>-41.239161</td>\n",
       "    </tr>\n",
       "    <tr>\n",
       "      <th>1</th>\n",
       "      <td>-101.013621</td>\n",
       "      <td>-43.362873</td>\n",
       "    </tr>\n",
       "    <tr>\n",
       "      <th>2</th>\n",
       "      <td>-96.581238</td>\n",
       "      <td>-45.306468</td>\n",
       "    </tr>\n",
       "  </tbody>\n",
       "</table>\n",
       "</div>"
      ],
      "text/plain": [
       "    Longitude   Latitude\n",
       "0 -105.144161 -41.239161\n",
       "1 -101.013621 -43.362873\n",
       "2  -96.581238 -45.306468"
      ]
     },
     "execution_count": 20,
     "metadata": {},
     "output_type": "execute_result"
    }
   ],
   "source": [
    "ground_track_df.head()"
   ]
  },
  {
   "cell_type": "markdown",
   "metadata": {},
   "source": [
    "### Sensor"
   ]
  },
  {
   "cell_type": "code",
   "execution_count": 21,
   "metadata": {},
   "outputs": [],
   "source": [
    "ned_frame = satellite_orbit.getOrbitalFrame(Orbit.FrameType.NED)"
   ]
  },
  {
   "cell_type": "code",
   "execution_count": 22,
   "metadata": {},
   "outputs": [],
   "source": [
    "def calculate_intersection (state, frame, sensor):\n",
    "    \n",
    "    observer_geometry_NED = Geometry(sensor, frame)\n",
    "    \n",
    "    observer_geometry_ITRF = observer_geometry_NED.inFrame(Frame.ITRF(), state.getInstant())\n",
    "    \n",
    "    intersection_ITRF = observer_geometry_ITRF.intersectionWith(earth_geometry)\n",
    "    \n",
    "    return intersection_ITRF"
   ]
  },
  {
   "cell_type": "code",
   "execution_count": 23,
   "metadata": {},
   "outputs": [],
   "source": [
    "apex = Point3(0.0, 0.0, 0.0)\n",
    "base = Polygon3(Polygon2([Point2(-1.0, -1.0), Point2(+1.0, -1.0), Point2(+1.0, +1.0), Point2(-1.0, +1.0)]), apex + np.array((0.0, 0.0, 1.0)), np.array((1.0, 0.0, 0.0)), np.array((0.0, 1.0, 0.0)))\n",
    "\n",
    "pyramid = Pyramid(base, apex)"
   ]
  },
  {
   "cell_type": "code",
   "execution_count": 24,
   "metadata": {},
   "outputs": [],
   "source": [
    "intersections_ITRF = [calculate_intersection(state, ned_frame, pyramid) for state in states]"
   ]
  },
  {
   "cell_type": "code",
   "execution_count": 25,
   "metadata": {},
   "outputs": [],
   "source": [
    "# intersections_ITRF"
   ]
  },
  {
   "cell_type": "code",
   "execution_count": 26,
   "metadata": {},
   "outputs": [],
   "source": [
    "intersection_pointss = [[Point2(lla.getLongitude().inDegrees(), lla.getLatitude().inDegrees()) for lla in [LLA.Cartesian(point_ITRF, Earth.EquatorialRadius, Earth.Flattening) for point_ITRF in intersection_ITRF.asLineString()]] for intersection_ITRF in intersections_ITRF]"
   ]
  },
  {
   "cell_type": "code",
   "execution_count": 27,
   "metadata": {},
   "outputs": [],
   "source": [
    "# intersection_pointss"
   ]
  },
  {
   "cell_type": "code",
   "execution_count": 28,
   "metadata": {},
   "outputs": [],
   "source": [
    "intersection_dfs = [pd.DataFrame([[intersection_point.x(), intersection_point.y()] for intersection_point in intersection_points], columns=['Longitude', 'Latitude']) for intersection_points in intersection_pointss] ;"
   ]
  },
  {
   "cell_type": "code",
   "execution_count": 29,
   "metadata": {},
   "outputs": [
    {
     "data": {
      "text/html": [
       "<div>\n",
       "<style scoped>\n",
       "    .dataframe tbody tr th:only-of-type {\n",
       "        vertical-align: middle;\n",
       "    }\n",
       "\n",
       "    .dataframe tbody tr th {\n",
       "        vertical-align: top;\n",
       "    }\n",
       "\n",
       "    .dataframe thead th {\n",
       "        text-align: right;\n",
       "    }\n",
       "</style>\n",
       "<table border=\"1\" class=\"dataframe\">\n",
       "  <thead>\n",
       "    <tr style=\"text-align: right;\">\n",
       "      <th></th>\n",
       "      <th>Longitude</th>\n",
       "      <th>Latitude</th>\n",
       "    </tr>\n",
       "  </thead>\n",
       "  <tbody>\n",
       "    <tr>\n",
       "      <th>0</th>\n",
       "      <td>-110.875073</td>\n",
       "      <td>-45.157963</td>\n",
       "    </tr>\n",
       "    <tr>\n",
       "      <th>1</th>\n",
       "      <td>-109.269306</td>\n",
       "      <td>-45.148224</td>\n",
       "    </tr>\n",
       "    <tr>\n",
       "      <th>2</th>\n",
       "      <td>-107.940996</td>\n",
       "      <td>-45.142562</td>\n",
       "    </tr>\n",
       "    <tr>\n",
       "      <th>3</th>\n",
       "      <td>-106.768734</td>\n",
       "      <td>-45.139369</td>\n",
       "    </tr>\n",
       "    <tr>\n",
       "      <th>4</th>\n",
       "      <td>-105.677313</td>\n",
       "      <td>-45.137918</td>\n",
       "    </tr>\n",
       "  </tbody>\n",
       "</table>\n",
       "</div>"
      ],
      "text/plain": [
       "    Longitude   Latitude\n",
       "0 -110.875073 -45.157963\n",
       "1 -109.269306 -45.148224\n",
       "2 -107.940996 -45.142562\n",
       "3 -106.768734 -45.139369\n",
       "4 -105.677313 -45.137918"
      ]
     },
     "execution_count": 29,
     "metadata": {},
     "output_type": "execute_result"
    }
   ],
   "source": [
    "intersection_dfs[0].head()"
   ]
  },
  {
   "cell_type": "code",
   "execution_count": null,
   "metadata": {},
   "outputs": [],
   "source": []
  },
  {
   "cell_type": "code",
   "execution_count": null,
   "metadata": {},
   "outputs": [],
   "source": []
  },
  {
   "cell_type": "code",
   "execution_count": null,
   "metadata": {},
   "outputs": [],
   "source": []
  },
  {
   "cell_type": "code",
   "execution_count": 30,
   "metadata": {},
   "outputs": [],
   "source": [
    "# intersection_ITRF = observer_geometry.intersectionWith(earth_geometry)"
   ]
  },
  {
   "cell_type": "code",
   "execution_count": 31,
   "metadata": {},
   "outputs": [],
   "source": [
    "# intersection_points = [Point2(lla.getLongitude().inDegrees(), lla.getLatitude().inDegrees()) for lla in [LLA.Cartesian(point_ITRF, Earth.EquatorialRadius, Earth.Flattening) for point_ITRF in intersection_ITRF.asLineString()]]"
   ]
  },
  {
   "cell_type": "code",
   "execution_count": 32,
   "metadata": {},
   "outputs": [],
   "source": [
    "# intersection_polygon = Polygon2(intersection_points)"
   ]
  },
  {
   "cell_type": "code",
   "execution_count": 33,
   "metadata": {},
   "outputs": [],
   "source": [
    "# intersection_df = pd.DataFrame([[intersection_point.x(), intersection_point.y()] for intersection_point in intersection_points], columns=['Longitude', 'Latitude']) ;"
   ]
  },
  {
   "cell_type": "code",
   "execution_count": 34,
   "metadata": {},
   "outputs": [],
   "source": [
    "# intersection_df.head()"
   ]
  },
  {
   "cell_type": "code",
   "execution_count": 35,
   "metadata": {},
   "outputs": [
    {
     "data": {
      "0": {
       "lat": [
        -41.23916087483446,
        -43.36287282214643,
        -45.306468279726566
       ],
       "line": {
        "color": "blue",
        "width": 1
       },
       "lon": [
        -105.14416130169599,
        -101.01362101704774,
        -96.58123750495444
       ],
       "mode": "lines",
       "type": "scattergeo",
       "uid": "25b9f5a0-aefb-11e8-8c76-0242ac110006"
      },
      "1": {
       "lat": [
        -45.15796310946626,
        -45.14822444321641,
        -45.142562443885296,
        -45.13936934025753,
        -45.13791818189356,
        -45.13791818191273,
        -45.13936934031612,
        -45.14256244398687,
        -45.148224443368,
        -45.157963109681326,
        -45.157963109681326,
        -44.03168179145336,
        -43.09723473936001,
        -42.2708367735114,
        -41.50022219402459,
        -40.74642762401316,
        -39.97413601334092,
        -39.14402541442913,
        -38.20291845464972,
        -37.06494972235292,
        -37.06494972235292,
        -37.19626570988913,
        -37.27272185545333,
        -37.31587543064987,
        -37.33549586531365,
        -37.33549586559198,
        -37.3158754315029,
        -37.27272185694072,
        -37.19626571213314,
        -37.06494972559452,
        -37.06494972559452,
        -38.20291845704409,
        -39.14402541626403,
        -39.97413601476798,
        -40.74642762511863,
        -41.500222194858246,
        -42.27083677409894,
        -43.0972347397075,
        -44.031681791544926,
        -45.15796310946626
       ],
       "line": {
        "color": "red",
        "width": 1
       },
       "lon": [
        -110.87507344274853,
        -109.26930586460792,
        -107.94099623315265,
        -106.76873448470643,
        -105.67731268318563,
        -104.61100991852979,
        -103.51958811691667,
        -102.34732636826513,
        -101.01901673643846,
        -99.41324915763606,
        -99.41324915763606,
        -99.6267317668438,
        -99.7708445214255,
        -99.87474987386055,
        -99.95265986065023,
        -100.01187793164316,
        -100.05579037658248,
        -100.0847823620461,
        -100.0957002745347,
        -100.07900764654804,
        -100.07900764654804,
        -101.4906943440392,
        -102.6641378555858,
        -103.70263163781719,
        -104.67093467226387,
        -105.61738793082573,
        -106.58569096512538,
        -107.62418474703024,
        -108.79762825798753,
        -110.2093149544328,
        -110.2093149544328,
        -110.19262232650985,
        -110.20354023900644,
        -110.23253222444872,
        -110.27644466934711,
        -110.33566274028182,
        -110.41357272699389,
        -110.51747807932487,
        -110.66159083376105,
        -110.87507344274853
       ],
       "mode": "lines",
       "type": "scattergeo",
       "uid": "25b9f8e8-aefb-11e8-8c76-0242ac110006"
      },
      "2": {
       "lat": [
        -47.275245105014015,
        -47.270823487943744,
        -47.268252885588076,
        -47.26680321381208,
        -47.266144392904344,
        -47.26614439290705,
        -47.26680321382035,
        -47.26825288560229,
        -47.270823487964655,
        -47.275245105042956,
        -47.275245105042956,
        -46.14832919647199,
        -45.21326772901811,
        -44.386256454757195,
        -43.615007597614955,
        -42.86053083954573,
        -42.08747254408965,
        -41.25645501438321,
        -40.31420522250024,
        -39.174669391588964,
        -39.174669391588964,
        -39.31048225825469,
        -39.38956068530283,
        -39.43419578949939,
        -39.45449018801387,
        -39.45449018811203,
        -39.43419578980042,
        -39.38956068582838,
        -39.31048225904937,
        -39.1746693927413,
        -39.1746693927413,
        -40.31420522325939,
        -41.25645501489833,
        -42.087472544440324,
        -42.86053083977935,
        -43.61500759776196,
        -44.38625645483861,
        -45.21326772904963,
        -46.148329196466676,
        -47.275245105014
       ],
       "line": {
        "color": "red",
        "width": 1
       },
       "lon": [
        -106.97959858152893,
        -105.30791820174937,
        -103.9251235996993,
        -102.70479489337768,
        -101.56862860724675,
        -100.4586134269524,
        -99.32244714082448,
        -98.1021184345095,
        -96.71932383247153,
        -95.04764345271347,
        -95.04764345271347,
        -95.2787281549706,
        -95.43536362796232,
        -95.54895724227431,
        -95.63485016894111,
        -95.70098908408627,
        -95.75116607132232,
        -95.78604733406499,
        -95.8026908147673,
        -95.79172477641286,
        -95.79172477641283,
        -97.24660596251323,
        -98.45632317011703,
        -99.52711021090964,
        -100.52561821624688,
        -101.50162381763943,
        -102.50013182291953,
        -103.57091886358533,
        -104.78063607096036,
        -106.23551725665499,
        -106.23551725665499,
        -106.2245512184848,
        -106.24119469932675,
        -106.2760759621868,
        -106.3262529495295,
        -106.39239186477803,
        -106.47828479155099,
        -106.59187840597852,
        -106.74851387910414,
        -106.97959858152893
       ],
       "mode": "lines",
       "type": "scattergeo",
       "uid": "25b9fab4-aefb-11e8-8c76-0242ac110006"
      },
      "3": {
       "lat": [
        -49.211950505200804,
        -49.21281255477124,
        -49.21331371796209,
        -49.213596343239004,
        -49.21372478534542,
        -49.21372478534482,
        -49.21359634323713,
        -49.21331371795888,
        -49.21281255476655,
        -49.211950505194416,
        -49.211950505194416,
        -48.084592215924026,
        -47.14906694852836,
        -46.3215715732206,
        -45.54980730105404,
        -44.79476450661306,
        -44.021059747737965,
        -43.189267418025324,
        -42.246030363627916,
        -41.105127448254876,
        -41.105127448254876,
        -41.24528668912664,
        -41.32690117717107,
        -41.372969600886336,
        -41.3939161525465,
        -41.3939161526663,
        -41.37296960125328,
        -41.3269011778101,
        -41.24528669008859,
        -41.10512744963928,
        -41.105127449639284,
        -42.246030364514496,
        -43.189267418613966,
        -44.02105974813449,
        -44.79476450687961,
        -45.549807301229976,
        -46.32157157333226,
        -47.14906694859397,
        -48.08459221595623,
        -49.211950505200804
       ],
       "line": {
        "color": "red",
        "width": 1
       },
       "lon": [
        -102.78664017175386,
        -101.04787969954505,
        -99.60959350655493,
        -98.3402886831402,
        -97.15852130046827,
        -96.00395371002108,
        -94.82218632737738,
        -93.55288150402534,
        -92.11459531114868,
        -90.37583483914206,
        -90.37583483914206,
        -90.62523472736645,
        -90.79488196753134,
        -90.91853221583176,
        -91.01270556981206,
        -91.0860193754504,
        -91.14268843683055,
        -91.18367167786914,
        -91.20624779639627,
        -91.20121835883097,
        -91.20121835883097,
        -92.69963131350966,
        -93.94593835826609,
        -95.04931682609441,
        -96.07831685905437,
        -97.08415815098613,
        -98.11315818389127,
        -99.21653665159786,
        -100.46284369613448,
        -101.96125665042291,
        -101.96125665042291,
        -101.95622721309043,
        -101.97880333179823,
        -102.01978657299287,
        -102.07645563451878,
        -102.1497694403022,
        -102.24394279443534,
        -102.36759304290607,
        -102.53724028327262,
        -102.78664017175386
       ],
       "mode": "lines",
       "type": "scattergeo",
       "uid": "25b9fc76-aefb-11e8-8c76-0242ac110006"
      },
      "image/png": "[encoded data removed]"
     },
     "metadata": {},
     "output_type": "display_data"
    }
   ],
   "source": [
    "data = []\n",
    "\n",
    "data.append(\n",
    "    dict(\n",
    "        type = 'scattergeo',\n",
    "        lon = ground_track_df['Longitude'],\n",
    "        lat = ground_track_df['Latitude'],\n",
    "        mode = 'lines',\n",
    "        line = dict(\n",
    "            width = 1,\n",
    "            color = 'blue',\n",
    "        )\n",
    "    )\n",
    ")\n",
    "\n",
    "[data.append(\n",
    "    dict(\n",
    "        type = 'scattergeo',\n",
    "        lon = intersection_df['Longitude'],\n",
    "        lat = intersection_df['Latitude'],\n",
    "        mode = 'lines',\n",
    "        line = dict(\n",
    "            width = 1,\n",
    "            color = 'red',\n",
    "        )\n",
    "    )\n",
    ") for intersection_df in intersection_dfs]\n",
    "    \n",
    "layout = dict(\n",
    "        title = None,\n",
    "        showlegend = False, \n",
    "        geo = dict(\n",
    "            showland = True,\n",
    "            landcolor = 'rgb(243, 243, 243)',\n",
    "            countrycolor = 'rgb(204, 204, 204)',\n",
    "        ),\n",
    "    )\n",
    "    \n",
    "fig = dict(data=data, layout=layout)\n",
    "iplot(fig)"
   ]
  },
  {
   "cell_type": "code",
   "execution_count": null,
   "metadata": {},
   "outputs": [],
   "source": []
  },
  {
   "cell_type": "code",
   "execution_count": null,
   "metadata": {},
   "outputs": [],
   "source": []
  },
  {
   "cell_type": "code",
   "execution_count": null,
   "metadata": {},
   "outputs": [],
   "source": []
  },
  {
   "cell_type": "code",
   "execution_count": null,
   "metadata": {},
   "outputs": [],
   "source": []
  },
  {
   "cell_type": "code",
   "execution_count": null,
   "metadata": {},
   "outputs": [],
   "source": []
  },
  {
   "cell_type": "code",
   "execution_count": null,
   "metadata": {},
   "outputs": [],
   "source": []
  },
  {
   "cell_type": "code",
   "execution_count": null,
   "metadata": {},
   "outputs": [],
   "source": []
  }
 ],
 "metadata": {
  "kernelspec": {
   "display_name": "Python 3",
   "language": "python",
   "name": "python3"
  },
  "language_info": {
   "codemirror_mode": {
    "name": "ipython",
    "version": 3
   },
   "file_extension": ".py",
   "mimetype": "text/x-python",
   "name": "python",
   "nbconvert_exporter": "python",
   "pygments_lexer": "ipython3",
   "version": "3.6.5"
  }
 },
 "nbformat": 4,
 "nbformat_minor": 2
}
