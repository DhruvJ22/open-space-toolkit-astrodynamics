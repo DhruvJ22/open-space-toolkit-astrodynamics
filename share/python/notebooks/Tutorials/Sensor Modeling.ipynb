{
 "cells": [
  {
   "cell_type": "markdown",
   "metadata": {},
   "source": [
    "# Sensor Modeling"
   ]
  },
  {
   "cell_type": "markdown",
   "metadata": {},
   "source": [
    "# This tutorial demonstrates how to model sensor geometries."
   ]
  },
  {
   "cell_type": "markdown",
   "metadata": {},
   "source": [
    "# Setup"
   ]
  },
  {
   "cell_type": "code",
   "execution_count": null,
   "metadata": {},
   "outputs": [],
   "source": [
    "import sys\n",
    "\n",
    "! {sys.executable} -m pip install --quiet numpy --upgrade\n",
    "! {sys.executable} -m pip install --quiet plotly\n",
    "\n",
    "# ! {sys.executable} -m pip install --quiet --index-url https://test.pypi.org/simple/ LibraryCorePy==0.1.9\n",
    "# ! {sys.executable} -m pip install --quiet --index-url https://test.pypi.org/simple/ LibraryMathematicsPy==0.1.5\n",
    "# ! {sys.executable} -m pip install --quiet --index-url https://test.pypi.org/simple/ LibraryPhysicsPy==0.1.33"
   ]
  },
  {
   "cell_type": "code",
   "execution_count": 1,
   "metadata": {},
   "outputs": [
    {
     "data": {
      "text/html": [
       "<script>requirejs.config({paths: { 'plotly': ['https://cdn.plot.ly/plotly-latest.min']},});if(!window.Plotly) {{require(['plotly'],function(plotly) {window.Plotly=plotly;});}}</script>"
      ],
      "text/vnd.plotly.v1+html": [
       "<script>requirejs.config({paths: { 'plotly': ['https://cdn.plot.ly/plotly-latest.min']},});if(!window.Plotly) {{require(['plotly'],function(plotly) {window.Plotly=plotly;});}}</script>"
      ]
     },
     "metadata": {},
     "output_type": "display_data"
    }
   ],
   "source": [
    "import numpy as np\n",
    "import pandas as pd\n",
    "\n",
    "from plotly.offline import download_plotlyjs, init_notebook_mode, plot, iplot\n",
    "import plotly.graph_objs as go\n",
    "\n",
    "init_notebook_mode(connected=True)"
   ]
  },
  {
   "cell_type": "code",
   "execution_count": 2,
   "metadata": {},
   "outputs": [
    {
     "name": "stderr",
     "output_type": "stream",
     "text": [
      "/opt/conda/lib/python3.6/importlib/_bootstrap.py:219: RuntimeWarning:\n",
      "\n",
      "to-Python converter for library::physics::time::DateTime already registered; second conversion method ignored.\n",
      "\n"
     ]
    }
   ],
   "source": [
    "import Library.Core as Core\n",
    "import Library.Mathematics as Mathematics\n",
    "import Library.Physics as Physics\n",
    "import Library.Astrodynamics as Astrodynamics"
   ]
  },
  {
   "cell_type": "code",
   "execution_count": 3,
   "metadata": {},
   "outputs": [],
   "source": [
    "Object2 = Mathematics.Geometry.D2.Object\n",
    "Point2 = Mathematics.Geometry.D2.Objects.Point\n",
    "LineString2 = Mathematics.Geometry.D2.Objects.LineString\n",
    "Polygon2 = Mathematics.Geometry.D2.Objects.Polygon\n",
    "Point3 = Mathematics.Geometry.D3.Objects.Point\n",
    "Polygon3 = Mathematics.Geometry.D3.Objects.Polygon\n",
    "Ellipsoid = Mathematics.Geometry.D3.Objects.Ellipsoid\n",
    "Pyramid = Mathematics.Geometry.D3.Objects.Pyramid\n",
    "Quaternion = Mathematics.Geometry.D3.Transformations.Rotations.Quaternion\n",
    "RotationMatrix = Mathematics.Geometry.D3.Transformations.Rotations.RotationMatrix\n",
    "\n",
    "Length = Physics.Units.Length\n",
    "Angle = Physics.Units.Angle\n",
    "Scale = Physics.Time.Scale\n",
    "Instant = Physics.Time.Instant\n",
    "Duration = Physics.Time.Duration\n",
    "Interval = Physics.Time.Interval\n",
    "DateTime = Physics.Time.DateTime\n",
    "LLA = Physics.Coordinate.Spherical.LLA\n",
    "AER = Physics.Coordinate.Spherical.AER\n",
    "Position = Physics.Coordinate.Position\n",
    "Velocity = Physics.Coordinate.Velocity\n",
    "Frame = Physics.Coordinate.Frame\n",
    "Transform = Physics.Coordinate.Transform\n",
    "Environment = Physics.Environment\n",
    "Geometry = Physics.Environment.Object.Geometry\n",
    "Celestial = Physics.Environment.Objects.Celestial\n",
    "Earth = Physics.Environment.Objects.CelestialBodies.Earth\n",
    "\n",
    "Trajectory = Astrodynamics.Trajectory\n",
    "Orbit = Astrodynamics.Trajectory.Orbit\n",
    "State = Astrodynamics.Trajectory.State\n",
    "Access = Astrodynamics.Access"
   ]
  },
  {
   "cell_type": "markdown",
   "metadata": {},
   "source": [
    "---"
   ]
  },
  {
   "cell_type": "markdown",
   "metadata": {},
   "source": [
    "## Computation"
   ]
  },
  {
   "cell_type": "markdown",
   "metadata": {},
   "source": [
    "### Environment"
   ]
  },
  {
   "cell_type": "code",
   "execution_count": 4,
   "metadata": {},
   "outputs": [],
   "source": [
    "environment = Environment.Default()"
   ]
  },
  {
   "cell_type": "code",
   "execution_count": 5,
   "metadata": {},
   "outputs": [],
   "source": [
    "earth = environment.accessCelestialObjectWithName(\"Earth\")"
   ]
  },
  {
   "cell_type": "code",
   "execution_count": 6,
   "metadata": {},
   "outputs": [],
   "source": [
    "earth_geometry = earth.getGeometryIn(Frame.ITRF())"
   ]
  },
  {
   "cell_type": "markdown",
   "metadata": {},
   "source": [
    "### Satellite"
   ]
  },
  {
   "cell_type": "markdown",
   "metadata": {},
   "source": [
    "Let's define the orbit of a satellite in LEO. In this example, we're modeling the orbit using SGP4."
   ]
  },
  {
   "cell_type": "code",
   "execution_count": 7,
   "metadata": {},
   "outputs": [],
   "source": [
    "a = Length.Kilometers(7000.0)\n",
    "e = 0.0\n",
    "i = Angle.Degrees(0.0)\n",
    "raan = Angle.Degrees(0.0)\n",
    "aop = Angle.Degrees(0.0)\n",
    "nu = Angle.Degrees(0.0)\n",
    "\n",
    "coe = Orbit.Models.Kepler.COE(a, e, i, raan, aop, nu)"
   ]
  },
  {
   "cell_type": "code",
   "execution_count": 8,
   "metadata": {},
   "outputs": [],
   "source": [
    "epoch = Instant.DateTime(DateTime(2018, 9, 5, 0, 0, 0), Scale.UTC)\n",
    "earth = Environment.Objects.CelestialBodies.Earth.Analytical(epoch)\n",
    "\n",
    "keplerian_model = Orbit.Models.Kepler(coe, epoch, earth, Orbit.Models.Kepler.PerturbationType.No, True) # True = COE expressed in ITRF frame"
   ]
  },
  {
   "cell_type": "code",
   "execution_count": 9,
   "metadata": {},
   "outputs": [
    {
     "data": {
      "text/plain": [
       "-- Classical Orbital Elements ----------------------------------------------------------------------\n",
       "    Semi-major axis:                         7000000.0 [m]                            \n",
       "    Eccentricity:                            1.3084304468063688e-16                   \n",
       "    Inclination:                             0.10240766489087175 [deg]                \n",
       "    Right ascension of the ascending node:   89.208817816846306 [deg]                 \n",
       "    Argument of periapsis:                   0.0 [deg]                                \n",
       "    True anomaly:                            254.60631958090099 [deg]                 \n",
       "----------------------------------------------------------------------------------------------------"
      ]
     },
     "execution_count": 9,
     "metadata": {},
     "output_type": "execute_result"
    }
   ],
   "source": [
    "keplerian_model.getClassicalOrbitalElements()"
   ]
  },
  {
   "cell_type": "markdown",
   "metadata": {},
   "source": [
    "First, we need a **Two-Line Element** (TLE) set:"
   ]
  },
  {
   "cell_type": "code",
   "execution_count": 10,
   "metadata": {},
   "outputs": [],
   "source": [
    "tle = Orbit.Models.SGP4.TLE(\"1 39419U 13066D   18248.44969859 -.00000394  00000-0 -31796-4 0  9997\",\n",
    "                            \"2 39419  97.6313 314.6863 0012643 218.7350 141.2966 14.93878994260975\")"
   ]
  },
  {
   "cell_type": "markdown",
   "metadata": {},
   "source": [
    "To setup a **SGP4** orbital model:"
   ]
  },
  {
   "cell_type": "code",
   "execution_count": 11,
   "metadata": {},
   "outputs": [],
   "source": [
    "sgp4_model = Orbit.Models.SGP4(tle)"
   ]
  },
  {
   "cell_type": "markdown",
   "metadata": {},
   "source": [
    "We then obtain the satellite orbit (which is a trajectory):"
   ]
  },
  {
   "cell_type": "code",
   "execution_count": 12,
   "metadata": {},
   "outputs": [],
   "source": [
    "# satellite_orbit = Orbit(keplerian_model, earth)\n",
    "satellite_orbit = Orbit(sgp4_model, earth)"
   ]
  },
  {
   "cell_type": "code",
   "execution_count": 13,
   "metadata": {},
   "outputs": [],
   "source": [
    "start_instant = Instant.DateTime(DateTime(2018, 9, 5, 8, 0, 0), Scale.UTC) ;\n",
    "end_instant = Instant.DateTime(DateTime(2018, 9, 5, 10, 0, 0), Scale.UTC) ;\n",
    "\n",
    "interval = Interval.Closed(start_instant, end_instant) ;"
   ]
  },
  {
   "cell_type": "code",
   "execution_count": 14,
   "metadata": {},
   "outputs": [],
   "source": [
    "step = Duration.Minutes(1.0)"
   ]
  },
  {
   "cell_type": "code",
   "execution_count": 15,
   "metadata": {},
   "outputs": [],
   "source": [
    "instants = interval.generateGrid(step)"
   ]
  },
  {
   "cell_type": "code",
   "execution_count": 16,
   "metadata": {},
   "outputs": [],
   "source": [
    "states = [satellite_orbit.getStateAt(instant) for instant in instants]"
   ]
  },
  {
   "cell_type": "code",
   "execution_count": 17,
   "metadata": {},
   "outputs": [],
   "source": [
    "states_lla = [LLA.Cartesian(state.inFrame(Frame.ITRF()).getPosition().getCoordinates(), Earth.EquatorialRadius, Earth.Flattening) for state in states]"
   ]
  },
  {
   "cell_type": "code",
   "execution_count": 18,
   "metadata": {},
   "outputs": [],
   "source": [
    "states_line_string = LineString2([Point2(state_lla.getLongitude().inDegrees(), state_lla.getLatitude().inDegrees()) for state_lla in states_lla])"
   ]
  },
  {
   "cell_type": "code",
   "execution_count": 19,
   "metadata": {},
   "outputs": [],
   "source": [
    "ground_track_df = pd.DataFrame([[float(state_lla.getLongitude().inDegrees()), float(state_lla.getLatitude().inDegrees())] for state_lla in states_lla], columns=['Longitude', 'Latitude']) ;"
   ]
  },
  {
   "cell_type": "code",
   "execution_count": 20,
   "metadata": {},
   "outputs": [
    {
     "data": {
      "text/html": [
       "<div>\n",
       "<style scoped>\n",
       "    .dataframe tbody tr th:only-of-type {\n",
       "        vertical-align: middle;\n",
       "    }\n",
       "\n",
       "    .dataframe tbody tr th {\n",
       "        vertical-align: top;\n",
       "    }\n",
       "\n",
       "    .dataframe thead th {\n",
       "        text-align: right;\n",
       "    }\n",
       "</style>\n",
       "<table border=\"1\" class=\"dataframe\">\n",
       "  <thead>\n",
       "    <tr style=\"text-align: right;\">\n",
       "      <th></th>\n",
       "      <th>Longitude</th>\n",
       "      <th>Latitude</th>\n",
       "    </tr>\n",
       "  </thead>\n",
       "  <tbody>\n",
       "    <tr>\n",
       "      <th>0</th>\n",
       "      <td>89.547135</td>\n",
       "      <td>81.195888</td>\n",
       "    </tr>\n",
       "    <tr>\n",
       "      <th>1</th>\n",
       "      <td>72.495882</td>\n",
       "      <td>78.853685</td>\n",
       "    </tr>\n",
       "    <tr>\n",
       "      <th>2</th>\n",
       "      <td>61.768295</td>\n",
       "      <td>75.914504</td>\n",
       "    </tr>\n",
       "    <tr>\n",
       "      <th>3</th>\n",
       "      <td>54.734292</td>\n",
       "      <td>72.678532</td>\n",
       "    </tr>\n",
       "    <tr>\n",
       "      <th>4</th>\n",
       "      <td>49.820337</td>\n",
       "      <td>69.283246</td>\n",
       "    </tr>\n",
       "  </tbody>\n",
       "</table>\n",
       "</div>"
      ],
      "text/plain": [
       "   Longitude   Latitude\n",
       "0  89.547135  81.195888\n",
       "1  72.495882  78.853685\n",
       "2  61.768295  75.914504\n",
       "3  54.734292  72.678532\n",
       "4  49.820337  69.283246"
      ]
     },
     "execution_count": 20,
     "metadata": {},
     "output_type": "execute_result"
    }
   ],
   "source": [
    "ground_track_df.head()"
   ]
  },
  {
   "cell_type": "markdown",
   "metadata": {},
   "source": [
    "## Target"
   ]
  },
  {
   "cell_type": "code",
   "execution_count": 21,
   "metadata": {},
   "outputs": [],
   "source": [
    "latitude = Angle.Degrees(0.0)\n",
    "longitude = Angle.Degrees(0.0)\n",
    "altitude = Length.Meters(10.0)"
   ]
  },
  {
   "cell_type": "code",
   "execution_count": 22,
   "metadata": {},
   "outputs": [],
   "source": [
    "target_lla = LLA(latitude, longitude, altitude)"
   ]
  },
  {
   "cell_type": "code",
   "execution_count": 23,
   "metadata": {},
   "outputs": [],
   "source": [
    "target_position = Position.Meters(target_lla.toCartesian(Earth.EquatorialRadius, Earth.Flattening), Frame.ITRF())"
   ]
  },
  {
   "cell_type": "code",
   "execution_count": 24,
   "metadata": {},
   "outputs": [
    {
     "data": {
      "text/plain": [
       "-- Position ----------------------------------------------------------------------------------------\n",
       "    Coordinates:                             [6378146.3, 0.0, 0.0]                    \n",
       "    Unit:                                    Meter                                    \n",
       "    Frame:                                   ITRF                                     \n",
       "----------------------------------------------------------------------------------------------------"
      ]
     },
     "execution_count": 24,
     "metadata": {},
     "output_type": "execute_result"
    }
   ],
   "source": [
    "target_position"
   ]
  },
  {
   "cell_type": "markdown",
   "metadata": {},
   "source": [
    "### Sensor"
   ]
  },
  {
   "cell_type": "code",
   "execution_count": 25,
   "metadata": {},
   "outputs": [],
   "source": [
    "orbital_frame = satellite_orbit.getOrbitalFrame(Orbit.FrameType.NED)\n",
    "# orbital_frame = satellite_orbit.getOrbitalFrame(Orbit.FrameType.LVLH)"
   ]
  },
  {
   "cell_type": "code",
   "execution_count": 26,
   "metadata": {},
   "outputs": [],
   "source": [
    "# body_frame_transform = Transform.Passive(Instant.J2000(), np.array((0.0, 0.0, 0.0)), np.array((0.0, 0.0, 0.0)), q_B_ITRF, np.array((0.0, 0.0, 0.0)))\n",
    "\n",
    "# body_frame_provider = Frame.Providers.Static(body_frame_transform)\n",
    "\n",
    "# body_frame = Frame.Construct(\"Body\", False, orbital_frame, body_frame_provider)"
   ]
  },
  {
   "cell_type": "code",
   "execution_count": 27,
   "metadata": {},
   "outputs": [],
   "source": [
    "def calculate_attitude (state, target):\n",
    "    \n",
    "    sensor_position_ITRF = state.inFrame(Frame.ITRF()).getPosition().getCoordinates()\n",
    "    target_position_ITRF = target_position.getCoordinates()\n",
    "    \n",
    "    sensor_to_target_direction_ITRF = (target_position_ITRF - sensor_position_ITRF) / np.linalg.norm(target_position_ITRF - sensor_position_ITRF)\n",
    "    \n",
    "#     print(sensor_to_target_direction_ITRF)\n",
    "    \n",
    "    z_B_ITRF = sensor_to_target_direction_ITRF\n",
    "    x_B_ITRF = np.cross(z_B_ITRF, np.array(((0.0), (1.0), (0.0))), axis=0)\n",
    "    x_B_ITRF = x_B_ITRF / np.linalg.norm(x_B_ITRF)\n",
    "    y_B_ITRF = np.cross(z_B_ITRF, x_B_ITRF, axis=0)\n",
    "    \n",
    "    dcm_B_ITRF = RotationMatrix.Rows(x_B_ITRF, y_B_ITRF, z_B_ITRF)\n",
    "    q_B_ITRF = Quaternion.RotationMatrix(dcm_B_ITRF)\n",
    "    \n",
    "    q_ITRF_GCRF = Frame.GCRF().getTransformTo(Frame.ITRF(), state.getInstant()).getOrientation()\n",
    "    \n",
    "    q_B_GCRF = q_B_ITRF * q_ITRF_GCRF\n",
    "    \n",
    "#     print(q_B_GCRF.toString(Quaternion.Format.XYZS))\n",
    "    \n",
    "    return q_B_GCRF"
   ]
  },
  {
   "cell_type": "code",
   "execution_count": 74,
   "metadata": {},
   "outputs": [],
   "source": [
    "def body_frame_transform_generator (instant):\n",
    "    \n",
    "    state = satellite_orbit.getStateAt(instant)\n",
    "    \n",
    "#     print(state)\n",
    "    \n",
    "    q_B_GCRF = calculate_attitude(state, target_position)\n",
    "    \n",
    "    print(q_B_GCRF)\n",
    "    \n",
    "    return Transform.Passive(instant, -state.getPosition().getCoordinates(), np.array((0.0, 0.0, 0.0)), q_B_GCRF, np.array((0.0, 0.0, 0.0)))\n",
    "\n",
    "body_frame_provider = Frame.Providers.Dynamic(body_frame_transform_generator)\n",
    "\n",
    "if Frame.Exists(\"Body\"):\n",
    "\n",
    "    Frame.Destruct(\"Body\")\n",
    "\n",
    "body_frame = Frame.Construct(\"Body\", False, Frame.GCRF(), body_frame_provider)"
   ]
  },
  {
   "cell_type": "code",
   "execution_count": 75,
   "metadata": {},
   "outputs": [],
   "source": [
    "# body_frame = orbital_frame"
   ]
  },
  {
   "cell_type": "code",
   "execution_count": 76,
   "metadata": {},
   "outputs": [],
   "source": [
    "# print(body_frame.getTransformTo(Frame.GCRF(), start_instant))\n",
    "# print(body_frame.getTransformTo(Frame.GCRF(), end_instant))"
   ]
  },
  {
   "cell_type": "code",
   "execution_count": 77,
   "metadata": {},
   "outputs": [],
   "source": [
    "def calculate_intersection (target, state, frame, sensor):\n",
    "    \n",
    "#     state = tracking_state[0]\n",
    "#     q_B_GCRF = tracking_state[1]\n",
    "\n",
    "    target_lla = LLA.Cartesian(target.getCoordinates(), Earth.EquatorialRadius, Earth.Flattening)\n",
    "\n",
    "    ned_frame = earth.getFrameAt(target_lla, Celestial.FrameType.NED)\n",
    "    \n",
    "    target_position_NED = target.inFrame(ned_frame, state.getInstant())\n",
    "    satellite_position_NED = state.getPosition().inFrame(ned_frame, state.getInstant())\n",
    "\n",
    "    aer = AER.FromPositionToPosition(target_position_NED, satellite_position_NED)\n",
    "    \n",
    "#     print(aer)\n",
    "#     print(aer.getElevation().inDegrees())\n",
    "    \n",
    "    if aer.getElevation().inDegrees() < 70.0:\n",
    "        \n",
    "        return None\n",
    "    \n",
    "    observer_geometry_B = Geometry(sensor, frame)\n",
    "    \n",
    "#     print(observer_geometry_B)\n",
    "    \n",
    "    observer_geometry_ITRF = observer_geometry_B.inFrame(Frame.ITRF(), state.getInstant())\n",
    "    \n",
    "    print(observer_geometry_ITRF)\n",
    "    \n",
    "    intersection_ITRF = observer_geometry_ITRF.intersectionWith(earth_geometry)\n",
    "    \n",
    "#     print(intersection_ITRF)\n",
    "    \n",
    "    intersection_points = [Point2(lla.getLongitude().inDegrees(), lla.getLatitude().inDegrees()) for lla in [LLA.Cartesian(point_ITRF, Earth.EquatorialRadius, Earth.Flattening) for point_ITRF in intersection_ITRF.accessComposite().accessObjectAt(0).asLineString()]]\n",
    "\n",
    "    intersection_polygon = Polygon2(intersection_points)\n",
    "    \n",
    "    print(state.getInstant().toString())\n",
    "    \n",
    "    return intersection_ITRF"
   ]
  },
  {
   "cell_type": "code",
   "execution_count": 78,
   "metadata": {},
   "outputs": [],
   "source": [
    "apex_NED = Point3(0.0, 0.0, 0.0)\n",
    "base_NED = Polygon3(Polygon2([Point2(-1.0, -1.0), Point2(+1.0, -1.0), Point2(+1.0, +1.0), Point2(-1.0, +1.0)]), apex_NED + np.array((0.0, 0.0, 1.0)), np.array((1.0, 0.0, 0.0)), np.array((0.0, 1.0, 0.0)))\n",
    "\n",
    "pyramid_NED = Pyramid(base_NED, apex_NED)"
   ]
  },
  {
   "cell_type": "code",
   "execution_count": 79,
   "metadata": {},
   "outputs": [],
   "source": [
    "apex_LVLH = Point3(0.0, 0.0, 0.0)\n",
    "base_LVLH = Polygon3(Polygon2([Point2(-1.0, -1.0), Point2(+1.0, -1.0), Point2(+1.0, +1.0), Point2(-1.0, +1.0)]), apex_LVLH - np.array((1.0, 0.0, 0.0)), np.array((0.0, 1.0, 0.0)), np.array((0.0, 0.0, 1.0)))\n",
    "\n",
    "pyramid_LVLH = Pyramid(base_LVLH, apex_LVLH)"
   ]
  },
  {
   "cell_type": "code",
   "execution_count": 80,
   "metadata": {},
   "outputs": [],
   "source": [
    "apex_B = Point3(0.0, 0.0, 0.0)\n",
    "base_B = Polygon3(Polygon2([Point2(-1.0, -1.0), Point2(+1.0, -1.0), Point2(+1.0, +1.0), Point2(-1.0, +1.0)]), apex_NED + np.array((0.0, 0.0, 1.0)), np.array((1.0, 0.0, 0.0)), np.array((0.0, 1.0, 0.0)))\n",
    "\n",
    "pyramid_B = Pyramid(base_B, apex_B)"
   ]
  },
  {
   "cell_type": "code",
   "execution_count": 81,
   "metadata": {},
   "outputs": [],
   "source": [
    "# pyramid = pyramid_NED\n",
    "# pyramid = pyramid_LVLH\n",
    "pyramid = pyramid_B"
   ]
  },
  {
   "cell_type": "code",
   "execution_count": 82,
   "metadata": {},
   "outputs": [],
   "source": [
    "# tracking_states = [[state, calculate_attitude(state, target_position)] for state in states]"
   ]
  },
  {
   "cell_type": "code",
   "execution_count": 83,
   "metadata": {},
   "outputs": [],
   "source": [
    "# tracking_states"
   ]
  },
  {
   "cell_type": "code",
   "execution_count": 84,
   "metadata": {},
   "outputs": [
    {
     "name": "stdout",
     "output_type": "stream",
     "text": [
      "-- Quaternion --------------------------------------------------------------------------------------\n",
      "    X:                                              0.273165                          \n",
      "    Y:                                              0.739340                          \n",
      "    Z:                                             -0.196394                          \n",
      "    S:                                              0.583255                          \n",
      "----------------------------------------------------------------------------------------------------\n",
      "\n",
      "-- Geometry ----------------------------------------------------------------------------------------\n",
      "    Objects:                                 \n",
      "    Objects - - - - - - - - - - - - - - - - - - - - - - - - - - - - - - - - - - - - - - - - - - - - \n",
      "-- Pyramid -----------------------------------------------------------------------------------------\n",
      "    Apex:                                    [6958251.97933399, 72804.3654418836, 145257.750787968] \n",
      "    Base: - - - - - - - - - - - - - - - - - - - - - - - - - - - - - - - - - - - - - - - - - - - - - \n",
      "    Origin:                                  [6958251.01639242, 72804.2445908855, 145257.509668578] \n",
      "    X axis:                                  [0.242899684288713, 4.85722573273506e-17, -0.970051412746996] \n",
      "    Y axis:                                  [0.117231681357887, -0.992670658515901, 0.029354669264208] \n",
      "    Polygon - - - - - - - - - - - - - - - - - - - - - - - - - - - - - - - - - - - - - - - - - - - - \n",
      "    Outer Ring - - - - - - - - - - - - - - - - - - - - - - - - - - - - - - - - - - - - - - - - - - \n",
      "    - [-1.0, -1.0]                           \n",
      "    - [-1.0, 1.0]                            \n",
      "    - [1.0, 1.0]                             \n",
      "    - [1.0, -1.0]                            \n",
      "    Inner Rings - - - - - - - - - - - - - - - - - - - - - - - - - - - - - - - - - - - - - - - - - - \n",
      "----------------------------------------------------------------------------------------------------\n",
      "    Frame:                                   ITRF                                     \n",
      "----------------------------------------------------------------------------------------------------\n",
      "\n",
      "2018-09-05 09:59:00 [UTC]\n"
     ]
    }
   ],
   "source": [
    "# intersections_ITRF = [calculate_intersection(tracking_state, body_frame, pyramid) for tracking_state in tracking_states]\n",
    "intersections_ITRF = [calculate_intersection(target_position, state, body_frame, pyramid) for state in states]"
   ]
  },
  {
   "cell_type": "code",
   "execution_count": 63,
   "metadata": {},
   "outputs": [],
   "source": [
    "# intersections_ITRF"
   ]
  },
  {
   "cell_type": "code",
   "execution_count": 64,
   "metadata": {},
   "outputs": [],
   "source": [
    "intersections_ITRF = [intersection_ITRF for intersection_ITRF in intersections_ITRF if intersection_ITRF is not None]"
   ]
  },
  {
   "cell_type": "code",
   "execution_count": 65,
   "metadata": {},
   "outputs": [
    {
     "data": {
      "text/plain": [
       "[-- Geometry ----------------------------------------------------------------------------------------\n",
       "     Objects:                                 \n",
       "     Objects - - - - - - - - - - - - - - - - - - - - - - - - - - - - - - - - - - - - - - - - - - - - \n",
       " -- Line String -------------------------------------------------------------------------------------\n",
       "     [6342597.69017781, 478480.800261866, 470786.136625519] \n",
       "     [6349912.78916577, 358967.172835694, 478362.411910764] \n",
       "     [6354391.63922517, 253648.789033822, 486208.433365658] \n",
       "     [6356900.29227495, 155842.061162559, 494476.222967715] \n",
       "     [6357813.56922766, 60621.6326604862, 503434.403024937] \n",
       "     [6357189.13486137, -36392.3250616192, 513485.712439429] \n",
       "     [6354784.72874128, -139957.161982517, 525248.865063576] \n",
       "     [6349931.37906315, -256330.07410415, 539745.910058485] \n",
       "     [6341131.53902945, -395300.112509933, 558843.894592979] \n",
       "     [6324841.24962899, -575101.53140347, 586469.124313112] \n",
       "     [6324841.24962899, -575101.53140347, 586469.124313112] \n",
       "     [6333060.49012039, -607055.782603621, 450646.30869445] \n",
       "     [6337564.47172547, -641214.320099678, 322555.780477464] \n",
       "     [6338851.60770986, -679183.06523463, 195030.691611314] \n",
       "     [6336678.35220669, -723451.117562168, 61020.5537577137] \n",
       "     [6329854.28068518, -778266.091275279, -88411.8629062872] \n",
       "     [6315272.64586365, -851949.353264223, -267681.641114588] \n",
       "     [6284209.4802974, -964671.061330877, -506963.001101934] \n",
       "     [6199362.03138149, -1193290.93943088, -905024.685665624] \n",
       "     [6137235.66664587, -1027150.96450006, -1395278.27597459] \n",
       "     [6245442.80827383, -596294.648322057, -1144843.33050824] \n",
       "     [6283674.93278411, -333564.220972543, -1038038.98538295] \n",
       "     [6301409.5348992, -128326.028354285, -974674.564855505] \n",
       "     [6308927.51581515, 50879.0736303775, -932527.141039623] \n",
       "     [6309555.83130025, 220051.258051396, -903440.373949141] \n",
       "     [6304013.39291847, 390915.198228469, -884281.143321347] \n",
       "     [6291144.07189621, 575733.639056974, -874928.920526425] \n",
       "     [6266933.49026072, 792646.805056094, -879017.01878695] \n",
       "     [6266933.49026072, 792646.805056094, -879017.01878695] \n",
       "     [6315829.11564114, 693799.933428547, -554521.89978328] \n",
       "     [6336510.24340203, 638666.644935417, -347207.497646664] \n",
       "     [6346816.920861, 601271.689419518, -191734.793443022] \n",
       "     [6352023.25900567, 572993.312448486, -63830.8939841157] \n",
       "     [6354194.84070483, 549952.265156314, 48653.2676386394] \n",
       "     [6354214.69431299, 530069.866744863, 153121.522753113] \n",
       "     [6352396.391538, 512077.456145095, 254992.577922143] \n",
       "     [6348674.58198962, 495104.575396411, 359104.544330884] \n",
       "     [6342597.69017781, 478480.800261866, 470786.136625519] \n",
       " ----------------------------------------------------------------------------------------------------\n",
       " -- Line String -------------------------------------------------------------------------------------\n",
       "     [-391495.619940901, 4915813.59223892, 4031450.88619942] \n",
       "     [-1420115.123999, 4013988.97168553, 4732950.24179184] \n",
       "     [-2155354.69901975, 2802152.25785937, 5290968.12674896] \n",
       "     [-2544006.08209713, 1384924.42853398, 5663433.07794031] \n",
       "     [-2557946.1552602, -120276.718341653, 5821909.89779009] \n",
       "     [-2196367.1454953, -1590339.71415687, 5753634.26421077] \n",
       "     [-1485828.17798228, -2904284.10157951, 5462324.12822544] \n",
       "     [-478147.153861646, -3950690.90967327, 4967667.84893209] \n",
       "     [753854.17593236, -4633418.60998492, 4303364.97678564] \n",
       "     [2123020.82905129, -4873077.7106914, 3513307.7017595] \n",
       "     [2123020.82905129, -4873077.7106914, 3513307.7017595] \n",
       "     [1832950.67723183, -5500668.98175286, 2648824.09884238] \n",
       "     [1758726.39122522, -5908560.46041945, 1630490.86856685] \n",
       "     [1905350.18183566, -6061707.03337797, 551292.027928629] \n",
       "     [2262097.11402118, -5943118.60385045, -491176.784734761] \n",
       "     [2803526.41384624, -5554148.42601036, -1399676.48430019] \n",
       "     [3492509.01930489, -4911739.49706196, -2080539.74519172] \n",
       "     [4287062.17861586, -4038648.22464271, -2439453.78113346] \n",
       "     [5167245.18108008, -2915224.80055571, -2333445.50368286] \n",
       "     [5466703.91370288, -1925494.83921566, -2653448.55412025] \n",
       "     [4855287.66288974, -1901204.11711011, -3660861.26215485] \n",
       "     [4378280.91555961, -1481383.1058607, -4380350.3391901] \n",
       "     [4018552.73295133, -827354.983389513, -4867000.83906256] \n",
       "     [3791010.50084094, -34141.6955106632, -5111905.97255359] \n",
       "     [3708554.75018764, 810449.903131511, -5108282.60165433] \n",
       "     [3776565.42117886, 1619837.78978623, -4861585.5148048] \n",
       "     [3991711.36920897, 2309264.31077536, -4391377.41215927] \n",
       "     [4343221.53341644, 2795731.53375489, -3729236.7835824] \n",
       "     [4343221.53341644, 2795731.53375489, -3729236.7835824] \n",
       "     [3096161.12141602, 3806079.50472074, -4061648.2355475] \n",
       "     [1882428.00817423, 4692435.245333, -3875168.68756394] \n",
       "     [773320.479872593, 5418481.15189932, -3263568.37557642] \n",
       "     [-153978.22460722, 5940983.84504698, -2307754.65984769] \n",
       "     [-832107.627220916, 6226450.24855062, -1100623.83095534] \n",
       "     [-1210970.39471575, 6257031.16196399, 251610.294703948] \n",
       "     [-1262346.87968679, 6033115.60292656, 1634203.32281064] \n",
       "     [-982313.9803698, 5573832.9248166, 2930900.02820233] \n",
       "     [-391495.6199409, 4915813.59223892, 4031450.88619942] \n",
       " ----------------------------------------------------------------------------------------------------\n",
       "     Frame:                                   ITRF                                     \n",
       " ----------------------------------------------------------------------------------------------------]"
      ]
     },
     "execution_count": 65,
     "metadata": {},
     "output_type": "execute_result"
    }
   ],
   "source": [
    "intersections_ITRF"
   ]
  },
  {
   "cell_type": "code",
   "execution_count": 43,
   "metadata": {},
   "outputs": [
    {
     "ename": "AttributeError",
     "evalue": "'NoneType' object has no attribute 'accessComposite'",
     "output_type": "error",
     "traceback": [
      "\u001b[0;31m---------------------------------------------------------------------------\u001b[0m",
      "\u001b[0;31mAttributeError\u001b[0m                            Traceback (most recent call last)",
      "\u001b[0;32m<ipython-input-43-ff3747251cd5>\u001b[0m in \u001b[0;36m<module>\u001b[0;34m()\u001b[0m\n\u001b[0;32m----> 1\u001b[0;31m \u001b[0mintersection_pointss\u001b[0m \u001b[0;34m=\u001b[0m \u001b[0;34m[\u001b[0m\u001b[0;34m[\u001b[0m\u001b[0mPoint2\u001b[0m\u001b[0;34m(\u001b[0m\u001b[0mlla\u001b[0m\u001b[0;34m.\u001b[0m\u001b[0mgetLongitude\u001b[0m\u001b[0;34m(\u001b[0m\u001b[0;34m)\u001b[0m\u001b[0;34m.\u001b[0m\u001b[0minDegrees\u001b[0m\u001b[0;34m(\u001b[0m\u001b[0;34m)\u001b[0m\u001b[0;34m,\u001b[0m \u001b[0mlla\u001b[0m\u001b[0;34m.\u001b[0m\u001b[0mgetLatitude\u001b[0m\u001b[0;34m(\u001b[0m\u001b[0;34m)\u001b[0m\u001b[0;34m.\u001b[0m\u001b[0minDegrees\u001b[0m\u001b[0;34m(\u001b[0m\u001b[0;34m)\u001b[0m\u001b[0;34m)\u001b[0m \u001b[0;32mfor\u001b[0m \u001b[0mlla\u001b[0m \u001b[0;32min\u001b[0m \u001b[0;34m[\u001b[0m\u001b[0mLLA\u001b[0m\u001b[0;34m.\u001b[0m\u001b[0mCartesian\u001b[0m\u001b[0;34m(\u001b[0m\u001b[0mpoint_ITRF\u001b[0m\u001b[0;34m,\u001b[0m \u001b[0mEarth\u001b[0m\u001b[0;34m.\u001b[0m\u001b[0mEquatorialRadius\u001b[0m\u001b[0;34m,\u001b[0m \u001b[0mEarth\u001b[0m\u001b[0;34m.\u001b[0m\u001b[0mFlattening\u001b[0m\u001b[0;34m)\u001b[0m \u001b[0;32mfor\u001b[0m \u001b[0mpoint_ITRF\u001b[0m \u001b[0;32min\u001b[0m \u001b[0mintersection_ITRF\u001b[0m\u001b[0;34m.\u001b[0m\u001b[0maccessComposite\u001b[0m\u001b[0;34m(\u001b[0m\u001b[0;34m)\u001b[0m\u001b[0;34m.\u001b[0m\u001b[0maccessObjectAt\u001b[0m\u001b[0;34m(\u001b[0m\u001b[0;36m0\u001b[0m\u001b[0;34m)\u001b[0m\u001b[0;34m.\u001b[0m\u001b[0masLineString\u001b[0m\u001b[0;34m(\u001b[0m\u001b[0;34m)\u001b[0m\u001b[0;34m]\u001b[0m\u001b[0;34m]\u001b[0m \u001b[0;32mfor\u001b[0m \u001b[0mintersection_ITRF\u001b[0m \u001b[0;32min\u001b[0m \u001b[0mintersections_ITRF\u001b[0m\u001b[0;34m]\u001b[0m\u001b[0;34m\u001b[0m\u001b[0m\n\u001b[0m",
      "\u001b[0;32m<ipython-input-43-ff3747251cd5>\u001b[0m in \u001b[0;36m<listcomp>\u001b[0;34m(.0)\u001b[0m\n\u001b[0;32m----> 1\u001b[0;31m \u001b[0mintersection_pointss\u001b[0m \u001b[0;34m=\u001b[0m \u001b[0;34m[\u001b[0m\u001b[0;34m[\u001b[0m\u001b[0mPoint2\u001b[0m\u001b[0;34m(\u001b[0m\u001b[0mlla\u001b[0m\u001b[0;34m.\u001b[0m\u001b[0mgetLongitude\u001b[0m\u001b[0;34m(\u001b[0m\u001b[0;34m)\u001b[0m\u001b[0;34m.\u001b[0m\u001b[0minDegrees\u001b[0m\u001b[0;34m(\u001b[0m\u001b[0;34m)\u001b[0m\u001b[0;34m,\u001b[0m \u001b[0mlla\u001b[0m\u001b[0;34m.\u001b[0m\u001b[0mgetLatitude\u001b[0m\u001b[0;34m(\u001b[0m\u001b[0;34m)\u001b[0m\u001b[0;34m.\u001b[0m\u001b[0minDegrees\u001b[0m\u001b[0;34m(\u001b[0m\u001b[0;34m)\u001b[0m\u001b[0;34m)\u001b[0m \u001b[0;32mfor\u001b[0m \u001b[0mlla\u001b[0m \u001b[0;32min\u001b[0m \u001b[0;34m[\u001b[0m\u001b[0mLLA\u001b[0m\u001b[0;34m.\u001b[0m\u001b[0mCartesian\u001b[0m\u001b[0;34m(\u001b[0m\u001b[0mpoint_ITRF\u001b[0m\u001b[0;34m,\u001b[0m \u001b[0mEarth\u001b[0m\u001b[0;34m.\u001b[0m\u001b[0mEquatorialRadius\u001b[0m\u001b[0;34m,\u001b[0m \u001b[0mEarth\u001b[0m\u001b[0;34m.\u001b[0m\u001b[0mFlattening\u001b[0m\u001b[0;34m)\u001b[0m \u001b[0;32mfor\u001b[0m \u001b[0mpoint_ITRF\u001b[0m \u001b[0;32min\u001b[0m \u001b[0mintersection_ITRF\u001b[0m\u001b[0;34m.\u001b[0m\u001b[0maccessComposite\u001b[0m\u001b[0;34m(\u001b[0m\u001b[0;34m)\u001b[0m\u001b[0;34m.\u001b[0m\u001b[0maccessObjectAt\u001b[0m\u001b[0;34m(\u001b[0m\u001b[0;36m0\u001b[0m\u001b[0;34m)\u001b[0m\u001b[0;34m.\u001b[0m\u001b[0masLineString\u001b[0m\u001b[0;34m(\u001b[0m\u001b[0;34m)\u001b[0m\u001b[0;34m]\u001b[0m\u001b[0;34m]\u001b[0m \u001b[0;32mfor\u001b[0m \u001b[0mintersection_ITRF\u001b[0m \u001b[0;32min\u001b[0m \u001b[0mintersections_ITRF\u001b[0m\u001b[0;34m]\u001b[0m\u001b[0;34m\u001b[0m\u001b[0m\n\u001b[0m",
      "\u001b[0;31mAttributeError\u001b[0m: 'NoneType' object has no attribute 'accessComposite'"
     ]
    }
   ],
   "source": [
    "intersection_pointss = [[Point2(lla.getLongitude().inDegrees(), lla.getLatitude().inDegrees()) for lla in [LLA.Cartesian(point_ITRF, Earth.EquatorialRadius, Earth.Flattening) for point_ITRF in intersection_ITRF.accessComposite().accessObjectAt(0).asLineString()]] for intersection_ITRF in intersections_ITRF]"
   ]
  },
  {
   "cell_type": "code",
   "execution_count": 44,
   "metadata": {},
   "outputs": [],
   "source": [
    "# intersection_pointss"
   ]
  },
  {
   "cell_type": "code",
   "execution_count": null,
   "metadata": {},
   "outputs": [],
   "source": [
    "intersection_dfs = [pd.DataFrame([[intersection_point.x(), intersection_point.y()] for intersection_point in intersection_points], columns=['Longitude', 'Latitude']) for intersection_points in intersection_pointss] ;"
   ]
  },
  {
   "cell_type": "code",
   "execution_count": null,
   "metadata": {},
   "outputs": [],
   "source": [
    "intersection_dfs[0].head()"
   ]
  },
  {
   "cell_type": "code",
   "execution_count": null,
   "metadata": {},
   "outputs": [],
   "source": [
    "data = []\n",
    "\n",
    "data.append( dict(\n",
    "    type = 'scattergeo',\n",
    "    lon = ground_track_df['Longitude'],\n",
    "    lat = ground_track_df['Latitude'],\n",
    "    mode = 'lines',\n",
    "    line = dict(\n",
    "        width = 2,\n",
    "        color = 'blue'\n",
    "    )\n",
    ") )\n",
    "\n",
    "[data.append(\n",
    "    dict(\n",
    "        type = 'scattergeo',\n",
    "        lon = intersection_df['Longitude'],\n",
    "        lat = intersection_df['Latitude'],\n",
    "        mode = 'lines',\n",
    "        line = dict(\n",
    "            width = 1,\n",
    "            color = 'red',\n",
    "        )\n",
    "    )\n",
    ") for intersection_df in intersection_dfs]\n",
    "\n",
    "layout = dict(\n",
    "        title = None,\n",
    "        showlegend = False,\n",
    "        height=1000,\n",
    "        geo = dict(\n",
    "            showland = True,\n",
    "            showlakes = True,\n",
    "            showcountries = False,\n",
    "            showocean = True,\n",
    "            countrywidth = 0.0,\n",
    "            landcolor = 'rgb(100, 100, 100)',\n",
    "            lakecolor = 'rgb(240, 240, 240)',\n",
    "            oceancolor = 'rgb(240, 240, 240)',\n",
    "            projection = dict( \n",
    "                type = 'orthographic',\n",
    "                rotation = dict(\n",
    "                    lon = -100,\n",
    "                    lat = 40,\n",
    "                    roll = 0\n",
    "                )            \n",
    "            ),\n",
    "            lonaxis = dict( \n",
    "                showgrid = True,\n",
    "                gridcolor = 'rgb(102, 102, 102)',\n",
    "                gridwidth = 0.5\n",
    "            ),\n",
    "            lataxis = dict( \n",
    "                showgrid = True,\n",
    "                gridcolor = 'rgb(102, 102, 102)',\n",
    "                gridwidth = 0.5\n",
    "            )\n",
    "        )\n",
    "    )\n",
    "    \n",
    "fig = dict(data=data, layout=layout)\n",
    "\n",
    "iplot(fig)"
   ]
  },
  {
   "cell_type": "code",
   "execution_count": null,
   "metadata": {},
   "outputs": [],
   "source": [
    "data = []\n",
    "\n",
    "data.append(\n",
    "    dict(\n",
    "        type = 'scattergeo',\n",
    "        lon = ground_track_df['Longitude'],\n",
    "        lat = ground_track_df['Latitude'],\n",
    "        mode = 'lines',\n",
    "        line = dict(\n",
    "            width = 1,\n",
    "            color = 'blue',\n",
    "        )\n",
    "    )\n",
    ")\n",
    "\n",
    "[data.append(\n",
    "    dict(\n",
    "        type = 'scattergeo',\n",
    "        lon = intersection_df['Longitude'],\n",
    "        lat = intersection_df['Latitude'],\n",
    "        mode = 'lines',\n",
    "        line = dict(\n",
    "            width = 1,\n",
    "            color = 'red',\n",
    "        )\n",
    "    )\n",
    ") for intersection_df in intersection_dfs]\n",
    "    \n",
    "layout = dict(\n",
    "        title = None,\n",
    "        showlegend = False,\n",
    "        height=1000,\n",
    "        geo = dict(\n",
    "            showland = True,\n",
    "            landcolor = 'rgb(243, 243, 243)',\n",
    "            countrycolor = 'rgb(204, 204, 204)',\n",
    "        ),\n",
    "    )\n",
    "    \n",
    "fig = dict(data=data, layout=layout)\n",
    "iplot(fig)"
   ]
  },
  {
   "cell_type": "code",
   "execution_count": null,
   "metadata": {},
   "outputs": [],
   "source": []
  },
  {
   "cell_type": "code",
   "execution_count": null,
   "metadata": {},
   "outputs": [],
   "source": []
  },
  {
   "cell_type": "code",
   "execution_count": null,
   "metadata": {},
   "outputs": [],
   "source": []
  }
 ],
 "metadata": {
  "kernelspec": {
   "display_name": "Python 3",
   "language": "python",
   "name": "python3"
  },
  "language_info": {
   "codemirror_mode": {
    "name": "ipython",
    "version": 3
   },
   "file_extension": ".py",
   "mimetype": "text/x-python",
   "name": "python",
   "nbconvert_exporter": "python",
   "pygments_lexer": "ipython3",
   "version": "3.6.5"
  }
 },
 "nbformat": 4,
 "nbformat_minor": 2
}
