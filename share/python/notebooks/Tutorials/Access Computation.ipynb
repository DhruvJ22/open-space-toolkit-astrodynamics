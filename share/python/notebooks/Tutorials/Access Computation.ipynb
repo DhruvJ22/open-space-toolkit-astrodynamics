{
 "cells": [
  {
   "cell_type": "markdown",
   "metadata": {},
   "source": [
    "# Access Computation"
   ]
  },
  {
   "cell_type": "markdown",
   "metadata": {},
   "source": [
    "This tutorial demonstrates how to compute access."
   ]
  },
  {
   "cell_type": "markdown",
   "metadata": {},
   "source": [
    "## Setup"
   ]
  },
  {
   "cell_type": "code",
   "execution_count": null,
   "metadata": {},
   "outputs": [],
   "source": [
    "import sys\n",
    "\n",
    "! {sys.executable} -m pip install --quiet numpy --upgrade\n",
    "! {sys.executable} -m pip install --quiet plotly\n",
    "\n",
    "# ! {sys.executable} -m pip install --quiet --index-url https://test.pypi.org/simple/ LibraryCorePy==0.1.9\n",
    "# ! {sys.executable} -m pip install --quiet --index-url https://test.pypi.org/simple/ LibraryMathematicsPy==0.1.5\n",
    "# ! {sys.executable} -m pip install --quiet --index-url https://test.pypi.org/simple/ LibraryPhysicsPy==0.1.3"
   ]
  },
  {
   "cell_type": "code",
   "execution_count": 1,
   "metadata": {},
   "outputs": [
    {
     "data": {
      "text/html": [
       "<script>requirejs.config({paths: { 'plotly': ['https://cdn.plot.ly/plotly-latest.min']},});if(!window.Plotly) {{require(['plotly'],function(plotly) {window.Plotly=plotly;});}}</script>"
      ],
      "text/vnd.plotly.v1+html": [
       "<script>requirejs.config({paths: { 'plotly': ['https://cdn.plot.ly/plotly-latest.min']},});if(!window.Plotly) {{require(['plotly'],function(plotly) {window.Plotly=plotly;});}}</script>"
      ]
     },
     "metadata": {},
     "output_type": "display_data"
    }
   ],
   "source": [
    "import numpy as np\n",
    "import pandas as pd\n",
    "\n",
    "from plotly.offline import download_plotlyjs, init_notebook_mode, plot, iplot\n",
    "import plotly.graph_objs as go\n",
    "\n",
    "init_notebook_mode(connected=True)"
   ]
  },
  {
   "cell_type": "code",
   "execution_count": 2,
   "metadata": {},
   "outputs": [
    {
     "name": "stderr",
     "output_type": "stream",
     "text": [
      "/opt/conda/lib/python3.6/importlib/_bootstrap.py:219: RuntimeWarning:\n",
      "\n",
      "to-Python converter for library::physics::time::DateTime already registered; second conversion method ignored.\n",
      "\n"
     ]
    }
   ],
   "source": [
    "import Library.Core as Core\n",
    "import Library.Mathematics as Mathematics\n",
    "import Library.Physics as Physics\n",
    "import Library.Astrodynamics as Astrodynamics"
   ]
  },
  {
   "cell_type": "code",
   "execution_count": 3,
   "metadata": {},
   "outputs": [],
   "source": [
    "Length = Physics.Units.Length\n",
    "Angle = Physics.Units.Angle\n",
    "Scale = Physics.Time.Scale\n",
    "Instant = Physics.Time.Instant\n",
    "Duration = Physics.Time.Duration\n",
    "Interval = Physics.Time.Interval\n",
    "DateTime = Physics.Time.DateTime\n",
    "LLA = Physics.Coordinate.Spherical.LLA\n",
    "AER = Physics.Coordinate.Spherical.AER\n",
    "Position = Physics.Coordinate.Position\n",
    "Frame = Physics.Coordinate.Frame\n",
    "Environment = Physics.Environment\n",
    "Earth = Physics.Environment.Objects.CelestialBodies.Earth\n",
    "\n",
    "Trajectory = Astrodynamics.Trajectory\n",
    "Orbit = Astrodynamics.Trajectory.Orbit\n",
    "Access = Astrodynamics.Access"
   ]
  },
  {
   "cell_type": "markdown",
   "metadata": {},
   "source": [
    "---"
   ]
  },
  {
   "cell_type": "markdown",
   "metadata": {},
   "source": [
    "## Access"
   ]
  },
  {
   "cell_type": "markdown",
   "metadata": {},
   "source": [
    "An access represents an object-to-object visibility period."
   ]
  },
  {
   "cell_type": "markdown",
   "metadata": {},
   "source": [
    "In this example, let's compute accesses between a fixed position on the ground and a satellite in LEO."
   ]
  },
  {
   "cell_type": "markdown",
   "metadata": {},
   "source": [
    "## Environment"
   ]
  },
  {
   "cell_type": "markdown",
   "metadata": {},
   "source": [
    "Let's setup an environment (which describes where planets are, etc...):"
   ]
  },
  {
   "cell_type": "code",
   "execution_count": 4,
   "metadata": {},
   "outputs": [],
   "source": [
    "environment = Environment.Default() ;"
   ]
  },
  {
   "cell_type": "markdown",
   "metadata": {},
   "source": [
    "### Origin"
   ]
  },
  {
   "cell_type": "markdown",
   "metadata": {},
   "source": [
    "Let's define a fixed ground position, using its geographic coordinates:"
   ]
  },
  {
   "cell_type": "code",
   "execution_count": 236,
   "metadata": {},
   "outputs": [],
   "source": [
    "# Center\n",
    "\n",
    "# latitude = Angle.Degrees(0.0)\n",
    "# longitude = Angle.Degrees(0.0)\n",
    "# altitude = Length.Meters(10.0)\n",
    "\n",
    "# SvalSat\n",
    "\n",
    "# latitude = Angle.Degrees(78.229772)\n",
    "# longitude = Angle.Degrees(15.407786)\n",
    "# altitude = Length.Meters(10.0)\n",
    "\n",
    "# Test\n",
    "\n",
    "latitude = Angle.Degrees(51.2)\n",
    "longitude = Angle.Degrees(-0.6)\n",
    "altitude = Length.Meters(10.0)"
   ]
  },
  {
   "cell_type": "code",
   "execution_count": 237,
   "metadata": {},
   "outputs": [],
   "source": [
    "from_lla = LLA(latitude, longitude, altitude)"
   ]
  },
  {
   "cell_type": "code",
   "execution_count": 238,
   "metadata": {},
   "outputs": [],
   "source": [
    "from_position = Position.Meters(from_lla.toCartesian(Earth.EquatorialRadius, Earth.Flattening), Frame.ITRF())"
   ]
  },
  {
   "cell_type": "markdown",
   "metadata": {},
   "source": [
    "And derive a trajectory, fixed at that position:"
   ]
  },
  {
   "cell_type": "code",
   "execution_count": 239,
   "metadata": {},
   "outputs": [],
   "source": [
    "from_trajectory = Trajectory.Position(from_position)"
   ]
  },
  {
   "cell_type": "markdown",
   "metadata": {},
   "source": [
    "### Target"
   ]
  },
  {
   "cell_type": "markdown",
   "metadata": {},
   "source": [
    "Let's define the orbit of a satellite in LEO. In this example, we're modeling the orbit using SGP4."
   ]
  },
  {
   "cell_type": "code",
   "execution_count": 301,
   "metadata": {},
   "outputs": [],
   "source": [
    "a = Earth.EquatorialRadius + Length.Kilometers(600.0)\n",
    "e = 0.000\n",
    "# i = Angle.Degrees(97.5034)\n",
    "i = Angle.Degrees(97.8893)\n",
    "raan = Angle.Degrees(100.372)\n",
    "aop = Angle.Degrees(0.0)\n",
    "nu = Angle.Degrees(0.0201851)\n",
    "\n",
    "coe = Orbit.Models.Kepler.COE(a, e, i, raan, aop, nu)"
   ]
  },
  {
   "cell_type": "code",
   "execution_count": 302,
   "metadata": {},
   "outputs": [],
   "source": [
    "epoch = Instant.DateTime(DateTime(2018, 1, 1, 0, 0, 0), Scale.UTC)\n",
    "\n",
    "keplerian_model = Orbit.Models.Kepler(coe, epoch, environment.accessCelestialObjectWithName(\"Earth\"), Orbit.Models.Kepler.PerturbationType.J2)"
   ]
  },
  {
   "cell_type": "code",
   "execution_count": null,
   "metadata": {},
   "outputs": [],
   "source": []
  },
  {
   "cell_type": "code",
   "execution_count": null,
   "metadata": {},
   "outputs": [],
   "source": []
  },
  {
   "cell_type": "code",
   "execution_count": null,
   "metadata": {},
   "outputs": [],
   "source": []
  },
  {
   "cell_type": "markdown",
   "metadata": {},
   "source": [
    "First, we need a **Two-Line Element** (TLE) set:"
   ]
  },
  {
   "cell_type": "code",
   "execution_count": 303,
   "metadata": {},
   "outputs": [],
   "source": [
    "# tle = Orbit.Models.SGP4.TLE(\"1 25544U 98067A   18231.17878740  .00000187  00000-0  10196-4 0  9994\",\n",
    "#                             \"2 25544  51.6447  64.7824 0005971  73.1467  36.4366 15.53848234128316\")\n",
    "tle = Orbit.Models.SGP4.TLE(\"1 39419U 13066D   18248.44969859 -.00000394  00000-0 -31796-4 0  9997\",\n",
    "                            \"2 39419  97.6313 314.6863 0012643 218.7350 141.2966 14.93878994260975\")"
   ]
  },
  {
   "cell_type": "markdown",
   "metadata": {},
   "source": [
    "To setup a **SGP4** orbital model:"
   ]
  },
  {
   "cell_type": "code",
   "execution_count": 304,
   "metadata": {},
   "outputs": [],
   "source": [
    "sgp4_model = Orbit.Models.SGP4(tle)"
   ]
  },
  {
   "cell_type": "code",
   "execution_count": 305,
   "metadata": {},
   "outputs": [],
   "source": [
    "orbital_model = keplerian_model\n",
    "# orbital_model = sgp4_model"
   ]
  },
  {
   "cell_type": "markdown",
   "metadata": {},
   "source": [
    "We then obtain the satellite orbit (which is a trajectory):"
   ]
  },
  {
   "cell_type": "code",
   "execution_count": 306,
   "metadata": {},
   "outputs": [],
   "source": [
    "environment = Environment.Default()\n",
    "satellite_orbit = Orbit(orbital_model, environment.accessCelestialObjectWithName(\"Earth\"))"
   ]
  },
  {
   "cell_type": "markdown",
   "metadata": {},
   "source": [
    "### Access"
   ]
  },
  {
   "cell_type": "markdown",
   "metadata": {},
   "source": [
    "Now that the origin and the target trajectories is well defined, we can compute the access."
   ]
  },
  {
   "cell_type": "markdown",
   "metadata": {},
   "source": [
    "Let's first define an **interval of interest**:"
   ]
  },
  {
   "cell_type": "code",
   "execution_count": 307,
   "metadata": {},
   "outputs": [],
   "source": [
    "start_instant = Instant.DateTime(DateTime.Parse(\"2018-01-01 00:00:00\"), Scale.UTC) ;\n",
    "end_instant = Instant.DateTime(DateTime.Parse(\"2018-02-01 00:00:00\"), Scale.UTC) ;\n",
    "\n",
    "interval = Interval.Closed(start_instant, end_instant) ;"
   ]
  },
  {
   "cell_type": "code",
   "execution_count": 308,
   "metadata": {},
   "outputs": [],
   "source": [
    "environment = Physics.Environment.Default() ;"
   ]
  },
  {
   "cell_type": "markdown",
   "metadata": {},
   "source": [
    "Then, using an **Access Generator**, we can compute the accesses within the intervals of interest:"
   ]
  },
  {
   "cell_type": "code",
   "execution_count": 309,
   "metadata": {},
   "outputs": [],
   "source": [
    "access_generator = Access.Generator(environment) ;\n",
    "\n",
    "accesses = access_generator.computeAccesses(interval, from_trajectory, satellite_orbit) ;"
   ]
  },
  {
   "cell_type": "code",
   "execution_count": 310,
   "metadata": {},
   "outputs": [],
   "source": [
    "# states = satellite_orbit.getStatesAt(access.getInterval().generateGrid(Duration.Minutes(1.0)))"
   ]
  },
  {
   "cell_type": "markdown",
   "metadata": {},
   "source": [
    "And format the output using a dataframe:"
   ]
  },
  {
   "cell_type": "code",
   "execution_count": 311,
   "metadata": {},
   "outputs": [],
   "source": [
    "accesses_df = pd.DataFrame([[str(access.getType()), repr(access.getAcquisitionOfSignal()), repr(access.getTimeOfClosestApproach()), repr(access.getLossOfSignal()), repr(access.getDuration())] for access in accesses], columns=['Type', 'AOS', 'TCA', 'LOS', 'Duration'])"
   ]
  },
  {
   "cell_type": "code",
   "execution_count": 312,
   "metadata": {},
   "outputs": [
    {
     "data": {
      "text/plain": [
       "218"
      ]
     },
     "execution_count": 312,
     "metadata": {},
     "output_type": "execute_result"
    }
   ],
   "source": [
    "len(accesses_df)"
   ]
  },
  {
   "cell_type": "code",
   "execution_count": 313,
   "metadata": {},
   "outputs": [],
   "source": [
    "# accesses_df"
   ]
  },
  {
   "cell_type": "code",
   "execution_count": 339,
   "metadata": {},
   "outputs": [],
   "source": [
    "dts = [(second_access.getAcquisitionOfSignal() - first_access.getAcquisitionOfSignal()) for [first_access, second_access] in zip(accesses, accesses[1:])]"
   ]
  },
  {
   "cell_type": "code",
   "execution_count": 340,
   "metadata": {},
   "outputs": [
    {
     "data": {
      "text/plain": [
       "217"
      ]
     },
     "execution_count": 340,
     "metadata": {},
     "output_type": "execute_result"
    }
   ],
   "source": [
    "len(dts)"
   ]
  },
  {
   "cell_type": "code",
   "execution_count": 341,
   "metadata": {},
   "outputs": [
    {
     "data": {
      "text/plain": [
       "01:30:23.225.447.239"
      ]
     },
     "execution_count": 341,
     "metadata": {},
     "output_type": "execute_result"
    }
   ],
   "source": [
    "min(dts)"
   ]
  },
  {
   "cell_type": "code",
   "execution_count": 342,
   "metadata": {},
   "outputs": [
    {
     "data": {
      "text/plain": [
       "10:04:30.099.649.430"
      ]
     },
     "execution_count": 342,
     "metadata": {},
     "output_type": "execute_result"
    }
   ],
   "source": [
    "max(dts)"
   ]
  },
  {
   "cell_type": "code",
   "execution_count": 343,
   "metadata": {},
   "outputs": [
    {
     "ename": "TypeError",
     "evalue": "can't convert type 'Duration' to numerator/denominator",
     "output_type": "error",
     "traceback": [
      "\u001b[0;31m---------------------------------------------------------------------------\u001b[0m",
      "\u001b[0;31mTypeError\u001b[0m                                 Traceback (most recent call last)",
      "\u001b[0;32m<ipython-input-343-260c28ce31e8>\u001b[0m in \u001b[0;36m<module>\u001b[0;34m()\u001b[0m\n\u001b[1;32m      1\u001b[0m \u001b[0;32mimport\u001b[0m \u001b[0mstatistics\u001b[0m\u001b[0;34m\u001b[0m\u001b[0m\n\u001b[0;32m----> 2\u001b[0;31m \u001b[0mstatistics\u001b[0m\u001b[0;34m.\u001b[0m\u001b[0mmean\u001b[0m\u001b[0;34m(\u001b[0m\u001b[0mdts\u001b[0m\u001b[0;34m)\u001b[0m\u001b[0;34m\u001b[0m\u001b[0m\n\u001b[0m",
      "\u001b[0;32m/opt/conda/lib/python3.6/statistics.py\u001b[0m in \u001b[0;36mmean\u001b[0;34m(data)\u001b[0m\n\u001b[1;32m    310\u001b[0m     \u001b[0;32mif\u001b[0m \u001b[0mn\u001b[0m \u001b[0;34m<\u001b[0m \u001b[0;36m1\u001b[0m\u001b[0;34m:\u001b[0m\u001b[0;34m\u001b[0m\u001b[0m\n\u001b[1;32m    311\u001b[0m         \u001b[0;32mraise\u001b[0m \u001b[0mStatisticsError\u001b[0m\u001b[0;34m(\u001b[0m\u001b[0;34m'mean requires at least one data point'\u001b[0m\u001b[0;34m)\u001b[0m\u001b[0;34m\u001b[0m\u001b[0m\n\u001b[0;32m--> 312\u001b[0;31m     \u001b[0mT\u001b[0m\u001b[0;34m,\u001b[0m \u001b[0mtotal\u001b[0m\u001b[0;34m,\u001b[0m \u001b[0mcount\u001b[0m \u001b[0;34m=\u001b[0m \u001b[0m_sum\u001b[0m\u001b[0;34m(\u001b[0m\u001b[0mdata\u001b[0m\u001b[0;34m)\u001b[0m\u001b[0;34m\u001b[0m\u001b[0m\n\u001b[0m\u001b[1;32m    313\u001b[0m     \u001b[0;32massert\u001b[0m \u001b[0mcount\u001b[0m \u001b[0;34m==\u001b[0m \u001b[0mn\u001b[0m\u001b[0;34m\u001b[0m\u001b[0m\n\u001b[1;32m    314\u001b[0m     \u001b[0;32mreturn\u001b[0m \u001b[0m_convert\u001b[0m\u001b[0;34m(\u001b[0m\u001b[0mtotal\u001b[0m\u001b[0;34m/\u001b[0m\u001b[0mn\u001b[0m\u001b[0;34m,\u001b[0m \u001b[0mT\u001b[0m\u001b[0;34m)\u001b[0m\u001b[0;34m\u001b[0m\u001b[0m\n",
      "\u001b[0;32m/opt/conda/lib/python3.6/statistics.py\u001b[0m in \u001b[0;36m_sum\u001b[0;34m(data, start)\u001b[0m\n\u001b[1;32m    146\u001b[0m     \u001b[0;32mfor\u001b[0m \u001b[0mtyp\u001b[0m\u001b[0;34m,\u001b[0m \u001b[0mvalues\u001b[0m \u001b[0;32min\u001b[0m \u001b[0mgroupby\u001b[0m\u001b[0;34m(\u001b[0m\u001b[0mdata\u001b[0m\u001b[0;34m,\u001b[0m \u001b[0mtype\u001b[0m\u001b[0;34m)\u001b[0m\u001b[0;34m:\u001b[0m\u001b[0;34m\u001b[0m\u001b[0m\n\u001b[1;32m    147\u001b[0m         \u001b[0mT\u001b[0m \u001b[0;34m=\u001b[0m \u001b[0m_coerce\u001b[0m\u001b[0;34m(\u001b[0m\u001b[0mT\u001b[0m\u001b[0;34m,\u001b[0m \u001b[0mtyp\u001b[0m\u001b[0;34m)\u001b[0m  \u001b[0;31m# or raise TypeError\u001b[0m\u001b[0;34m\u001b[0m\u001b[0m\n\u001b[0;32m--> 148\u001b[0;31m         \u001b[0;32mfor\u001b[0m \u001b[0mn\u001b[0m\u001b[0;34m,\u001b[0m\u001b[0md\u001b[0m \u001b[0;32min\u001b[0m \u001b[0mmap\u001b[0m\u001b[0;34m(\u001b[0m\u001b[0m_exact_ratio\u001b[0m\u001b[0;34m,\u001b[0m \u001b[0mvalues\u001b[0m\u001b[0;34m)\u001b[0m\u001b[0;34m:\u001b[0m\u001b[0;34m\u001b[0m\u001b[0m\n\u001b[0m\u001b[1;32m    149\u001b[0m             \u001b[0mcount\u001b[0m \u001b[0;34m+=\u001b[0m \u001b[0;36m1\u001b[0m\u001b[0;34m\u001b[0m\u001b[0m\n\u001b[1;32m    150\u001b[0m             \u001b[0mpartials\u001b[0m\u001b[0;34m[\u001b[0m\u001b[0md\u001b[0m\u001b[0;34m]\u001b[0m \u001b[0;34m=\u001b[0m \u001b[0mpartials_get\u001b[0m\u001b[0;34m(\u001b[0m\u001b[0md\u001b[0m\u001b[0;34m,\u001b[0m \u001b[0;36m0\u001b[0m\u001b[0;34m)\u001b[0m \u001b[0;34m+\u001b[0m \u001b[0mn\u001b[0m\u001b[0;34m\u001b[0m\u001b[0m\n",
      "\u001b[0;32m/opt/conda/lib/python3.6/statistics.py\u001b[0m in \u001b[0;36m_exact_ratio\u001b[0;34m(x)\u001b[0m\n\u001b[1;32m    228\u001b[0m         \u001b[0;32mreturn\u001b[0m \u001b[0;34m(\u001b[0m\u001b[0mx\u001b[0m\u001b[0;34m,\u001b[0m \u001b[0;32mNone\u001b[0m\u001b[0;34m)\u001b[0m\u001b[0;34m\u001b[0m\u001b[0m\n\u001b[1;32m    229\u001b[0m     \u001b[0mmsg\u001b[0m \u001b[0;34m=\u001b[0m \u001b[0;34m\"can't convert type '{}' to numerator/denominator\"\u001b[0m\u001b[0;34m\u001b[0m\u001b[0m\n\u001b[0;32m--> 230\u001b[0;31m     \u001b[0;32mraise\u001b[0m \u001b[0mTypeError\u001b[0m\u001b[0;34m(\u001b[0m\u001b[0mmsg\u001b[0m\u001b[0;34m.\u001b[0m\u001b[0mformat\u001b[0m\u001b[0;34m(\u001b[0m\u001b[0mtype\u001b[0m\u001b[0;34m(\u001b[0m\u001b[0mx\u001b[0m\u001b[0;34m)\u001b[0m\u001b[0;34m.\u001b[0m\u001b[0m__name__\u001b[0m\u001b[0;34m)\u001b[0m\u001b[0;34m)\u001b[0m\u001b[0;34m\u001b[0m\u001b[0m\n\u001b[0m\u001b[1;32m    231\u001b[0m \u001b[0;34m\u001b[0m\u001b[0m\n\u001b[1;32m    232\u001b[0m \u001b[0;34m\u001b[0m\u001b[0m\n",
      "\u001b[0;31mTypeError\u001b[0m: can't convert type 'Duration' to numerator/denominator"
     ]
    }
   ],
   "source": [
    "import statistics \n",
    "statistics.mean(dts)"
   ]
  },
  {
   "cell_type": "code",
   "execution_count": 344,
   "metadata": {},
   "outputs": [],
   "source": [
    "# accesses"
   ]
  },
  {
   "cell_type": "code",
   "execution_count": 345,
   "metadata": {},
   "outputs": [
    {
     "data": {
      "text/plain": [
       "[01:30:23.225.447.239,\n",
       " 01:30:23.636.637.927,\n",
       " 01:30:24.110.381.306,\n",
       " 01:30:24.646.877.646,\n",
       " 01:31:09.327.846.766,\n",
       " 01:31:09.646.454.752,\n",
       " 01:31:10.001.647.175,\n",
       " 01:31:10.395.129.919,\n",
       " 01:31:45.195.038.618,\n",
       " 01:31:45.483.772.158,\n",
       " 01:31:45.797.651.411,\n",
       " 01:31:46.139.184.237,\n",
       " 01:32:16.763.132.215,\n",
       " 01:32:17.058.087.586,\n",
       " 01:32:17.374.489.009,\n",
       " 01:32:45.515.917.541,\n",
       " 01:32:45.801.639.855,\n",
       " 01:32:46.104.638.278,\n",
       " 01:32:46.426.301.299,\n",
       " 01:33:12.739.418.150,\n",
       " 01:33:13.021.080.493,\n",
       " 01:33:13.316.964.804,\n",
       " 01:33:13.627.814.949,\n",
       " 01:33:18.597.364.426,\n",
       " 01:33:19.644.604.325,\n",
       " 01:33:20.616.515.279,\n",
       " 01:33:21.515.133.976,\n",
       " 01:33:39.018.201.827,\n",
       " 01:33:39.299.028.219,\n",
       " 01:33:39.591.726.063,\n",
       " 01:33:39.896.707.535,\n",
       " 01:34:03.652.391.730,\n",
       " 01:34:04.258.187.412,\n",
       " 01:34:04.745.807.648,\n",
       " 01:34:04.820.038.677,\n",
       " 01:34:05.028.131.604,\n",
       " 01:34:05.320.460.201,\n",
       " 01:34:05.339.441.299,\n",
       " 01:34:05.623.123.348,\n",
       " 01:34:30.222.868.321,\n",
       " 01:34:30.508.623.719,\n",
       " 01:34:30.802.891.552,\n",
       " 01:34:31.106.103.658,\n",
       " 01:34:31.739.626.228,\n",
       " 01:34:32.174.764.574,\n",
       " 01:34:32.577.002.944,\n",
       " 01:34:32.947.743.237,\n",
       " 01:34:52.024.738.490,\n",
       " 01:34:52.367.719.710,\n",
       " 01:34:52.683.800.161,\n",
       " 01:34:52.974.025.011,\n",
       " 01:34:55.708.195.568,\n",
       " 01:34:55.999.217.928,\n",
       " 01:34:56.297.569.872,\n",
       " 01:34:56.603.914.798,\n",
       " 01:35:07.778.512.538,\n",
       " 01:35:08.064.476.252,\n",
       " 01:35:08.327.415.885,\n",
       " 01:35:08.567.791.880,\n",
       " 01:35:20.603.209.734,\n",
       " 01:35:20.851.432.980,\n",
       " 01:35:21.079.369.784,\n",
       " 01:35:21.286.744.773,\n",
       " 01:35:21.450.332.700,\n",
       " 01:35:21.748.545.170,\n",
       " 01:35:22.053.192.257,\n",
       " 01:35:22.365.244.925,\n",
       " 01:35:31.421.253.383,\n",
       " 01:35:31.643.773.912,\n",
       " 01:35:31.848.011.612,\n",
       " 01:35:32.032.895.388,\n",
       " 01:35:41.028.206.348,\n",
       " 01:35:41.216.489.374,\n",
       " 01:35:41.386.115.850,\n",
       " 01:35:48.019.143.640,\n",
       " 01:35:48.332.563.341,\n",
       " 01:35:48.653.141.856,\n",
       " 01:35:49.413.295.090,\n",
       " 01:35:49.591.400.922,\n",
       " 01:35:49.751.202.463,\n",
       " 01:35:49.892.302.752,\n",
       " 01:35:57.105.959.953,\n",
       " 01:35:57.278.582.453,\n",
       " 01:35:57.433.012.425,\n",
       " 01:35:57.569.364.309,\n",
       " 01:36:04.355.704.486,\n",
       " 01:36:04.527.020.753,\n",
       " 01:36:04.680.087.268,\n",
       " 01:36:04.815.305.472,\n",
       " 01:36:11.384.097.041,\n",
       " 01:36:11.558.226.943,\n",
       " 01:36:11.713.905.037,\n",
       " 01:36:11.851.530.969,\n",
       " 01:36:15.111.076.533,\n",
       " 01:36:15.436.246.992,\n",
       " 01:36:15.768.650.472,\n",
       " 01:36:16.109.476.984,\n",
       " 01:36:18.408.536.016,\n",
       " 01:36:18.589.985.668,\n",
       " 01:36:18.752.631.247,\n",
       " 01:36:18.896.538.018,\n",
       " 01:36:25.666.575.729,\n",
       " 01:36:25.860.807.895,\n",
       " 01:36:26.035.668.254,\n",
       " 01:36:26.190.555.095,\n",
       " 01:36:33.447.847.367,\n",
       " 01:36:33.662.139.773,\n",
       " 01:36:33.856.149.316,\n",
       " 01:36:34.028.291.702,\n",
       " 01:36:42.390.519.082,\n",
       " 01:36:42.613.716.423,\n",
       " 01:36:42.812.305.390,\n",
       " 01:36:43.391.564.189,\n",
       " 01:36:43.732.277.157,\n",
       " 01:36:44.080.643.356,\n",
       " 01:36:44.437.566.697,\n",
       " 01:36:52.647.426.724,\n",
       " 01:36:52.915.889.918,\n",
       " 01:36:53.155.788.482,\n",
       " 01:36:53.366.286.455,\n",
       " 01:37:05.464.833.676,\n",
       " 01:37:05.807.855.129,\n",
       " 01:37:06.116.364.598,\n",
       " 01:37:06.390.330.793,\n",
       " 01:37:13.339.818.120,\n",
       " 01:37:13.701.208.232,\n",
       " 01:37:14.071.077.705,\n",
       " 01:37:14.450.111.389,\n",
       " 01:37:22.939.067.781,\n",
       " 01:37:23.421.785.831,\n",
       " 01:37:23.860.094.546,\n",
       " 01:37:24.254.519.641,\n",
       " 01:37:45.625.081.657,\n",
       " 01:37:46.014.601.887,\n",
       " 01:37:46.413.953.304,\n",
       " 01:37:46.823.751.031,\n",
       " 01:37:50.854.569.376,\n",
       " 01:37:51.695.559.024,\n",
       " 01:37:52.471.930.682,\n",
       " 01:37:53.183.417.917,\n",
       " 01:38:21.260.747.910,\n",
       " 01:38:21.690.217.852,\n",
       " 01:38:22.131.648.659,\n",
       " 01:38:22.585.870.923,\n",
       " 01:39:01.957.604.885,\n",
       " 01:39:02.448.289.990,\n",
       " 01:39:02.954.466.640,\n",
       " 01:39:03.477.681.577,\n",
       " 01:39:51.731.150.150,\n",
       " 01:39:52.352.503.538,\n",
       " 01:39:52.999.408.543,\n",
       " 01:40:59.129.853.845,\n",
       " 01:41:00.043.892.562,\n",
       " 01:41:01.008.143.127,\n",
       " 01:41:02.030.020.059,\n",
       " 06:08:49.069.492.220,\n",
       " 06:08:50.206.042.529,\n",
       " 06:08:51.411.043.704,\n",
       " 06:08:52.685.288.787,\n",
       " 06:09:51.453.315.319,\n",
       " 06:09:52.293.331.326,\n",
       " 06:09:53.175.496.459,\n",
       " 06:09:54.101.496.937,\n",
       " 06:10:45.563.554.465,\n",
       " 06:10:46.308.789.255,\n",
       " 06:10:47.080.936.433,\n",
       " 06:10:47.881.280.780,\n",
       " 06:11:38.035.312.595,\n",
       " 06:11:38.749.030.531,\n",
       " 06:11:39.477.561.414,\n",
       " 06:11:40.221.860.111,\n",
       " 06:12:32.377.321.423,\n",
       " 06:12:33.096.811.475,\n",
       " 06:12:33.820.483.090,\n",
       " 06:13:29.256.506.860,\n",
       " 06:13:29.994.340.539,\n",
       " 06:13:30.723.887.982,\n",
       " 06:13:31.446.463.465,\n",
       " 06:14:32.025.627.493,\n",
       " 06:14:32.818.516.194,\n",
       " 06:14:33.586.922.585,\n",
       " 06:14:34.332.594.573,\n",
       " 06:15:46.613.209.249,\n",
       " 06:15:47.559.186.815,\n",
       " 06:15:48.451.051.712,\n",
       " 06:15:49.289.759.696,\n",
       " 08:24:28.816.307.188,\n",
       " 08:24:30.986.197.293,\n",
       " 08:24:33.178.478.480,\n",
       " 08:24:35.403.463.840,\n",
       " 09:59:16.592.641.174,\n",
       " 09:59:17.478.176.058,\n",
       " 09:59:18.349.210.918,\n",
       " 10:00:21.215.160.190,\n",
       " 10:00:21.966.673.136,\n",
       " 10:00:22.715.797.127,\n",
       " 10:00:23.463.627.397,\n",
       " 10:01:15.943.019.986,\n",
       " 10:01:16.623.939.872,\n",
       " 10:01:17.310.728.431,\n",
       " 10:01:18.004.578.353,\n",
       " 10:02:05.037.454.070,\n",
       " 10:02:05.684.220.492,\n",
       " 10:02:06.344.038.545,\n",
       " 10:02:07.018.757.165,\n",
       " 10:02:51.305.219.828,\n",
       " 10:02:51.949.661.672,\n",
       " 10:02:52.614.736.856,\n",
       " 10:02:53.303.039.967,\n",
       " 10:03:37.487.761.080,\n",
       " 10:03:38.170.571.923,\n",
       " 10:03:38.883.596.955,\n",
       " 10:03:39.629.869.760,\n",
       " 10:04:27.570.760.846,\n",
       " 10:04:28.367.667.496,\n",
       " 10:04:29.209.653.140,\n",
       " 10:04:30.099.649.430]"
      ]
     },
     "execution_count": 345,
     "metadata": {},
     "output_type": "execute_result"
    }
   ],
   "source": [
    "sorted(dts)"
   ]
  },
  {
   "cell_type": "code",
   "execution_count": null,
   "metadata": {},
   "outputs": [],
   "source": []
  },
  {
   "cell_type": "code",
   "execution_count": null,
   "metadata": {},
   "outputs": [],
   "source": []
  },
  {
   "cell_type": "code",
   "execution_count": null,
   "metadata": {},
   "outputs": [],
   "source": []
  },
  {
   "cell_type": "markdown",
   "metadata": {},
   "source": [
    "### Output"
   ]
  },
  {
   "cell_type": "markdown",
   "metadata": {},
   "source": [
    "Let's calculate the geographic coordinate of the satellite, during access:"
   ]
  },
  {
   "cell_type": "code",
   "execution_count": 319,
   "metadata": {},
   "outputs": [],
   "source": [
    "def compute_time_lla_aer_state (state):\n",
    "    \n",
    "    lla = LLA.Cartesian(state.getPosition().inFrame(Frame.ITRF(), state.getInstant()).getCoordinates(), Earth.EquatorialRadius, Earth.Flattening)\n",
    "    \n",
    "    aer = AER.FromPositionToPosition(from_position, state.getPosition().inFrame(Frame.ITRF(), state.getInstant()))\n",
    "\n",
    "    return [state.getInstant(), float(lla.getLatitude().inDegrees()), float(lla.getLongitude().inDegrees()), float(lla.getAltitude().inMeters()), float(aer.getAzimuth().inDegrees()), float(aer.getElevation().inDegrees()), float(aer.getRange().inMeters())]\n",
    "\n",
    "def compute_access_geometry (access):\n",
    "\n",
    "    return [compute_time_lla_aer_state(state) for state in satellite_orbit.getStatesAt(access.getInterval().generateGrid(Duration.Minutes(1.0)))]"
   ]
  },
  {
   "cell_type": "code",
   "execution_count": 320,
   "metadata": {},
   "outputs": [],
   "source": [
    "access_geometry_dfs = [pd.DataFrame(compute_access_geometry(access), columns=['Time', 'Latitude', 'Longitude', 'Altitude', 'Azimuth', 'Elevation', 'Range']) for access in accesses] ;"
   ]
  },
  {
   "cell_type": "code",
   "execution_count": 321,
   "metadata": {},
   "outputs": [
    {
     "data": {
      "text/html": [
       "<div>\n",
       "<style scoped>\n",
       "    .dataframe tbody tr th:only-of-type {\n",
       "        vertical-align: middle;\n",
       "    }\n",
       "\n",
       "    .dataframe tbody tr th {\n",
       "        vertical-align: top;\n",
       "    }\n",
       "\n",
       "    .dataframe thead th {\n",
       "        text-align: right;\n",
       "    }\n",
       "</style>\n",
       "<table border=\"1\" class=\"dataframe\">\n",
       "  <thead>\n",
       "    <tr style=\"text-align: right;\">\n",
       "      <th></th>\n",
       "      <th>Time</th>\n",
       "      <th>Latitude</th>\n",
       "      <th>Longitude</th>\n",
       "      <th>Altitude</th>\n",
       "      <th>Azimuth</th>\n",
       "      <th>Elevation</th>\n",
       "      <th>Range</th>\n",
       "    </tr>\n",
       "  </thead>\n",
       "  <tbody>\n",
       "    <tr>\n",
       "      <th>0</th>\n",
       "      <td>-- Instant -----------------------------------...</td>\n",
       "      <td>27.380158</td>\n",
       "      <td>-5.889192</td>\n",
       "      <td>604495.082037</td>\n",
       "      <td>344.655811</td>\n",
       "      <td>37.969496</td>\n",
       "      <td>2.850647e+06</td>\n",
       "    </tr>\n",
       "    <tr>\n",
       "      <th>1</th>\n",
       "      <td>-- Instant -----------------------------------...</td>\n",
       "      <td>31.065615</td>\n",
       "      <td>-6.799683</td>\n",
       "      <td>605661.650308</td>\n",
       "      <td>341.032261</td>\n",
       "      <td>33.592809</td>\n",
       "      <td>2.463214e+06</td>\n",
       "    </tr>\n",
       "    <tr>\n",
       "      <th>2</th>\n",
       "      <td>-- Instant -----------------------------------...</td>\n",
       "      <td>34.744877</td>\n",
       "      <td>-7.762958</td>\n",
       "      <td>606909.432351</td>\n",
       "      <td>336.497659</td>\n",
       "      <td>28.198192</td>\n",
       "      <td>2.088758e+06</td>\n",
       "    </tr>\n",
       "    <tr>\n",
       "      <th>3</th>\n",
       "      <td>-- Instant -----------------------------------...</td>\n",
       "      <td>38.416892</td>\n",
       "      <td>-8.792183</td>\n",
       "      <td>608217.323282</td>\n",
       "      <td>330.586801</td>\n",
       "      <td>21.178775</td>\n",
       "      <td>1.737675e+06</td>\n",
       "    </tr>\n",
       "    <tr>\n",
       "      <th>4</th>\n",
       "      <td>-- Instant -----------------------------------...</td>\n",
       "      <td>42.080402</td>\n",
       "      <td>-9.904217</td>\n",
       "      <td>609563.236713</td>\n",
       "      <td>322.550978</td>\n",
       "      <td>11.575436</td>\n",
       "      <td>1.429176e+06</td>\n",
       "    </tr>\n",
       "  </tbody>\n",
       "</table>\n",
       "</div>"
      ],
      "text/plain": [
       "                                                Time   Latitude  Longitude  \\\n",
       "0  -- Instant -----------------------------------...  27.380158  -5.889192   \n",
       "1  -- Instant -----------------------------------...  31.065615  -6.799683   \n",
       "2  -- Instant -----------------------------------...  34.744877  -7.762958   \n",
       "3  -- Instant -----------------------------------...  38.416892  -8.792183   \n",
       "4  -- Instant -----------------------------------...  42.080402  -9.904217   \n",
       "\n",
       "        Altitude     Azimuth  Elevation         Range  \n",
       "0  604495.082037  344.655811  37.969496  2.850647e+06  \n",
       "1  605661.650308  341.032261  33.592809  2.463214e+06  \n",
       "2  606909.432351  336.497659  28.198192  2.088758e+06  \n",
       "3  608217.323282  330.586801  21.178775  1.737675e+06  \n",
       "4  609563.236713  322.550978  11.575436  1.429176e+06  "
      ]
     },
     "execution_count": 321,
     "metadata": {},
     "output_type": "execute_result"
    }
   ],
   "source": [
    "access_geometry_dfs[0].head()"
   ]
  },
  {
   "cell_type": "markdown",
   "metadata": {},
   "source": [
    "And plot the geometries onto a map:"
   ]
  },
  {
   "cell_type": "code",
   "execution_count": 322,
   "metadata": {},
   "outputs": [
    {
     "data": {
      "0": {
       "lat": [
        27.38015837147207,
        31.065614823482832,
        34.74487653501875,
        38.41689242353185,
        42.08040219006902,
        45.73383103028308,
        49.37512772209129,
        53.0015088951658,
        56.60904152816681,
        60.19193366007412,
        63.74127124432603,
        67.24264094241798,
        70.67136184323631,
        71.93010258565863
       ],
       "line": {
        "color": "red",
        "width": 1
       },
       "lon": [
        -5.889192208410797,
        -6.799683481752127,
        -7.762958284373033,
        -8.792183292055977,
        -9.904217224144292,
        -11.121127768350211,
        -12.472487508576503,
        -13.998953507723815,
        -15.758039322999046,
        -17.83377912911081,
        -20.353603715777652,
        -23.519202637167247,
        -27.665714962918845,
        -29.580993983873448
       ],
       "mode": "lines",
       "type": "scattergeo",
       "uid": "bf4a37e0-b624-11e8-b5c6-0242ac110004"
      },
      "1": {
       "lat": [
        42.90413718694052,
        46.55503383944618,
        50.193247034349405,
        53.81577863368955,
        57.41835308985613,
        59.54459200496123
       ],
       "line": {
        "color": "red",
        "width": 1
       },
       "lon": [
        -34.3695763341961,
        -35.613860295049236,
        -37.00062045356506,
        -38.57370252364002,
        -40.39556134463344,
        -41.630374444282054
       ],
       "mode": "lines",
       "type": "scattergeo",
       "uid": "bf4a6e18-b624-11e8-b5c6-0242ac110004"
      },
      "10": {
       "lat": [
        72.6060679442946,
        69.23803282194379,
        65.77473906366836,
        62.25091453333354,
        58.686088622310336,
        55.09195851147838,
        51.47591649894463,
        47.842858239339,
        44.19616719941479,
        40.53827907210658,
        36.871019909117685,
        33.19581630996088,
        29.51383011058419,
        27.08893276813668
       ],
       "line": {
        "color": "red",
        "width": 1
       },
       "lon": [
        26.198030079847822,
        21.239571369184542,
        17.559406017172606,
        14.697036052403721,
        12.383548237824659,
        10.453646944760004,
        8.8009170809587,
        7.354030724274185,
        6.063474009679029,
        4.8938072844047,
        3.8189654678296887,
        2.8193007289484493,
        1.879660788440161,
        1.2885005697313365
       ],
       "mode": "lines",
       "type": "scattergeo",
       "uid": "bf4a8c40-b624-11e8-b5c6-0242ac110004"
      },
      "100": {
       "lat": [
        70.46617154432728,
        67.03258725157404,
        63.52815262232565,
        59.97675972611414,
        56.39241480825965,
        52.783808289222094,
        49.15660280292193,
        45.51465344536147,
        41.860695128172665,
        38.19674824486608,
        34.5243677038577,
        30.844800889048084,
        28.61287036794373
       ],
       "line": {
        "color": "red",
        "width": 1
       },
       "lon": [
        32.00957733475369,
        27.932088148041768,
        24.810491298915537,
        22.320048333688096,
        20.26469801550996,
        18.520212891400263,
        17.004469939007702,
        15.661144380100644,
        14.450345840379786,
        13.343011643163758,
        12.317422881449467,
        11.35696418984754,
        10.801238576511023
       ],
       "mode": "lines",
       "type": "scattergeo",
       "uid": "bf4b916c-b624-11e8-b5c6-0242ac110004"
      },
      "101": {
       "lat": [
        74.67718225183899,
        71.40231176576928,
        67.99492166441617,
        64.5071806204022,
        60.96711969797981,
        57.39088667771103,
        53.78835284454143,
        50.16586738677225,
        46.52770203173385,
        42.87685319998616,
        39.2155096860927,
        35.54533683466074,
        31.867655276858617,
        28.99807481524581
       ],
       "line": {
        "color": "red",
        "width": 1
       },
       "lon": [
        15.356646087483657,
        9.178386609162027,
        4.749302914700593,
        1.4022923313498459,
        -1.2397043025452588,
        -3.4011098617068494,
        -5.2223071958960805,
        -6.795066450406205,
        -8.18172072250139,
        -9.426042369620044,
        -10.559682143928924,
        -11.606133080040028,
        -12.58325381562919,
        -13.305452141497671
       ],
       "mode": "lines",
       "type": "scattergeo",
       "uid": "bf4b92ca-b624-11e8-b5c6-0242ac110004"
      },
      "102": {
       "lat": [
        75.44707733249498,
        72.21749689984215,
        68.83632428009156,
        65.36498883447483,
        61.835894446039134,
        58.26741067171769,
        54.67061503454138,
        51.05254914106444,
        47.41790063608705,
        43.76992493202535,
        42.27525575699262
       ],
       "line": {
        "color": "red",
        "width": 1
       },
       "lon": [
        -6.947126027270684,
        -13.70947467624237,
        -18.488803339938578,
        -22.057353310357406,
        -24.846573430988276,
        -27.110008923390392,
        -29.004419009323712,
        -30.631237927806456,
        -32.05875527369001,
        -33.33455694232741,
        -33.82069483694112
       ],
       "mode": "lines",
       "type": "scattergeo",
       "uid": "bf4b9b8a-b624-11e8-b5c6-0242ac110004"
      },
      "103": {
       "lat": [
        50.865087979728784,
        54.48410262941942,
        58.08213530697954,
        61.652297906886616,
        65.18378171361132,
        68.65871536840635,
        72.04568251631355,
        74.45469399973436
       ],
       "line": {
        "color": "red",
        "width": 1
       },
       "lon": [
        38.416635280774535,
        36.80151836458732,
        34.92300507171747,
        32.68180276169956,
        29.924798089367577,
        26.404961687824667,
        21.703070314114093,
        17.059850616354375
       ],
       "mode": "lines",
       "type": "scattergeo",
       "uid": "bf4b9dba-b624-11e8-b5c6-0242ac110004"
      },
      "104": {
       "lat": [
        32.409939529811375,
        36.086581713482985,
        39.75553670824391,
        43.41544140584341,
        47.064566326967594,
        50.70062459418651,
        54.32046679288915,
        57.91957594824071,
        61.491195502310035,
        65.02474645106989,
        68.50278174907993,
        71.8947228964076,
        75.14302751313593,
        75.3295327462932
       ],
       "line": {
        "color": "red",
        "width": 1
       },
       "lon": [
        20.150379891882526,
        19.163957153325985,
        18.105851489317462,
        16.957493654878885,
        15.694372742930886,
        14.28334405661736,
        12.67838179152354,
        10.813639459249657,
        8.591659534915799,
        5.862444344555858,
        2.384518311926239,
        -2.250946756991868,
        -8.772406836288463,
        -9.244012876393946
       ],
       "mode": "lines",
       "type": "scattergeo",
       "uid": "bf4b9f86-b624-11e8-b5c6-0242ac110004"
      },
      "105": {
       "lat": [
        27.100344974737236,
        30.786138758229832,
        34.46580386063192,
        38.138300069595395,
        41.8023838016147,
        45.45650590246928,
        49.09865477213312,
        52.72610915978429,
        56.33503570723283,
        59.91980750224424,
        63.471795296383775,
        66.97710311202238,
        70.4120503713293,
        72.55677455768306
       ],
       "line": {
        "color": "red",
        "width": 1
       },
       "lon": [
        -2.727241469223672,
        -3.634868296127743,
        -4.59445128896683,
        -5.618936404354157,
        -6.724872297004092,
        -7.933883199753656,
        -9.274893261545435,
        -10.787585974236597,
        -12.527967057498707,
        -14.577649484128195,
        -17.060010944860263,
        -20.169629387685006,
        -24.22852190459061,
        -27.571321931321393
       ],
       "mode": "lines",
       "type": "scattergeo",
       "uid": "bf4ba10c-b624-11e8-b5c6-0242ac110004"
      },
      "106": {
       "lat": [
        38.37277355753137,
        42.03627030383755,
        45.68969266562956,
        49.33099228821038,
        52.957391001309496,
        56.56496510014494,
        60.14793950481471,
        63.02879492238247
       ],
       "line": {
        "color": "red",
        "width": 1
       },
       "lon": [
        -29.888378413671717,
        -31.000196132073178,
        -32.21669074707028,
        -33.56735400797064,
        -35.092717457311906,
        -36.850093839616505,
        -38.923184375930994,
        -40.92085022859438
       ],
       "mode": "lines",
       "type": "scattergeo",
       "uid": "bf4ba274-b624-11e8-b5c6-0242ac110004"
      },
      "107": {
       "lat": [
        71.27359872199116,
        67.86243180946151,
        64.37230911839241,
        60.83064637456434,
        57.253275956125236,
        53.64989665202491,
        50.026758062075935,
        46.38807183871499,
        42.73679688708486,
        39.075097949892154,
        35.404624660489624,
        31.726687267445925,
        28.042370417479717,
        27.850749939423928
       ],
       "line": {
        "color": "red",
        "width": 1
       },
       "lon": [
        30.165181847066826,
        25.787056632848742,
        22.472470484064093,
        19.8521274458321,
        17.705784774188192,
        15.895425074795902,
        14.330682179979094,
        12.950092691859464,
        11.710443633945038,
        10.580455257561225,
        9.536888179807066,
        8.56206088769781,
        7.642217159212084,
        7.595703496804894
       ],
       "mode": "lines",
       "type": "scattergeo",
       "uid": "bf4bdd66-b624-11e8-b5c6-0242ac110004"
      },
      "108": {
       "lat": [
        74.94119608696424,
        71.68112540340921,
        68.28237217537053,
        64.80007412083873,
        61.26367390053347,
        57.69004125917279,
        54.08944170348972,
        50.468451815556314,
        46.83148046574988,
        43.18160976169527,
        39.52108350570733,
        35.85160305519232,
        32.17451292093877,
        29.969299525319723
       ],
       "line": {
        "color": "red",
        "width": 1
       },
       "lon": [
        12.965705301770853,
        6.596317404348539,
        2.052043204815298,
        -1.3681994486424542,
        -4.059082223905869,
        -6.254500016974974,
        -8.100186417168645,
        -9.691082517571902,
        -11.091483167533077,
        -12.346420716551567,
        -13.488382472579987,
        -14.541431894466548,
        -15.523826291921537,
        -16.08431888588793
       ],
       "mode": "lines",
       "type": "scattergeo",
       "uid": "bf4be48c-b624-11e8-b5c6-0242ac110004"
      },
      "109": {
       "lat": [
        75.25092768595817,
        72.00919421855744,
        68.62104989704632,
        65.14538698305589,
        61.61342015828487,
        58.042919091292,
        54.444637671932426,
        50.82543273388117,
        47.18988144143843,
        44.89908844289732
       ],
       "line": {
        "color": "red",
        "width": 1
       },
       "lon": [
        -10.46862021389859,
        -17.074354971988758,
        -21.76029839956348,
        -25.270116222978796,
        -28.020506195044153,
        -30.2571526478996,
        -32.132416485134776,
        -33.74514843353505,
        -35.162052332850934,
        -35.9734875709969
       ],
       "mode": "lines",
       "type": "scattergeo",
       "uid": "bf4be752-b624-11e8-b5c6-0242ac110004"
      },
      "11": {
       "lat": [
        75.34316343435286,
        72.10607061550476,
        68.72047468783796,
        65.24632271910083,
        61.715312317034936,
        58.14545129913004,
        54.54761912582353,
        50.928742629943486,
        47.29343976484775,
        43.64492199489333,
        39.985515350762576,
        36.31697446676997,
        32.640678769437535,
        32.52336399877501
       ],
       "line": {
        "color": "red",
        "width": 1
       },
       "lon": [
        7.811829129587107,
        1.1399321935967375,
        -3.5844915375593795,
        -7.117916385915419,
        -9.883513789526596,
        -12.130363232731117,
        -14.01269935636104,
        -15.630459660284,
        -17.051006995658238,
        -18.321331233991142,
        -19.475210062513558,
        -20.53758265898883,
        -21.527314662880567,
        -21.557844442886942
       ],
       "mode": "lines",
       "type": "scattergeo",
       "uid": "bf4a8dee-b624-11e8-b5c6-0242ac110004"
      },
      "110": {
       "lat": [
        47.64575232616648,
        51.27944743136767,
        54.89631190833773,
        58.49154203363358,
        62.057902008387146,
        65.58397383763024,
        69.05075579756533,
        72.4245880236011,
        74.94961070895914
       ],
       "line": {
        "color": "red",
        "width": 1
       },
       "lon": [
        36.6604581939239,
        35.22187474445591,
        33.58039464564641,
        31.666082747584213,
        29.374820165690643,
        26.545270627492094,
        22.915694460587282,
        18.039250184695263,
        12.88073145175258
       ],
       "mode": "lines",
       "type": "scattergeo",
       "uid": "bf4bea86-b624-11e8-b5c6-0242ac110004"
      },
      "111": {
       "lat": [
        31.067278587488907,
        34.74642622432152,
        38.41831743015083,
        42.08168923036945,
        45.73496330212347,
        49.376083693344405,
        53.00226052063556,
        56.60955155314562,
        60.19215141478701,
        63.74112585875662,
        67.24203000820582,
        70.67013188566018,
        73.98013448611718,
        75.151023627313
       ],
       "line": {
        "color": "red",
        "width": 1
       },
       "lon": [
        17.474535274750693,
        16.51042751711096,
        15.480290717498987,
        14.36724668805324,
        13.149202510839089,
        11.796552284444525,
        10.268594101852129,
        8.507752897597717,
        6.429908672074003,
        3.9075095041484924,
        0.7386957729787972,
        -3.4118972078424408,
        -9.131136947442295,
        -11.816027427659549
       ],
       "mode": "lines",
       "type": "scattergeo",
       "uid": "bf4bf3dc-b624-11e8-b5c6-0242ac110004"
      },
      "112": {
       "lat": [
        27.370570529760393,
        31.055938459471726,
        34.7351060720501,
        38.40702071936399,
        42.070420197612236,
        45.723727348455256,
        49.36488799693757,
        52.99111501923744,
        56.59847057673184,
        60.18115651826546,
        63.730250990372504,
        67.23133151056922,
        70.65970918782905,
        71.94057281750213
       ],
       "line": {
        "color": "red",
        "width": 1
       },
       "lon": [
        -5.812851373658019,
        -6.723971139702802,
        -7.687902079545201,
        -8.717817166693871,
        -9.830580781488344,
        -11.048267052494104,
        -12.400454249821813,
        -13.927802916044774,
        -15.687824228247765,
        -17.7645358675378,
        -20.2853189221126,
        -23.451734104251887,
        -27.598596440505037,
        -29.550093165319428
       ],
       "mode": "lines",
       "type": "scattergeo",
       "uid": "bf4bfbc0-b624-11e8-b5c6-0242ac110004"
      },
      "113": {
       "lat": [
        42.773094838824825,
        46.42424560159698,
        50.062781280798994,
        53.68573273446348,
        57.28887203329664,
        59.63855481113555
       ],
       "line": {
        "color": "red",
        "width": 1
       },
       "lon": [
        -34.25697043362508,
        -35.497923460672645,
        -36.88018941256308,
        -38.4471290203983,
        -40.260434786035816,
        -41.62552821542621
       ],
       "mode": "lines",
       "type": "scattergeo",
       "uid": "bf4bfd6e-b624-11e8-b5c6-0242ac110004"
      },
      "114": {
       "lat": [
        59.86137217943567,
        56.27617572241068,
        52.66693128138815,
        49.039229977993344,
        45.39688342241795,
        42.49412049936211
       ],
       "line": {
        "color": "red",
        "width": 1
       },
       "lon": [
        40.411202008572644,
        38.367213791166286,
        36.63094759212321,
        35.12130604744827,
        33.78260584659505,
        32.81415952786898
       ],
       "mode": "lines",
       "type": "scattergeo",
       "uid": "bf4c3dce-b624-11e8-b5c6-0242ac110004"
      },
      "115": {
       "lat": [
        71.97364967141868,
        68.58438371036084,
        65.10802752780772,
        61.575602635563946,
        58.00478138143406,
        54.40626523420477,
        50.78688115914002,
        47.151188507576,
        43.502363149329554,
        39.8427089526486,
        36.17396654085249,
        32.49750643699383,
        28.814453464111832,
        27.351216092975665
       ],
       "line": {
        "color": "red",
        "width": 1
       },
       "lon": [
        28.25192225939006,
        23.581302070783074,
        20.081099202512913,
        17.33704936724283,
        15.104763456589415,
        13.232604624968866,
        11.622147638580955,
        10.206949280234292,
        8.940601461470955,
        7.789706351213994,
        6.729580593379822,
        5.741534580564483,
        4.81109424775478,
        4.455196777984177
       ],
       "mode": "lines",
       "type": "scattergeo",
       "uid": "bf4c46b6-b624-11e8-b5c6-0242ac110004"
      },
      "116": {
       "lat": [
        75.16102505850748,
        71.9139371869449,
        68.52271484213146,
        65.04513834102107,
        61.511899976428474,
        57.94050529682091,
        54.34156543831694,
        50.721855622236,
        47.085904173932036,
        43.43686767191129,
        39.77703765002211,
        36.108146683601106,
        32.4315599745543,
        31.130646185890715
       ],
       "line": {
        "color": "red",
        "width": 1
       },
       "lon": [
        10.489424351243537,
        3.953152857214846,
        -0.6913200796705489,
        -4.175021381630487,
        -6.908127296017972,
        -9.132842136012815,
        -10.99957644944412,
        -12.606033580887,
        -14.018212173453533,
        -15.282236198361504,
        -16.431315735125455,
        -17.490006662323587,
        -18.47690934865308,
        -18.811312698014554
       ],
       "mode": "lines",
       "type": "scattergeo",
       "uid": "bf4c4b52-b624-11e8-b5c6-0242ac110004"
      },
      "117": {
       "lat": [
        74.92981881981147,
        71.66920274994192,
        68.27014486920639,
        64.78766320905979,
        61.25114494067977,
        57.67743211087639,
        54.07677546055961,
        50.45574325898337,
        47.79969111057466
       ],
       "line": {
        "color": "red",
        "width": 1
       },
       "lon": [
        -14.279581857936213,
        -20.641262140436925,
        -25.18100786536501,
        -28.598443836665833,
        -31.287501371442406,
        -33.481683533150104,
        -35.32650598260851,
        -36.91678246101451,
        -37.9555810954113
       ],
       "mode": "lines",
       "type": "scattergeo",
       "uid": "bf4c4eb8-b624-11e8-b5c6-0242ac110004"
      },
      "118": {
       "lat": [
        44.758725591756864,
        48.40332087697556,
        52.033808606925625,
        55.64660845959226,
        59.236506878085706,
        62.79557770084467,
        66.31118252061017,
        69.76203149010733,
        73.10986846364482,
        75.26394993919861
       ],
       "line": {
        "color": "red",
        "width": 1
       },
       "lon": [
        34.667236083785475,
        33.35394464537599,
        31.877581661510014,
        30.185826278316025,
        28.20292649491885,
        25.815214092402986,
        22.844953743110874,
        19.00082834039347,
        13.780067981719501,
        9.077466887223794
       ],
       "mode": "lines",
       "type": "scattergeo",
       "uid": "bf4c5066-b624-11e8-b5c6-0242ac110004"
      },
      "119": {
       "lat": [
        29.915225707238307,
        33.596409320393974,
        37.27068375219374,
        40.936860792298816,
        44.59347469603869,
        48.238640676782715,
        51.86983342417594,
        55.48352950763643,
        59.07460786616762,
        62.63529875020828,
        66.15324154440212,
        69.6076700952753,
        72.96138674026965,
        74.92842797845164
       ],
       "line": {
        "color": "red",
        "width": 1
       },
       "lon": [
        14.743994583989215,
        13.797620019929397,
        12.789674211774651,
        11.704569546280995,
        10.522045140322032,
        9.215153929014942,
        7.747154826400348,
        6.066556122905632,
        4.098918162441157,
        1.7327355964146332,
        -1.205998531582544,
        -5.001847881374461,
        -10.144766620511557,
        -14.293424500745893
       ],
       "mode": "lines",
       "type": "scattergeo",
       "uid": "bf4c51b0-b624-11e8-b5c6-0242ac110004"
      },
      "12": {
       "lat": [
        74.39984468113813,
        71.10953321087284,
        67.69298402648135,
        64.1993828725393,
        60.65532567036218,
        57.07621784701432,
        53.47152111293503,
        51.13976755978627
       ],
       "line": {
        "color": "red",
        "width": 1
       },
       "lon": [
        -18.646654437294128,
        -24.629249937489814,
        -28.939162848358514,
        -32.20962323208431,
        -34.80001379428645,
        -36.92517524721232,
        -38.72003563360683,
        -39.74356868910205
       ],
       "mode": "lines",
       "type": "scattergeo",
       "uid": "bf4a8f60-b624-11e8-b5c6-0242ac110004"
      },
      "120": {
       "lat": [
        27.883016830372657,
        31.567571084643355,
        35.245787658347915,
        38.916589427807374,
        42.57867750309111,
        46.23041946712548,
        49.86967695858517,
        53.49353223891887,
        57.09783957357914,
        60.67645858182279,
        64.21987946936453,
        67.71261493646614,
        71.12792125438708,
        71.23428721295892
       ],
       "line": {
        "color": "red",
        "width": 1
       },
       "lon": [
        -8.957371666882969,
        -9.875216960446533,
        -10.847530713198482,
        -11.887929186692972,
        -13.013898083668415,
        -14.24839639978921,
        -15.6222933263763,
        -17.178183979519236,
        -18.976571677486696,
        -21.106274364139626,
        -23.70270425357583,
        -26.98150639866864,
        -31.303450105320916,
        -31.46322426148611
       ],
       "mode": "lines",
       "type": "scattergeo",
       "uid": "bf4c5318-b624-11e8-b5c6-0242ac110004"
      },
      "121": {
       "lat": [
        63.15894702845588,
        59.603664015995214,
        56.01651632077679,
        52.405800755897225,
        48.77694941847391,
        45.13367674564514,
        41.47862904535735,
        38.195105519349646
       ],
       "line": {
        "color": "red",
        "width": 1
       },
       "lon": [
        39.6703498540862,
        37.23232502329453,
        35.21383589980843,
        33.49610723904373,
        32.000296716380284,
        30.672136329346426,
        29.473071986293267,
        28.485043689207146
       ],
       "mode": "lines",
       "type": "scattergeo",
       "uid": "bf4c7cc6-b624-11e8-b5c6-0242ac110004"
      },
      "122": {
       "lat": [
        72.58461940986952,
        69.21666866409842,
        65.75352299983238,
        62.229858282890035,
        58.66518583908014,
        55.0711973039459,
        51.45528417580272,
        47.82234307714832,
        44.17575902841772,
        40.517969388470895,
        36.85080180403801,
        33.17568433664563,
        29.493780139677217,
        27.09282956299797
       ],
       "line": {
        "color": "red",
        "width": 1
       },
       "lon": [
        26.273733079781508,
        21.319759799455774,
        17.641581957864542,
        14.779979803101176,
        12.466637213411781,
        10.536552493896613,
        8.883462826781713,
        7.436121031875578,
        6.145058015996532,
        4.9748588987033955,
        3.899472258332828,
        2.899257504180627,
        1.9590657867026957,
        1.373276537648188
       ],
       "mode": "lines",
       "type": "scattergeo",
       "uid": "bf4c7f50-b624-11e8-b5c6-0242ac110004"
      },
      "123": {
       "lat": [
        75.33693940346178,
        72.1007138832592,
        68.71576216909128,
        65.24210099000679,
        61.711475681639826,
        58.14192532444171,
        54.544350044433784,
        50.925690664072796,
        47.29057486634516,
        43.642221064408346,
        39.98296037683347,
        36.31455125063377,
        32.63837603188192,
        32.482486488956376
       ],
       "line": {
        "color": "red",
        "width": 1
       },
       "lon": [
        7.918695345211238,
        1.2434246101448703,
        -3.4842603518703847,
        -7.0205029222043125,
        -9.78847667787631,
        -12.037333490633127,
        -13.921382756853387,
        -15.540624199890932,
        -16.962469471951653,
        -18.23394596655115,
        -19.38886085772473,
        -20.4521759005805,
        -21.44277487218945,
        -21.48336665196449
       ],
       "mode": "lines",
       "type": "scattergeo",
       "uid": "bf4c80ae-b624-11e8-b5c6-0242ac110004"
      },
      "124": {
       "lat": [
        74.4249337329755,
        71.13701236306693,
        67.72199680785523,
        64.22944887540204,
        60.686156782581754,
        57.10763099318031,
        53.50339415915499,
        51.03573885267434
       ],
       "line": {
        "color": "red",
        "width": 1
       },
       "lon": [
        -18.4711735098909,
        -24.477978022340164,
        -28.8036381992126,
        -32.084842816606056,
        -34.68290220049422,
        -36.81375630518411,
        -38.612985552882215,
        -39.69592691912648
       ],
       "mode": "lines",
       "type": "scattergeo",
       "uid": "bf4c8202-b624-11e8-b5c6-0242ac110004"
      },
      "125": {
       "lat": [
        42.14688279207884,
        45.79993357801009,
        49.44078469913883,
        53.066628933834004,
        56.673496688186155,
        60.25553792223909,
        63.803742326226754,
        67.30352853961105,
        70.72990382710688,
        74.03703606287418,
        75.45494489600821
       ],
       "line": {
        "color": "red",
        "width": 1
       },
       "lon": [
        32.505990733198566,
        31.285642223869992,
        29.930047242126818,
        28.398255132378335,
        26.63230812104738,
        24.547475704126285,
        22.015190663486784,
        18.831825428026267,
        14.658780155805037,
        8.903019215379862,
        5.561031275100868
       ],
       "mode": "lines",
       "type": "scattergeo",
       "uid": "bf4c8356-b624-11e8-b5c6-0242ac110004"
      },
      "126": {
       "lat": [
        28.953456788435325,
        32.63626279508878,
        36.312435547296325,
        39.9808423182352,
        43.64010078523556,
        47.288452565891454,
        50.92356667728001,
        54.54222496809563,
        58.139800248107555,
        61.709352628839284,
        65.2399838048401,
        68.7136584093122,
        72.09863915408005,
        74.66142591988374
       ],
       "line": {
        "color": "red",
        "width": 1
       },
       "lon": [
        11.961748760808325,
        11.029244025236329,
        10.038639028164335,
        8.975322996154581,
        7.820414200290449,
        6.548953735730396,
        5.127138668096557,
        3.507948934648313,
        1.623984173299684,
        -0.624735841220249,
        -3.392485811840889,
        -6.928352660429587,
        -11.655381649986047,
        -16.68525230191891
       ],
       "mode": "lines",
       "type": "scattergeo",
       "uid": "bf4c84b4-b624-11e8-b5c6-0242ac110004"
      },
      "127": {
       "lat": [
        28.65949584359306,
        32.34278686480293,
        36.019526876916,
        39.68859901845999,
        43.34864479390967,
        46.99794184610524,
        50.63421439293369,
        54.25433060879398,
        57.8538021363974,
        61.4259206400099,
        64.96019210305346,
        68.43932783032865,
        70.41927816546529
       ],
       "line": {
        "color": "red",
        "width": 1
       },
       "lon": [
        -12.167408098162504,
        -13.095815189365211,
        -14.081302337701011,
        -15.1381980967135,
        -16.28498722908857,
        -17.54605808594136,
        -18.954374829575496,
        -20.55568846209407,
        -22.415413390307037,
        -24.630302150281384,
        -27.349148797061282,
        -30.811272760116434,
        -33.306641882545456
       ],
       "mode": "lines",
       "type": "scattergeo",
       "uid": "bf4c8ec8-b624-11e8-b5c6-0242ac110004"
      },
      "128": {
       "lat": [
        65.3699710284212,
        61.84108229911301,
        58.27275548295356,
        54.67608418432032,
        51.05811987738072,
        47.42355653485005,
        43.775653781202905,
        40.11676910040106,
        36.44867816727278,
        35.17500138593875
       ],
       "line": {
        "color": "red",
        "width": 1
       },
       "lon": [
        38.477222353064526,
        35.68611953724749,
        33.42126996771543,
        31.52576202956901,
        29.898066225531373,
        28.469831173037758,
        27.193429512159977,
        26.034658015159508,
        24.968285698586442,
        24.61650204545462
       ],
       "mode": "lines",
       "type": "scattergeo",
       "uid": "bf4c9080-b624-11e8-b5c6-0242ac110004"
      },
      "129": {
       "lat": [
        73.1199195853666,
        69.77260118407591,
        66.32208003137599,
        62.80669709221702,
        59.247785208222155,
        55.65800612293026,
        52.045299438163106,
        48.414886843859094,
        44.770353786945286,
        41.11426499445173,
        37.44853089166306,
        33.774634170754894,
        30.0937743528124,
        27.059724494089266
       ],
       "line": {
        "color": "red",
        "width": 1
       },
       "lon": [
        24.23227259201795,
        19.005384587759007,
        15.157354675676697,
        12.184475997467143,
        9.794927209129453,
        7.810689324914207,
        6.117927167492896,
        4.64078596539768,
        3.326879064760842,
        2.1388794705607026,
        1.0494448825417084,
        0.03804090161427194,
        -0.9111134858049765,
        -1.6544496508891453
       ],
       "mode": "lines",
       "type": "scattergeo",
       "uid": "bf4c91d4-b624-11e8-b5c6-0242ac110004"
      },
      "13": {
       "lat": [
        42.08956383953189,
        45.74295423340649,
        49.38420505543459,
        53.010530217053905,
        56.61799245880834,
        60.200792980676866,
        63.75000621877775,
        67.25119839991108,
        70.67965002357217,
        73.99007076143634,
        75.45650614455896
       ],
       "line": {
        "color": "red",
        "width": 1
       },
       "lon": [
        32.45447927895715,
        31.23719381512999,
        29.88536254509027,
        28.358291680417725,
        26.598411529511807,
        24.521598809669605,
        22.000276244440176,
        18.832500361535505,
        14.682671992938998,
        8.96328403196139,
        5.5234020341714904
       ],
       "mode": "lines",
       "type": "scattergeo",
       "uid": "bf4a90c8-b624-11e8-b5c6-0242ac110004"
      },
      "130": {
       "lat": [
        75.46785910550956,
        72.24002353182468,
        68.85989890201452,
        65.38924318989606,
        61.860619126139156,
        58.29247866604753,
        54.69594498905949,
        51.07808646865818,
        47.44360719507528,
        43.79577307972727,
        40.13694562773865,
        36.46890314120527,
        34.02672249354995
       ],
       "line": {
        "color": "red",
        "width": 1
       },
       "lon": [
        5.242188209566561,
        -1.5399485418429617,
        -6.331482438067019,
        -9.907955027760678,
        -12.7025785892349,
        -14.969861217810141,
        -16.867111709548034,
        -18.49609285630349,
        -19.92529924521546,
        -21.202449606285096,
        -22.361807450805234,
        -23.428644530033527,
        -24.09606466718342
       ],
       "mode": "lines",
       "type": "scattergeo",
       "uid": "bf4c93f0-b624-11e8-b5c6-0242ac110004"
      },
      "131": {
       "lat": [
        73.61373401194268,
        70.28723244525298,
        66.8492895702224,
        63.34207030899774,
        59.78878561853403,
        56.203087002637226,
        54.729154992558925
       ],
       "line": {
        "color": "red",
        "width": 1
       },
       "lon": [
        -23.2093850834108,
        -28.710672074284048,
        -32.727982693847544,
        -35.81088088781821,
        -38.27526376192575,
        -40.31237665768568,
        -41.05222319967656
       ],
       "mode": "lines",
       "type": "scattergeo",
       "uid": "bf4c960c-b624-11e8-b5c6-0242ac110004"
      },
      "132": {
       "lat": [
        39.77807577754077,
        43.43786986557512,
        47.08686574479952,
        50.722770508466105,
        54.34242564624768,
        57.94130003467847,
        61.512614263251,
        65.04575068252548,
        68.52319317977671,
        71.91423155526053,
        75.1610540645336,
        75.55446435766353
       ],
       "line": {
        "color": "red",
        "width": 1
       },
       "lon": [
        30.216819469866003,
        29.067475334602236,
        27.803149673511502,
        26.390621721912083,
        24.78375270561449,
        22.916522981861974,
        20.691198690449507,
        17.957323968714466,
        14.472626442761413,
        9.82682985583898,
        3.2887827683883017,
        2.2742994052730228
       ],
       "mode": "lines",
       "type": "scattergeo",
       "uid": "bf4c9800-b624-11e8-b5c6-0242ac110004"
      },
      "133": {
       "lat": [
        28.18313800297645,
        31.867193626550485,
        35.54482868151472,
        39.214950777956,
        42.876238197397235,
        46.52702417497843,
        50.165118020107336,
        53.78752072165807,
        57.38995692164795,
        60.96607220167383,
        64.50598751854118,
        67.99354324685022,
        71.40068984789359,
        74.34846119135226
       ],
       "line": {
        "color": "red",
        "width": 1
       },
       "lon": [
        9.129700541060284,
        8.207719877213744,
        7.2302676033263005,
        6.1834556922144595,
        5.049418456660516,
        3.804654045400709,
        2.4174997459466914,
        0.844168131310572,
        -0.9776940542806218,
        -3.139883627839214,
        -5.782818114572176,
        -9.13096093025387,
        -13.561404421212979,
        -18.998735519913417
       ],
       "mode": "lines",
       "type": "scattergeo",
       "uid": "bf4c999a-b624-11e8-b5c6-0242ac110004"
      },
      "134": {
       "lat": [
        29.73017304765019,
        33.41165494419269,
        37.08628003327814,
        40.75287082942059,
        44.409977807051845,
        48.0557408873212,
        51.687672947336296,
        55.302310884742795,
        58.89463183655712,
        62.45703219731892,
        65.97744641628749,
        69.43566428071348,
        69.46931069703683
       ],
       "line": {
        "color": "red",
        "width": 1
       },
       "lon": [
        -15.452677574594471,
        -16.396458982658782,
        -17.401138630963356,
        -18.482112271255943,
        -19.659368973168572,
        -20.95946248895646,
        -22.418550221997922,
        -24.08723160781255,
        -26.03853422384966,
        -28.381638821702406,
        -31.28654678249495,
        -35.0305711180983,
        -35.07296746815316
       ],
       "mode": "lines",
       "type": "scattergeo",
       "uid": "bf4c9aee-b624-11e8-b5c6-0242ac110004"
      },
      "135": {
       "lat": [
        67.04668446362149,
        63.54269068576483,
        59.9916195116455,
        56.407520230107345,
        52.79910837801501,
        49.172062000221125,
        45.53024605280716,
        41.87640197865831,
        38.21255462379401,
        34.540262005934345,
        32.87288721369708
       ],
       "line": {
        "color": "red",
        "width": 1
       },
       "lon": [
        37.05680890290508,
        33.93061991160319,
        31.43689191826553,
        29.379099617088745,
        27.632739026912642,
        26.115515198948508,
        24.770992241970166,
        23.55920546264508,
        22.45104112053893,
        21.424743708520936,
        20.981784339927774
       ],
       "mode": "lines",
       "type": "scattergeo",
       "uid": "bf4c9c74-b624-11e8-b5c6-0242ac110004"
      },
      "136": {
       "lat": [
        73.58956214759782,
        70.2620713422161,
        66.82354239336843,
        63.31594984831686,
        59.76241239650281,
        56.176533522656676,
        52.566780525344285,
        48.938685970323846,
        45.29602597089783,
        41.64148593408299,
        37.97705449291233,
        34.30426586154998,
        30.624353833600274,
        27.24006248628628
       ],
       "line": {
        "color": "red",
        "width": 1
       },
       "lon": [
        22.127441364600198,
        16.639635691569463,
        12.630538824904722,
        9.552914277306792,
        7.09207585013683,
        5.057437565795981,
        3.3279070445935974,
        1.823242013461103,
        0.48829347726382916,
        -0.7160670762680931,
        -1.8183930529055192,
        -2.8400546076004045,
        -3.7974216606975326,
        -4.63088724658638
       ],
       "mode": "lines",
       "type": "scattergeo",
       "uid": "bf4c9dc8-b624-11e8-b5c6-0242ac110004"
      },
      "137": {
       "lat": [
        75.55108809519598,
        72.3287590747044,
        68.95179863136866,
        65.48311125428384,
        61.95579712634009,
        58.388579269836335,
        54.79272712983526,
        51.17539265016811,
        47.54132995871312,
        43.89383606959543,
        40.23529239122151,
        36.567490240211505,
        35.766979187837784
       ],
       "line": {
        "color": "red",
        "width": 1
       },
       "lon": [
        2.44578124136211,
        -4.406074898557427,
        -9.239237571787163,
        -12.841919342715299,
        -15.653895093303058,
        -17.933171845528584,
        -19.839015664815904,
        -21.47433866783765,
        -22.908340775247616,
        -24.189190673759203,
        -25.35144871745181,
        -26.420588226975855,
        -26.643237601380353
       ],
       "mode": "lines",
       "type": "scattergeo",
       "uid": "bf4c9efe-b624-11e8-b5c6-0242ac110004"
      },
      "138": {
       "lat": [
        72.15292412329849,
        68.76989596931726,
        65.29744736667648,
        61.76763907724246,
        59.22206828983334
       ],
       "line": {
        "color": "red",
        "width": 1
       },
       "lon": [
        -28.904855900164236,
        -33.65717850954259,
        -37.209072807228495,
        -39.987499359334834,
        -41.64172010514991
       ],
       "mode": "lines",
       "type": "scattergeo",
       "uid": "bf4ca048-b624-11e8-b5c6-0242ac110004"
      },
      "139": {
       "lat": [
        37.632522549613135,
        41.29779051366395,
        44.95332669063703,
        48.597193469647735,
        52.22678430518979,
        55.83844789091898,
        59.42685552221606,
        62.983886628896315,
        66.49655786978305,
        69.94292944365255,
        73.28343183532458,
        75.58170848298818
       ],
       "line": {
        "color": "red",
        "width": 1
       },
       "lon": [
        27.825126429570254,
        26.731140337904222,
        25.53738479083395,
        24.216099979991633,
        22.72933982471423,
        21.02377002227283,
        19.022034938632746,
        16.60782430050487,
        13.598847351728974,
        9.695537244929918,
        4.3794883144822325,
        -0.8226580044237498
       ],
       "mode": "lines",
       "type": "scattergeo",
       "uid": "bf4cbb00-b624-11e8-b5c6-0242ac110004"
      },
      "14": {
       "lat": [
        28.932499644086526,
        32.615457850593145,
        36.29179850474187,
        39.96039247544412,
        43.619862322966,
        47.26845643528819,
        50.903853437433476,
        54.52284918175808,
        58.120837538476046,
        61.69091149116175,
        65.22222635716203,
        68.69683890791839,
        72.0831798291065,
        74.65790742165125
       ],
       "line": {
        "color": "red",
        "width": 1
       },
       "lon": [
        11.893641836404063,
        10.96228436278558,
        9.97297027812328,
        8.91112602711803,
        7.757919931279604,
        6.488461871538083,
        5.069045937433835,
        3.452791877062114,
        1.572508594319075,
        -0.6714612883212742,
        -3.4328749671478858,
        -6.959957650565009,
        -11.674274306833748,
        -16.713787342747082
       ],
       "mode": "lines",
       "type": "scattergeo",
       "uid": "bf4a93ac-b624-11e8-b5c6-0242ac110004"
      },
      "140": {
       "lat": [
        27.606991367810213,
        31.291951962546346,
        34.970646509536394,
        38.64201057035437,
        42.30476441616004,
        45.95730466960552,
        49.59753744272358,
        53.2226143210628,
        56.82850040249379,
        60.40923855954881,
        63.955635253798185,
        67.45277870973594,
        70.87504154152089,
        73.98674230631393
       ],
       "line": {
        "color": "red",
        "width": 1
       },
       "lon": [
        6.248806404884884,
        5.334361476564495,
        4.3663279815739875,
        3.331326261424427,
        2.2122030583225163,
        0.9864742255602019,
        -0.3760350961153032,
        -1.9168768289357891,
        -3.6949364438718084,
        -5.7964288372414225,
        -8.352397425909842,
        -11.570799336865427,
        -15.798185182394628,
        -21.239532029544584
       ],
       "mode": "lines",
       "type": "scattergeo",
       "uid": "bf4cbda8-b624-11e8-b5c6-0242ac110004"
      },
      "141": {
       "lat": [
        31.13836627367788,
        34.817341598813044,
        38.489034480554125,
        42.15217600832662,
        45.80517911235381,
        49.44597475908298,
        53.071753098721885,
        56.678540598658685,
        60.260481105449706,
        63.80855441420474,
        67.30816232716809,
        68.34582183253747
       ],
       "line": {
        "color": "red",
        "width": 1
       },
       "lon": [
        -18.82789506738025,
        -19.793452754742685,
        -20.825354314161515,
        -21.940569033725108,
        -23.161318285104443,
        -24.51739444693911,
        -26.04977629866548,
        -27.816463425209236,
        -29.9022506329975,
        -32.43580768236149,
        -35.62093338669403,
        -36.74966436751341
       ],
       "mode": "lines",
       "type": "scattergeo",
       "uid": "bf4cbf4c-b624-11e8-b5c6-0242ac110004"
      },
      "142": {
       "lat": [
        68.39153315746796,
        64.91158096623536,
        61.376774986039266,
        57.804286402350286,
        54.20454614690306,
        50.584226759166775,
        46.94779535679297,
        43.29837071661959,
        39.6382203953656,
        35.969061476043,
        32.29224904383368,
        31.078722040619176
       ],
       "line": {
        "color": "red",
        "width": 1
       },
       "lon": [
        35.488847868641166,
        32.03849006760558,
        29.327363006948417,
        27.117752166941013,
        25.26175963720286,
        23.663158288022608,
        22.2568555397583,
        20.997305188920475,
        19.851677924118906,
        18.795675983870286,
        17.81087819560625,
        17.499324348406457
       ],
       "mode": "lines",
       "type": "scattergeo",
       "uid": "bf4cc0be-b624-11e8-b5c6-0242ac110004"
      },
      "143": {
       "lat": [
        74.00107394528408,
        70.69246007909027,
        67.26522969377231,
        63.76491238420846,
        60.21635690173626,
        56.63407094589136,
        53.02702470118884,
        49.40104519366727,
        45.76008826639172,
        42.106952665979954,
        38.443700282033575,
        34.77191350781312,
        31.09285816138347,
        27.625056289970534
       ],
       "line": {
        "color": "red",
        "width": 1
       },
       "lon": [
        19.95765909858737,
        14.222748065802033,
        10.062203714744047,
        6.886739652020841,
        4.359685134671003,
        2.278450085322878,
        0.5150549208321155,
        -1.0148821497997254,
        -2.3691031944224545,
        -3.5884199389159046,
        -4.702513469424916,
        -5.733529184649465,
        -6.698382686735534,
        -7.557780653883339
       ],
       "mode": "lines",
       "type": "scattergeo",
       "uid": "bf4cc212-b624-11e8-b5c6-0242ac110004"
      },
      "144": {
       "lat": [
        75.58183123004378,
        72.36164076606788,
        68.9859162237057,
        65.51800210223674,
        61.991205536365946,
        58.42435423718955,
        54.82877430872175,
        51.21165017041085,
        47.57775546257078,
        43.93039937533098,
        40.27197114414318,
        37.70901114597728
       ],
       "line": {
        "color": "red",
        "width": 1
       },
       "lon": [
        -0.4882874637408814,
        -7.366716248067265,
        -12.21580860924649,
        -15.828556842783938,
        -18.647222658874217,
        -20.931142470063804,
        -22.840327476953856,
        -24.478128282449205,
        -25.914013915679906,
        -27.19632540839711,
        -28.359736899014216,
        -29.116317143775728
       ],
       "mode": "lines",
       "type": "scattergeo",
       "uid": "bf4cc35c-b624-11e8-b5c6-0242ac110004"
      },
      "145": {
       "lat": [
        59.024896740798866,
        62.58595557991024,
        66.10445016937447,
        69.55975615278534,
        72.23272990706658
       ],
       "line": {
        "color": "red",
        "width": 1
       },
       "lon": [
        40.44469619064268,
        38.08417254041077,
        35.153913584384384,
        31.37131851509628,
        27.45285238654343
       ],
       "mode": "lines",
       "type": "scattergeo",
       "uid": "bf4ccb36-b624-11e8-b5c6-0242ac110004"
      },
      "146": {
       "lat": [
        35.69735842442924,
        39.36711773297267,
        43.027978380951915,
        46.67825525842137,
        50.31572976536673,
        53.93735957209087,
        57.53880022682532,
        61.113583139897266,
        64.65163203439437,
        68.13642743541097,
        71.53921907758574,
        74.80634228284312,
        75.548744393635
       ],
       "line": {
        "color": "red",
        "width": 1
       },
       "lon": [
        25.34794577595802,
        24.29772468394691,
        23.159409979866343,
        21.909214068385992,
        20.51505627472262,
        18.932520571141588,
        17.09827720087895,
        14.91895455260612,
        12.251484568264743,
        8.866724179416268,
        4.378906214045776,
        -1.895716808817273,
        -3.75930523173571
       ],
       "mode": "lines",
       "type": "scattergeo",
       "uid": "bf4ccdde-b624-11e8-b5c6-0242ac110004"
      },
      "147": {
       "lat": [
        27.22946284104466,
        30.91500041521839,
        34.59437101722321,
        38.26652751046125,
        41.930216169389645,
        45.583872850582715,
        49.225463492177134,
        52.85223252004965,
        56.46029274466247,
        60.04392995480567,
        63.594367263951575,
        67.0974457981763,
        70.52898693178804,
        73.57213853124668
       ],
       "line": {
        "color": "red",
        "width": 1
       },
       "lon": [
        3.3191375972589454,
        2.4094616285140953,
        1.4473929826741925,
        0.4198707028608026,
        -0.6898127451348628,
        -1.9035064247336677,
        -3.250459598059419,
        -4.770838567795277,
        -6.521388762243616,
        -8.584896850812838,
        -11.086682452991722,
        -14.224686182131657,
        -18.32703879893218,
        -23.411887642667814
       ],
       "mode": "lines",
       "type": "scattergeo",
       "uid": "bf4ccffa-b624-11e8-b5c6-0242ac110004"
      },
      "148": {
       "lat": [
        32.9500856647835,
        36.62560773549724,
        40.29325364571139,
        43.95161380306453,
        47.598888735196475,
        51.23268462987177,
        54.84968517873939,
        58.44510533633793,
        62.01174170248141,
        65.53823505849898,
        66.98844855378016
       ],
       "line": {
        "color": "red",
        "width": 1
       },
       "lon": [
        -22.316599787200413,
        -23.313042283632875,
        -24.383643547498576,
        -25.547728733445133,
        -26.830893706598594,
        -28.26787895731715,
        -29.907125754539006,
        -31.818260598302647,
        -34.10488972790365,
        -36.92745862325857,
        -38.31523870886149
       ],
       "mode": "lines",
       "type": "scattergeo",
       "uid": "bf4cd22a-b624-11e8-b5c6-0242ac110004"
      },
      "149": {
       "lat": [
        69.50581930758582,
        66.04931449807206,
        62.53003722842973,
        58.968436437651555,
        55.37670575271857,
        51.7625216623083,
        48.13095056912804,
        44.48548262504779,
        40.82862228490681,
        37.16224099789896,
        33.4877958774697,
        29.80646953043646,
        29.684631174652928
       ],
       "line": {
        "color": "red",
        "width": 1
       },
       "lon": [
        33.81155157742223,
        30.045289135594388,
        27.125695742657538,
        24.772452392470633,
        22.813884634422124,
        21.13983384202189,
        19.67667479066508,
        18.373428061889975,
        17.193686219423903,
        16.110725870270468,
        15.104440458355835,
        14.159350371856165,
        14.12899523252009
       ],
       "mode": "lines",
       "type": "scattergeo",
       "uid": "bf4cd39c-b624-11e8-b5c6-0242ac110004"
      },
      "15": {
       "lat": [
        28.681852372944444,
        32.365223853929784,
        36.042047788409256,
        39.71120853942259,
        43.371348936048044,
        47.020748014913956,
        50.65713136763791,
        54.277368301057976,
        57.87697082761303,
        61.44922899240747,
        64.98364222131926,
        68.46290292080633,
        70.40526719916926
       ],
       "line": {
        "color": "red",
        "width": 1
       },
       "lon": [
        -12.246197638126011,
        -13.174063259357448,
        -14.159016434584895,
        -15.21539029365976,
        -16.361678187158667,
        -17.622284439130432,
        -19.030200341710774,
        -20.6312245817,
        -22.49085633367768,
        -24.706002004399103,
        -27.42574755981366,
        -30.88999063046683,
        -33.335446991942945
       ],
       "mode": "lines",
       "type": "scattergeo",
       "uid": "bf4a95aa-b624-11e8-b5c6-0242ac110004"
      },
      "150": {
       "lat": [
        74.36007566170716,
        71.0692172915267,
        67.65251548839184,
        64.15892415676166,
        60.614944054557164,
        57.03593943166107,
        53.431353648525345,
        49.80728927710858,
        46.16786961407228,
        42.51599865206788,
        38.853806142029605,
        35.18291903878521,
        31.504632758752315,
        28.208330399549496
       ],
       "line": {
        "color": "red",
        "width": 1
       },
       "lon": [
        17.719990023631745,
        11.75387102178309,
        7.452509702140272,
        4.186610263105838,
        1.5986581814636178,
        -0.5252528782378096,
        -2.3195578240852655,
        -3.872498185135853,
        -5.244222475870349,
        -6.477099176348378,
        -7.601848037572055,
        -8.641326823948361,
        -9.612950939074715,
        -10.435897305244103
       ],
       "mode": "lines",
       "type": "scattergeo",
       "uid": "bf4cd4f0-b624-11e8-b5c6-0242ac110004"
      },
      "151": {
       "lat": [
        75.55235274891415,
        72.33035356757738,
        68.95361041295828,
        65.48507523425685,
        61.95787341251388,
        58.390742065978074,
        54.794958971893095,
        51.177681249896885,
        47.5436663837561,
        43.896213644207215,
        40.23770600518654,
        39.86146378866722
       ],
       "line": {
        "color": "red",
        "width": 1
       },
       "lon": [
        -3.5827126505164397,
        -10.43726336316364,
        -15.272276145098266,
        -18.87626882139928,
        -21.689209426328983,
        -23.969222054568363,
        -25.875644941633375,
        -27.51143611985901,
        -28.945825721587337,
        -30.227003124585288,
        -31.38954269966575,
        -31.50328100852932
       ],
       "mode": "lines",
       "type": "scattergeo",
       "uid": "bf4cd63a-b624-11e8-b5c6-0242ac110004"
      },
      "152": {
       "lat": [
        54.57361010860065,
        58.17087608297628,
        61.74002254780743,
        65.27009684120331,
        68.74296545260695,
        72.1267018286765,
        73.65645849919144
       ],
       "line": {
        "color": "red",
        "width": 1
       },
       "lon": [
        39.809635425710944,
        37.922275652558604,
        35.66894945110677,
        32.89471988538008,
        29.349339529846016,
        24.60763527211565,
        21.798095611338017
       ],
       "mode": "lines",
       "type": "scattergeo",
       "uid": "bf4cd784-b624-11e8-b5c6-0242ac110004"
      },
      "153": {
       "lat": [
        33.963984302706365,
        37.637448278040466,
        41.302676799419835,
        44.958168071437726,
        48.60198288303863,
        52.23151237985772,
        55.84310182897181,
        59.43141726670798,
        62.98832972165451,
        66.50084177523124,
        69.94698867562772,
        73.2871538154341,
        75.46324374605587
       ],
       "line": {
        "color": "red",
        "width": 1
       },
       "lon": [
        22.797138384138023,
        21.781823763026416,
        20.687520222256012,
        19.49339263053835,
        18.171664325437895,
        16.68436453788124,
        14.978123271396651,
        12.975530324705494,
        10.560189296165921,
        7.5496679544962095,
        3.6441576373312974,
        -1.675172306285885,
        -6.558175104418881
       ],
       "mode": "lines",
       "type": "scattergeo",
       "uid": "bf4ce13e-b624-11e8-b5c6-0242ac110004"
      },
      "154": {
       "lat": [
        27.057006104063817,
        30.742798056451328,
        34.42246735824971,
        38.09497442449577,
        41.75907690487745,
        45.413227839907634,
        49.055419380391726,
        52.682936613783404,
        56.291956972098546,
        59.876872318448015,
        63.42908722918605,
        66.93476961344577,
        70.37036699502181,
        73.09895879815333
       ],
       "line": {
        "color": "red",
        "width": 1
       },
       "lon": [
        0.33986877304816515,
        -0.5677087421270262,
        -1.5271451043354765,
        -2.5513600017420948,
        -3.656863526768977,
        -4.865223707173474,
        -6.20528093365701,
        -7.71658987411896,
        -9.454953684307794,
        -11.501653836199484,
        -13.979502903209136,
        -17.08206841441605,
        -21.129464203483938,
        -25.518705731446325
       ],
       "mode": "lines",
       "type": "scattergeo",
       "uid": "bf4ce490-b624-11e8-b5c6-0242ac110004"
      },
      "155": {
       "lat": [
        35.27584446019128,
        38.946519323189236,
        42.60846214457448,
        46.26003543166879,
        49.899093400743766,
        53.52270719820504,
        57.12671395040938,
        60.704945881060695,
        64.24784744121514,
        65.29328450625626
       ],
       "line": {
        "color": "red",
        "width": 1
       },
       "lon": [
        -25.960033653364167,
        -27.001499131735276,
        -28.128744494882383,
        -29.364793482654175,
        -30.740608783031092,
        -32.29892307049151,
        -34.100448900921975,
        -36.2343341704582,
        -38.836533098792394,
        -39.730384367030446
       ],
       "mode": "lines",
       "type": "scattergeo",
       "uid": "bf4ce6b6-b624-11e8-b5c6-0242ac110004"
      },
      "156": {
       "lat": [
        70.44867960725794,
        67.01512698293594,
        63.51076384160372,
        59.95945384086881,
        56.375192016679605,
        52.76666456462607,
        49.13953284821957,
        45.497651964047726,
        41.84375736075615,
        38.179870174869976,
        34.50754611386622,
        30.8280333491664,
        28.625860882645668
       ],
       "line": {
        "color": "red",
        "width": 1
       },
       "lon": [
        32.045902416176425,
        27.971152372560436,
        24.850887817813064,
        22.36104359222577,
        20.305891640721722,
        18.561378171902643,
        17.04547479637258,
        15.701910009925166,
        14.490824763896468,
        13.38317464481951,
        12.357251207505238,
        11.396445535080778,
        10.847791595992051
       ],
       "mode": "lines",
       "type": "scattergeo",
       "uid": "bf4ce832-b624-11e8-b5c6-0242ac110004"
      },
      "157": {
       "lat": [
        74.67064606131284,
        71.39622394624911,
        67.98918845296055,
        64.50172912012437,
        60.96189593125114,
        57.38585074124177,
        53.78347489081696,
        50.161124757270244,
        46.5230772804586,
        42.8723327315744,
        39.2110828068891,
        35.54099508143874,
        31.863391934326213,
        28.98549516358039
       ],
       "line": {
        "color": "red",
        "width": 1
       },
       "lon": [
        15.410159611530528,
        9.231114658527407,
        4.800771578712741,
        1.4524679257558335,
        -1.1907266820774234,
        -3.3532082949785122,
        -5.175365542116237,
        -6.748983405599413,
        -8.136410874819239,
        -9.381434551637167,
        -10.51571787019832,
        -11.56276422823133,
        -12.540440591456523,
        -13.265112608332561
       ],
       "mode": "lines",
       "type": "scattergeo",
       "uid": "bf4ce972-b624-11e8-b5c6-0242ac110004"
      },
      "158": {
       "lat": [
        75.45048590309061,
        72.22202428802292,
        68.84159763364818,
        65.37078960593013,
        61.842087254756336,
        58.27390721699062,
        54.67735511540766,
        51.05949015491579,
        47.42501147150871,
        43.77718225430976,
        42.23728040404776
       ],
       "line": {
        "color": "red",
        "width": 1
       },
       "lon": [
        -6.867208229183616,
        -13.638328365290214,
        -18.423782140744823,
        -21.996729742959406,
        -24.789221703526334,
        -27.05517500931811,
        -28.951581800254832,
        -30.580026082302737,
        -32.008896913128915,
        -33.28584828759044,
        -33.786858172456235
       ],
       "mode": "lines",
       "type": "scattergeo",
       "uid": "bf4cec24-b624-11e8-b5c6-0242ac110004"
      },
      "159": {
       "lat": [
        50.89999901001309,
        54.51867079451431,
        58.11627547702095,
        61.685884877195086,
        65.21662291074468,
        68.69049853888453,
        72.07586868174963,
        74.45250918947025
       ],
       "line": {
        "color": "red",
        "width": 1
       },
       "lon": [
        38.43297135741168,
        36.81448957942555,
        34.931621584679554,
        32.684610766522894,
        29.919576954202306,
        26.38816547640077,
        21.66876439981176,
        17.07548424281003
       ],
       "mode": "lines",
       "type": "scattergeo",
       "uid": "bf4cede6-b624-11e8-b5c6-0242ac110004"
      },
      "16": {
       "lat": [
        65.4339577200163,
        61.90546478011771,
        58.337373631419545,
        54.74084651235817,
        51.12297171087685,
        47.48846375328671,
        43.8405940480754,
        40.1817269134116,
        36.513641956859935,
        35.100829523633486
       ],
       "line": {
        "color": "red",
        "width": 1
       },
       "lon": [
        38.432141662193665,
        35.63275591049268,
        33.36258178753586,
        31.463560842113324,
        29.833510460993235,
        28.40369015713858,
        27.12623156063218,
        25.966777152555476,
        24.89999458504604,
        24.510199696563376
       ],
       "mode": "lines",
       "type": "scattergeo",
       "uid": "bf4a9730-b624-11e8-b5c6-0242ac110004"
      },
      "160": {
       "lat": [
        32.42667773271455,
        36.10319878346499,
        39.77201856490173,
        43.43177043282067,
        47.08071998894273,
        50.71657335504736,
        54.33617088581561,
        57.93498018292607,
        61.506220559382974,
        65.03927355982901,
        68.51662418060467,
        71.90756963420776,
        75.15432563273313,
        75.32995510209444
       ],
       "line": {
        "color": "red",
        "width": 1
       },
       "lon": [
        20.18115540254201,
        19.193797429993595,
        18.134621988362124,
        16.985022472490158,
        15.720436514491661,
        14.307646626234371,
        12.70052201279565,
        10.833058645077324,
        8.607554718227103,
        5.873620296993163,
        2.3891229542337338,
        -2.255902774917383,
        -8.79188631867638,
        -9.236919122776847
       ],
       "mode": "lines",
       "type": "scattergeo",
       "uid": "bf4cffc0-b624-11e8-b5c6-0242ac110004"
      },
      "161": {
       "lat": [
        27.098515699590596,
        30.784232808746616,
        34.46381555726883,
        38.13622229142836,
        41.800207605196995,
        45.4542199934635,
        49.096244759531714,
        52.723556482408135,
        56.33231605391221,
        59.91688843067325,
        63.468632561957186,
        66.97363491178267,
        70.40818836213549,
        72.55957995036901
       ],
       "line": {
        "color": "red",
        "width": 1
       },
       "lon": [
        -2.6908110774101743,
        -3.5989916797435804,
        -4.559166773190698,
        -5.584291678586077,
        -6.6909260186420605,
        -7.9007079651928,
        -9.242579336280444,
        -10.756246233012467,
        -12.497743401818175,
        -14.548720716242013,
        -17.03260084398333,
        -20.144009467188738,
        -24.204986856014507,
        -27.561524892658205
       ],
       "mode": "lines",
       "type": "scattergeo",
       "uid": "bf4d0362-b624-11e8-b5c6-0242ac110004"
      },
      "162": {
       "lat": [
        38.33270949503412,
        41.99620246522015,
        45.64962796588467,
        49.29094050894862,
        52.91736700079507,
        56.52499268450247,
        60.10805849385881,
        63.050897076546654
       ],
       "line": {
        "color": "red",
        "width": 1
       },
       "lon": [
        -29.842733895127125,
        -30.954297181883355,
        -32.17034956066777,
        -33.5203078493162,
        -35.04458768542884,
        -36.8003170691998,
        -38.870892192004774,
        -40.912413506755925
       ],
       "mode": "lines",
       "type": "scattergeo",
       "uid": "bf4d0d8a-b624-11e8-b5c6-0242ac110004"
      },
      "163": {
       "lat": [
        71.2580127367005,
        67.84693351076037,
        64.35692495600082,
        60.815377855772766,
        57.23811616075619,
        53.63483641368875,
        50.01178831025557,
        46.37318444596896,
        42.72198491838376,
        39.060355674490246,
        35.38994747483944,
        31.71207159187234,
        28.02781359196646,
        27.85978384433487
       ],
       "line": {
        "color": "red",
        "width": 1
       },
       "lon": [
        30.204162820136066,
        25.828411787814833,
        22.51484220871036,
        19.89484029915792,
        17.74848890441213,
        15.937934178171732,
        14.372895700313826,
        12.991956502674812,
        11.751929259141953,
        10.621548461338218,
        9.577582492627245,
        8.60235382568122,
        7.682107955542188,
        7.641295193852244
       ],
       "mode": "lines",
       "type": "scattergeo",
       "uid": "bf4d1596-b624-11e8-b5c6-0242ac110004"
      },
      "164": {
       "lat": [
        74.93553800143131,
        71.67600481416676,
        68.27766334397855,
        64.79568574936653,
        61.25954090662536,
        57.68611670409752,
        54.08569108045377,
        50.46484925683244,
        46.828006236176776,
        43.1782485805204,
        39.517823401280566,
        35.84843456789838,
        32.171428537748234,
        29.95386842638113
       ],
       "line": {
        "color": "red",
        "width": 1
       },
       "lon": [
        13.022482451987434,
        6.65152299429293,
        2.1054565782571464,
        -1.3164481837462227,
        -4.008793054156676,
        -6.205481980726546,
        -8.052276632604825,
        -9.644147070349048,
        -11.045413249914859,
        -12.301128115614498,
        -13.443795580677246,
        -14.49749247309614,
        -15.480487102207722,
        -16.044418304964385
       ],
       "mode": "lines",
       "type": "scattergeo",
       "uid": "bf4d19ec-b624-11e8-b5c6-0242ac110004"
      },
      "165": {
       "lat": [
        75.2568559593655,
        72.01638997592131,
        68.62908076440573,
        65.15400324053968,
        61.62246872906297,
        58.05230093589371,
        54.45428570264992,
        50.83529971919803,
        47.19993302700077,
        44.85639470247038
       ],
       "line": {
        "color": "red",
        "width": 1
       },
       "lon": [
        -10.382110891842553,
        -16.99853160612109,
        -21.691760599993756,
        -25.2067235634089,
        -27.96089278263411,
        -30.200417138310083,
        -32.077942719893166,
        -33.69250080130079,
        -35.11091423139967,
        -35.941272695981276
       ],
       "mode": "lines",
       "type": "scattergeo",
       "uid": "bf4d1c30-b624-11e8-b5c6-0242ac110004"
      },
      "166": {
       "lat": [
        47.677561403829536,
        51.31097692821372,
        54.92750218127463,
        58.52230859504448,
        62.088120443085366,
        65.61345248271405,
        69.07918321138305,
        72.4514251732331,
        74.94852079949455
       ],
       "line": {
        "color": "red",
        "width": 1
       },
       "lon": [
        36.680205459997175,
        35.239013988421,
        33.59424913710178,
        31.67569082110287,
        29.378767905765464,
        26.541394928643914,
        22.900536862444895,
        18.007020013208916,
        12.891774319495614
       ],
       "mode": "lines",
       "type": "scattergeo",
       "uid": "bf4d1fc8-b624-11e8-b5c6-0242ac110004"
      },
      "167": {
       "lat": [
        31.081841561247668,
        34.76087369641199,
        38.43263678834903,
        42.0958647994491,
        45.74897520302338,
        49.38990614809656,
        53.01585926353912,
        56.62287974327794,
        60.20514292660249,
        63.75368375702997,
        67.25400569382552,
        70.68128512510401,
        73.99005232340416,
        75.15153589484328
       ],
       "line": {
        "color": "red",
        "width": 1
       },
       "lon": [
        17.506074900549347,
        16.54108875329128,
        15.509956992713335,
        14.395770352415353,
        13.176393414583295,
        11.822161121086376,
        10.29228706619735,
        8.529071930040175,
        6.448206781050081,
        3.9218427583372772,
        0.747633743590844,
        -3.4106088380255115,
        -9.141167839793333,
        -11.809583038622202
       ],
       "mode": "lines",
       "type": "scattergeo",
       "uid": "bf4d21d0-b624-11e8-b5c6-0242ac110004"
      },
      "168": {
       "lat": [
        27.365978930021157,
        31.05127145355849,
        34.73035840780354,
        38.40218575544085,
        42.06548956272145,
        45.71869047649139,
        49.35973148360267,
        52.9858217178985,
        56.5930183091612,
        60.175516215734866,
        63.72438401178253,
        67.22518588390422,
        70.6532149730276,
        71.9438555457282
       ],
       "line": {
        "color": "red",
        "width": 1
       },
       "lon": [
        -5.775888457761786,
        -6.687548307127345,
        -7.6520511468548404,
        -8.682576968849471,
        -9.795998993621573,
        -11.014401292698961,
        -12.367374112660526,
        -13.89559190585468,
        -15.656581141477801,
        -17.7343738672829,
        -20.256357470508178,
        -23.424070446140593,
        -27.572216871782672,
        -29.540387459784927
       ],
       "mode": "lines",
       "type": "scattergeo",
       "uid": "bf4d2bc6-b624-11e8-b5c6-0242ac110004"
      },
      "169": {
       "lat": [
        42.7124428305814,
        46.363658707429565,
        50.002283642973026,
        53.62535956082152,
        57.228677195822875,
        59.67824860427739
       ],
       "line": {
        "color": "red",
        "width": 1
       },
       "lon": [
        -34.20453911476583,
        -35.444336066942334,
        -36.82496259115178,
        -38.38957155484243,
        -40.19952572828349,
        -41.623269168745765
       ],
       "mode": "lines",
       "type": "scattergeo",
       "uid": "bf4d2e32-b624-11e8-b5c6-0242ac110004"
      },
      "17": {
       "lat": [
        73.1392684973662,
        69.7917569014135,
        66.34100965305007,
        62.8254094819598,
        59.26630054060428,
        55.67634579012885,
        52.063482838216984,
        48.43293056801076,
        44.78827163582466,
        41.13206825290718,
        37.46622865447359,
        33.7922336467494,
        30.111281126870832,
        27.061904730711973
       ],
       "line": {
        "color": "red",
        "width": 1
       },
       "lon": [
        24.15196759271077,
        18.921401784570897,
        15.072014508470852,
        12.098851269412869,
        9.709529833841133,
        7.725766690691512,
        6.03359634688499,
        4.557098042644508,
        3.2438513675947935,
        2.0565121705675677,
        0.9677304879130417,
        -0.04303131600395336,
        -0.9915545679844797,
        -1.7380356154268066
       ],
       "mode": "lines",
       "type": "scattergeo",
       "uid": "bf4a988e-b624-11e8-b5c6-0242ac110004"
      },
      "170": {
       "lat": [
        59.78558957885731,
        56.200037648986694,
        52.59054247357451,
        48.962657745903314,
        45.320173017346235,
        42.57789782807503
       ],
       "line": {
        "color": "red",
        "width": 1
       },
       "lon": [
        40.4165253064708,
        38.378504784964704,
        36.64639677447459,
        35.13971239502776,
        33.80314396786355,
        32.8875203911016
       ],
       "mode": "lines",
       "type": "scattergeo",
       "uid": "bf4d3102-b624-11e8-b5c6-0242ac110004"
      },
      "171": {
       "lat": [
        71.95965882916386,
        68.5705404009846,
        65.09434265911146,
        61.562066734920165,
        57.99137987520818,
        54.39298355541753,
        50.77370634501554,
        47.138109556249084,
        43.48937094841982,
        39.82979607863463,
        36.16112703964991,
        32.484735623192115,
        28.80174774933329,
        27.356651913717823
       ],
       "line": {
        "color": "red",
        "width": 1
       },
       "lon": [
        28.293548888289095,
        23.624900579711866,
        20.1253795282117,
        17.38140435646629,
        15.148899215599224,
        13.27637824892912,
        11.66549132787115,
        10.249833880627788,
        8.98301804623714,
        7.831655814468451,
        6.771068440452526,
        5.7825679417566285,
        4.851680188987961,
        4.499972622178139
       ],
       "mode": "lines",
       "type": "scattergeo",
       "uid": "bf4d3300-b624-11e8-b5c6-0242ac110004"
      },
      "172": {
       "lat": [
        75.15627939036453,
        71.90982495397047,
        68.51907485409104,
        65.04185931900234,
        61.5089049650353,
        57.937739923238155,
        54.33899031807626,
        50.71944155312196,
        47.08362905706223,
        43.434714495233244,
        39.77499313487511,
        36.10620035511721,
        32.42970350913349,
        31.112310455157232
       ],
       "line": {
        "color": "red",
        "width": 1
       },
       "lon": [
        10.549701479609306,
        4.01097679377314,
        -0.6358732156005086,
        -4.121635600211575,
        -6.856485465385906,
        -9.082677660846219,
        -10.950675857433291,
        -12.55822799525951,
        -13.971367894817124,
        -15.236246815218816,
        -16.38609601702981,
        -17.445487788347002,
        -18.433036134470107,
        -18.771858100344613
       ],
       "mode": "lines",
       "type": "scattergeo",
       "uid": "bf4d3a80-b624-11e8-b5c6-0242ac110004"
      },
      "173": {
       "lat": [
        74.93925131245227,
        71.6800658923309,
        68.28194207366104,
        64.8001108282045,
        61.26407044770378,
        57.69072456218392,
        54.09036007968213,
        50.46956761396992,
        47.751273772383996
       ],
       "line": {
        "color": "red",
        "width": 1
       },
       "lon": [
        -14.18525309550813,
        -20.559861424233638,
        -25.10825374237749,
        -28.53171537338927,
        -31.22515245589429,
        -33.422639614000325,
        -35.27003829126851,
        -36.86237965016665,
        -37.92578317654023
       ],
       "mode": "lines",
       "type": "scattergeo",
       "uid": "bf4d3f08-b624-11e8-b5c6-0242ac110004"
      },
      "174": {
       "lat": [
        44.787950906497315,
        48.4323076114095,
        52.06251201688991,
        55.67496702312408,
        59.264433034213496,
        62.822941814117215,
        66.33778359441088,
        69.78754033217281,
        73.13371001554576,
        75.26342362897483
       ],
       "line": {
        "color": "red",
        "width": 1
       },
       "lon": [
        34.689439539844756,
        33.37401880570051,
        31.89503218858575,
        30.199968767647125,
        28.212784472262193,
        25.819344943791652,
        22.84113906182367,
        18.985501296097734,
        13.747233484708639,
        9.085273143118362
       ],
       "mode": "lines",
       "type": "scattergeo",
       "uid": "bf4d41b0-b624-11e8-b5c6-0242ac110004"
      },
      "175": {
       "lat": [
        29.92760297050803,
        33.60867565166345,
        37.28282774033664,
        40.94886831667843,
        44.60532796430469,
        48.25031681170529,
        51.88130233452642,
        55.494750579171345,
        59.08552462883957,
        62.64582991036752,
        66.16326515064095,
        69.61699401459984,
        72.96969045221378,
        74.9290295487668
       ],
       "line": {
        "color": "red",
        "width": 1
       },
       "lon": [
        14.776239258666848,
        13.829030930157518,
        12.820149608006512,
        11.733981131425415,
        10.550228933842458,
        9.241896743581885,
        7.772174739351085,
        6.089471045842592,
        4.119196896413899,
        1.7496160902974245,
        -1.193647158395589,
        -4.995767623576816,
        -10.147730472220221,
        -14.28743985735243
       ],
       "mode": "lines",
       "type": "scattergeo",
       "uid": "bf4d43e0-b624-11e8-b5c6-0242ac110004"
      },
      "176": {
       "lat": [
        27.875472506354768,
        31.559952764220967,
        35.2380904990401,
        38.90880724866153,
        42.570802486580455,
        46.22244176235406,
        49.86158414913412,
        53.485308626015346,
        57.08946521539676,
        60.66790803826451,
        64.21112029600471,
        67.70360637741307,
        71.11861514045074,
        71.23818117681823
       ],
       "line": {
        "color": "red",
        "width": 1
       },
       "lon": [
        -8.919861195007739,
        -9.838230727483545,
        -10.811092971228168,
        -11.852069798584578,
        -12.978652257727617,
        -14.213805072241833,
        -15.588402827966858,
        -17.14504437296028,
        -18.944232020833045,
        -21.074770889446835,
        -23.672031868193137,
        -26.95154940611143,
        -31.27380843193769,
        -31.4535537586605
       ],
       "mode": "lines",
       "type": "scattergeo",
       "uid": "bf4d476e-b624-11e8-b5c6-0242ac110004"
      },
      "177": {
       "lat": [
        63.11120230683649,
        59.55570751463058,
        55.96843103521962,
        52.357635563688845,
        48.72873437832136,
        45.08543120306241,
        41.430366140180375,
        38.24827732812271
       ],
       "line": {
        "color": "red",
        "width": 1
       },
       "lon": [
        39.68910513176865,
        37.25571011119929,
        35.24025300190752,
        33.52454927524098,
        32.03010327015939,
        30.702858952945824,
        29.504396295930146,
        28.546146695726886
       ],
       "mode": "lines",
       "type": "scattergeo",
       "uid": "bf4d4b10-b624-11e8-b5c6-0242ac110004"
      },
      "178": {
       "lat": [
        72.57200677078984,
        69.20426753005003,
        65.74132642995359,
        62.217844701188035,
        58.65333246741186,
        55.05948390584225,
        51.443693770119935,
        47.81086173633135,
        44.16437545155929,
        40.506674470639965,
        36.83958826464718,
        33.164546416209994,
        29.48271335768656,
        27.094922783744
       ],
       "line": {
        "color": "red",
        "width": 1
       },
       "lon": [
        26.31803286270372,
        21.365585413928695,
        17.687731809266616,
        14.825926530258311,
        12.512149044898354,
        10.581533023586072,
        8.927878717194831,
        7.479969461562355,
        6.188349660755668,
        5.0176099130566945,
        3.9417001085329,
        2.9409788400548273,
        2.000295366893171,
        1.417342769400669
       ],
       "mode": "lines",
       "type": "scattergeo",
       "uid": "bf4d4d22-b624-11e8-b5c6-0242ac110004"
      },
      "179": {
       "lat": [
        75.33316933152739,
        72.0976799061421,
        68.71326413260321,
        65.24000607663605,
        61.70969432033872,
        58.1403953299266,
        54.54302695063732,
        50.924541819243615,
        47.28957574056259,
        43.64135287336715,
        39.982208509123986,
        36.31390419905752,
        32.63782465044944,
        32.461160934555856
       ],
       "line": {
        "color": "red",
        "width": 1
       },
       "lon": [
        7.982729755231098,
        1.3040197688661528,
        -3.426683261487141,
        -6.965417413399028,
        -9.735435875026342,
        -11.985988093197673,
        -13.871464579718937,
        -15.491926883641227,
        -16.914832987438352,
        -18.18724447427003,
        -19.34299478045588,
        -20.40706566324603,
        -21.398356307018005,
        -21.44438229697266
       ],
       "mode": "lines",
       "type": "scattergeo",
       "uid": "bf4d4e94-b624-11e8-b5c6-0242ac110004"
      },
      "18": {
       "lat": [
        75.47230159656802,
        72.24340947389786,
        68.8625237026062,
        65.39129980204024,
        61.86223627114737,
        58.293745002602265,
        54.696923532916635,
        51.07882327883193,
        47.44413675112641,
        43.79612171532316,
        40.13713378940327,
        36.468946915359254,
        34.07347017291037
       ],
       "line": {
        "color": "red",
        "width": 1
       },
       "lon": [
        5.128247359435178,
        -1.6486269556000281,
        -6.435688910184337,
        -10.008536307073435,
        -12.80022085543656,
        -15.065088324470198,
        -16.960319825785483,
        -18.58758361386435,
        -20.015304981092275,
        -21.291151508454483,
        -22.449348438266462,
        -23.515138426557726,
        -24.16942172661962
       ],
       "mode": "lines",
       "type": "scattergeo",
       "uid": "bf4a9cf8-b624-11e8-b5c6-0242ac110004"
      },
      "180": {
       "lat": [
        74.43965981415379,
        71.15335423774174,
        67.73938766646596,
        64.24756712422639,
        60.70480769554059,
        57.126689814036965,
        53.5227770692311,
        50.979796934660534
       ],
       "line": {
        "color": "red",
        "width": 1
       },
       "lon": [
        -18.367042883916724,
        -24.389496465830124,
        -28.72547277581378,
        -32.01379539365859,
        -34.61698591445741,
        -36.75168319225522,
        -38.553887053260574,
        -39.67008970391553
       ],
       "mode": "lines",
       "type": "scattergeo",
       "uid": "bf4d4fd4-b624-11e8-b5c6-0242ac110004"
      },
      "181": {
       "lat": [
        42.17377994972751,
        45.82662087386541,
        49.46722691821698,
        53.092778819194194,
        56.6992888095718,
        60.280878440618665,
        63.82849107322423,
        67.32746586348736,
        70.75266534793741,
        74.05797589652076,
        75.45471714933561
       ],
       "line": {
        "color": "red",
        "width": 1
       },
       "lon": [
        32.53009961106671,
        31.307948293488444,
        29.950172336255097,
        28.4156866078899,
        26.64633205861223,
        24.55706721854133,
        22.018823960888927,
        18.827133653279304,
        14.641925489047958,
        8.86751892419348,
        5.566500534045786
       ],
       "mode": "lines",
       "type": "scattergeo",
       "uid": "bf4d5128-b624-11e8-b5c6-0242ac110004"
      },
      "182": {
       "lat": [
        28.963625014383958,
        32.646323857040116,
        36.32237903806646,
        39.99065538876179,
        43.64976731718776,
        47.297951968937184,
        50.932872098641695,
        54.551300548304866,
        58.148596769320775,
        61.71780033308627,
        65.24797998688149,
        68.7210448550311,
        72.10515886869719,
        74.66212748992405
       ],
       "line": {
        "color": "red",
        "width": 1
       },
       "lon": [
        11.99465219984686,
        11.061349685423098,
        10.069857098075955,
        9.005541154509888,
        7.84948959699358,
        6.5767023002632214,
        5.1533192017896665,
        3.5322381612729155,
        1.6459389568403962,
        -0.6057405472876268,
        -3.377360134306467,
        -6.918467883977679,
        -11.652868820502713,
        -16.679554423745362
       ],
       "mode": "lines",
       "type": "scattergeo",
       "uid": "bf4d527c-b624-11e8-b5c6-0242ac110004"
      },
      "183": {
       "lat": [
        28.64874488049581,
        32.33196368046295,
        36.008627047360775,
        39.67761684287123,
        43.337573048324515,
        46.986771470603884,
        50.622934099144004,
        54.24292640351435,
        57.842256792115585,
        61.414213254709395,
        64.94829823110368,
        68.42722170956667,
        70.42397434643995
       ],
       "line": {
        "color": "red",
        "width": 1
       },
       "lon": [
        -12.129316826411596,
        -13.058226976721903,
        -14.044233324044882,
        -15.101666953504807,
        -16.24901424262417,
        -17.5106642508451,
        -18.91957763122256,
        -20.52149610236465,
        -22.381811583706536,
        -24.59722720295604,
        -27.316430108010668,
        -30.778504418744284,
        -33.29696678158016
       ],
       "mode": "lines",
       "type": "scattergeo",
       "uid": "bf4d53d0-b624-11e8-b5c6-0242ac110004"
      },
      "184": {
       "lat": [
        65.33377982614905,
        61.804758583110335,
        58.236370610695644,
        54.639676501143434,
        51.02171064399433,
        47.387157887867026,
        43.739272923947645,
        40.08041060613739,
        36.41234528963827,
        35.21419174980245
       ],
       "line": {
        "color": "red",
        "width": 1
       },
       "lon": [
        38.50242844915215,
        35.7153468941591,
        33.45297912707603,
        31.559024468342017,
        29.932297395300836,
        28.504649019296668,
        27.22857584205494,
        26.069952870265496,
        25.003600013553978,
        24.672417815534793
       ],
       "mode": "lines",
       "type": "scattergeo",
       "uid": "bf4d5c04-b624-11e8-b5c6-0242ac110004"
      },
      "185": {
       "lat": [
        73.10853287448647,
        69.76149422691553,
        66.3112256273913,
        62.79606041701282,
        59.23733472871127,
        55.64771566808557,
        52.03514788502413,
        48.404857287992186,
        44.760432725866494,
        41.10444164921708,
        37.43879667405275,
        33.764982272329846,
        30.084199429649,
        27.05865720041445
       ],
       "line": {
        "color": "red",
        "width": 1
       },
       "lon": [
        24.27929853393911,
        19.05344112312069,
        15.205352145108728,
        12.23197970244164,
        9.841774090852294,
        7.85683290455589,
        6.163370986316083,
        4.685554032212733,
        3.371002327267021,
        2.182389565631064,
        1.0923713017027288,
        0.08040978885627974,
        -0.8692799239718302,
        -1.6110141830701155
       ],
       "mode": "lines",
       "type": "scattergeo",
       "uid": "bf4d6578-b624-11e8-b5c6-0242ac110004"
      },
      "186": {
       "lat": [
        75.46516155604567,
        72.23817132011577,
        68.8586494054328,
        65.38844053334073,
        61.86016041038979,
        58.29229353519382,
        54.69598370479549,
        51.078312823511496,
        47.44399416630701,
        43.79630007356382,
        40.13759667626707,
        36.469665688830496,
        34.00228556090584
       ],
       "line": {
        "color": "red",
        "width": 1
       },
       "lon": [
        5.310264863039091,
        -1.4764127146312411,
        -6.271666640320035,
        -9.851095630119907,
        -12.648085137366335,
        -14.917294069905697,
        -16.8161435066289,
        -18.446477017049997,
        -19.87684731869774,
        -21.155015492903885,
        -22.315276591516852,
        -23.382925690787047,
        -24.057597503360043
       ],
       "mode": "lines",
       "type": "scattergeo",
       "uid": "bf4d6de8-b624-11e8-b5c6-0242ac110004"
      },
      "187": {
       "lat": [
        73.63767155879461,
        70.3130181920888,
        66.87627430337946,
        63.36988591873774,
        59.817209206857314,
        56.231975807137424,
        54.661770658567434
       ],
       "line": {
        "color": "red",
        "width": 1
       },
       "lon": [
        -23.091421698919465,
        -28.611973186086477,
        -32.641872396914124,
        -35.73340613064625,
        -38.20398085062615,
        -40.245705675156835,
        -41.03393919841873
       ],
       "mode": "lines",
       "type": "scattergeo",
       "uid": "bf4d7054-b624-11e8-b5c6-0242ac110004"
      },
      "188": {
       "lat": [
        39.80278113681082,
        43.4623865780036,
        47.111165087927425,
        50.746814703334714,
        54.366163558118416,
        57.964660208472104,
        61.535493146966886,
        65.0679916964147,
        68.54454732855221,
        71.93427852625179,
        75.17903459107276,
        75.5543919033892
       ],
       "line": {
        "color": "red",
        "width": 1
       },
       "lon": [
        30.242482797183975,
        29.09157004105445,
        27.825376321837723,
        26.410581364309284,
        24.80090094576859,
        22.930096019549048,
        20.700089750179522,
        17.959868446705705,
        14.466213571129698,
        9.807182246736106,
        3.2486563264134922,
        2.2780878011290353
       ],
       "mode": "lines",
       "type": "scattergeo",
       "uid": "bf4d71f8-b624-11e8-b5c6-0242ac110004"
      },
      "189": {
       "lat": [
        28.191060504625963,
        31.875012132719995,
        35.55253364005332,
        39.22253039956684,
        42.8836777320453,
        46.53430486978675,
        50.17221558469676,
        53.79440300507466,
        57.39658028163359,
        60.97237561323761,
        64.5118825960416,
        67.99889651705635,
        71.40528965099243,
        74.34928467182169
       ],
       "line": {
        "color": "red",
        "width": 1
       },
       "lon": [
        9.163226656397145,
        8.240477729874419,
        7.262177782884944,
        6.2144189345993865,
        5.079309409725062,
        3.8333123578304074,
        2.444717044269286,
        0.8696685101055097,
        -0.9542840632819247,
        -3.1190826172538704,
        -5.765367208534146,
        -9.117952136390524,
        -13.554490791649766,
        -18.993168478780287
       ],
       "mode": "lines",
       "type": "scattergeo",
       "uid": "bf4d7356-b624-11e8-b5c6-0242ac110004"
      },
      "19": {
       "lat": [
        73.57242876558823,
        70.24308012001237,
        66.80330942814302,
        63.294834803264436,
        59.7406385167685,
        56.15424687098192,
        54.853771330436984
       ],
       "line": {
        "color": "red",
        "width": 1
       },
       "lon": [
        -23.410485102792766,
        -28.8808964778959,
        -32.87824287558871,
        -35.94757296387561,
        -38.40231017495738,
        -40.432296685966705,
        -41.085366687300514
       ],
       "mode": "lines",
       "type": "scattergeo",
       "uid": "bf4aa004-b624-11e8-b5c6-0242ac110004"
      },
      "190": {
       "lat": [
        29.715865472995116,
        33.397277597257364,
        37.07182896191987,
        40.7383408976102,
        44.39536252162419,
        48.04103220501127,
        51.672861085235354,
        55.28738420007402,
        58.87957695252648,
        62.44183483559103,
        65.96209416476043,
        69.42015470851175,
        69.47508889172838
       ],
       "line": {
        "color": "red",
        "width": 1
       },
       "lon": [
        -15.413943165988503,
        -16.358197650082047,
        -17.363355771981748,
        -18.444812491077812,
        -19.62255321616852,
        -20.92312441642392,
        -22.3826686781779,
        -24.05175712438012,
        -26.00336349714823,
        -28.346564543825483,
        -31.251154211051237,
        -34.99401454559911,
        -35.06327893275831
       ],
       "mode": "lines",
       "type": "scattergeo",
       "uid": "bf4d750e-b624-11e8-b5c6-0242ac110004"
      },
      "191": {
       "lat": [
        67.0172102075339,
        63.51314735510912,
        59.96206828543199,
        56.37799037486543,
        52.769613744045934,
        49.14260880762232,
        45.500836765173034,
        41.84703731337232,
        38.183234629040406,
        34.51098664986974,
        32.90305675270125
       ],
       "line": {
        "color": "red",
        "width": 1
       },
       "lon": [
        37.08647114616353,
        33.96387338111431,
        31.472224470733007,
        29.415636599032663,
        27.669951242526825,
        26.15306978295438,
        24.808672370267352,
        23.596865796781593,
        22.488580914432607,
        21.462090954728996,
        21.034595946224798
       ],
       "mode": "lines",
       "type": "scattergeo",
       "uid": "bf4d77c0-b624-11e8-b5c6-0242ac110004"
      },
      "192": {
       "lat": [
        73.57929507722827,
        70.25215664383744,
        66.81393010845368,
        63.306590748334216,
        59.75326565008858,
        56.167566767651536,
        52.557968379150964,
        48.93000850335945,
        45.28746746658879,
        41.63303394571212,
        37.968699140609154,
        34.29599930917921,
        30.61616989782972,
        27.235961254654264
       ],
       "line": {
        "color": "red",
        "width": 1
       },
       "lon": [
        22.177267688753048,
        16.689943198475923,
        12.680375764481498,
        9.601951927001531,
        7.140227642697686,
        5.104710980386908,
        3.374344234132617,
        1.868895092570943,
        0.5332142459746675,
        -0.6718312127808396,
        -1.7748004590851,
        -2.7970694544091907,
        -3.7550141584871692,
        -4.588023013355143
       ],
       "mode": "lines",
       "type": "scattergeo",
       "uid": "bf4d82ec-b624-11e8-b5c6-0242ac110004"
      },
      "193": {
       "lat": [
        75.54960244375641,
        72.32823453881896,
        68.95194663728905,
        65.48375138093185,
        61.956812450914775,
        58.38989091532146,
        54.79427989801581,
        51.177146672062904,
        47.54325565627666,
        43.89591100062531,
        40.23749920539188,
        36.56981531471728,
        35.739264284711844
       ],
       "line": {
        "color": "red",
        "width": 1
       },
       "lon": [
        2.518224808074004,
        -4.339401114731844,
        -9.177053265754928,
        -12.78319450048804,
        -15.597880521254085,
        -17.879329146909352,
        -19.78695351444195,
        -21.423767014683655,
        -22.859040916538667,
        -24.140994735185874,
        -25.304225883883912,
        -26.374235268269533,
        -26.60536369945787
       ],
       "mode": "lines",
       "type": "scattergeo",
       "uid": "bf4d84ae-b624-11e8-b5c6-0242ac110004"
      },
      "194": {
       "lat": [
        72.19896032326221,
        68.81818722179537,
        65.34721330969857,
        61.8184328007766,
        59.13036795716844
       ],
       "line": {
        "color": "red",
        "width": 1
       },
       "lon": [
        -28.760143954074262,
        -33.53809998352578,
        -37.10674871531422,
        -39.8966758781087,
        -41.64347338221987
       ],
       "mode": "lines",
       "type": "scattergeo",
       "uid": "bf4d860c-b624-11e8-b5c6-0242ac110004"
      },
      "195": {
       "lat": [
        37.655110672364486,
        41.32020626917526,
        44.97554599705845,
        48.619185171559856,
        52.24850701809208,
        55.85984501497651,
        59.44784705190027,
        63.00435507693065,
        66.51632277443285,
        69.96169838971073,
        73.3007003506763,
        75.58171232378541
       ],
       "line": {
        "color": "red",
        "width": 1
       },
       "lon": [
        27.852105123294905,
        26.756724563507174,
        25.561331002369386,
        24.238088485044454,
        22.748941215270296,
        21.040393662792717,
        19.034844077706452,
        16.615592760106754,
        13.599707428355247,
        9.686520807811824,
        4.35568400193239,
        -0.820049832520924
       ],
       "mode": "lines",
       "type": "scattergeo",
       "uid": "bf4d87c4-b624-11e8-b5c6-0242ac110004"
      },
      "196": {
       "lat": [
        27.612616511929417,
        31.297475830851226,
        34.976060289118415,
        38.647303368958895,
        42.30992261989743,
        45.962311026183066,
        49.60236972465069,
        53.22724332544626,
        56.832886866224186,
        60.41332823235751,
        63.95935070918712,
        67.45600512137386,
        70.87760084502938,
        73.98772077403353
       ],
       "line": {
        "color": "red",
        "width": 1
       },
       "lon": [
        6.2829280397326315,
        5.367739657098878,
        4.398892154965803,
        3.362988511843395,
        2.242852918888102,
        1.0159713454384143,
        -0.34787152596524246,
        -1.8902836674823404,
        -3.670230148069116,
        -5.774041903440512,
        -8.33293600104378,
        -11.555135306144361,
        -15.78759765394475,
        -21.23395842437451
       ],
       "mode": "lines",
       "type": "scattergeo",
       "uid": "bf4d8940-b624-11e8-b5c6-0242ac110004"
      },
      "197": {
       "lat": [
        31.119995130226258,
        34.798904286101624,
        38.47052765625678,
        42.13359531025387,
        45.786519102627054,
        49.42722892681747,
        53.05291400692545,
        56.65960036765703,
        60.24143267563254,
        63.789394648942356,
        67.28889963200757,
        68.35310988761638
       ],
       "line": {
        "color": "red",
        "width": 1
       },
       "lon": [
        -18.788405879127414,
        -19.754391094105607,
        -20.78671062246714,
        -21.902327436732207,
        -23.123452245408732,
        -24.479858141445494,
        -26.012490783531003,
        -27.779291650510235,
        -29.864951099261674,
        -32.397944714907176,
        -35.58169315676443,
        -36.74000677654741
       ],
       "mode": "lines",
       "type": "scattergeo",
       "uid": "bf4d8ab2-b624-11e8-b5c6-0242ac110004"
      },
      "198": {
       "lat": [
        68.36658905581965,
        64.88662632701012,
        61.351860349741614,
        57.779432000810594,
        54.179758714668935,
        50.55950700378705,
        46.92314144578805,
        43.27377996396804,
        39.61369009313335,
        35.94458930422715,
        32.26783326512083,
        31.102164561161583
       ],
       "line": {
        "color": "red",
        "width": 1
       },
       "lon": [
        35.522106301650254,
        32.074965499801046,
        29.365566950065343,
        27.156859139500433,
        25.301290267805175,
        23.70282332402984,
        22.296474599874504,
        21.036762424386154,
        19.890896779336845,
        18.834604451923695,
        17.849479202981513,
        17.549983439518815
       ],
       "mode": "lines",
       "type": "scattergeo",
       "uid": "bf4d8bfc-b624-11e8-b5c6-0242ac110004"
      },
      "199": {
       "lat": [
        73.99185499237718,
        70.68367067141945,
        67.25679450532496,
        63.75676660012539,
        60.208449844770016,
        56.62636380630303,
        53.01948771898128,
        49.39365536473541,
        45.75282764519966,
        42.09980714108608,
        38.43665869422987,
        34.76496701032135,
        31.085999750676166,
        27.618003163221186
       ],
       "line": {
        "color": "red",
        "width": 1
       },
       "lon": [
        20.01038267806177,
        14.275343470771027,
        10.113885874324893,
        6.937301396626337,
        4.409123754363506,
        2.3268311961537167,
        0.5624615473632729,
        -0.9683685506451534,
        -2.3234092946563014,
        -3.5434822043047887,
        -4.6582779401164505,
        -5.689950607701918,
        -6.65542350844582,
        -7.515442014777377
       ],
       "mode": "lines",
       "type": "scattergeo",
       "uid": "bf4e70f8-b624-11e8-b5c6-0242ac110004"
      },
      "2": {
       "lat": [
        59.99627311575628,
        56.41183458710794,
        52.80313899255057,
        49.17585040153587,
        45.533823910200574,
        42.33875323413037
       ],
       "line": {
        "color": "red",
        "width": 1
       },
       "lon": [
        40.40056299058168,
        38.344988302969625,
        36.60053481349569,
        35.08497260085575,
        33.7419165346192,
        32.67709430398817
       ],
       "mode": "lines",
       "type": "scattergeo",
       "uid": "bf4a7a34-b624-11e8-b5c6-0242ac110004"
      },
      "20": {
       "lat": [
        39.725816495180965,
        43.38591242450263,
        47.03525854342028,
        50.67157753407732,
        54.291734191848995,
        57.8912333311017,
        61.46335308437518,
        64.99757224041504,
        68.47654539884267,
        71.86988447418257,
        75.12042869956056,
        75.55508436399359
       ],
       "line": {
        "color": "red",
        "width": 1
       },
       "lon": [
        30.16240177150527,
        29.01567238513482,
        27.754507579855577,
        26.345873426887113,
        24.743906828992092,
        22.883009077767625,
        20.666111447145322,
        17.943854800404523,
        14.475857098889472,
        9.855241668215587,
        3.3570968219223474,
        2.2416732077875428
       ],
       "mode": "lines",
       "type": "scattergeo",
       "uid": "bf4aa658-b624-11e8-b5c6-0242ac110004"
      },
      "200": {
       "lat": [
        75.58175442323169,
        72.36264759092265,
        68.9876686711688,
        65.52029370972376,
        61.99390464407444,
        58.427373076479775,
        54.83205201538643,
        51.21514309232418,
        47.58143139050206,
        43.934233968280026,
        40.275945633391785,
        37.67779142691139
       ],
       "line": {
        "color": "red",
        "width": 1
       },
       "lon": [
        -0.41108858171024193,
        -7.296661169127594,
        -12.15108955606819,
        -15.767844837941535,
        -18.589592745816013,
        -20.875947908634515,
        -22.78710705380185,
        -24.426544837310754,
        -25.863816255971777,
        -27.147322233528495,
        -28.311780134429007,
        -29.0791534905236
       ],
       "mode": "lines",
       "type": "scattergeo",
       "uid": "bf4e78e6-b624-11e8-b5c6-0242ac110004"
      },
      "201": {
       "lat": [
        59.0683196469887,
        62.628641955641434,
        66.14612857655044,
        69.59997843576043,
        72.22519505223204
       ],
       "line": {
        "color": "red",
        "width": 1
       },
       "lon": [
        40.44429510522404,
        38.07589693329116,
        35.13460994448787,
        31.335877606348436,
        27.476876294334353
       ],
       "mode": "lines",
       "type": "scattergeo",
       "uid": "bf4e8598-b624-11e8-b5c6-0242ac110004"
      },
      "202": {
       "lat": [
        35.717867020354284,
        39.38746679544644,
        43.048147273253605,
        46.698217640528476,
        50.33545118913804,
        53.95679375939606,
        57.5578831030752,
        61.132222865662314,
        64.66969153049084,
        68.15369201559862,
        71.55533277106791,
        74.82067518314655,
        75.54878253487622
       ],
       "line": {
        "color": "red",
        "width": 1
       },
       "lon": [
        25.376068737121894,
        24.32458613834645,
        23.184807531642804,
        21.932885054790166,
        20.536653112588777,
        18.951572738540047,
        17.11413067723187,
        14.930671845384152,
        12.257673282961685,
        8.865232074724132,
        4.366265666052879,
        -1.9252720439891378,
        -3.7574901431645698
       ],
       "mode": "lines",
       "type": "scattergeo",
       "uid": "bf4e87dc-b624-11e8-b5c6-0242ac110004"
      },
      "203": {
       "lat": [
        27.232721803943058,
        30.918160478889583,
        34.597424014699975,
        38.26946331722413,
        41.933022126274736,
        45.586532946956936,
        49.22795718623127,
        52.85453299321547,
        56.46236424443652,
        60.04572361643464,
        63.59581429653627,
        67.09844592812674,
        70.52938804765144,
        73.57331679874044
       ],
       "line": {
        "color": "red",
        "width": 1
       },
       "lon": [
        3.3538345769822846,
        2.4434365635687656,
        1.480583016600717,
        0.45219809753275547,
        -0.6584454111297355,
        -1.8732220859458346,
        -3.2214152184394873,
        -4.743237461473218,
        -6.495498597781412,
        -8.561077434205561,
        -11.065426601984942,
        -14.206681953801025,
        -18.313255239418652,
        -23.40619395660852
       ],
       "mode": "lines",
       "type": "scattergeo",
       "uid": "bf4e8944-b624-11e8-b5c6-0242ac110004"
      },
      "204": {
       "lat": [
        32.92686008974228,
        36.60232163744504,
        40.26990461593546,
        43.92819873463156,
        47.575403982100646,
        51.20912637220245,
        54.82605020496279,
        58.42139269141929,
        61.987956203544556,
        65.51439503377759,
        66.99794644955463
       ],
       "line": {
        "color": "red",
        "width": 1
       },
       "lon": [
        -22.276149984365215,
        -23.272946295386234,
        -24.343868772664607,
        -25.508227918237285,
        -26.791595836612803,
        -28.22867417810014,
        -29.86783954825976,
        -31.77860785734725,
        -34.06438949070527,
        -36.8852678861879,
        -38.30575822714347
       ],
       "mode": "lines",
       "type": "scattergeo",
       "uid": "bf4e8c5a-b624-11e8-b5c6-0242ac110004"
      },
      "205": {
       "lat": [
        69.48420244172694,
        66.02774485005762,
        62.5085534949801,
        58.9470493394585,
        55.35541480699622,
        51.74132214620642,
        48.109836523509216,
        44.46444816976749,
        40.8076621826016,
        37.14135087418842,
        33.46697228180845,
        29.785709924451567,
        29.702638541338864
       ],
       "line": {
        "color": "red",
        "width": 1
       },
       "lon": [
        33.84797341907504,
        30.08456415356251,
        27.166366073200965,
        24.813743859419503,
        22.855367630659938,
        21.181261376749674,
        19.717900853628084,
        18.41436439849871,
        17.234278432572907,
        16.15093986686038,
        15.144253798158225,
        14.198747783789376,
        14.178035331791087
       ],
       "mode": "lines",
       "type": "scattergeo",
       "uid": "bf4e8dfe-b624-11e8-b5c6-0242ac110004"
      },
      "206": {
       "lat": [
        74.35186061922282,
        71.06151388035691,
        67.64522024977454,
        64.15195545087239,
        60.608240785570885,
        57.029456070842095,
        53.4250559297497,
        49.80115106317314,
        46.161870707697275,
        42.51012327271375,
        38.84804185663666,
        35.17725600046525,
        31.499063156966585,
        28.198369119389856
       ],
       "line": {
        "color": "red",
        "width": 1
       },
       "lon": [
        17.775737187509325,
        11.808813688233187,
        7.506061568963292,
        4.238701914997888,
        1.6493795391737294,
        -0.47577346777574864,
        -2.2711939419129203,
        -3.825137613412411,
        -5.1977695480829365,
        -6.431473763832759,
        -7.556983591961294,
        -8.597168356130577,
        -9.56945339644336,
        -10.394049413290693
       ],
       "mode": "lines",
       "type": "scattergeo",
       "uid": "bf4e8fa2-b624-11e8-b5c6-0242ac110004"
      },
      "207": {
       "lat": [
        75.55396563585663,
        72.33317996396539,
        68.95725933172741,
        65.48931259990869,
        61.96255203888353,
        58.395764857808814,
        54.800259141192775,
        51.183211199140345,
        47.54939116414158,
        43.90210693913739,
        40.24374756935106,
        39.82642572985942
       ],
       "line": {
        "color": "red",
        "width": 1
       },
       "lon": [
        -3.500271296245466,
        -10.363508209649575,
        -15.204795233985255,
        -18.81339724432547,
        -21.62982652212873,
        -23.912561328777624,
        -25.821168102884688,
        -27.458754852370706,
        -28.89465292935255,
        -30.177121755235746,
        -31.34078602705481,
        -31.46700687979591
       ],
       "mode": "lines",
       "type": "scattergeo",
       "uid": "bf4e9100-b624-11e8-b5c6-0242ac110004"
      },
      "208": {
       "lat": [
        54.6100298860757,
        58.206811554260334,
        61.775333597357246,
        65.30456854981007,
        68.77625038219954,
        72.15820228122224,
        73.65400093909462
       ],
       "line": {
        "color": "red",
        "width": 1
       },
       "lon": [
        39.819727825865534,
        37.92753099035781,
        35.66777553254283,
        32.884690733756315,
        29.32659225494633,
        24.56572844671237,
        21.81034136279176
       ],
       "mode": "lines",
       "type": "scattergeo",
       "uid": "bf4e9254-b624-11e8-b5c6-0242ac110004"
      },
      "209": {
       "lat": [
        33.982427606540696,
        37.65574234161994,
        41.32080362219591,
        44.97610492552718,
        48.61970042097337,
        52.248971757226485,
        55.86025018546364,
        59.4481803548606,
        63.004599338020945,
        66.51645320517433,
        69.96167783071606,
        73.30047082463649,
        75.46329673148166
       ],
       "line": {
        "color": "red",
        "width": 1
       },
       "lon": [
        22.82627711212706,
        21.809804360772755,
        20.71417148918047,
        19.518494583425586,
        18.19492926779372,
        16.70540836864426,
        14.99642066193346,
        12.99034230272446,
        10.570441927127064,
        7.553741325570262,
        3.639508769681897,
        -1.6926859604584519,
        -6.556856312231482
       ],
       "mode": "lines",
       "type": "scattergeo",
       "uid": "bf4e93f8-b624-11e8-b5c6-0242ac110004"
      },
      "21": {
       "lat": [
        28.166861382660812,
        31.851064161094893,
        35.52886060337601,
        39.19916157400124,
        42.86064971301885,
        46.51166421617686,
        50.15002273339401,
        53.77273823054595,
        57.37555307310045,
        60.952140010070465,
        64.49266340822994,
        67.98103646457436,
        71.38933876152049,
        74.34445096176097
       ],
       "line": {
        "color": "red",
        "width": 1
       },
       "lon": [
        9.060442628041336,
        8.139559027062864,
        7.163328556165618,
        6.117894581279736,
        4.985433349088366,
        3.742499914471076,
        2.357510610008895,
        0.7867906871840842,
        -1.0318477800241095,
        -3.189951129667379,
        -5.827543841717109,
        -9.168451500099978,
        -13.5887012075705,
        -19.025813487872476
       ],
       "mode": "lines",
       "type": "scattergeo",
       "uid": "bf4aa95a-b624-11e8-b5c6-0242ac110004"
      },
      "210": {
       "lat": [
        27.057809331977825,
        30.743504490831533,
        34.42306939998079,
        38.09546261076207,
        41.759439385499476,
        45.413449642426706,
        49.055481359260206,
        52.682813912931984,
        56.29161671692276,
        59.87627004722163,
        63.42816119698003,
        66.93343140197923,
        70.3684856247478,
        73.10039460894126
       ],
       "line": {
        "color": "red",
        "width": 1
       },
       "lon": [
        0.3751268334298642,
        -0.5331537111813198,
        -1.4933486046068443,
        -2.518390826008814,
        -3.624807258831422,
        -4.834187527831515,
        -6.175400135430298,
        -7.6880377772446336,
        -9.427954697093687,
        -11.476502254959826,
        -13.956590327297661,
        -17.061918798296542,
        -21.11276783861732,
        -25.512803779471046
       ],
       "mode": "lines",
       "type": "scattergeo",
       "uid": "bf4e9542-b624-11e8-b5c6-0242ac110004"
      },
      "211": {
       "lat": [
        35.24637727876241,
        38.9170013444721,
        42.578892695088584,
        46.23041384530351,
        49.869419630930665,
        53.49298296152796,
        57.096944903581665,
        60.675145896331344,
        64.21804736648386,
        65.30627434897045
       ],
       "line": {
        "color": "red",
        "width": 1
       },
       "lon": [
        -25.918210213551784,
        -26.959898938206905,
        -28.087294493554925,
        -29.323390498073703,
        -30.699101584413864,
        -32.25708371308562,
        -34.05792218000561,
        -36.19054810417939,
        -38.79052906354756,
        -39.721445316554934
       ],
       "mode": "lines",
       "type": "scattergeo",
       "uid": "bf4e968c-b624-11e8-b5c6-0242ac110004"
      },
      "212": {
       "lat": [
        70.42964776773525,
        66.9962014474966,
        63.491969841500534,
        59.94079184124874,
        56.356654020160676,
        52.74824034377191,
        49.12121235375648,
        45.479426213170214,
        41.82561870546784,
        38.161812318895585,
        34.48956403292226,
        30.81012318125734,
        28.639246240727665
       ],
       "line": {
        "color": "red",
        "width": 1
       },
       "lon": [
        32.08526480045408,
        28.01299175408568,
        24.893788826201373,
        22.404289662461732,
        20.34910552303519,
        18.60435564057372,
        17.088104077503328,
        15.744129850490681,
        14.532601808924532,
        13.424491547242308,
        12.398099341499982,
        11.436820788256574,
        10.89555163249627
       ],
       "mode": "lines",
       "type": "scattergeo",
       "uid": "bf4ea2bc-b624-11e8-b5c6-0242ac110004"
      },
      "213": {
       "lat": [
        74.66341460909328,
        71.38959170859015,
        67.98302085077935,
        64.49592635158187,
        60.95638585578601,
        57.380580805594704,
        53.77840616940329,
        50.15622790235996,
        46.51832980499209,
        42.867717169132675,
        39.206585445326404,
        35.53660507499577,
        31.85910067031955,
        28.972634621681696
       ],
       "line": {
        "color": "red",
        "width": 1
       },
       "lon": [
        15.469094273278593,
        9.288492489275747,
        4.8562404339751355,
        1.5061148627986434,
        -1.138709527547775,
        -3.302624670192615,
        -5.126042899944222,
        -6.7007769147437,
        -8.089201523499101,
        -9.335125001029928,
        -10.47022860080067,
        -11.518030107105066,
        -12.496408749656052,
        -13.22372999438804
       ],
       "mode": "lines",
       "type": "scattergeo",
       "uid": "bf4ea820-b624-11e8-b5c6-0242ac110004"
      },
      "214": {
       "lat": [
        75.45420062886589,
        72.22709097351861,
        68.84756863202351,
        65.37740148330005,
        61.84917635176521,
        58.281366549934376,
        54.68511161686691,
        51.06749204407263,
        47.43322089276131,
        43.7855707912479,
        42.1979774300402
       ],
       "line": {
        "color": "red",
        "width": 1
       },
       "lon": [
        -6.778884978398009,
        -13.560436603178948,
        -18.353216763067923,
        -21.931446103549796,
        -24.727879504867907,
        -26.996873919000127,
        -28.895697586427215,
        -30.526112930655295,
        -31.956627835870144,
        -33.23497784376666,
        -33.75175443661561
       ],
       "mode": "lines",
       "type": "scattergeo",
       "uid": "bf4eaa6e-b624-11e8-b5c6-0242ac110004"
      },
      "215": {
       "lat": [
        50.932895961458954,
        54.551195953429655,
        58.14833911875747,
        61.71735590915601,
        65.24730122190537,
        68.72006240770855,
        72.10376812448945,
        74.4516324473433
       ],
       "line": {
        "color": "red",
        "width": 1
       },
       "lon": [
        38.44831091343376,
        36.826307377871736,
        34.9389197563893,
        32.685932267275206,
        29.91271103309337,
        26.369609405514012,
        21.63271135136495,
        17.08175244898681
       ],
       "mode": "lines",
       "type": "scattergeo",
       "uid": "bf4ead48-b624-11e8-b5c6-0242ac110004"
      },
      "216": {
       "lat": [
        32.443052598671336,
        36.1194327346595,
        39.78809566773484,
        43.44767073707614,
        47.096417997245666,
        50.73203572974486,
        54.35135291028558,
        57.949820105826426,
        61.52063017713123,
        65.05312177094407,
        68.52970667663965,
        71.91954971295266,
        75.16461256766377,
        75.33001723902393
       ],
       "line": {
        "color": "red",
        "width": 1
       },
       "lon": [
        20.211208943370345,
        19.222773944667576,
        18.16237466849496,
        17.011364010617104,
        15.745124370955539,
        14.330360953996832,
        12.720830993646342,
        10.85036485296808,
        8.621006139865978,
        5.8819593621724096,
        2.3904215664272948,
        -2.264714273816923,
        -8.815805546591827,
        -9.235875443364986
       ],
       "mode": "lines",
       "type": "scattergeo",
       "uid": "bf4eb324-b624-11e8-b5c6-0242ac110004"
      },
      "217": {
       "lat": [
        27.09674841090737,
        30.782370615274345,
        34.46185136013453,
        38.13414720041395,
        41.46010159770276
       ],
       "line": {
        "color": "red",
        "width": 1
       },
       "lon": [
        -2.6550011730741887,
        -3.5638673142403947,
        -4.524776648727793,
        -5.550695963460872,
        -6.551987603933963
       ],
       "mode": "lines",
       "type": "scattergeo",
       "uid": "bf4eb48c-b624-11e8-b5c6-0242ac110004"
      },
      "22": {
       "lat": [
        29.759940569938752,
        33.441496714754145,
        37.116198188383606,
        40.78286843912066,
        44.4400587832015,
        48.08590974271014,
        51.71793425996358,
        55.33266816625558,
        58.925085161813,
        62.487573153443165,
        66.00804695709544,
        69.45271591037003
       ],
       "line": {
        "color": "red",
        "width": 1
       },
       "lon": [
        -15.53291261528715,
        -16.476222954844104,
        -17.480463835296618,
        -18.561043500807234,
        -19.73797130384812,
        -21.037833820109388,
        -22.496842109920344,
        -24.16568508392966,
        -26.117543793389224,
        -28.461871930933157,
        -31.369177972479736,
        -35.10072651017919
       ],
       "mode": "lines",
       "type": "scattergeo",
       "uid": "bf4aab76-b624-11e8-b5c6-0242ac110004"
      },
      "23": {
       "lat": [
        67.09860971759274,
        63.59491274600922,
        60.043991628895355,
        56.459964085392706,
        52.85158053524351,
        49.22453755326124,
        45.58271018631672,
        41.92884539945898,
        38.26497098810484,
        34.59264642464505,
        32.81554790158053
       ],
       "line": {
        "color": "red",
        "width": 1
       },
       "lon": [
        37.004101657144695,
        33.87032869422274,
        31.371944452316672,
        29.311225220352963,
        27.563007787594202,
        26.044616108435886,
        24.699384937760797,
        23.487206532400595,
        22.378875277929318,
        21.352575256767178,
        20.880965537765505
       ],
       "mode": "lines",
       "type": "scattergeo",
       "uid": "bf4aad88-b624-11e8-b5c6-0242ac110004"
      },
      "24": {
       "lat": [
        73.60701032540574,
        70.27920753501085,
        66.840369490717,
        63.33249973705566,
        59.778720324354,
        56.19263104183227,
        52.58269409975385,
        48.9544372571162,
        45.311632509399935,
        41.65696184544927,
        37.99241108132983,
        34.3195121014813,
        30.639496756167432,
        27.248079963350285
       ],
       "line": {
        "color": "red",
        "width": 1
       },
       "lon": [
        22.042329870580033,
        16.551759164713207,
        12.54199332330795,
        9.464599726362778,
        7.004379809463736,
        4.970518344705649,
        3.241817780765868,
        1.737986806252134,
        0.4038545783436206,
        -0.7997159959469066,
        -1.9012802871597216,
        -2.922206946599611,
        -3.8788632801852465,
        -4.7133850998941265
       ],
       "mode": "lines",
       "type": "scattergeo",
       "uid": "bf4aaf90-b624-11e8-b5c6-0242ac110004"
      },
      "25": {
       "lat": [
        75.55350483453523,
        72.32991378374592,
        68.95206682239983,
        65.48272901349195,
        61.95491802608935,
        58.38730719436241,
        54.79113492794336,
        51.17353302345231,
        47.539242052942505,
        43.89154961256826,
        40.23283037872598,
        36.56487073208921,
        35.81989110163704
       ],
       "line": {
        "color": "red",
        "width": 1
       },
       "lon": [
        2.3240640158874184,
        -4.520389750975414,
        -9.347730670931726,
        -12.94589715249474,
        -15.754319490456423,
        -18.030739219389933,
        -19.93423456677249,
        -21.5675871142584,
        -22.999904725756107,
        -24.279290083278912,
        -25.440255259699295,
        -26.508237539568466,
        -26.715325064412525
       ],
       "mode": "lines",
       "type": "scattergeo",
       "uid": "bf4ab198-b624-11e8-b5c6-0242ac110004"
      },
      "26": {
       "lat": [
        72.07161036208944,
        68.68493032329279,
        65.21011195866312,
        61.67866351503035,
        59.391045297753706
       ],
       "line": {
        "color": "red",
        "width": 1
       },
       "lon": [
        -29.156181295006576,
        -33.86565896541785,
        -37.38973896065805,
        -40.14919501747197,
        -41.636789620496266
       ],
       "mode": "lines",
       "type": "scattergeo",
       "uid": "bf4ab38c-b624-11e8-b5c6-0242ac110004"
      },
      "27": {
       "lat": [
        37.58504926694589,
        41.25059073286229,
        44.906440610791684,
        48.55067326316361,
        52.18069969484571,
        55.792895049708086,
        59.38197184962327,
        62.93987645220787,
        66.45373963039748,
        69.90182781459274,
        73.24496971427999,
        75.58166355684504
       ],
       "line": {
        "color": "red",
        "width": 1
       },
       "lon": [
        27.768290443232605,
        26.67659294387708,
        25.48556408277557,
        24.167585098876806,
        22.684914082767612,
        20.984521176394786,
        18.989520335780718,
        16.58435390638448,
        13.587989670191645,
        9.703059974300995,
        4.415142290081213,
        -0.8512901796293683
       ],
       "mode": "lines",
       "type": "scattergeo",
       "uid": "bf4ab58a-b624-11e8-b5c6-0242ac110004"
      },
      "28": {
       "lat": [
        27.59548068536268,
        31.28058425984226,
        34.95943473392829,
        38.63097066257114,
        42.29391627006188,
        45.94667351081984,
        49.587155852809204,
        53.212525290023,
        56.81876207916433,
        60.399931921228074,
        63.946877023624765,
        67.44474417288204,
        70.86800693365377,
        73.98219182296394
       ],
       "line": {
        "color": "red",
        "width": 1
       },
       "lon": [
        6.178439272968742,
        5.265050862871616,
        4.298181870401403,
        3.2644794807263926,
        2.146825636771261,
        0.9227831425901012,
        -0.4377580312181931,
        -1.9762595194794432,
        -3.7514764786090833,
        -5.849430502668482,
        -8.40086928963915,
        -11.613283977581682,
        -15.832476472771889,
        -21.265421648264617
       ],
       "mode": "lines",
       "type": "scattergeo",
       "uid": "bf4ab788-b624-11e8-b5c6-0242ac110004"
      },
      "29": {
       "lat": [
        31.17664474098651,
        34.85568523261019,
        38.5274436527691,
        42.19065153931208,
        45.84372187272744,
        49.484584928190365,
        53.11042878209558,
        56.717275204393744,
        60.29925821428339,
        63.847337327039085,
        67.34687162623658,
        68.32571225989997
       ],
       "line": {
        "color": "red",
        "width": 1
       },
       "lon": [
        -18.909858499505226,
        -19.87505152782518,
        -20.906655628721875,
        -22.02166386983166,
        -23.242335771052044,
        -24.59852260658439,
        -26.131297709463883,
        -27.898816197346342,
        -29.986137559248483,
        -32.522400850031026,
        -35.71227794408655,
        -36.776236517787495
       ],
       "mode": "lines",
       "type": "scattergeo",
       "uid": "bf4ab972-b624-11e8-b5c6-0242ac110004"
      },
      "3": {
       "lat": [
        71.99748238179248,
        68.60823150854984,
        65.13180053138875,
        61.59927086433012,
        58.02833855173485,
        54.429714374747675,
        50.81022860086927,
        47.17444129409389,
        43.52552791799592,
        39.86579147187464,
        36.19697154685519,
        32.52043760730467,
        28.837313451922654,
        27.34089916188214
       ],
       "line": {
        "color": "red",
        "width": 1
       },
       "lon": [
        28.180664933746325,
        23.50484509599222,
        20.00207622252572,
        17.256804094780136,
        15.024016319315578,
        13.151758329329798,
        11.541434395187899,
        10.126506669243097,
        8.860512584192948,
        7.710022319729217,
        6.650333372245488,
        5.662745265482737,
        4.732777349912515,
        4.369093795526818
       ],
       "mode": "lines",
       "type": "scattergeo",
       "uid": "bf4a7c3c-b624-11e8-b5c6-0242ac110004"
      },
      "30": {
       "lat": [
        68.4353672041762,
        64.95561998142377,
        61.42088663587708,
        57.84840567607356,
        54.24864051391943,
        50.62827997021208,
        46.99179946083769,
        43.34232193269744,
        39.68211689406095,
        36.012902152606046,
        32.336032827179025,
        31.034039008903328
       ],
       "line": {
        "color": "red",
        "width": 1
       },
       "lon": [
        35.42998359007896,
        31.972646071084114,
        29.257442791368085,
        27.04541158483778,
        25.187989588972,
        23.58857694813803,
        22.181862819516233,
        20.9221683817665,
        19.776581258882118,
        18.720750567636838,
        17.736220017530393,
        17.40230771080059
       ],
       "mode": "lines",
       "type": "scattergeo",
       "uid": "bf4abbac-b624-11e8-b5c6-0242ac110004"
      },
      "31": {
       "lat": [
        74.0167551001728,
        70.70769989002517,
        67.28007213703157,
        63.7794149243213,
        60.230571148265774,
        56.64803929005599,
        53.04078104311205,
        49.41461646280815,
        45.77349585613658,
        42.12021359653328,
        38.45682809822156,
        34.78491896147596,
        31.105749729254274,
        27.6387543496495
       ],
       "line": {
        "color": "red",
        "width": 1
       },
       "lon": [
        19.867491097681523,
        14.130845020007852,
        9.970384915989,
        6.7957039816604965,
        4.269680238087867,
        2.1895369479092395,
        0.42721747828119183,
        -1.1016896975420465,
        -2.4549352674226848,
        -3.673330789126345,
        -4.786552699647696,
        -5.816740570028635,
        -6.780803287701072,
        -7.639266238016002
       ],
       "mode": "lines",
       "type": "scattergeo",
       "uid": "bf4abddc-b624-11e8-b5c6-0242ac110004"
      },
      "32": {
       "lat": [
        75.58187139495189,
        72.3601962555417,
        68.98345071722736,
        65.51479857211632,
        61.9874443328222,
        58.42015554278363,
        54.82422144348217,
        51.206802880188455,
        47.572657825198036,
        43.92508469766128,
        40.26646510645203,
        37.768491711323065
       ],
       "line": {
        "color": "red",
        "width": 1
       },
       "lon": [
        -0.6186091375961472,
        -7.487208721621934,
        -12.328969745059084,
        -15.936217189509703,
        -18.750654317749873,
        -21.03123426672757,
        -22.937712822752086,
        -24.573269343257994,
        -26.00725577224468,
        -27.287930494216855,
        -28.449908308384007,
        -29.186906140793425
       ],
       "mode": "lines",
       "type": "scattergeo",
       "uid": "bf4abfe4-b624-11e8-b5c6-0242ac110004"
      },
      "33": {
       "lat": [
        58.92435936635046,
        62.48682488581769,
        66.00727145322305,
        69.46544186509853,
        72.2590416036975
       ],
       "line": {
        "color": "red",
        "width": 1
       },
       "lon": [
        40.44507823225878,
        38.100634638752176,
        35.19320700572057,
        31.444501405428277,
        27.368577524143966
       ],
       "mode": "lines",
       "type": "scattergeo",
       "uid": "bf4ac1e2-b624-11e8-b5c6-0242ac110004"
      },
      "34": {
       "lat": [
        35.65450034730422,
        39.324511297258816,
        42.98565779594376,
        46.63626424955129,
        50.27412576704701,
        53.89622027665918,
        57.49823418916886,
        61.073747694210404,
        64.61276510472509,
        68.09890733189776,
        71.50368424703613,
        74.77394653433873,
        75.54820740167331
       ],
       "line": {
        "color": "red",
        "width": 1
       },
       "lon": [
        25.289034269018575,
        24.240857969111218,
        23.10494788556495,
        21.857626032106296,
        20.46696793328583,
        18.888786020194864,
        17.060095333501938,
        14.888063516948588,
        12.230500251217011,
        8.85975394603432,
        4.392697624109519,
        -1.8496466739946231,
        -3.784737515928206
       ],
       "mode": "lines",
       "type": "scattergeo",
       "uid": "bf4ac3e0-b624-11e8-b5c6-0242ac110004"
      },
      "35": {
       "lat": [
        27.222842893284398,
        30.90851990259415,
        34.58804174228085,
        38.26036406682776,
        41.924236784510356,
        45.57810058330167,
        49.21992797052651,
        52.846972526297506,
        56.45536017530344,
        60.03939609520761,
        63.590333120298176,
        67.09405984410752,
        70.52647692460734,
        73.56697201235325
       ],
       "line": {
        "color": "red",
        "width": 1
       },
       "lon": [
        3.2476887751046912,
        2.3390350569322145,
        1.3780817616110321,
        0.35179051224708124,
        -0.7565165142795613,
        -1.9686498596636215,
        -3.3138067526918205,
        -4.832081942172283,
        -6.580119929048013,
        -8.6405622752877,
        -11.138513338022692,
        -14.271589531456355,
        -18.367433084575257,
        -23.436824121252087
       ],
       "mode": "lines",
       "type": "scattergeo",
       "uid": "bf4ac5d4-b624-11e8-b5c6-0242ac110004"
      },
      "36": {
       "lat": [
        32.998600668077394,
        36.67417373131705,
        40.34186833198187,
        44.000274434082144,
        47.64759117788048,
        51.281421715865505,
        54.89844375825857,
        58.493860833611826,
        62.06044762287712,
        65.58680170087592,
        66.96329005517707
       ],
       "line": {
        "color": "red",
        "width": 1
       },
       "lon": [
        -22.40079068761412,
        -23.397040142214234,
        -24.467568853942165,
        -25.631745565091546,
        -26.91523260046888,
        -28.352873785913218,
        -29.993275269991774,
        -31.906335188752934,
        -34.19612483078236,
        -37.02392260872946,
        -38.3402591382856
       ],
       "mode": "lines",
       "type": "scattergeo",
       "uid": "bf4ac7c8-b624-11e8-b5c6-0242ac110004"
      },
      "37": {
       "lat": [
        69.54374647990718,
        66.08735462674704,
        62.56807480669955,
        59.00642084509787,
        55.414615739970436,
        51.8003496483188,
        48.16869529185782,
        44.52314554409681,
        40.86620576269424,
        37.199747363165216,
        33.52522694289789,
        29.84382635139674,
        29.650243568859413
       ],
       "line": {
        "color": "red",
        "width": 1
       },
       "lon": [
        33.7472424293755,
        29.974592376053863,
        27.051477878986525,
        24.69629072519827,
        22.736690430919367,
        21.06215649065716,
        19.59885736796938,
        18.2956918013489,
        17.11617810182921,
        16.03354672697084,
        15.027661445575662,
        14.083024128786512,
        14.034845863703968
       ],
       "mode": "lines",
       "type": "scattergeo",
       "uid": "bf4aca0c-b624-11e8-b5c6-0242ac110004"
      },
      "38": {
       "lat": [
        74.3740697662945,
        71.08262944795422,
        67.66543640821905,
        64.17143956717385,
        60.627123269348665,
        57.04783638612388,
        53.44301006481007,
        49.818737574432866,
        46.17913516436329,
        42.52710144558731,
        38.864762003388094,
        35.19374051678585,
        31.515329783018647,
        28.227622832615047
       ],
       "line": {
        "color": "red",
        "width": 1
       },
       "lon": [
        17.6244682357641,
        11.657775099919911,
        7.357323695525844,
        4.092800466294065,
        1.5063153834214573,
        -0.6161746287028931,
        -2.4091490829272644,
        -3.9608579144116107,
        -5.331444112656621,
        -6.563265827385898,
        -7.687031430472596,
        -8.725587746116913,
        -9.696340355909552,
        -10.516423798262306
       ],
       "mode": "lines",
       "type": "scattergeo",
       "uid": "bf4acc00-b624-11e8-b5c6-0242ac110004"
      },
      "39": {
       "lat": [
        75.54951062863154,
        72.32578562744847,
        68.94787684362055,
        65.47850985254668,
        61.950685434698954,
        58.38306916868357,
        54.78689567711995,
        51.1692948196407,
        47.53500614832354,
        43.887316717990814,
        40.22860092439153,
        39.92807396706245
       ],
       "line": {
        "color": "red",
        "width": 1
       },
       "lon": [
        -3.7226470125830637,
        -10.56460730742241,
        -15.390591227105562,
        -18.987983208984005,
        -21.795945654149264,
        -24.07208484625808,
        -25.97540746853519,
        -27.608654674881304,
        -29.040910908833315,
        -30.32026415419514,
        -31.481217622530806,
        -31.57202075878629
       ],
       "mode": "lines",
       "type": "scattergeo",
       "uid": "bf4acdfe-b624-11e8-b5c6-0242ac110004"
      },
      "4": {
       "lat": [
        75.16886476949013,
        71.92108330349775,
        68.52932562297086,
        65.05133116724056,
        61.517759279659074,
        57.94609224302855,
        54.346925102596835,
        50.72702184171849,
        47.090902784020166,
        43.44171868451363,
        39.78175674446344,
        36.1127462466158,
        32.43604983904029,
        31.165863943422234
       ],
       "line": {
        "color": "red",
        "width": 1
       },
       "lon": [
        10.38902449195992,
        3.854459780905417,
        -0.7878393299375399,
        -4.269457960604488,
        -7.000704885426653,
        -9.223790403471899,
        -11.08909721402428,
        -12.694294967671325,
        -14.105352149166947,
        -15.368367262812546,
        -16.51652957018543,
        -17.57437786962805,
        -18.560499077008128,
        -18.886817491028523
       ],
       "mode": "lines",
       "type": "scattergeo",
       "uid": "bf4a7ef8-b624-11e8-b5c6-0242ac110004"
      },
      "40": {
       "lat": [
        54.49211042393878,
        58.09025368728677,
        61.66054409000179,
        65.19217635152845,
        68.66728138511232,
        72.05443907751281,
        73.66770219313952
       ],
       "line": {
        "color": "red",
        "width": 1
       },
       "lon": [
        39.78678427230621,
        37.90876141030342,
        35.66801724349575,
        32.91136531089329,
        29.391609402338617,
        24.689136482036325,
        21.74192381531577
       ],
       "mode": "lines",
       "type": "scattergeo",
       "uid": "bf4acffc-b624-11e8-b5c6-0242ac110004"
      },
      "41": {
       "lat": [
        33.92563708626207,
        37.59933551326375,
        41.26482816666772,
        44.92062104317213,
        48.56478598252839,
        52.19473017968974,
        55.80682287470682,
        59.39576713739788,
        62.953493564113536,
        66.46710530029931,
        69.9148173502282,
        73.25735582148796,
        75.46232251127942
       ],
       "line": {
        "color": "red",
        "width": 1
       },
       "lon": [
        22.736401059259265,
        21.72294587327492,
        20.630802646922202,
        19.439223897057612,
        18.120555792098102,
        16.637004197064176,
        14.93546067276665,
        12.938915426512937,
        10.531608257006345,
        7.532161112220787,
        3.6425849150877525,
        -1.652707137307154,
        -6.5810465949942945
       ],
       "mode": "lines",
       "type": "scattergeo",
       "uid": "bf4ad466-b624-11e8-b5c6-0242ac110004"
      },
      "42": {
       "lat": [
        27.055447090750338,
        30.74137535142959,
        34.42119172592465,
        38.09385926043255,
        41.75813897962322,
        45.41248834367153,
        49.0549054189811,
        52.682683399867294,
        56.292011121234296,
        59.87729695641932,
        63.4299701684272,
        66.93623688709042,
        70.37260589741233,
        73.09306878135175
       ],
       "line": {
        "color": "red",
        "width": 1
       },
       "lon": [
        0.26735212458109686,
        -0.6392334958370366,
        -1.5975987186308482,
        -2.620644222590761,
        -3.724856036585467,
        -4.931771336188421,
        -6.270189283843215,
        -7.779610604700179,
        -9.515764194762708,
        -11.55982913846985,
        -14.034475285966288,
        -17.13307320585182,
        -21.175482639103503,
        -25.542889266641218
       ],
       "mode": "lines",
       "type": "scattergeo",
       "uid": "bf4ad664-b624-11e8-b5c6-0242ac110004"
      },
      "43": {
       "lat": [
        35.33764203434196,
        39.00834360598517,
        42.67030606928474,
        46.3218896472196,
        49.960944212040594,
        53.58453302625288,
        57.188479040228145,
        60.76658864112789,
        64.30925772343147,
        65.26024707189275
       ],
       "line": {
        "color": "red",
        "width": 1
       },
       "lon": [
        -26.0474314209658,
        -27.089006965054757,
        -28.21657567312924,
        -29.45324094773659,
        -30.830086049674346,
        -32.390032255120616,
        -34.194095028995505,
        -36.33192866742549,
        -38.94036961020569,
        -39.75299868551633
       ],
       "mode": "lines",
       "type": "scattergeo",
       "uid": "bf4ad862-b624-11e8-b5c6-0242ac110004"
      },
      "44": {
       "lat": [
        70.48204156332817,
        67.04850610949944,
        63.54406462582544,
        59.992641606439385,
        56.40825750648829,
        52.79960914026144,
        49.17236198262227,
        45.530372281525196,
        41.87637527285551,
        38.212391262888154,
        34.539974870220604,
        30.860373093910944,
        28.600279306994757
       ],
       "line": {
        "color": "red",
        "width": 1
       },
       "lon": [
        31.976497574059007,
        27.895980012542996,
        24.772755235558236,
        22.28143788290674,
        20.22563949557479,
        18.48095790156152,
        16.96517283883026,
        15.621902629361559,
        14.411222851615006,
        13.304050065550053,
        12.27865195546728,
        11.318405115719035,
        10.755924903845399
       ],
       "mode": "lines",
       "type": "scattergeo",
       "uid": "bf4ada92-b624-11e8-b5c6-0242ac110004"
      },
      "45": {
       "lat": [
        74.682985559302,
        71.40782892515094,
        68.00020237773744,
        64.51226880420154,
        60.972049794261416,
        57.39568499764277,
        53.79303948875443,
        50.17045783596896,
        46.53220832501259,
        42.881284782084826,
        39.21987401492581,
        35.54963981996988,
        31.87190160061653,
        29.010359002669748
       ],
       "line": {
        "color": "red",
        "width": 1
       },
       "lon": [
        15.308936252823617,
        9.130624394301481,
        4.702097139296995,
        1.3558085824800883,
        -1.2854556675764577,
        -3.4461702192328834,
        -5.266731498465808,
        -6.838909167469531,
        -8.225031007641576,
        -9.468862651439817,
        -10.602048756528403,
        -11.648076351596332,
        -12.624799098821525,
        -13.344712309705848
       ],
       "mode": "lines",
       "type": "scattergeo",
       "uid": "bf4adca4-b624-11e8-b5c6-0242ac110004"
      },
      "46": {
       "lat": [
        75.44401561989989,
        72.21356657826509,
        68.8318178312158,
        65.3600766281292,
        61.830681528369155,
        58.261965309152686,
        54.66498363368049,
        51.04676446573796,
        47.411986568502996,
        43.76389936017621,
        42.3118204262383
       ],
       "line": {
        "color": "red",
        "width": 1
       },
       "lon": [
        -7.018026788039557,
        -13.773397657199054,
        -18.54789710878596,
        -22.113002053684557,
        -24.899672056121904,
        -27.16115313601526,
        -29.054018775417955,
        -30.679584361471207,
        -32.10606107357254,
        -33.38098086391339,
        -33.85319932744006
       ],
       "mode": "lines",
       "type": "scattergeo",
       "uid": "bf4adea2-b624-11e8-b5c6-0242ac110004"
      },
      "47": {
       "lat": [
        50.82794858815291,
        54.447275012973336,
        58.04569970841122,
        61.61637328801871,
        65.14855269284133,
        68.62448427909023,
        72.01297696656403,
        74.4583038600556
       ],
       "line": {
        "color": "red",
        "width": 1
       },
       "lon": [
        38.39919167055556,
        36.78727139738816,
        34.91293650689087,
        32.677364204153,
        29.928222544577036,
        26.419844335512362,
        21.735488097715336,
        17.033977940407546
       ],
       "mode": "lines",
       "type": "scattergeo",
       "uid": "bf4ae096-b624-11e8-b5c6-0242ac110004"
      },
      "48": {
       "lat": [
        32.392784525425405,
        36.06952632967027,
        39.73859301755964,
        43.3986244964549,
        47.047895526136976,
        50.68412532254488,
        54.30417346165214,
        57.903536653855475,
        61.4754799668214,
        65.00946013929668,
        68.48809244614439,
        71.88091398641981,
        75.13061133746022,
        75.32871350882074
       ],
       "line": {
        "color": "red",
        "width": 1
       },
       "lon": [
        20.1187801507021,
        19.133138300177407,
        18.07593459631179,
        16.92863394258712,
        15.666772820606129,
        14.257273756803986,
        12.654209819900744,
        10.791883218216896,
        8.573068640133242,
        5.8481470271109055,
        2.3762852572434756,
        -2.2502115424031413,
        -8.7577756429383,
        -9.257753181415298
       ],
       "mode": "lines",
       "type": "scattergeo",
       "uid": "bf4ae280-b624-11e8-b5c6-0242ac110004"
      },
      "49": {
       "lat": [
        27.10224324499504,
        30.78809373919671,
        34.46781967693622,
        38.140381903919945,
        41.80453816903043,
        45.458741029209726,
        49.10098112765197,
        52.728540218302854,
        56.33758906067461,
        59.92250652155242,
        63.4746716590445,
        66.98020068418295,
        70.41543105014937,
        72.55281894927154
       ],
       "line": {
        "color": "red",
        "width": 1
       },
       "lon": [
        -2.764396335313854,
        -3.6716140108872306,
        -4.6307604121303125,
        -5.654775483579605,
        -6.760199950869204,
        -7.968648434431387,
        -9.309033056466378,
        -10.82102218246208,
        -12.56060258440802,
        -14.609364237194988,
        -17.090658272036112,
        -20.199040233043643,
        -24.256533614136814,
        -27.585122426054326
       ],
       "mode": "lines",
       "type": "scattergeo",
       "uid": "bf4ae474-b624-11e8-b5c6-0242ac110004"
      },
      "5": {
       "lat": [
        74.91388337880592,
        71.65123278545826,
        68.25086243025383,
        64.76747559533395,
        61.230297397624234,
        57.65608102192937,
        54.055025484911425,
        50.433667349108156,
        47.890199055274266
       ],
       "line": {
        "color": "red",
        "width": 1
       },
       "lon": [
        -14.437169204245052,
        -20.779564659965263,
        -25.306609875740477,
        -28.715304107252873,
        -31.398074634472973,
        -33.58755626862874,
        -35.42874538812549,
        -37.016132463407196,
        -38.01098694479138
       ],
       "mode": "lines",
       "type": "scattergeo",
       "uid": "bf4a80ec-b624-11e8-b5c6-0242ac110004"
      },
      "50": {
       "lat": [
        38.4144042590344,
        42.077874782543134,
        45.73126012876407,
        49.372507945975,
        52.99883339044077,
        56.606301486164575,
        60.18911764204435,
        63.00360798392393
       ],
       "line": {
        "color": "red",
        "width": 1
       },
       "lon": [
        -29.935680746795654,
        -31.047982025383305,
        -32.26518125803567,
        -33.6168550171985,
        -35.143664637461484,
        -36.90312765545554,
        -38.979280504872364,
        -40.930395691420394
       ],
       "mode": "lines",
       "type": "scattergeo",
       "uid": "bf4ae672-b624-11e8-b5c6-0242ac110004"
      },
      "51": {
       "lat": [
        71.28769271562952,
        67.87652898186008,
        64.38636409109155,
        60.84464376652168,
        57.26721248299558,
        53.66377386848648,
        50.04057926951879,
        46.401840726950546,
        42.75051693481799,
        39.08877217005523,
        35.418255505684,
        31.74027661034826,
        28.055919565398817,
        27.84200403008095
       ],
       "line": {
        "color": "red",
        "width": 1
       },
       "lon": [
        30.12980743231008,
        25.748961796913747,
        22.433016699845275,
        19.81202007657191,
        17.665407750102805,
        15.854995945060777,
        14.290328270479215,
        12.909890472919562,
        11.67044003886294,
        10.540679706408474,
        9.497359607539728,
        8.522791818181837,
        7.603216848785107,
        7.551315700561718
       ],
       "mode": "lines",
       "type": "scattergeo",
       "uid": "bf4ae85c-b624-11e8-b5c6-0242ac110004"
      },
      "52": {
       "lat": [
        74.94620958689951,
        71.68577661973802,
        68.2867379766391,
        64.80421407029358,
        61.267631902569725,
        57.69384963451873,
        54.093124542236936,
        50.472027352719984,
        46.83496270941582,
        43.18500960948668,
        39.524409519424545,
        35.85486200695564,
        32.17771018442354,
        29.98434068728887
       ],
       "line": {
        "color": "red",
        "width": 1
       },
       "lon": [
        12.915154840885352,
        6.546399451519095,
        2.003144719882585,
        -1.416054839033963,
        -4.1059753654139985,
        -6.300532072933788,
        -8.145452837980827,
        -9.73566605336934,
        -11.135453282949301,
        -12.389834968072883,
        -13.531288295545957,
        -14.583868279100273,
        -15.56582537097181,
        -16.12310182987007
       ],
       "mode": "lines",
       "type": "scattergeo",
       "uid": "bf4aea5a-b624-11e8-b5c6-0242ac110004"
      },
      "53": {
       "lat": [
        75.24561080318323,
        72.00287205924317,
        68.614069593923,
        65.13794759511518,
        61.60564303425795,
        58.03488239413463,
        54.43639415524505,
        50.8170194268964,
        47.18132521384986,
        44.94006103517439
       ],
       "line": {
        "color": "red",
        "width": 1
       },
       "lon": [
        -10.54549932978246,
        -17.1425219683681,
        -21.822581948927947,
        -25.328274687641528,
        -28.075652408920902,
        -30.310016451049886,
        -32.18349450651072,
        -33.79479015511748,
        -35.21051101868935,
        -36.00431892004029
       ],
       "mode": "lines",
       "type": "scattergeo",
       "uid": "bf4aec58-b624-11e8-b5c6-0242ac110004"
      },
      "54": {
       "lat": [
        47.61219028015447,
        51.24613513378223,
        54.863304534130755,
        58.45891828973048,
        62.02577875050615,
        65.55253275532347,
        69.02029518446098,
        72.39563014875304,
        74.95166166434211
       ],
       "line": {
        "color": "red",
        "width": 1
       },
       "lon": [
        36.63957093059034,
        35.20341196916388,
        33.56501665693132,
        31.65473334048335,
        29.368896843862935,
        26.546927176091092,
        22.92840601998937,
        18.06889903313318,
        12.859921568662186
       ],
       "mode": "lines",
       "type": "scattergeo",
       "uid": "bf4aee4c-b624-11e8-b5c6-0242ac110004"
      },
      "55": {
       "lat": [
        31.05238150290815,
        34.73162337267689,
        38.4036195324683,
        42.067109586132034,
        45.72051878580354,
        49.36179624411393,
        52.98815943348103,
        56.59567712342285,
        60.17856097219158,
        63.72790423382145,
        67.22930869002543,
        70.65812625765889,
        73.96922073613753,
        75.15000611482706
       ],
       "line": {
        "color": "red",
        "width": 1
       },
       "lon": [
        17.44220600441558,
        16.478824044918483,
        15.449516381891042,
        14.337433170583319,
        13.120520106076276,
        11.769225452929351,
        10.242925313785578,
        8.48416036962536,
        6.408988070695881,
        3.890139841938295,
        0.7262254992462793,
        -3.4173092709959794,
        -9.125901284052855,
        -11.828816782978741
       ],
       "mode": "lines",
       "type": "scattergeo",
       "uid": "bf4af086-b624-11e8-b5c6-0242ac110004"
      },
      "56": {
       "lat": [
        27.37528904046489,
        31.060711984779314,
        34.73993825236573,
        38.411916187545096,
        42.07538480788161,
        45.72876848414703,
        49.37001498915148,
        52.99633972171358,
        56.603808160380545,
        60.18662656436544,
        63.73587894954569,
        67.23715044537965,
        70.66576100803393,
        71.93602224959646
       ],
       "line": {
        "color": "red",
        "width": 1
       },
       "lon": [
        -5.85056147029199,
        -6.761288846486066,
        -7.724807280101213,
        -8.754285191299441,
        -9.866582331976028,
        -11.083767103772393,
        -12.435411759646572,
        -13.962170869932416,
        -15.721551064419192,
        -17.797570557682953,
        -20.317624076234253,
        -23.48332220022207,
        -27.629623859800333,
        -29.563533435703132
       ],
       "mode": "lines",
       "type": "scattergeo",
       "uid": "bf4af2fc-b624-11e8-b5c6-0242ac110004"
      },
      "57": {
       "lat": [
        42.83683587587062,
        46.48788132775632,
        50.12628106833014,
        53.74905268086223,
        57.351946264671106,
        59.59417372362364
       ],
       "line": {
        "color": "red",
        "width": 1
       },
       "lon": [
        -34.31185877233109,
        -35.55429728686169,
        -36.9385951839341,
        -38.50834321757232,
        -40.32559649358179,
        -41.62790481758106
       ],
       "mode": "lines",
       "type": "scattergeo",
       "uid": "bf4af50e-b624-11e8-b5c6-0242ac110004"
      },
      "58": {
       "lat": [
        59.93156216821503,
        56.34673576942623,
        52.73775697260656,
        49.11025364279829,
        45.46805920413128,
        42.41447884025209
       ],
       "line": {
        "color": "red",
        "width": 1
       },
       "lon": [
        40.405853161330654,
        38.35602144980651,
        36.61564670901639,
        35.10305148209989,
        33.76219351705796,
        32.744064849659786
       ],
       "mode": "lines",
       "type": "scattergeo",
       "uid": "bf4af6f8-b624-11e8-b5c6-0242ac110004"
      },
      "59": {
       "lat": [
        71.98626443138261,
        68.59695251487908,
        65.1205172520581,
        61.5880067556931,
        58.01710287394041,
        54.4185101147372,
        50.79905596826332,
        47.16329934187424,
        43.51441532072393,
        39.85470690644852,
        36.18591387822724,
        32.50940597555655,
        28.826307308393996,
        27.345969716118844
       ],
       "line": {
        "color": "red",
        "width": 1
       },
       "lon": [
        28.214260297200166,
        23.541260728923774,
        20.03998423495758,
        17.295509317400864,
        15.063135105029577,
        13.19106901216227,
        11.58080384372002,
        10.16585224550256,
        8.899781468284289,
        7.749179784399869,
        6.689355878814989,
        5.70161625954011,
        4.771484619863819,
        4.411598214810413
       ],
       "mode": "lines",
       "type": "scattergeo",
       "uid": "bf4af8e2-b624-11e8-b5c6-0242ac110004"
      },
      "6": {
       "lat": [
        44.69590046891216,
        48.34088768369521,
        51.97184498497332,
        55.585222158683315,
        59.175853020950605,
        62.73588902558416,
        66.25282533223934,
        69.70561584896689,
        73.05648034840078,
        75.26690472242647
       ],
       "line": {
        "color": "red",
        "width": 1
       },
       "lon": [
        34.61936217356518,
        33.30977273029094,
        31.838044531134607,
        30.152226766479544,
        28.177142001935675,
        25.800049527729715,
        22.84477783509928,
        19.022770758124942,
        13.836334116054298,
        9.033509638724743
       ],
       "mode": "lines",
       "type": "scattergeo",
       "uid": "bf4a82e0-b624-11e8-b5c6-0242ac110004"
      },
      "60": {
       "lat": [
        75.16522174979175,
        71.91768888537663,
        68.52612885250042,
        65.04829138516618,
        61.51484617086604,
        57.94328336912394,
        54.34420369105859,
        50.724375176059894,
        47.088321086496435,
        43.43919434486974,
        39.77928378264071,
        36.110319933054875,
        32.43366642215663,
        31.148488287584748
       ],
       "line": {
        "color": "red",
        "width": 1
       },
       "lon": [
        10.435807700634474,
        3.9009409663703676,
        -0.7420014114675106,
        -4.224311204900207,
        -6.956208206376119,
        -9.179881185410235,
        -11.045713180703759,
        -12.651381408635645,
        -14.062862126722203,
        -15.326261737748432,
        -16.474776212033973,
        -17.53295001583111,
        -18.519374819109892,
        -18.849610435218032
       ],
       "mode": "lines",
       "type": "scattergeo",
       "uid": "bf4afacc-b624-11e8-b5c6-0242ac110004"
      },
      "61": {
       "lat": [
        74.921347559158,
        71.65957371336256,
        68.25976514865346,
        64.77676363742292,
        61.23986509970166,
        57.66586132402258,
        54.0649736878963,
        50.44375240143573,
        47.845991092367406
       ],
       "line": {
        "color": "red",
        "width": 1
       },
       "lon": [
        -14.36362871712277,
        -20.71454675856126,
        -25.247159878847597,
        -28.659661245457883,
        -31.345154180492088,
        -33.536660795646206,
        -35.37940777085424,
        -36.96802827090022,
        -37.98397258154046
       ],
       "mode": "lines",
       "type": "scattergeo",
       "uid": "bf4afcb6-b624-11e8-b5c6-0242ac110004"
      },
      "62": {
       "lat": [
        44.72808728665734,
        48.37289279194436,
        52.00363153039799,
        55.61673880254578,
        59.20702551080891,
        62.76660536857239,
        66.28290823601282,
        69.7347681652262,
        73.0841694285315,
        75.26510364536647
       ],
       "line": {
        "color": "red",
        "width": 1
       },
       "lon": [
        34.643913641987304,
        33.33256602835808,
        31.858622304909954,
        30.169948181398688,
        28.19108030452915,
        25.808814443138754,
        22.846194780299292,
        19.013272550023903,
        13.809776740889827,
        9.060329643374615
       ],
       "mode": "lines",
       "type": "scattergeo",
       "uid": "bf4afed2-b624-11e8-b5c6-0242ac110004"
      },
      "63": {
       "lat": [
        29.902586262535515,
        33.58385974984635,
        37.258233671521666,
        40.92452207109244,
        44.581262287356076,
        48.22657384250455,
        51.85793759344061,
        55.471839185605944,
        59.063171360425365,
        62.62418619332112,
        66.14255921729249,
        69.59758749746862,
        72.9521908937591,
        74.92721887056531
       ],
       "line": {
        "color": "red",
        "width": 1
       },
       "lon": [
        14.710989393438629,
        13.765296991427995,
        12.758122697471524,
        11.673902327683077,
        10.492407294169446,
        9.186734627289807,
        7.720206103193516,
        6.04142184521844,
        4.076080855118389,
        1.7128938474331936,
        -1.2217945531964332,
        -5.011955089341897,
        -10.146514476786427,
        -14.305444610812923
       ],
       "mode": "lines",
       "type": "scattergeo",
       "uid": "bf4b006c-b624-11e8-b5c6-0242ac110004"
      },
      "64": {
       "lat": [
        27.89075472462956,
        31.575362094013975,
        35.25363493334697,
        38.92449704090723,
        42.58665062712571,
        46.238464603511176,
        49.87780222711605,
        53.50174773775781,
        57.10615780089379,
        60.68489485062554,
        64.22845206092964,
        67.72134415742583,
        71.13682470508927,
        71.22899796221515
       ],
       "line": {
        "color": "red",
        "width": 1
       },
       "lon": [
        -8.99566562263102,
        -9.913138105619794,
        -10.885066657565538,
        -11.925065743032288,
        -13.050619157467482,
        -14.284685047202228,
        -15.658133629980325,
        -17.21356489366258,
        -19.011494887220035,
        -21.140770752137044,
        -23.73686819270152,
        -27.015573666379396,
        -31.337978765341465,
        -31.476345940657904
       ],
       "mode": "lines",
       "type": "scattergeo",
       "uid": "bf4b0314-b624-11e8-b5c6-0242ac110004"
      },
      "65": {
       "lat": [
        63.20308666880943,
        59.64804739315247,
        56.06105729170957,
        52.450447456395985,
        48.821669175451085,
        45.17844801074463,
        41.52343686552333,
        38.144107432057496
       ],
       "line": {
        "color": "red",
        "width": 1
       },
       "lon": [
        39.65277212873086,
        37.210111901534674,
        35.18853307547306,
        33.46869521075241,
        31.971422625914034,
        30.642242428859934,
        29.44247006951128,
        28.42623659820423
       ],
       "mode": "lines",
       "type": "scattergeo",
       "uid": "bf4b06a2-b624-11e8-b5c6-0242ac110004"
      },
      "66": {
       "lat": [
        72.59596673850713,
        69.22791672080176,
        65.76465307911353,
        62.240873800131006,
        58.67609658314151,
        55.082014036880715,
        51.46601682430641,
        47.833000216905894,
        44.186347834824446,
        40.5284957450331,
        36.86127045127214,
        33.186099018472554,
        29.50414373292397,
        27.090835693825298
       ],
       "line": {
        "color": "red",
        "width": 1
       },
       "lon": [
        26.233740427553798,
        21.277769667285824,
        17.598825624469896,
        14.737038393933672,
        12.42379470633519,
        10.493950196765873,
        8.841170095730085,
        7.394170412817762,
        6.1034627039413945,
        4.933621886548093,
        3.858591920022868,
        2.858729929647628,
        1.9188865717433348,
        1.330365245432407
       ],
       "mode": "lines",
       "type": "scattergeo",
       "uid": "bf4b0b0c-b624-11e8-b5c6-0242ac110004"
      },
      "67": {
       "lat": [
        75.34026700816092,
        72.1035064905744,
        68.71816107235844,
        65.24420171590182,
        61.71334338373891,
        58.143605581684284,
        54.54587562695086,
        50.92708573244539,
        47.291857625620786,
        43.643405484836585,
        39.98405733955679,
        36.3155693295968,
        32.63932203975892,
        32.50320553645722
       ],
       "line": {
        "color": "red",
        "width": 1
       },
       "lon": [
        7.861741311960539,
        1.1887478553298445,
        -3.536839969012247,
        -7.071310039932043,
        -9.837808168807028,
        -12.085429283647326,
        -13.96843065481078,
        -15.586770552779104,
        -17.007828909661775,
        -18.278609003565933,
        -19.43289956387567,
        -20.49564807558536,
        -21.48572711899148,
        -21.52115685265912
       ],
       "mode": "lines",
       "type": "scattergeo",
       "uid": "bf4b0d3c-b624-11e8-b5c6-0242ac110004"
      },
      "68": {
       "lat": [
        74.41165586208233,
        71.12239955835607,
        67.70652334732043,
        64.21338200959768,
        60.66965741034402,
        57.09080169727441,
        53.48630357343463,
        51.08903402376934
       ],
       "line": {
        "color": "red",
        "width": 1
       },
       "lon": [
        -18.564342443239248,
        -24.557860895943968,
        -28.874833386563406,
        -32.15008395495698,
        -34.74387663557915,
        -36.871552032893106,
        -38.66833333121699,
        -39.72040017085922
       ],
       "mode": "lines",
       "type": "scattergeo",
       "uid": "bf4b0ec2-b624-11e8-b5c6-0242ac110004"
      },
      "69": {
       "lat": [
        42.11883620458781,
        45.772069967029246,
        49.41313580298618,
        53.03923753845116,
        56.64642239930199,
        60.22886686990252,
        63.77760429153645,
        67.27812892538121,
        70.70558723705322,
        74.01442131660298,
        75.4555412737388
       ],
       "line": {
        "color": "red",
        "width": 1
       },
       "lon": [
        32.480808648525084,
        31.262080846003737,
        29.908465881905514,
        28.379143442553733,
        26.616351826260956,
        24.53566685734967,
        22.00901772720724,
        18.833617709028402,
        14.672356715843447,
        8.934922115575874,
        5.546686028379886
       ],
       "mode": "lines",
       "type": "scattergeo",
       "uid": "bf4b1016-b624-11e8-b5c6-0242ac110004"
      },
      "7": {
       "lat": [
        29.88963868728483,
        33.570980703641126,
        37.24543095620129,
        40.91180528151641,
        44.56864350723321,
        48.21406868098332,
        51.84556677133256,
        55.45963104266259,
        59.051165973850125,
        62.612442455213376,
        66.13116765101836,
        69.58669489025364,
        72.94205074855073,
        74.92537798615034
       ],
       "line": {
        "color": "red",
        "width": 1
       },
       "lon": [
        14.677097934376416,
        13.7319334889803,
        12.725364015277854,
        11.641846128495322,
        10.461179125169803,
        9.156499683392157,
        7.691186236261386,
        6.01392260590603,
        4.0505355804040475,
        1.6899381890517176,
        -1.2411903329967053,
        -5.0262451865557916,
        -10.153126947576453,
        -14.323720126977943
       ],
       "mode": "lines",
       "type": "scattergeo",
       "uid": "bf4a8484-b624-11e8-b5c6-0242ac110004"
      },
      "70": {
       "lat": [
        28.943090674037343,
        32.62598303894956,
        36.302250843939525,
        39.970763372707836,
        43.63014101735249,
        47.278629139222666,
        50.913902040366686,
        54.532749232043415,
        58.13055498581025,
        61.70039720007855,
        65.23140639864711,
        68.70559638488052,
        72.09131871020318,
        74.6600215549677
       ],
       "line": {
        "color": "red",
        "width": 1
       },
       "lon": [
        11.928110163819923,
        10.996253138047962,
        10.006373719265078,
        8.943880971325283,
        7.789919947517753,
        6.5195683823450645,
        5.099074852505213,
        3.4814928632877593,
        1.5995318436000854,
        -0.6466203074741683,
        -3.410970960337192,
        -6.942166326860583,
        -11.662505717965542,
        -16.696649738095335
       ],
       "mode": "lines",
       "type": "scattergeo",
       "uid": "bf4b1192-b624-11e8-b5c6-0242ac110004"
      },
      "71": {
       "lat": [
        28.67052042425764,
        32.353862272650304,
        36.03065573914478,
        39.699784795524835,
        43.35989189505227,
        47.00925575673013,
        50.64560179899894,
        54.26579947563369,
        57.86536163205861,
        61.43758062120651,
        64.97196143031114,
        68.45120952307212,
        70.41304990403947
       ],
       "line": {
        "color": "red",
        "width": 1
       },
       "lon": [
        -12.206331956423693,
        -13.134391078123516,
        -14.119527361260232,
        -15.176070203320114,
        -16.322506177890226,
        -17.58322926995452,
        -18.991213551084623,
        -20.592229030028403,
        -22.45172574398891,
        -24.666523987249988,
        -27.38555049333318,
        -30.848395477063296,
        -33.31945752732832
       ],
       "mode": "lines",
       "type": "scattergeo",
       "uid": "bf4b2dc6-b624-11e8-b5c6-0242ac110004"
      },
      "72": {
       "lat": [
        65.40332336807973,
        61.8746105212876,
        58.306382526909125,
        54.70976683098376,
        51.09183285114942,
        47.45728443966271,
        43.80938678577207,
        40.15050052369595,
        36.48240307638933,
        35.13725475193882
       ],
       "line": {
        "color": "red",
        "width": 1
       },
       "lon": [
        38.45380705998392,
        35.65860736256081,
        33.391158695713955,
        31.493964019244565,
        29.865161808204135,
        28.43620369000357,
        27.159340815103413,
        26.000292535505917,
        24.933777342636304,
        24.56248208843899
       ],
       "mode": "lines",
       "type": "scattergeo",
       "uid": "bf4b3046-b624-11e8-b5c6-0242ac110004"
      },
      "73": {
       "lat": [
        73.13015217770568,
        69.78267637479892,
        66.33199592793346,
        62.81646823915194,
        59.25742881776292,
        55.667538026849314,
        52.05473312381774,
        48.42423345996944,
        44.77962242097435,
        41.12346298989653,
        37.45766413392116,
        33.783707325069955,
        30.10279105648099,
        27.060807120363098
       ],
       "line": {
        "color": "red",
        "width": 1
       },
       "lon": [
        24.189866071089316,
        18.96141067940215,
        15.112948647270823,
        12.140139843797096,
        9.75088543454388,
        7.767039737627844,
        6.074707547989422,
        4.598005317511443,
        3.2845328479445226,
        2.096957093477548,
        1.0079341425439496,
        -0.0030704782628983105,
        -0.9518366313844732,
        -1.6967525791691154
       ],
       "mode": "lines",
       "type": "scattergeo",
       "uid": "bf4b3b36-b624-11e8-b5c6-0242ac110004"
      },
      "74": {
       "lat": [
        75.47023371571807,
        72.24176511870989,
        68.86118657858033,
        65.39019306827892,
        61.86130829881725,
        58.292960057023514,
        54.69625612455709,
        51.07825472764612,
        47.44365304573613,
        43.795712139548094,
        40.13679001537537,
        36.468662388653705,
        34.05043132975594
       ],
       "line": {
        "color": "red",
        "width": 1
       },
       "lon": [
        5.181574256484057,
        -1.5972974023451938,
        -6.386103506779369,
        -9.960384739867605,
        -12.753242173358677,
        -15.019079508017692,
        -16.915125610851515,
        -18.54308488993919,
        -19.97140950176707,
        -21.247787044469167,
        -22.406457842782935,
        -23.47267608383932,
        -24.133306541997648
       ],
       "mode": "lines",
       "type": "scattergeo",
       "uid": "bf4b3f82-b624-11e8-b5c6-0242ac110004"
      },
      "75": {
       "lat": [
        73.5919892415811,
        70.263924888258,
        66.82497457811911,
        63.31706094008287,
        59.76327048077553,
        56.177186359550106,
        54.793113534606476
       ],
       "line": {
        "color": "red",
        "width": 1
       },
       "lon": [
        -23.315635006070885,
        -28.800225724709353,
        -32.806697028244265,
        -35.8822020644772,
        -38.34131164465255,
        -40.37451617882588,
        -41.06934277629291
       ],
       "mode": "lines",
       "type": "scattergeo",
       "uid": "bf4b4248-b624-11e8-b5c6-0242ac110004"
      },
      "76": {
       "lat": [
        39.7524353808312,
        43.412392696610034,
        47.0615774741808,
        50.69770501101284,
        54.3176290015916,
        57.916837052241114,
        61.48857959761912,
        65.02228875574109,
        68.50053603452477,
        71.89277556330813,
        75.1415253271349,
        75.55469633751004
       ],
       "line": {
        "color": "red",
        "width": 1
       },
       "lon": [
        30.19014252806825,
        29.04219111049105,
        27.779539733647507,
        26.369062997805727,
        24.764762442783304,
        22.90083159275064,
        20.679872437549285,
        17.951980277336897,
        14.47582772491207,
        9.842826693025199,
        3.324893780412891,
        2.262135506113448
       ],
       "mode": "lines",
       "type": "scattergeo",
       "uid": "bf4b446e-b624-11e8-b5c6-0242ac110004"
      },
      "77": {
       "lat": [
        28.175076475380042,
        31.859215635442574,
        35.536942141021875,
        39.20716542930858,
        42.86856621715845,
        46.51948105496529,
        50.15772387012929,
        53.78030225285824,
        57.38295056744051,
        60.95932922196954,
        64.49958272758458,
        67.98759070582848,
        71.3953726293516,
        74.3468485500115
       ],
       "line": {
        "color": "red",
        "width": 1
       },
       "lon": [
        9.095462623680143,
        8.174102739495549,
        7.197339142001471,
        6.151300918915863,
        5.018145026934781,
        3.7744002105014625,
        2.388446060349589,
        0.8165551483806187,
        -1.0035382486405704,
        -3.1634992173455543,
        -5.8035401709309555,
        -9.147795607009519,
        -13.572815582648131,
        -19.009631291129274
       ],
       "mode": "lines",
       "type": "scattergeo",
       "uid": "bf4b4662-b624-11e8-b5c6-0242ac110004"
      },
      "78": {
       "lat": [
        29.744853598707355,
        33.4263833493834,
        37.1010583134446,
        40.76770170899698,
        44.42486474082436,
        48.07068804378121,
        51.702685092622175,
        55.31739304462514,
        58.90978846344813,
        62.47226520849184,
        65.99275055682621,
        69.45101580269576,
        69.46185350428104
       ],
       "line": {
        "color": "red",
        "width": 1
       },
       "lon": [
        -15.492306712674104,
        -16.4357742145416,
        -17.44014895693274,
        -18.520831180987628,
        -19.697817829788576,
        -20.997676082622373,
        -22.456586165059143,
        -24.12518676286909,
        -26.07657452372809,
        -28.420055939685152,
        -31.325869894781707,
        -35.071804073392926,
        -35.085453672477286
       ],
       "mode": "lines",
       "type": "scattergeo",
       "uid": "bf4b47d4-b624-11e8-b5c6-0242ac110004"
      },
      "79": {
       "lat": [
        67.07378516362816,
        63.56991334382188,
        60.01889487753293,
        56.43481246985155,
        52.826398408475036,
        49.199339450626375,
        45.55750516440161,
        41.90363941391181,
        38.239768250855285,
        34.56745020469232,
        32.84374520502627
       ],
       "line": {
        "color": "red",
        "width": 1
       },
       "lon": [
        37.02937213047566,
        33.899461287951155,
        31.403490031506934,
        29.344321691180305,
        27.597117589465974,
        26.079390373525356,
        24.73458941226445,
        23.522678514091645,
        22.414498437997807,
        21.388263989023443,
        20.930617906139286
       ],
       "mode": "lines",
       "type": "scattergeo",
       "uid": "bf4b4d6a-b624-11e8-b5c6-0242ac110004"
      },
      "8": {
       "lat": [
        27.898717360589124,
        31.58335659356441,
        35.26166271681747,
        38.932560024879514,
        42.59475128020453,
        46.24660600152177,
        49.88598809406272,
        53.509982439326265,
        57.11444621129743,
        60.69324190187654,
        64.2368615000312,
        67.72981527577369,
        71.14534362588684,
        71.22225347641908
       ],
       "line": {
        "color": "red",
        "width": 1
       },
       "lon": [
        -9.034885025568123,
        -9.952139496919443,
        -10.923850357558011,
        -11.963633167891848,
        -13.088973873816883,
        -14.322834805804407,
        -15.696093841917305,
        -17.251364745710408,
        -19.049188457566036,
        -21.178457832140392,
        -23.774736233727303,
        -27.053983391245367,
        -31.377653588918754,
        -31.493053625682354
       ],
       "mode": "lines",
       "type": "scattergeo",
       "uid": "bf4a86b4-b624-11e8-b5c6-0242ac110004"
      },
      "80": {
       "lat": [
        73.59878859430982,
        70.27107686966743,
        66.83234454668326,
        63.32457559604707,
        59.770887039883725,
        56.184878319708226,
        52.57501272135281,
        48.94681939836184,
        45.304071693208385,
        41.64945278822075,
        37.98494952558786,
        34.31209466454995,
        30.632120802454228,
        27.244100010357105
       ],
       "line": {
        "color": "red",
        "width": 1
       },
       "lon": [
        22.082503750365895,
        16.59361639370697,
        12.584452517478514,
        9.507170233273836,
        7.046832067049853,
        5.012744391007439,
        3.2837681414691637,
        1.7796414471151436,
        0.445208134519419,
        -0.7586617097599608,
        -1.860520230850651,
        -2.8817349868171847,
        -3.838673357147016,
        -4.672642369804176
       ],
       "mode": "lines",
       "type": "scattergeo",
       "uid": "bf4b5350-b624-11e8-b5c6-0242ac110004"
      },
      "81": {
       "lat": [
        75.55238428326804,
        72.32931549498946,
        68.95183629977193,
        65.4827687743359,
        61.95516450671375,
        58.3877173228805,
        54.79167846111711,
        51.17418806047426,
        47.539992314113064,
        43.892382728128794,
        40.233736776807106,
        36.56584289425256,
        35.79383606389757
       ],
       "line": {
        "color": "red",
        "width": 1
       },
       "lon": [
        2.3811244107141745,
        -4.466345914267592,
        -9.296076103895535,
        -12.896103433445758,
        -15.705994404116414,
        -17.983597366334948,
        -19.88806704433656,
        -21.522238215179303,
        -22.955256460619083,
        -24.23525157772565,
        -25.396755514925857,
        -26.4652205852667,
        -26.679863435121096
       ],
       "mode": "lines",
       "type": "scattergeo",
       "uid": "bf4b5648-b624-11e8-b5c6-0242ac110004"
      },
      "82": {
       "lat": [
        72.11046250073763,
        68.72546783132637,
        65.251739328273,
        61.7210428128955,
        59.30893729561607
       ],
       "line": {
        "color": "red",
        "width": 1
       },
       "lon": [
        -29.036770153372586,
        -33.766284805090045,
        -37.303334895772274,
        -40.071612688866196,
        -41.63946209694179
       ],
       "mode": "lines",
       "type": "scattergeo",
       "uid": "bf4b583c-b624-11e8-b5c6-0242ac110004"
      },
      "83": {
       "lat": [
        37.609179216192814,
        41.27459559720511,
        44.93030159272634,
        48.57436593361988,
        52.20419132393013,
        55.81614033115405,
        59.40490577287198,
        62.96240184866634,
        66.4757041939647,
        69.92297898279074,
        73.26485998372878,
        75.5816927316437
       ],
       "line": {
        "color": "red",
        "width": 1
       },
       "lon": [
        27.797202179499156,
        26.704442510927358,
        25.512140411738702,
        24.192608642079858,
        22.708005228390924,
        21.005151212973566,
        19.006929383417802,
        16.597409936262082,
        13.594934998050606,
        9.701037520450386,
        4.399286697154055,
        -0.8330915028400867
       ],
       "mode": "lines",
       "type": "scattergeo",
       "uid": "bf4b637c-b624-11e8-b5c6-0242ac110004"
      },
      "84": {
       "lat": [
        27.60128192926334,
        31.286323805040375,
        34.96510687656878,
        38.63656839395878,
        42.2994308501325,
        45.9520938537201,
        49.592467621542774,
        53.217709526170204,
        56.823793060961435,
        60.404773687959384,
        63.9514774858269,
        67.44902463007841,
        70.87184240710091,
        73.98489859779497
       ],
       "line": {
        "color": "red",
        "width": 1
       },
       "lon": [
        6.2139960917471635,
        5.300150404740736,
        4.332775599030119,
        3.2985067363452036,
        2.1802097899620216,
        0.9554262555239657,
        -0.40598377548022296,
        -1.9455236025960778,
        -3.722008449744357,
        -5.821550349158129,
        -8.375036371416758,
        -11.590179931640062,
        -15.813146198848681,
        -21.250027971306405
       ],
       "mode": "lines",
       "type": "scattergeo",
       "uid": "bf4b658e-b624-11e8-b5c6-0242ac110004"
      },
      "85": {
       "lat": [
        31.15723763654978,
        34.836256636704874,
        38.50799442714064,
        42.17118258562012,
        45.824234416510045,
        49.46508101232509,
        53.09091213964924,
        56.69775284711529,
        60.27974343302966,
        63.82785562925072,
        67.3274731638037,
        68.3366923503464
       ],
       "line": {
        "color": "red",
        "width": 1
       },
       "lon": [
        -18.868356512654334,
        -19.83365059083687,
        -20.865314067830695,
        -21.980326202752938,
        -23.200924909037404,
        -24.55692844165079,
        -26.089358109745515,
        -27.85628466063938,
        -29.942625853323705,
        -32.47727249088333,
        -35.66444002092277,
        -36.76174151734057
       ],
       "mode": "lines",
       "type": "scattergeo",
       "uid": "bf4b6962-b624-11e8-b5c6-0242ac110004"
      },
      "86": {
       "lat": [
        68.41444323672582,
        64.93456272125898,
        61.399767536557135,
        57.82726137859841,
        54.227490486734666,
        50.60713482633633,
        46.97066512190159,
        43.32120182134002,
        39.661013137139236,
        35.991816263376634,
        32.314966101545615,
        31.056028518316488
       ],
       "line": {
        "color": "red",
        "width": 1
       },
       "lon": [
        35.45814912067156,
        32.00439550590737,
        29.29133548093049,
        27.08061818475328,
        25.22400869104645,
        23.625092733089666,
        22.21866860800353,
        20.95912445369817,
        19.81359021146777,
        18.75774242393347,
        17.773142916540618,
        17.450127024060325
       ],
       "mode": "lines",
       "type": "scattergeo",
       "uid": "bf4b6cdc-b624-11e8-b5c6-0242ac110004"
      },
      "87": {
       "lat": [
        74.00936820529766,
        70.70046402062545,
        67.27298314518728,
        63.772456127105336,
        60.223725037845405,
        56.641290542080725,
        53.03411697500668,
        49.40802678642792,
        45.76697228784836,
        42.113749490429015,
        38.45041814161693,
        34.77855893328275,
        31.099436311098458,
        27.63197093101281
       ],
       "line": {
        "color": "red",
        "width": 1
       },
       "lon": [
        19.910043430082606,
        14.174599444695184,
        10.014389035417375,
        6.839560273361616,
        4.313224146233253,
        2.232705736911162,
        0.4699940607698502,
        -1.0593020148270829,
        -2.412924581501661,
        -3.631682251884926,
        -4.745251416690813,
        -5.775772231105854,
        -6.740155768737237,
        -7.599034675112574
       ],
       "mode": "lines",
       "type": "scattergeo",
       "uid": "bf4b6ea8-b624-11e8-b5c6-0242ac110004"
      },
      "88": {
       "lat": [
        75.58186657766107,
        72.3608202351372,
        68.98450701466074,
        65.51616732493274,
        61.98904916540255,
        58.421945567732315,
        54.826161385781546,
        51.208867447549125,
        47.57482835933138,
        43.927347100325385,
        40.26880850796009,
        37.739233101143604
       ],
       "line": {
        "color": "red",
        "width": 1
       },
       "lon": [
        -0.5574416283606033,
        -7.430211100122463,
        -12.275080646720394,
        -15.884659496194176,
        -18.700888444350444,
        -20.982883248548493,
        -22.890508255296364,
        -24.527015280951474,
        -25.961806055388568,
        -27.243173926534205,
        -28.40575884376292,
        -29.152218606471834
       ],
       "mode": "lines",
       "type": "scattergeo",
       "uid": "bf4b7010-b624-11e8-b5c6-0242ac110004"
      },
      "89": {
       "lat": [
        58.976926154239,
        62.53869935196373,
        66.0581805680414,
        69.51492678388242,
        72.2440139205425
       ],
       "line": {
        "color": "red",
        "width": 1
       },
       "lon": [
        40.444973444270246,
        38.092435333342806,
        35.17346423081682,
        31.407547735177378,
        27.41678353219295
       ],
       "mode": "lines",
       "type": "scattergeo",
       "uid": "bf4b7178-b624-11e8-b5c6-0242ac110004"
      },
      "9": {
       "lat": [
        63.2437336580917,
        59.68897194677307,
        56.10216966190289,
        52.49169247871419,
        48.86301134031118,
        45.21986340455283,
        41.56490859972725,
        38.09512659526213
       ],
       "line": {
        "color": "red",
        "width": 1
       },
       "lon": [
        39.636381305771074,
        37.18906157712392,
        35.16432125588785,
        33.44227895683222,
        31.94343808610923,
        30.613127180939838,
        29.41253492923287,
        28.369568362489215
       ],
       "mode": "lines",
       "type": "scattergeo",
       "uid": "bf4a8a4c-b624-11e8-b5c6-0242ac110004"
      },
      "90": {
       "lat": [
        35.67624733254729,
        39.34614368554317,
        43.007159656875785,
        46.65761520868373,
        50.29529901170365,
        53.91717942949218,
        57.51892822560636,
        61.09410231767696,
        64.63266735932962,
        68.11817651747225,
        71.52201329282386,
        74.79077603228436,
        75.54855377099815
       ],
       "line": {
        "color": "red",
        "width": 1
       },
       "lon": [
        25.318951141753605,
        24.269832128345072,
        23.13280699080546,
        21.884144634737492,
        20.491844739793596,
        18.91160838172568,
        17.080281856730604,
        14.904767722540111,
        12.242442015039261,
        8.864911910880558,
        4.387728448773735,
        -1.8705003046763427,
        -3.7683571944867973
       ],
       "mode": "lines",
       "type": "scattergeo",
       "uid": "bf4b7452-b624-11e8-b5c6-0242ac110004"
      },
      "91": {
       "lat": [
        27.2261710675735,
        30.911788112000117,
        34.59124484369958,
        38.26349570963726,
        41.927289041397344,
        45.58106342432622,
        49.222788498295415,
        52.84971383495212,
        56.457959597205296,
        60.04182241187229,
        63.592541948032235,
        67.09598565888207,
        70.52801864354505,
        73.57002950135761
       ],
       "line": {
        "color": "red",
        "width": 1
       },
       "lon": [
        3.283775278961871,
        2.3746811359463034,
        1.413246274523038,
        0.38642240012466034,
        -0.7224817159976722,
        -1.935293725012783,
        -3.281234186742379,
        -4.800430082788932,
        -6.5495717205523,
        -8.611366649926353,
        -11.11101834458462,
        -14.246294191745141,
        -18.345068327739753,
        -23.422072831009718
       ],
       "mode": "lines",
       "type": "scattergeo",
       "uid": "bf4b76be-b624-11e8-b5c6-0242ac110004"
      },
      "92": {
       "lat": [
        32.9739824695142,
        36.649541807170706,
        40.31722503519733,
        43.97562265014656,
        47.62293490281961,
        51.25676703570732,
        54.87380055677852,
        58.46924587963828,
        62.03589040605279,
        65.56235606595264,
        66.97691542209108
       ],
       "line": {
        "color": "red",
        "width": 1
       },
       "lon": [
        -22.358120335070925,
        -23.35437956334546,
        -24.424848427988966,
        -25.58887145041174,
        -26.87207450398109,
        -28.309245377419717,
        -29.948901716312868,
        -31.860797219991444,
        -34.1487579317767,
        -36.97362745720429,
        -38.326725161732234
       ],
       "mode": "lines",
       "type": "scattergeo",
       "uid": "bf4b7862-b624-11e8-b5c6-0242ac110004"
      },
      "93": {
       "lat": [
        69.52567263131051,
        66.06918892438797,
        62.54988155108061,
        58.98823034390577,
        55.396442415149544,
        51.78220019680203,
        48.15057259223584,
        44.50505062182474,
        40.848138818223575,
        37.18170832526514,
        33.507215771555366,
        29.825843203685853,
        29.667170958492974
       ],
       "line": {
        "color": "red",
        "width": 1
       },
       "lon": [
        33.777953058562474,
        30.00861521861956,
        27.08738696433106,
        24.733292070055146,
        22.774319234531042,
        21.10012833764585,
        19.636991873460605,
        18.333870629299522,
        17.15432118730164,
        16.071598213857158,
        15.065581073704701,
        14.120781787065948,
        14.081273809425003
       ],
       "mode": "lines",
       "type": "scattergeo",
       "uid": "bf4b79f2-b624-11e8-b5c6-0242ac110004"
      },
      "94": {
       "lat": [
        74.36748202370562,
        71.07625762024296,
        67.65925495697734,
        64.16541883516078,
        60.62123759549015,
        57.04206511382211,
        53.43733688860462,
        49.81314965723269,
        46.17362237113176,
        42.52165574553428,
        38.85937701892125,
        35.18841118615886,
        31.510052107320206,
        28.21808142725941
       ],
       "line": {
        "color": "red",
        "width": 1
       },
       "lon": [
        17.669523495738034,
        11.703491254649764,
        7.402904563139412,
        4.137956576426483,
        1.5509549748562226,
        -0.5720646123619173,
        -2.365551073826847,
        -3.917743837069185,
        -5.28878393825367,
        -6.5210311488639325,
        -7.6451968371133106,
        -8.68413122041906,
        -9.655243080156719,
        -10.4766835211197
       ],
       "mode": "lines",
       "type": "scattergeo",
       "uid": "bf4b7b46-b624-11e8-b5c6-0242ac110004"
      },
      "95": {
       "lat": [
        75.55086214913176,
        72.3278809744793,
        68.9504736240634,
        65.48146397669731,
        61.95390675336467,
        58.3864984368117,
        54.790492262046925,
        51.173029830709744,
        47.53885841045397,
        43.89127030726382,
        40.23264360110358,
        39.89535016163815
       ],
       "line": {
        "color": "red",
        "width": 1
       },
       "lon": [
        -3.656911323003142,
        -10.504351202462876,
        -15.33424998345415,
        -18.93449669333067,
        -21.74460801899952,
        -24.022416677094114,
        -25.927074004418643,
        -27.561415102643895,
        -28.994587707089757,
        -30.274723851863207,
        -31.43635759247486,
        -31.538286806706864
       ],
       "mode": "lines",
       "type": "scattergeo",
       "uid": "bf4b7c9a-b624-11e8-b5c6-0242ac110004"
      },
      "96": {
       "lat": [
        54.534354340884505,
        58.132074443214144,
        61.70181064683145,
        65.23268434679072,
        68.70669433010337,
        72.09216623232234,
        73.66099776791336
       ],
       "line": {
        "color": "red",
        "width": 1
       },
       "lon": [
        39.79867468646537,
        37.91604051264028,
        35.669051790329945,
        32.90363269109508,
        29.371031192643592,
        24.64878567961275,
        21.7754468888051
       ],
       "mode": "lines",
       "type": "scattergeo",
       "uid": "bf4b8898-b624-11e8-b5c6-0242ac110004"
      },
      "97": {
       "lat": [
        33.945068429109476,
        37.61866056693951,
        41.2840331687257,
        44.939688618564865,
        48.58369360350477,
        52.21344779514763,
        55.82530913751136,
        59.413963159627514,
        62.97131209114151,
        66.48441090927307,
        69.93138795847277,
        73.27280286966791,
        75.46292380569206
       ],
       "line": {
        "color": "red",
        "width": 1
       },
       "lon": [
        22.76720395166879,
        21.752897233722983,
        20.659759112896953,
        19.46699980118875,
        18.14690652885905,
        16.661599422185745,
        14.957842806677473,
        12.958431234040477,
        10.54729214901611,
        7.542526579985306,
        3.645240177065789,
        -1.6617837471508183,
        -6.5661279152821095
       ],
       "mode": "lines",
       "type": "scattergeo",
       "uid": "bf4b8b18-b624-11e8-b5c6-0242ac110004"
      },
      "98": {
       "lat": [
        27.056218622649833,
        30.74208855402726,
        34.421841978241616,
        38.094440814010945,
        41.75864463882575,
        45.412909016248456,
        49.05522947223682,
        52.68289571660363,
        56.29209167854072,
        59.87721862061555,
        63.42969515944079,
        66.93571091323346,
        70.37174813773062,
        73.09653572272741
       ],
       "line": {
        "color": "red",
        "width": 1
       },
       "lon": [
        0.3039690167685335,
        -0.6030413498931787,
        -1.5618654788449984,
        -2.585412419187102,
        -3.690178258093184,
        -4.897713587011175,
        -6.236835541974009,
        -7.747068300665285,
        -9.484172970555031,
        -11.529373275500827,
        -14.005401544803552,
        -17.105715138787346,
        -21.150287248953685,
        -25.52866019202945
       ],
       "mode": "lines",
       "type": "scattergeo",
       "uid": "bf4b8e42-b624-11e8-b5c6-0242ac110004"
      },
      "99": {
       "lat": [
        35.306234924239085,
        38.976936068529206,
        42.638903096428514,
        46.290497766987265,
        49.92957266376852,
        53.55319574889516,
        57.15719815654316,
        60.73540083111392,
        64.27822649380637,
        65.27799415222236
       ],
       "line": {
        "color": "red",
        "width": 1
       },
       "lon": [
        -26.003066431483084,
        -27.044490605651802,
        -28.17178943695492,
        -29.40802345208563,
        -30.784211180729812,
        -32.343173452304924,
        -34.14576579784038,
        -36.28137654792651,
        -38.88638190480626,
        -39.74087218129048
       ],
       "mode": "lines",
       "type": "scattergeo",
       "uid": "bf4b9004-b624-11e8-b5c6-0242ac110004"
      },
      "image/png": "[encoded data removed]"
     },
     "metadata": {},
     "output_type": "display_data"
    }
   ],
   "source": [
    "access_paths = []\n",
    "\n",
    "for access_geometry_df in access_geometry_dfs:\n",
    "    \n",
    "    access_paths.append(\n",
    "        dict(\n",
    "            type = 'scattergeo',\n",
    "            lon = access_geometry_df['Longitude'],\n",
    "            lat = access_geometry_df['Latitude'],\n",
    "            mode = 'lines',\n",
    "            line = dict(\n",
    "                width = 1,\n",
    "                color = 'red',\n",
    "            )\n",
    "        )\n",
    "    )\n",
    "    \n",
    "layout = dict(\n",
    "        title = None,\n",
    "        showlegend = False,\n",
    "        height= 1000,\n",
    "        geo = dict(\n",
    "            showland = True,\n",
    "            landcolor = 'rgb(243, 243, 243)',\n",
    "            countrycolor = 'rgb(204, 204, 204)',\n",
    "        ),\n",
    "    )\n",
    "    \n",
    "fig = dict(data=access_paths, layout=layout)\n",
    "iplot(fig)"
   ]
  },
  {
   "cell_type": "code",
   "execution_count": null,
   "metadata": {},
   "outputs": [],
   "source": []
  },
  {
   "cell_type": "code",
   "execution_count": null,
   "metadata": {},
   "outputs": [],
   "source": []
  }
 ],
 "metadata": {
  "kernelspec": {
   "display_name": "Python 3",
   "language": "python",
   "name": "python3"
  },
  "language_info": {
   "codemirror_mode": {
    "name": "ipython",
    "version": 3
   },
   "file_extension": ".py",
   "mimetype": "text/x-python",
   "name": "python",
   "nbconvert_exporter": "python",
   "pygments_lexer": "ipython3",
   "version": "3.6.5"
  }
 },
 "nbformat": 4,
 "nbformat_minor": 2
}
