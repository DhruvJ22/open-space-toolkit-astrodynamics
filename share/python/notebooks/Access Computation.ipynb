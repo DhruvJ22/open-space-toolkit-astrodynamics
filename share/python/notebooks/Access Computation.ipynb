{
 "cells": [
  {
   "cell_type": "markdown",
   "metadata": {},
   "source": [
    "# Access Computation"
   ]
  },
  {
   "cell_type": "markdown",
   "metadata": {},
   "source": [
    "This tutorial demonstrates how to compute access."
   ]
  },
  {
   "cell_type": "markdown",
   "metadata": {},
   "source": [
    "## Setup"
   ]
  },
  {
   "cell_type": "code",
   "execution_count": 1,
   "metadata": {},
   "outputs": [],
   "source": [
    "import sys\n",
    "\n",
    "! {sys.executable} -m pip install --quiet numpy --upgrade\n",
    "! {sys.executable} -m pip install --quiet plotly\n",
    "\n",
    "# ! {sys.executable} -m pip install --quiet --index-url https://test.pypi.org/simple/ LibraryCorePy==0.1.9\n",
    "# ! {sys.executable} -m pip install --quiet --index-url https://test.pypi.org/simple/ LibraryMathematicsPy==0.1.5\n",
    "# ! {sys.executable} -m pip install --quiet --index-url https://test.pypi.org/simple/ LibraryPhysicsPy==0.1.3"
   ]
  },
  {
   "cell_type": "code",
   "execution_count": 2,
   "metadata": {},
   "outputs": [
    {
     "data": {
      "text/html": [
       "<script>requirejs.config({paths: { 'plotly': ['https://cdn.plot.ly/plotly-latest.min']},});if(!window.Plotly) {{require(['plotly'],function(plotly) {window.Plotly=plotly;});}}</script>"
      ],
      "text/vnd.plotly.v1+html": [
       "<script>requirejs.config({paths: { 'plotly': ['https://cdn.plot.ly/plotly-latest.min']},});if(!window.Plotly) {{require(['plotly'],function(plotly) {window.Plotly=plotly;});}}</script>"
      ]
     },
     "metadata": {},
     "output_type": "display_data"
    }
   ],
   "source": [
    "import numpy as np\n",
    "import pandas as pd\n",
    "\n",
    "from plotly.offline import download_plotlyjs, init_notebook_mode, plot, iplot\n",
    "import plotly.graph_objs as go\n",
    "\n",
    "init_notebook_mode(connected=True)"
   ]
  },
  {
   "cell_type": "code",
   "execution_count": 3,
   "metadata": {},
   "outputs": [],
   "source": [
    "import Library.Core as Core\n",
    "import Library.Mathematics as Mathematics\n",
    "import Library.Physics as Physics\n",
    "import Library.Astrodynamics as Astrodynamics"
   ]
  },
  {
   "cell_type": "code",
   "execution_count": 4,
   "metadata": {},
   "outputs": [],
   "source": [
    "Length = Physics.Units.Length\n",
    "Angle = Physics.Units.Angle\n",
    "Scale = Physics.Time.Scale\n",
    "Instant = Physics.Time.Instant\n",
    "Duration = Physics.Time.Duration\n",
    "Interval = Physics.Time.Interval\n",
    "DateTime = Physics.Time.DateTime\n",
    "LLA = Physics.Coordinate.Spherical.LLA\n",
    "Position = Physics.Coordinate.Position\n",
    "Frame = Physics.Coordinate.Frame\n",
    "Earth = Physics.Environment.Objects.CelestialBodies.Earth\n",
    "Trajectory = Astrodynamics.Trajectory\n",
    "Orbit = Astrodynamics.Trajectory.Orbit\n",
    "Access = Astrodynamics.Access"
   ]
  },
  {
   "cell_type": "markdown",
   "metadata": {},
   "source": [
    "---"
   ]
  },
  {
   "cell_type": "markdown",
   "metadata": {},
   "source": [
    "## Access"
   ]
  },
  {
   "cell_type": "markdown",
   "metadata": {},
   "source": [
    "### Computation"
   ]
  },
  {
   "cell_type": "markdown",
   "metadata": {},
   "source": [
    "Create a Two-Line Element (TLE) set:"
   ]
  },
  {
   "cell_type": "code",
   "execution_count": 5,
   "metadata": {},
   "outputs": [],
   "source": [
    "tle = Orbit.Models.SGP4.TLE(\"1 25544U 98067A   18231.17878740  .00000187  00000-0  10196-4 0  9994\",\n",
    "                            \"2 25544  51.6447  64.7824 0005971  73.1467  36.4366 15.53848234128316\")"
   ]
  },
  {
   "cell_type": "markdown",
   "metadata": {},
   "source": [
    "Setup a SGP4 orbital model:"
   ]
  },
  {
   "cell_type": "code",
   "execution_count": 6,
   "metadata": {},
   "outputs": [],
   "source": [
    "sgp4_model = Orbit.Models.SGP4(tle)"
   ]
  },
  {
   "cell_type": "markdown",
   "metadata": {},
   "source": [
    "Setup the orbit:"
   ]
  },
  {
   "cell_type": "code",
   "execution_count": 7,
   "metadata": {},
   "outputs": [],
   "source": [
    "to_orbit = Orbit(sgp4_model)"
   ]
  },
  {
   "cell_type": "markdown",
   "metadata": {},
   "source": [
    "Now that the orbit is set, we can compute the access:"
   ]
  },
  {
   "cell_type": "code",
   "execution_count": 67,
   "metadata": {},
   "outputs": [
    {
     "ename": "RuntimeError",
     "evalue": "Quaternion with norm [1] is not unitary.",
     "output_type": "error",
     "traceback": [
      "\u001b[0;31m---------------------------------------------------------------------------\u001b[0m",
      "\u001b[0;31mRuntimeError\u001b[0m                              Traceback (most recent call last)",
      "\u001b[0;32m<ipython-input-67-ebc04b327060>\u001b[0m in \u001b[0;36m<module>\u001b[0;34m()\u001b[0m\n\u001b[1;32m     12\u001b[0m \u001b[0mto_trajectory\u001b[0m \u001b[0;34m=\u001b[0m \u001b[0mto_orbit\u001b[0m \u001b[0;34m;\u001b[0m\u001b[0;34m\u001b[0m\u001b[0m\n\u001b[1;32m     13\u001b[0m \u001b[0;34m\u001b[0m\u001b[0m\n\u001b[0;32m---> 14\u001b[0;31m \u001b[0maccesses\u001b[0m \u001b[0;34m=\u001b[0m \u001b[0maccess_generator\u001b[0m\u001b[0;34m.\u001b[0m\u001b[0mcomputeAccesses\u001b[0m\u001b[0;34m(\u001b[0m\u001b[0minterval\u001b[0m\u001b[0;34m,\u001b[0m \u001b[0mfrom_trajectory\u001b[0m\u001b[0;34m,\u001b[0m \u001b[0mto_trajectory\u001b[0m\u001b[0;34m)\u001b[0m \u001b[0;34m;\u001b[0m\u001b[0;34m\u001b[0m\u001b[0m\n\u001b[0m",
      "\u001b[0;31mRuntimeError\u001b[0m: Quaternion with norm [1] is not unitary."
     ]
    }
   ],
   "source": [
    "environment = Physics.Environment.Default() ;\n",
    "\n",
    "access_generator = Access.Generator(environment) ;\n",
    "\n",
    "start_instant = Instant.DateTime(DateTime(2018, 1, 1, 0, 0, 0), Scale.UTC) ;\n",
    "end_instant = Instant.DateTime(DateTime(2018, 1, 2, 0, 0, 0), Scale.UTC) ;\n",
    "interval = Interval.Closed(start_instant, end_instant) ;\n",
    "\n",
    "lla = LLA(Angle.Degrees(0.0), Angle.Degrees(0.0), Length.Meters(0.0))\n",
    "\n",
    "from_trajectory = Trajectory.Position(Position.Meters(lla.toCartesian(Earth.EquatorialRadius, Earth.Flattening), Frame.ITRF())) ;\n",
    "to_trajectory = to_orbit ;\n",
    "\n",
    "accesses = access_generator.computeAccesses(interval, from_trajectory, to_trajectory) ;"
   ]
  },
  {
   "cell_type": "code",
   "execution_count": null,
   "metadata": {},
   "outputs": [],
   "source": [
    "accesses"
   ]
  },
  {
   "cell_type": "code",
   "execution_count": 58,
   "metadata": {},
   "outputs": [],
   "source": [
    "def lla_state (state):\n",
    "    \n",
    "    lla = LLA.Cartesian(state.accessPosition().getCoordinates(), Earth.EquatorialRadius, Earth.Flattening)\n",
    "    \n",
    "    return [float(lla.getLatitude().inDegrees()), float(lla.getLongitude().inDegrees()), float(lla.getAltitude().inMeters())]\n",
    "\n",
    "def access_geometry (access):\n",
    "    \n",
    "    return [lla_state(state) for state in to_trajectory.getStatesAt(access.getInterval().generateGrid(Duration.Minutes(1.0)))]"
   ]
  },
  {
   "cell_type": "code",
   "execution_count": 59,
   "metadata": {},
   "outputs": [],
   "source": [
    "access_geometries = [access_geometry(access) for access in accesses]"
   ]
  },
  {
   "cell_type": "code",
   "execution_count": 60,
   "metadata": {},
   "outputs": [],
   "source": [
    "access_geometry_dfs = [pd.DataFrame(access_geometry, columns=['Latitude', 'Longitude', 'Altitude']) for access_geometry in access_geometries]"
   ]
  },
  {
   "cell_type": "code",
   "execution_count": 62,
   "metadata": {},
   "outputs": [
    {
     "data": {
      "text/html": [
       "<div>\n",
       "<style scoped>\n",
       "    .dataframe tbody tr th:only-of-type {\n",
       "        vertical-align: middle;\n",
       "    }\n",
       "\n",
       "    .dataframe tbody tr th {\n",
       "        vertical-align: top;\n",
       "    }\n",
       "\n",
       "    .dataframe thead th {\n",
       "        text-align: right;\n",
       "    }\n",
       "</style>\n",
       "<table border=\"1\" class=\"dataframe\">\n",
       "  <thead>\n",
       "    <tr style=\"text-align: right;\">\n",
       "      <th></th>\n",
       "      <th>Latitude</th>\n",
       "      <th>Longitude</th>\n",
       "      <th>Altitude</th>\n",
       "    </tr>\n",
       "  </thead>\n",
       "  <tbody>\n",
       "    <tr>\n",
       "      <th>0</th>\n",
       "      <td>-16.953838</td>\n",
       "      <td>117.628604</td>\n",
       "      <td>407644.481195</td>\n",
       "    </tr>\n",
       "    <tr>\n",
       "      <th>1</th>\n",
       "      <td>-13.959361</td>\n",
       "      <td>120.217650</td>\n",
       "      <td>406965.329586</td>\n",
       "    </tr>\n",
       "    <tr>\n",
       "      <th>2</th>\n",
       "      <td>-10.936986</td>\n",
       "      <td>122.740809</td>\n",
       "      <td>406375.664235</td>\n",
       "    </tr>\n",
       "    <tr>\n",
       "      <th>3</th>\n",
       "      <td>-7.893324</td>\n",
       "      <td>125.213541</td>\n",
       "      <td>405883.797656</td>\n",
       "    </tr>\n",
       "    <tr>\n",
       "      <th>4</th>\n",
       "      <td>-5.702406</td>\n",
       "      <td>126.962857</td>\n",
       "      <td>405595.197122</td>\n",
       "    </tr>\n",
       "  </tbody>\n",
       "</table>\n",
       "</div>"
      ],
      "text/plain": [
       "    Latitude   Longitude       Altitude\n",
       "0 -16.953838  117.628604  407644.481195\n",
       "1 -13.959361  120.217650  406965.329586\n",
       "2 -10.936986  122.740809  406375.664235\n",
       "3  -7.893324  125.213541  405883.797656\n",
       "4  -5.702406  126.962857  405595.197122"
      ]
     },
     "execution_count": 62,
     "metadata": {},
     "output_type": "execute_result"
    }
   ],
   "source": [
    "access_geometry_dfs[0].head()"
   ]
  },
  {
   "cell_type": "markdown",
   "metadata": {},
   "source": [
    "### Output"
   ]
  },
  {
   "cell_type": "code",
   "execution_count": 65,
   "metadata": {},
   "outputs": [
    {
     "data": {
      "0": {
       "lat": [
        -16.953837833168276,
        -13.959361343247892,
        -10.936986394214452,
        -7.893324247114358,
        -5.7024058317630715
       ],
       "line": {
        "color": "red",
        "width": 1
       },
       "lon": [
        117.62860420678918,
        120.21765032626196,
        122.74080874721943,
        125.21354088373823,
        126.96285702364375
       ],
       "mode": "lines",
       "type": "scattergeo",
       "uid": "767980de-a9c7-11e8-ab22-0242ac110006"
      },
      "1": {
       "lat": [
        -15.99979070459264,
        -12.995616146964922,
        -9.965709230894344,
        -6.916536209429324,
        -3.854195518109056,
        -0.7845390019032665,
        2.286715078752797,
        5.353873577756158,
        8.411160869764112,
        11.452608487782962,
        14.471938309693012,
        16.469243371115212
       ],
       "line": {
        "color": "red",
        "width": 1
       },
       "lon": [
        118.14464215682554,
        120.71086987639106,
        123.21625057094914,
        125.67597787008589,
        128.10454986557542,
        130.51598500149964,
        132.92403688114084,
        135.3424079518611,
        137.7849629986312,
        140.26594357110136,
        142.80018389920147,
        144.52695156518908
       ],
       "mode": "lines",
       "type": "scattergeo",
       "uid": "767984a8-a9c7-11e8-ab22-0242ac110006"
      },
      "2": {
       "lat": [
        7.810452040217236,
        10.855533430526524,
        13.879763442643826,
        15.930944293627821
       ],
       "line": {
        "color": "red",
        "width": 1
       },
       "lon": [
        136.98137293377215,
        139.45363062022597,
        141.97617182509342,
        143.736747493206
       ],
       "mode": "lines",
       "type": "scattergeo",
       "uid": "7679864c-a9c7-11e8-ab22-0242ac110006"
      },
      "image/png": "[encoded data removed]"
     },
     "metadata": {},
     "output_type": "display_data"
    }
   ],
   "source": [
    "access_paths = []\n",
    "\n",
    "for access_geometry_df in access_geometry_dfs:\n",
    "    \n",
    "    access_paths.append(\n",
    "        dict(\n",
    "            type = 'scattergeo',\n",
    "#             locationmode = 'USA-states',\n",
    "            lon = access_geometry_df['Longitude'],\n",
    "            lat = access_geometry_df['Latitude'],\n",
    "            mode = 'lines',\n",
    "            line = dict(\n",
    "                width = 1,\n",
    "                color = 'red',\n",
    "            )\n",
    "        )\n",
    "    )\n",
    "    \n",
    "layout = dict(\n",
    "        title = None,\n",
    "        showlegend = False, \n",
    "        geo = dict(\n",
    "#             scope='north america',\n",
    "#             projection=dict( type='azimuthal equal area' ),\n",
    "            showland = True,\n",
    "            landcolor = 'rgb(243, 243, 243)',\n",
    "            countrycolor = 'rgb(204, 204, 204)',\n",
    "        ),\n",
    "    )\n",
    "    \n",
    "fig = dict(data=access_paths, layout=layout)\n",
    "iplot(fig)"
   ]
  },
  {
   "cell_type": "code",
   "execution_count": null,
   "metadata": {},
   "outputs": [],
   "source": []
  },
  {
   "cell_type": "code",
   "execution_count": null,
   "metadata": {},
   "outputs": [],
   "source": []
  }
 ],
 "metadata": {
  "kernelspec": {
   "display_name": "Python 3",
   "language": "python",
   "name": "python3"
  },
  "language_info": {
   "codemirror_mode": {
    "name": "ipython",
    "version": 3
   },
   "file_extension": ".py",
   "mimetype": "text/x-python",
   "name": "python",
   "nbconvert_exporter": "python",
   "pygments_lexer": "ipython3",
   "version": "3.6.5"
  }
 },
 "nbformat": 4,
 "nbformat_minor": 2
}
