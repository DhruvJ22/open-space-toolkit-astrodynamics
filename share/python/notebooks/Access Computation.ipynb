{
 "cells": [
  {
   "cell_type": "markdown",
   "metadata": {},
   "source": [
    "# Access Computation"
   ]
  },
  {
   "cell_type": "markdown",
   "metadata": {},
   "source": [
    "This tutorial demonstrates how to compute access."
   ]
  },
  {
   "cell_type": "markdown",
   "metadata": {},
   "source": [
    "## Setup"
   ]
  },
  {
   "cell_type": "code",
   "execution_count": null,
   "metadata": {},
   "outputs": [],
   "source": [
    "import sys\n",
    "\n",
    "! {sys.executable} -m pip install --quiet numpy --upgrade\n",
    "! {sys.executable} -m pip install --quiet plotly\n",
    "\n",
    "# ! {sys.executable} -m pip install --quiet --index-url https://test.pypi.org/simple/ LibraryCorePy==0.1.9\n",
    "# ! {sys.executable} -m pip install --quiet --index-url https://test.pypi.org/simple/ LibraryMathematicsPy==0.1.5\n",
    "# ! {sys.executable} -m pip install --quiet --index-url https://test.pypi.org/simple/ LibraryPhysicsPy==0.1.3"
   ]
  },
  {
   "cell_type": "code",
   "execution_count": 1,
   "metadata": {},
   "outputs": [
    {
     "data": {
      "text/html": [
       "<script>requirejs.config({paths: { 'plotly': ['https://cdn.plot.ly/plotly-latest.min']},});if(!window.Plotly) {{require(['plotly'],function(plotly) {window.Plotly=plotly;});}}</script>"
      ],
      "text/vnd.plotly.v1+html": [
       "<script>requirejs.config({paths: { 'plotly': ['https://cdn.plot.ly/plotly-latest.min']},});if(!window.Plotly) {{require(['plotly'],function(plotly) {window.Plotly=plotly;});}}</script>"
      ]
     },
     "metadata": {},
     "output_type": "display_data"
    }
   ],
   "source": [
    "import numpy as np\n",
    "import pandas as pd\n",
    "\n",
    "from plotly.offline import download_plotlyjs, init_notebook_mode, plot, iplot\n",
    "import plotly.graph_objs as go\n",
    "\n",
    "init_notebook_mode(connected=True)"
   ]
  },
  {
   "cell_type": "code",
   "execution_count": 2,
   "metadata": {},
   "outputs": [],
   "source": [
    "import Library.Core as Core\n",
    "import Library.Mathematics as Mathematics\n",
    "import Library.Physics as Physics\n",
    "import Library.Astrodynamics as Astrodynamics"
   ]
  },
  {
   "cell_type": "code",
   "execution_count": 3,
   "metadata": {},
   "outputs": [],
   "source": [
    "Length = Physics.Units.Length\n",
    "Angle = Physics.Units.Angle\n",
    "Scale = Physics.Time.Scale\n",
    "Instant = Physics.Time.Instant\n",
    "Duration = Physics.Time.Duration\n",
    "Interval = Physics.Time.Interval\n",
    "DateTime = Physics.Time.DateTime\n",
    "LLA = Physics.Coordinate.Spherical.LLA\n",
    "Position = Physics.Coordinate.Position\n",
    "Frame = Physics.Coordinate.Frame\n",
    "Earth = Physics.Environment.Objects.CelestialBodies.Earth\n",
    "Trajectory = Astrodynamics.Trajectory\n",
    "Orbit = Astrodynamics.Trajectory.Orbit\n",
    "Access = Astrodynamics.Access"
   ]
  },
  {
   "cell_type": "markdown",
   "metadata": {},
   "source": [
    "---"
   ]
  },
  {
   "cell_type": "markdown",
   "metadata": {},
   "source": [
    "## Access"
   ]
  },
  {
   "cell_type": "markdown",
   "metadata": {},
   "source": [
    "An access represents an object-to-object visibility period."
   ]
  },
  {
   "cell_type": "markdown",
   "metadata": {},
   "source": [
    "In this example, let's compute accesses between a fixed position on the ground and a satellite in LEO."
   ]
  },
  {
   "cell_type": "markdown",
   "metadata": {},
   "source": [
    "### Origin"
   ]
  },
  {
   "cell_type": "markdown",
   "metadata": {},
   "source": [
    "Let's define a fixed ground position, using its geographic coordinates:"
   ]
  },
  {
   "cell_type": "code",
   "execution_count": 4,
   "metadata": {},
   "outputs": [],
   "source": [
    "latitude = Angle.Degrees(37.0)\n",
    "longitude = Angle.Degrees(-122.0)\n",
    "altitude = Length.Meters(0.0)"
   ]
  },
  {
   "cell_type": "code",
   "execution_count": 5,
   "metadata": {},
   "outputs": [],
   "source": [
    "from_lla = LLA(latitude, longitude, altitude)"
   ]
  },
  {
   "cell_type": "markdown",
   "metadata": {},
   "source": [
    "And derive a trajectory, fixed at that position:"
   ]
  },
  {
   "cell_type": "code",
   "execution_count": 6,
   "metadata": {},
   "outputs": [],
   "source": [
    "from_trajectory = Trajectory.Position(Position.Meters(from_lla.toCartesian(Earth.EquatorialRadius, Earth.Flattening), Frame.ITRF())) ;"
   ]
  },
  {
   "cell_type": "markdown",
   "metadata": {},
   "source": [
    "### Target"
   ]
  },
  {
   "cell_type": "markdown",
   "metadata": {},
   "source": [
    "Let's define the orbit of a satellite in LEO. In this example, we're modeling the orbit using SGP4."
   ]
  },
  {
   "cell_type": "markdown",
   "metadata": {},
   "source": [
    "First, we need a **Two-Line Element** (TLE) set:"
   ]
  },
  {
   "cell_type": "code",
   "execution_count": 7,
   "metadata": {},
   "outputs": [],
   "source": [
    "tle = Orbit.Models.SGP4.TLE(\"1 25544U 98067A   18231.17878740  .00000187  00000-0  10196-4 0  9994\",\n",
    "                            \"2 25544  51.6447  64.7824 0005971  73.1467  36.4366 15.53848234128316\")"
   ]
  },
  {
   "cell_type": "markdown",
   "metadata": {},
   "source": [
    "To setup a **SGP4** orbital model:"
   ]
  },
  {
   "cell_type": "code",
   "execution_count": 8,
   "metadata": {},
   "outputs": [],
   "source": [
    "orbital_model = Orbit.Models.SGP4(tle)"
   ]
  },
  {
   "cell_type": "markdown",
   "metadata": {},
   "source": [
    "We then obtain the satellite orbit (which is a trajectory):"
   ]
  },
  {
   "cell_type": "code",
   "execution_count": 9,
   "metadata": {},
   "outputs": [],
   "source": [
    "satellite_orbit = Orbit(orbital_model)"
   ]
  },
  {
   "cell_type": "markdown",
   "metadata": {},
   "source": [
    "### Access"
   ]
  },
  {
   "cell_type": "markdown",
   "metadata": {},
   "source": [
    "Now that the origin and the target trajectories is well defined, we can compute the access."
   ]
  },
  {
   "cell_type": "markdown",
   "metadata": {},
   "source": [
    "Let's first define an **interval of interest**:"
   ]
  },
  {
   "cell_type": "code",
   "execution_count": 10,
   "metadata": {},
   "outputs": [],
   "source": [
    "start_instant = Instant.DateTime(DateTime(2018, 1, 1, 0, 0, 0), Scale.UTC) ;\n",
    "end_instant = Instant.DateTime(DateTime(2018, 1, 3, 0, 0, 0), Scale.UTC) ;\n",
    "\n",
    "interval = Interval.Closed(start_instant, end_instant) ;"
   ]
  },
  {
   "cell_type": "markdown",
   "metadata": {},
   "source": [
    "And setup an environment (which describes where planets are, etc...):"
   ]
  },
  {
   "cell_type": "code",
   "execution_count": 11,
   "metadata": {},
   "outputs": [],
   "source": [
    "environment = Physics.Environment.Default() ;"
   ]
  },
  {
   "cell_type": "markdown",
   "metadata": {},
   "source": [
    "Then, using an **Access Generator**, we can compute the accesses within the intervals of interest:"
   ]
  },
  {
   "cell_type": "code",
   "execution_count": 33,
   "metadata": {},
   "outputs": [],
   "source": [
    "access_generator = Access.Generator(environment) ;\n",
    "\n",
    "accesses = access_generator.computeAccesses(interval, from_trajectory, satellite_orbit) ;"
   ]
  },
  {
   "cell_type": "markdown",
   "metadata": {},
   "source": [
    "And format the output using a dataframe:"
   ]
  },
  {
   "cell_type": "code",
   "execution_count": 55,
   "metadata": {},
   "outputs": [],
   "source": [
    "accesses_df = pd.DataFrame([[str(access.getType()), repr(access.getAcquisitionOfSignal()), repr(access.getTimeOfClosestApproach()), repr(access.getLossOfSignal()), repr(access.getDuration())] for access in accesses], columns=['Type', 'AOS', 'TCA', 'LOS', 'Duration'])"
   ]
  },
  {
   "cell_type": "code",
   "execution_count": 56,
   "metadata": {},
   "outputs": [
    {
     "data": {
      "text/html": [
       "<div>\n",
       "<style scoped>\n",
       "    .dataframe tbody tr th:only-of-type {\n",
       "        vertical-align: middle;\n",
       "    }\n",
       "\n",
       "    .dataframe tbody tr th {\n",
       "        vertical-align: top;\n",
       "    }\n",
       "\n",
       "    .dataframe thead th {\n",
       "        text-align: right;\n",
       "    }\n",
       "</style>\n",
       "<table border=\"1\" class=\"dataframe\">\n",
       "  <thead>\n",
       "    <tr style=\"text-align: right;\">\n",
       "      <th></th>\n",
       "      <th>Type</th>\n",
       "      <th>AOS</th>\n",
       "      <th>TCA</th>\n",
       "      <th>LOS</th>\n",
       "      <th>Duration</th>\n",
       "    </tr>\n",
       "  </thead>\n",
       "  <tbody>\n",
       "    <tr>\n",
       "      <th>0</th>\n",
       "      <td>Complete</td>\n",
       "      <td>2018-01-01 11:25:57 [UTC]</td>\n",
       "      <td>2018-01-01 11:30:53 [UTC]</td>\n",
       "      <td>2018-01-01 11:35:54 [UTC]</td>\n",
       "      <td>09:57.000.000.000</td>\n",
       "    </tr>\n",
       "    <tr>\n",
       "      <th>1</th>\n",
       "      <td>Complete</td>\n",
       "      <td>2018-01-01 13:01:59 [UTC]</td>\n",
       "      <td>2018-01-01 13:07:15 [UTC]</td>\n",
       "      <td>2018-01-01 13:12:35 [UTC]</td>\n",
       "      <td>10:36.000.000.000</td>\n",
       "    </tr>\n",
       "    <tr>\n",
       "      <th>2</th>\n",
       "      <td>Complete</td>\n",
       "      <td>2018-01-01 14:40:16 [UTC]</td>\n",
       "      <td>2018-01-01 14:44:34 [UTC]</td>\n",
       "      <td>2018-01-01 14:48:55 [UTC]</td>\n",
       "      <td>08:39.000.000.000</td>\n",
       "    </tr>\n",
       "    <tr>\n",
       "      <th>3</th>\n",
       "      <td>Complete</td>\n",
       "      <td>2018-01-01 16:18:35 [UTC]</td>\n",
       "      <td>2018-01-01 16:22:31 [UTC]</td>\n",
       "      <td>2018-01-01 16:26:27 [UTC]</td>\n",
       "      <td>07:52.000.000.000</td>\n",
       "    </tr>\n",
       "    <tr>\n",
       "      <th>4</th>\n",
       "      <td>Complete</td>\n",
       "      <td>2018-01-01 17:55:20 [UTC]</td>\n",
       "      <td>2018-01-01 18:00:13 [UTC]</td>\n",
       "      <td>2018-01-01 18:05:05 [UTC]</td>\n",
       "      <td>09:45.000.000.000</td>\n",
       "    </tr>\n",
       "  </tbody>\n",
       "</table>\n",
       "</div>"
      ],
      "text/plain": [
       "       Type                        AOS                        TCA  \\\n",
       "0  Complete  2018-01-01 11:25:57 [UTC]  2018-01-01 11:30:53 [UTC]   \n",
       "1  Complete  2018-01-01 13:01:59 [UTC]  2018-01-01 13:07:15 [UTC]   \n",
       "2  Complete  2018-01-01 14:40:16 [UTC]  2018-01-01 14:44:34 [UTC]   \n",
       "3  Complete  2018-01-01 16:18:35 [UTC]  2018-01-01 16:22:31 [UTC]   \n",
       "4  Complete  2018-01-01 17:55:20 [UTC]  2018-01-01 18:00:13 [UTC]   \n",
       "\n",
       "                         LOS           Duration  \n",
       "0  2018-01-01 11:35:54 [UTC]  09:57.000.000.000  \n",
       "1  2018-01-01 13:12:35 [UTC]  10:36.000.000.000  \n",
       "2  2018-01-01 14:48:55 [UTC]  08:39.000.000.000  \n",
       "3  2018-01-01 16:26:27 [UTC]  07:52.000.000.000  \n",
       "4  2018-01-01 18:05:05 [UTC]  09:45.000.000.000  "
      ]
     },
     "execution_count": 56,
     "metadata": {},
     "output_type": "execute_result"
    }
   ],
   "source": [
    "accesses_df.head()"
   ]
  },
  {
   "cell_type": "markdown",
   "metadata": {},
   "source": [
    "### Output"
   ]
  },
  {
   "cell_type": "markdown",
   "metadata": {},
   "source": [
    "Let's calculate the geographic coordinate of the satellite, during access:"
   ]
  },
  {
   "cell_type": "code",
   "execution_count": 57,
   "metadata": {},
   "outputs": [],
   "source": [
    "def lla_state (state):\n",
    "    \n",
    "    lla = LLA.Cartesian(state.accessPosition().inFrame(Frame.ITRF(), state.accessInstant()).getCoordinates(), Earth.EquatorialRadius, Earth.Flattening)\n",
    "    \n",
    "    return [float(lla.getLatitude().inDegrees()), float(lla.getLongitude().inDegrees()), float(lla.getAltitude().inMeters())]\n",
    "\n",
    "def access_geometry (access):\n",
    "    \n",
    "    return [lla_state(state) for state in satellite_orbit.getStatesAt(access.getInterval().generateGrid(Duration.Minutes(1.0)))]"
   ]
  },
  {
   "cell_type": "code",
   "execution_count": 58,
   "metadata": {},
   "outputs": [],
   "source": [
    "access_geometry_dfs = [pd.DataFrame(access_geometry(access), columns=['Latitude', 'Longitude', 'Altitude']) for access in accesses] ;"
   ]
  },
  {
   "cell_type": "code",
   "execution_count": 59,
   "metadata": {},
   "outputs": [
    {
     "data": {
      "text/html": [
       "<div>\n",
       "<style scoped>\n",
       "    .dataframe tbody tr th:only-of-type {\n",
       "        vertical-align: middle;\n",
       "    }\n",
       "\n",
       "    .dataframe tbody tr th {\n",
       "        vertical-align: top;\n",
       "    }\n",
       "\n",
       "    .dataframe thead th {\n",
       "        text-align: right;\n",
       "    }\n",
       "</style>\n",
       "<table border=\"1\" class=\"dataframe\">\n",
       "  <thead>\n",
       "    <tr style=\"text-align: right;\">\n",
       "      <th></th>\n",
       "      <th>Latitude</th>\n",
       "      <th>Longitude</th>\n",
       "      <th>Altitude</th>\n",
       "    </tr>\n",
       "  </thead>\n",
       "  <tbody>\n",
       "    <tr>\n",
       "      <th>0</th>\n",
       "      <td>17.784709</td>\n",
       "      <td>-128.467076</td>\n",
       "      <td>405923.705438</td>\n",
       "    </tr>\n",
       "    <tr>\n",
       "      <th>1</th>\n",
       "      <td>20.731210</td>\n",
       "      <td>-126.014329</td>\n",
       "      <td>406414.469061</td>\n",
       "    </tr>\n",
       "    <tr>\n",
       "      <th>2</th>\n",
       "      <td>23.632504</td>\n",
       "      <td>-123.456078</td>\n",
       "      <td>406980.252557</td>\n",
       "    </tr>\n",
       "    <tr>\n",
       "      <th>3</th>\n",
       "      <td>26.479522</td>\n",
       "      <td>-120.772895</td>\n",
       "      <td>407609.567643</td>\n",
       "    </tr>\n",
       "    <tr>\n",
       "      <th>4</th>\n",
       "      <td>29.262056</td>\n",
       "      <td>-117.943822</td>\n",
       "      <td>408289.960043</td>\n",
       "    </tr>\n",
       "  </tbody>\n",
       "</table>\n",
       "</div>"
      ],
      "text/plain": [
       "    Latitude   Longitude       Altitude\n",
       "0  17.784709 -128.467076  405923.705438\n",
       "1  20.731210 -126.014329  406414.469061\n",
       "2  23.632504 -123.456078  406980.252557\n",
       "3  26.479522 -120.772895  407609.567643\n",
       "4  29.262056 -117.943822  408289.960043"
      ]
     },
     "execution_count": 59,
     "metadata": {},
     "output_type": "execute_result"
    }
   ],
   "source": [
    "access_geometry_dfs[0].head()"
   ]
  },
  {
   "cell_type": "markdown",
   "metadata": {},
   "source": [
    "And plot the geometries onto a map:"
   ]
  },
  {
   "cell_type": "code",
   "execution_count": 60,
   "metadata": {},
   "outputs": [
    {
     "data": {
      "0": {
       "lat": [
        17.784708538021725,
        20.731209625420927,
        23.63250414762514,
        26.47952240522444,
        29.262055803751416,
        31.96853125921269,
        34.585767952250436,
        37.098727615080314,
        39.49028005016682,
        41.741020880341516,
        43.729012649420795
       ],
       "line": {
        "color": "red",
        "width": 1
       },
       "lon": [
        -128.46707562417959,
        -126.01432939409256,
        -123.45607809998639,
        -120.77289509559664,
        -117.94382204048733,
        -114.9463406819822,
        -111.75649544492478,
        -108.34925116719158,
        -104.69919911303778,
        -100.78175051885427,
        -96.79246385799372
       ],
       "mode": "lines",
       "type": "scattergeo",
       "uid": "140ce522-aa20-11e8-87df-0242ac110006"
      },
      "1": {
       "lat": [
        27.61026519296679,
        30.36361113315939,
        33.03578905124163,
        35.61289845853225,
        38.079083297550994,
        40.41631303967971,
        42.60423643352648,
        44.62017448064129,
        46.43934236842365,
        48.03540588612585,
        49.381470984845336,
        50.058209732972166
       ],
       "line": {
        "color": "red",
        "width": 1
       },
       "lon": [
        -143.19193916409222,
        -140.29771607870444,
        -137.2255795617873,
        -133.95107817980275,
        -130.44891695740534,
        -126.69384152686206,
        -122.66207116047161,
        -118.33342207194521,
        -113.69420415358827,
        -108.74082054066561,
        -103.48372230255374,
        -100.19454913755898
       ],
       "mode": "lines",
       "type": "scattergeo",
       "uid": "140d09b2-aa20-11e8-87df-0242ac110006"
      },
      "2": {
       "lat": [
        41.864170707687805,
        43.94243723111185,
        45.83273404870383,
        47.50917540826945,
        48.94491900562472,
        50.1134705150843,
        50.9904480763254,
        51.55564988161213,
        51.79510418741903,
        51.77280475391025
       ],
       "line": {
        "color": "red",
        "width": 1
       },
       "lon": [
        -147.633600192363,
        -143.40978049304965,
        -138.87918746098137,
        -134.03428468299086,
        -128.88021035371742,
        -123.43859529062728,
        -117.75032694722583,
        -111.87605067214078,
        -105.89340796030535,
        -101.98826563048401
       ],
       "mode": "lines",
       "type": "scattergeo",
       "uid": "140d0bb0-aa20-11e8-87df-0242ac110006"
      },
      "3": {
       "lat": [
        50.74845055399765,
        51.41315175618691,
        51.75569893609546,
        51.76737196329087,
        51.44790990526864,
        50.80554485297357,
        49.856006290452015,
        48.620764451736235,
        47.33848122679115
       ],
       "line": {
        "color": "red",
        "width": 1
       },
       "lon": [
        -143.09678714719595,
        -137.27310994073375,
        -131.31523106154378,
        -125.30904060628609,
        -119.34537452855385,
        -113.5107153221411,
        -107.8789411878112,
        -102.50591461586326,
        -98.08687868665912
       ],
       "mode": "lines",
       "type": "scattergeo",
       "uid": "140d0d40-aa20-11e8-87df-0242ac110006"
      },
      "4": {
       "lat": [
        51.3876094900302,
        50.70738793570907,
        49.722306861880654,
        48.45438760696441,
        46.929045825199324,
        45.17310625078601,
        43.213198019573966,
        41.074629445284515,
        38.780717497436754,
        36.35248211957595,
        34.45447573625965
       ],
       "line": {
        "color": "red",
        "width": 1
       },
       "lon": [
        -142.1775747095422,
        -136.36368059282762,
        -130.76040590483802,
        -125.42125410902828,
        -120.37981720351003,
        -115.651251212019,
        -111.23556312638593,
        -107.12155169996079,
        -103.29055915581854,
        -99.71958536072714,
        -97.19697775929784
       ],
       "mode": "lines",
       "type": "scattergeo",
       "uid": "140d0eb2-aa20-11e8-87df-0242ac110006"
      },
      "5": {
       "lat": [
        17.04347963539683,
        20.000184420279915,
        22.913787286770745,
        25.77546690407146,
        28.575315642203567,
        31.30211922541739,
        33.94311710673238,
        36.48375278240794,
        38.90743271766477,
        40.29776571841818
       ],
       "line": {
        "color": "red",
        "width": 1
       },
       "lon": [
        -122.18529245453598,
        -119.7558115309699,
        -117.22542796866848,
        -114.57507744303074,
        -111.78418673912054,
        -108.8306180462116,
        -105.69074724113649,
        -102.33975378212322,
        -98.7522281251775,
        -96.47573793481641
       ],
       "mode": "lines",
       "type": "scattergeo",
       "uid": "140d1538-aa20-11e8-87df-0242ac110006"
      },
      "6": {
       "lat": [
        23.931594210828386,
        26.77262984625643,
        29.548031778501745,
        32.24606715801503,
        34.85336902237031,
        37.354686900663594,
        39.73265572773276,
        41.96762198546748,
        44.03758675743547,
        45.91834879815379,
        47.58395001577141,
        48.765873171286245
       ],
       "line": {
        "color": "red",
        "width": 1
       },
       "lon": [
        -139.84483552456092,
        -137.14723031214572,
        -134.30143749230223,
        -131.2847757404142,
        -128.0731508578374,
        -124.64144428315157,
        -120.96426367072742,
        -117.01719593977204,
        -112.77871311739635,
        -108.23283644299742,
        -103.37254857199751,
        -99.17365004514181
       ],
       "mode": "lines",
       "type": "scattergeo",
       "uid": "140d1948-aa20-11e8-87df-0242ac110006"
      },
      "7": {
       "lat": [
        37.80879954943635,
        40.16163178934481,
        42.36752765965607,
        44.4040580678584,
        46.246648565152306,
        47.86909331689547,
        49.24449283470263,
        50.346672780344605,
        51.15204044854931,
        51.64168316784313,
        51.721127642593984
       ],
       "line": {
        "color": "red",
        "width": 1
       },
       "lon": [
        -147.5153579488991,
        -143.78954313079933,
        -139.78952936623233,
        -135.49459891829486,
        -130.8901678891113,
        -125.97131865103964,
        -120.74674555269132,
        -115.24242695609378,
        -109.5039676972805,
        -103.59640291232236,
        -101.90274567175598
       ],
       "mode": "lines",
       "type": "scattergeo",
       "uid": "140d1cae-aa20-11e8-87df-0242ac110006"
      },
      "8": {
       "lat": [
        49.18639971379244,
        50.30184346837288,
        51.12148232482783,
        51.62613939424264,
        51.80321994872565,
        51.64818075580977,
        51.16509181918706,
        50.366135214020304,
        49.5902058371613
       ],
       "line": {
        "color": "red",
        "width": 1
       },
       "lon": [
        -144.5376014816112,
        -139.04541491782047,
        -133.31652139392114,
        -127.4151053157763,
        -121.42142751247077,
        -115.42501391553428,
        -109.51567631550671,
        -103.77446383472655,
        -99.7096405047217
       ],
       "mode": "lines",
       "type": "scattergeo",
       "uid": "140d2000-aa20-11e8-87df-0242ac110006"
      },
      "9": {
       "lat": [
        51.76399282604034,
        51.43726514307072,
        50.787882409507375,
        49.83172873758089,
        48.59038506732092,
        47.089032952444505,
        45.35444297596137,
        43.4133257191291,
        41.29115904449876,
        39.01147642973559,
        38.696786926362904
       ],
       "line": {
        "color": "red",
        "width": 1
       },
       "lon": [
        -141.8381680837246,
        -135.87617797110912,
        -130.04503064763048,
        -124.41825906050116,
        -119.05129526367607,
        -113.97965539062811,
        -109.22017166362967,
        -104.77415817853306,
        -100.63133227283481,
        -96.77361132448661,
        -96.27960470524422
       ],
       "mode": "lines",
       "type": "scattergeo",
       "uid": "140d230c-aa20-11e8-87df-0242ac110006"
      },
      "image/png": "[encoded data removed]"
     },
     "metadata": {},
     "output_type": "display_data"
    }
   ],
   "source": [
    "access_paths = []\n",
    "\n",
    "for access_geometry_df in access_geometry_dfs:\n",
    "    \n",
    "    access_paths.append(\n",
    "        dict(\n",
    "            type = 'scattergeo',\n",
    "            lon = access_geometry_df['Longitude'],\n",
    "            lat = access_geometry_df['Latitude'],\n",
    "            mode = 'lines',\n",
    "            line = dict(\n",
    "                width = 1,\n",
    "                color = 'red',\n",
    "            )\n",
    "        )\n",
    "    )\n",
    "    \n",
    "layout = dict(\n",
    "        title = None,\n",
    "        showlegend = False, \n",
    "        geo = dict(\n",
    "            showland = True,\n",
    "            landcolor = 'rgb(243, 243, 243)',\n",
    "            countrycolor = 'rgb(204, 204, 204)',\n",
    "        ),\n",
    "    )\n",
    "    \n",
    "fig = dict(data=access_paths, layout=layout)\n",
    "iplot(fig)"
   ]
  }
 ],
 "metadata": {
  "kernelspec": {
   "display_name": "Python 3",
   "language": "python",
   "name": "python3"
  },
  "language_info": {
   "codemirror_mode": {
    "name": "ipython",
    "version": 3
   },
   "file_extension": ".py",
   "mimetype": "text/x-python",
   "name": "python",
   "nbconvert_exporter": "python",
   "pygments_lexer": "ipython3",
   "version": "3.6.5"
  }
 },
 "nbformat": 4,
 "nbformat_minor": 2
}
