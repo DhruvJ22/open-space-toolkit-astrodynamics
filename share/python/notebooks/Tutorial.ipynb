{
 "cells": [
  {
   "cell_type": "markdown",
   "metadata": {},
   "source": [
    "# Library :: Astrodynamics"
   ]
  },
  {
   "cell_type": "markdown",
   "metadata": {},
   "source": [
    "## Setup"
   ]
  },
  {
   "cell_type": "code",
   "execution_count": null,
   "metadata": {},
   "outputs": [],
   "source": [
    "import sys\n",
    "\n",
    "!{sys.executable} -m pip install --quiet numpy --upgrade\n",
    "# !{sys.executable} -m pip install --quiet --index-url https://test.pypi.org/simple/ LibraryCorePy==0.1.8\n",
    "# !{sys.executable} -m pip install --quiet --index-url https://test.pypi.org/simple/ LibraryMathematicsPy==0.1.4\n",
    "# !{sys.executable} -m pip install --quiet --index-url https://test.pypi.org/simple/ LibraryPhysicsPy==0.1.2"
   ]
  },
  {
   "cell_type": "code",
   "execution_count": null,
   "metadata": {},
   "outputs": [],
   "source": [
    "import numpy"
   ]
  },
  {
   "cell_type": "code",
   "execution_count": null,
   "metadata": {},
   "outputs": [],
   "source": [
    "import Library.Core as Core\n",
    "import Library.Mathematics as Mathematics\n",
    "import Library.Physics as Physics\n",
    "import Library.Astrodynamics as Astrodynamics"
   ]
  },
  {
   "cell_type": "markdown",
   "metadata": {},
   "source": [
    "---"
   ]
  },
  {
   "cell_type": "markdown",
   "metadata": {},
   "source": [
    "## Astrodynamics"
   ]
  },
  {
   "cell_type": "markdown",
   "metadata": {},
   "source": [
    "### Astrodynamics ▸ Trajectory"
   ]
  },
  {
   "cell_type": "code",
   "execution_count": null,
   "metadata": {},
   "outputs": [],
   "source": [
    "Trajectory = Astrodynamics.Trajectory"
   ]
  },
  {
   "cell_type": "markdown",
   "metadata": {},
   "source": [
    "#### Astrodynamics ▸ Trajectory ▸ State"
   ]
  },
  {
   "cell_type": "code",
   "execution_count": null,
   "metadata": {},
   "outputs": [],
   "source": [
    "State = Trajectory.State"
   ]
  },
  {
   "cell_type": "markdown",
   "metadata": {},
   "source": [
    "**Astrodynamics ▸ Trajectory ▸ State ▸ Constructors**"
   ]
  },
  {
   "cell_type": "code",
   "execution_count": null,
   "metadata": {},
   "outputs": [],
   "source": [
    "instant = Physics.Time.Instant.DateTime(Physics.Time.DateTime(2018, 1, 1, 0, 0, 0), Physics.Time.Scale.UTC) ;\n",
    "position = Physics.Coordinate.Position.Meters(numpy.array((7000e3, 0.0, 0.0)), Physics.Coordinate.Frame.GCRF()) ;\n",
    "velocity = Physics.Coordinate.Velocity.MetersPerSecond(numpy.array((0.0, 0.0, 0.0)), Physics.Coordinate.Frame.GCRF()) ;\n",
    "\n",
    "state = State(instant, position, velocity) ;"
   ]
  },
  {
   "cell_type": "code",
   "execution_count": null,
   "metadata": {},
   "outputs": [],
   "source": [
    "State.Undefined() ;"
   ]
  },
  {
   "cell_type": "markdown",
   "metadata": {},
   "source": [
    "**Astrodynamics ▸ Trajectory ▸ State ▸ Operators**"
   ]
  },
  {
   "cell_type": "code",
   "execution_count": null,
   "metadata": {},
   "outputs": [],
   "source": [
    "state == state ;\n",
    "state != state ;"
   ]
  },
  {
   "cell_type": "markdown",
   "metadata": {},
   "source": [
    "**Astrodynamics ▸ Trajectory ▸ State ▸ Methods**"
   ]
  },
  {
   "cell_type": "code",
   "execution_count": null,
   "metadata": {},
   "outputs": [],
   "source": [
    "state.isDefined() ;"
   ]
  },
  {
   "cell_type": "code",
   "execution_count": null,
   "metadata": {},
   "outputs": [],
   "source": [
    "state.accessInstant() ;"
   ]
  },
  {
   "cell_type": "code",
   "execution_count": null,
   "metadata": {},
   "outputs": [],
   "source": [
    "state.accessPosition() ;"
   ]
  },
  {
   "cell_type": "code",
   "execution_count": null,
   "metadata": {},
   "outputs": [],
   "source": [
    "state.accessVelocity() ;"
   ]
  },
  {
   "cell_type": "code",
   "execution_count": null,
   "metadata": {},
   "outputs": [],
   "source": [
    "state.inFrame(Physics.Coordinate.Frame.ITRF()) ;"
   ]
  },
  {
   "cell_type": "markdown",
   "metadata": {},
   "source": [
    "#### Astrodynamics ▸ Trajectory ▸ Model"
   ]
  },
  {
   "cell_type": "code",
   "execution_count": null,
   "metadata": {},
   "outputs": [],
   "source": [
    "Model = Trajectory.Model"
   ]
  },
  {
   "cell_type": "markdown",
   "metadata": {},
   "source": [
    "#### Astrodynamics ▸ Trajectory ▸ Orbit"
   ]
  },
  {
   "cell_type": "code",
   "execution_count": null,
   "metadata": {},
   "outputs": [],
   "source": [
    "Orbit = Trajectory.Orbit"
   ]
  },
  {
   "cell_type": "markdown",
   "metadata": {},
   "source": [
    "**Astrodynamics ▸ Trajectory ▸ Orbit ▸ Constructors**"
   ]
  },
  {
   "cell_type": "code",
   "execution_count": null,
   "metadata": {},
   "outputs": [],
   "source": [
    "tle = Orbit.Models.SGP4.TLE(\"1 25544U 98067A   18231.17878740  .00000187  00000-0  10196-4 0  9994\", \"2 25544  51.6447  64.7824 0005971  73.1467  36.4366 15.53848234128316\")\n",
    "model = Orbit.Models.SGP4(tle)\n",
    "orbit = Orbit(model)"
   ]
  },
  {
   "cell_type": "markdown",
   "metadata": {},
   "source": [
    "**Astrodynamics ▸ Trajectory ▸ Orbit ▸ Methods**"
   ]
  },
  {
   "cell_type": "code",
   "execution_count": null,
   "metadata": {},
   "outputs": [],
   "source": [
    "state = orbit.getStateAt(Physics.Time.Instant.Now()) ;"
   ]
  },
  {
   "cell_type": "markdown",
   "metadata": {},
   "source": [
    "#### Astrodynamics ▸ Trajectory ▸ Orbit ▸ Models"
   ]
  },
  {
   "cell_type": "markdown",
   "metadata": {},
   "source": [
    "#### Astrodynamics ▸ Trajectory ▸ Orbit ▸ Models ▸ Kepler"
   ]
  },
  {
   "cell_type": "code",
   "execution_count": null,
   "metadata": {},
   "outputs": [],
   "source": [
    "Kepler = Orbit.Models.Kepler"
   ]
  },
  {
   "cell_type": "markdown",
   "metadata": {},
   "source": [
    "**Astrodynamics ▸ Trajectory ▸ Orbit ▸ Models ▸ Kepler ▸ Constructors**"
   ]
  },
  {
   "cell_type": "code",
   "execution_count": null,
   "metadata": {},
   "outputs": [],
   "source": [
    "a = Physics.Units.Length.Kilometers(7000.0) ;\n",
    "e = 0.1 ;\n",
    "i = Physics.Units.Angle.Degrees(35.0) ;\n",
    "raan = Physics.Units.Angle.Degrees(40.0) ;\n",
    "aop = Physics.Units.Angle.Degrees(50.0) ;\n",
    "nu = Physics.Units.Angle.Degrees(60.0) ;\n",
    "\n",
    "coe = Kepler.COE(a, e, i, raan, aop, nu) ;\n",
    "\n",
    "epoch = Physics.Time.Instant.DateTime(Physics.Time.DateTime(2018, 1, 1, 0, 0, 0), Physics.Time.Scale.UTC) ;\n",
    "earth = Physics.Environment.Objects.CelestialBodies.Earth.Analytical(epoch) ;\n",
    "\n",
    "kepler = Kepler(coe, epoch, earth, Kepler.PerturbationType.No) ;"
   ]
  },
  {
   "cell_type": "markdown",
   "metadata": {},
   "source": [
    "**Astrodynamics ▸ Trajectory ▸ Orbit ▸ Models ▸ Kepler ▸ Operators**"
   ]
  },
  {
   "cell_type": "code",
   "execution_count": null,
   "metadata": {},
   "outputs": [],
   "source": [
    "kepler == kepler ;\n",
    "kepler != kepler ;"
   ]
  },
  {
   "cell_type": "markdown",
   "metadata": {},
   "source": [
    "**Astrodynamics ▸ Trajectory ▸ Orbit ▸ Models ▸ Kepler ▸ Methods**"
   ]
  },
  {
   "cell_type": "code",
   "execution_count": null,
   "metadata": {},
   "outputs": [],
   "source": [
    "kepler.isDefined() ;"
   ]
  },
  {
   "cell_type": "code",
   "execution_count": null,
   "metadata": {},
   "outputs": [],
   "source": [
    "kepler.getClassicalOrbitalElements() ;"
   ]
  },
  {
   "cell_type": "code",
   "execution_count": null,
   "metadata": {},
   "outputs": [],
   "source": [
    "kepler.getEpoch() ;"
   ]
  },
  {
   "cell_type": "code",
   "execution_count": null,
   "metadata": {},
   "outputs": [],
   "source": [
    "kepler.getRevolutionNumberAtEpoch() ;"
   ]
  },
  {
   "cell_type": "code",
   "execution_count": null,
   "metadata": {},
   "outputs": [],
   "source": [
    "kepler.getGravitationalParameter() ;"
   ]
  },
  {
   "cell_type": "code",
   "execution_count": null,
   "metadata": {},
   "outputs": [],
   "source": [
    "kepler.getEquatorialRadius() ;"
   ]
  },
  {
   "cell_type": "code",
   "execution_count": null,
   "metadata": {},
   "outputs": [],
   "source": [
    "kepler.getJ2() ;"
   ]
  },
  {
   "cell_type": "code",
   "execution_count": null,
   "metadata": {},
   "outputs": [],
   "source": [
    "kepler.getPerturbationType() ;"
   ]
  },
  {
   "cell_type": "code",
   "execution_count": null,
   "metadata": {},
   "outputs": [],
   "source": [
    "kepler.calculateStateAt(epoch) ;"
   ]
  },
  {
   "cell_type": "code",
   "execution_count": null,
   "metadata": {},
   "outputs": [],
   "source": [
    "kepler.calculateRevolutionNumberAt(epoch) ;"
   ]
  },
  {
   "cell_type": "markdown",
   "metadata": {},
   "source": [
    "#### Astrodynamics ▸ Trajectory ▸ Orbit ▸ Models ▸ Kepler ▸ COE"
   ]
  },
  {
   "cell_type": "code",
   "execution_count": null,
   "metadata": {},
   "outputs": [],
   "source": [
    "COE = Kepler.COE"
   ]
  },
  {
   "cell_type": "markdown",
   "metadata": {},
   "source": [
    "**Astrodynamics ▸ Trajectory ▸ Orbit ▸ Models ▸ Kepler ▸ COE ▸ Constructors**"
   ]
  },
  {
   "cell_type": "code",
   "execution_count": null,
   "metadata": {},
   "outputs": [],
   "source": [
    "a = Physics.Units.Length.Kilometers(7000.0) ;\n",
    "e = 0.1 ;\n",
    "i = Physics.Units.Angle.Degrees(35.0) ;\n",
    "raan = Physics.Units.Angle.Degrees(40.0) ;\n",
    "aop = Physics.Units.Angle.Degrees(50.0) ;\n",
    "nu = Physics.Units.Angle.Degrees(60.0) ;\n",
    "\n",
    "coe = COE(a, e, i, raan, aop, nu) ;"
   ]
  },
  {
   "cell_type": "code",
   "execution_count": null,
   "metadata": {},
   "outputs": [],
   "source": [
    "COE.Undefined() ;"
   ]
  },
  {
   "cell_type": "markdown",
   "metadata": {},
   "source": [
    "**Astrodynamics ▸ Trajectory ▸ Orbit ▸ Models ▸ Kepler ▸ COE ▸ Operators**"
   ]
  },
  {
   "cell_type": "code",
   "execution_count": null,
   "metadata": {},
   "outputs": [],
   "source": [
    "coe == coe ;\n",
    "coe != coe ;"
   ]
  },
  {
   "cell_type": "markdown",
   "metadata": {},
   "source": [
    "**Astrodynamics ▸ Trajectory ▸ Orbit ▸ Models ▸ Kepler ▸ COE ▸ Methods**"
   ]
  },
  {
   "cell_type": "code",
   "execution_count": null,
   "metadata": {},
   "outputs": [],
   "source": [
    "coe.isDefined() ;"
   ]
  },
  {
   "cell_type": "code",
   "execution_count": null,
   "metadata": {},
   "outputs": [],
   "source": [
    "coe.getSemiMajorAxis() ;"
   ]
  },
  {
   "cell_type": "code",
   "execution_count": null,
   "metadata": {},
   "outputs": [],
   "source": [
    "coe.getEccentricity() ;"
   ]
  },
  {
   "cell_type": "code",
   "execution_count": null,
   "metadata": {},
   "outputs": [],
   "source": [
    "coe.getInclination() ;"
   ]
  },
  {
   "cell_type": "code",
   "execution_count": null,
   "metadata": {},
   "outputs": [],
   "source": [
    "coe.getRaan() ;"
   ]
  },
  {
   "cell_type": "code",
   "execution_count": null,
   "metadata": {},
   "outputs": [],
   "source": [
    "coe.getAop() ;"
   ]
  },
  {
   "cell_type": "code",
   "execution_count": null,
   "metadata": {},
   "outputs": [],
   "source": [
    "coe.getTrueAnomaly() ;"
   ]
  },
  {
   "cell_type": "code",
   "execution_count": null,
   "metadata": {},
   "outputs": [],
   "source": [
    "coe.getMeanAnomaly() ;"
   ]
  },
  {
   "cell_type": "code",
   "execution_count": null,
   "metadata": {},
   "outputs": [],
   "source": [
    "coe.getEccentricAnomaly() ;"
   ]
  },
  {
   "cell_type": "code",
   "execution_count": null,
   "metadata": {},
   "outputs": [],
   "source": [
    "coe.getMeanMotion(Physics.Environment.Objects.CelestialBodies.Earth.GravitationalConstant) ;"
   ]
  },
  {
   "cell_type": "code",
   "execution_count": null,
   "metadata": {},
   "outputs": [],
   "source": [
    "coe.getOrbitalPeriod(Physics.Environment.Objects.CelestialBodies.Earth.GravitationalConstant) ;"
   ]
  },
  {
   "cell_type": "code",
   "execution_count": null,
   "metadata": {},
   "outputs": [],
   "source": [
    "# coe.getCartesianState(Physics.Environment.Objects.CelestialBodies.Earth.GravitationalConstant) ;"
   ]
  },
  {
   "cell_type": "markdown",
   "metadata": {},
   "source": [
    "**Astrodynamics ▸ Trajectory ▸ Orbit ▸ Models ▸ Kepler ▸ COE ▸ Static Methods**"
   ]
  },
  {
   "cell_type": "code",
   "execution_count": null,
   "metadata": {},
   "outputs": [],
   "source": [
    "COE.EccentricAnomalyFromTrueAnomaly(Physics.Units.Angle.Degrees(0.0), 0.0) ;"
   ]
  },
  {
   "cell_type": "code",
   "execution_count": null,
   "metadata": {},
   "outputs": [],
   "source": [
    "COE.TrueAnomalyFromEccentricAnomaly(Physics.Units.Angle.Degrees(0.0), 0.0) ;"
   ]
  },
  {
   "cell_type": "code",
   "execution_count": null,
   "metadata": {},
   "outputs": [],
   "source": [
    "COE.MeanAnomalyFromEccentricAnomaly(Physics.Units.Angle.Degrees(0.0), 0.0) ;"
   ]
  },
  {
   "cell_type": "code",
   "execution_count": null,
   "metadata": {},
   "outputs": [],
   "source": [
    "COE.EccentricAnomalyFromMeanAnomaly(Physics.Units.Angle.Degrees(0.0), 0.0, 0.0) ;"
   ]
  },
  {
   "cell_type": "markdown",
   "metadata": {},
   "source": [
    "#### Astrodynamics ▸ Trajectory ▸ Orbit ▸ Models ▸ SGP4"
   ]
  },
  {
   "cell_type": "code",
   "execution_count": null,
   "metadata": {},
   "outputs": [],
   "source": [
    "SGP4 = Orbit.Models.SGP4"
   ]
  },
  {
   "cell_type": "markdown",
   "metadata": {},
   "source": [
    "**Astrodynamics ▸ Trajectory ▸ Orbit ▸ Models ▸ SGP4 ▸ Constructors**"
   ]
  },
  {
   "cell_type": "code",
   "execution_count": null,
   "metadata": {},
   "outputs": [],
   "source": [
    "tle = SGP4.TLE(\"1 25544U 98067A   18231.17878740  .00000187  00000-0  10196-4 0  9994\", \"2 25544  51.6447  64.7824 0005971  73.1467  36.4366 15.53848234128316\")\n",
    "\n",
    "sgp4 = SGP4(tle)"
   ]
  },
  {
   "cell_type": "markdown",
   "metadata": {},
   "source": [
    "**Astrodynamics ▸ Trajectory ▸ Orbit ▸ Models ▸ SGP4 ▸ Methods**"
   ]
  },
  {
   "cell_type": "code",
   "execution_count": null,
   "metadata": {},
   "outputs": [],
   "source": [
    "instant = Physics.Time.Instant.Now()\n",
    "\n",
    "state = sgp4.calculateStateAt(instant)"
   ]
  },
  {
   "cell_type": "markdown",
   "metadata": {},
   "source": [
    "#### Astrodynamics ▸ Trajectory ▸ Orbit ▸ Models ▸ SGP4 ▸ TLE"
   ]
  },
  {
   "cell_type": "code",
   "execution_count": null,
   "metadata": {},
   "outputs": [],
   "source": [
    "TLE = SGP4.TLE"
   ]
  },
  {
   "cell_type": "markdown",
   "metadata": {},
   "source": [
    "**Astrodynamics ▸ Trajectory ▸ Orbit ▸ Models ▸ SGP4 ▸ TLE ▸ Constructors**"
   ]
  },
  {
   "cell_type": "code",
   "execution_count": null,
   "metadata": {},
   "outputs": [],
   "source": [
    "tle = TLE(\"1 25544U 98067A   18231.17878740  .00000187  00000-0  10196-4 0  9994\",\n",
    "          \"2 25544  51.6447  64.7824 0005971  73.1467  36.4366 15.53848234128316\") ;\n",
    "\n",
    "tle = TLE.Undefined() ;\n",
    "tle = TLE.Parse(\"1 25544U 98067A   18231.17878740  .00000187  00000-0  10196-4 0  9994\\n2 25544  51.6447  64.7824 0005971  73.1467  36.4366 15.53848234128316\") ;"
   ]
  },
  {
   "cell_type": "markdown",
   "metadata": {},
   "source": [
    "**Astrodynamics ▸ Trajectory ▸ Orbit ▸ Models ▸ SGP4 ▸ TLE ▸ Methods**"
   ]
  },
  {
   "cell_type": "code",
   "execution_count": null,
   "metadata": {},
   "outputs": [],
   "source": [
    "tle.isDefined() ;"
   ]
  },
  {
   "cell_type": "code",
   "execution_count": null,
   "metadata": {},
   "outputs": [],
   "source": [
    "tle.getSatelliteName() ;"
   ]
  },
  {
   "cell_type": "code",
   "execution_count": null,
   "metadata": {},
   "outputs": [],
   "source": [
    "tle.getFirstLine() ;"
   ]
  },
  {
   "cell_type": "code",
   "execution_count": null,
   "metadata": {},
   "outputs": [],
   "source": [
    "tle.getSecondLine() ;"
   ]
  },
  {
   "cell_type": "code",
   "execution_count": null,
   "metadata": {},
   "outputs": [],
   "source": [
    "tle.getSatelliteNumber() ;"
   ]
  },
  {
   "cell_type": "code",
   "execution_count": null,
   "metadata": {},
   "outputs": [],
   "source": [
    "tle.getClassification() ;"
   ]
  },
  {
   "cell_type": "code",
   "execution_count": null,
   "metadata": {},
   "outputs": [],
   "source": [
    "tle.getInternationalDesignator() ;"
   ]
  },
  {
   "cell_type": "code",
   "execution_count": null,
   "metadata": {},
   "outputs": [],
   "source": [
    "tle.getEpoch() ;"
   ]
  },
  {
   "cell_type": "code",
   "execution_count": null,
   "metadata": {},
   "outputs": [],
   "source": [
    "tle.getMeanMotionFirstTimeDerivativeDividedByTwo() ;"
   ]
  },
  {
   "cell_type": "code",
   "execution_count": null,
   "metadata": {},
   "outputs": [],
   "source": [
    "tle.getMeanMotionSecondTimeDerivativeDividedBySix() ;"
   ]
  },
  {
   "cell_type": "code",
   "execution_count": null,
   "metadata": {},
   "outputs": [],
   "source": [
    "tle.getBStarDragTerm() ;"
   ]
  },
  {
   "cell_type": "code",
   "execution_count": null,
   "metadata": {},
   "outputs": [],
   "source": [
    "tle.getEphemerisType() ;"
   ]
  },
  {
   "cell_type": "code",
   "execution_count": null,
   "metadata": {},
   "outputs": [],
   "source": [
    "tle.getElementSetNumber() ;"
   ]
  },
  {
   "cell_type": "code",
   "execution_count": null,
   "metadata": {},
   "outputs": [],
   "source": [
    "tle.getFirstLineChecksum() ;"
   ]
  },
  {
   "cell_type": "code",
   "execution_count": null,
   "metadata": {},
   "outputs": [],
   "source": [
    "tle.getInclination() ;"
   ]
  },
  {
   "cell_type": "code",
   "execution_count": null,
   "metadata": {},
   "outputs": [],
   "source": [
    "tle.getRaan() ;"
   ]
  },
  {
   "cell_type": "code",
   "execution_count": null,
   "metadata": {},
   "outputs": [],
   "source": [
    "tle.getEccentricity() ;"
   ]
  },
  {
   "cell_type": "code",
   "execution_count": null,
   "metadata": {},
   "outputs": [],
   "source": [
    "tle.getAop() ;"
   ]
  },
  {
   "cell_type": "code",
   "execution_count": null,
   "metadata": {},
   "outputs": [],
   "source": [
    "tle.getMeanAnomaly() ;"
   ]
  },
  {
   "cell_type": "code",
   "execution_count": null,
   "metadata": {},
   "outputs": [],
   "source": [
    "tle.getMeanMotion() ;"
   ]
  },
  {
   "cell_type": "code",
   "execution_count": null,
   "metadata": {},
   "outputs": [],
   "source": [
    "tle.getRevolutionNumberAtEpoch() ;"
   ]
  },
  {
   "cell_type": "markdown",
   "metadata": {},
   "source": [
    "**Astrodynamics ▸ Trajectory ▸ Orbit ▸ Models ▸ SGP4 ▸ TLE ▸ Static Methods**"
   ]
  },
  {
   "cell_type": "code",
   "execution_count": null,
   "metadata": {},
   "outputs": [],
   "source": [
    "TLE.CanParse(\"1 25544U 98067A   18231.17878740  .00000187  00000-0  10196-4 0  9994\", \"2 25544  51.6447  64.7824 0005971  73.1467  36.4366 15.53848234128316\") ;"
   ]
  },
  {
   "cell_type": "markdown",
   "metadata": {},
   "source": [
    "#### Astrodynamics ▸ Trajectory ▸ Orbit ▸ Pass"
   ]
  },
  {
   "cell_type": "code",
   "execution_count": null,
   "metadata": {},
   "outputs": [],
   "source": [
    "Pass = Orbit.Pass"
   ]
  },
  {
   "cell_type": "markdown",
   "metadata": {},
   "source": [
    "**Astrodynamics ▸ Trajectory ▸ Orbit ▸ Pass ▸ Constructors**"
   ]
  },
  {
   "cell_type": "code",
   "execution_count": null,
   "metadata": {},
   "outputs": [],
   "source": [
    "pass_type = Pass.Type.Complete\n",
    "pass_revolution_number = 123\n",
    "pass_start_instant = Physics.Time.Instant.Now()\n",
    "pass_end_instant = Physics.Time.Instant.Now()\n",
    "pass_interval = Physics.Time.Interval.Closed(pass_start_instant, pass_end_instant)\n",
    "\n",
    "pass_ = Pass(pass_type, pass_revolution_number, pass_interval)"
   ]
  },
  {
   "cell_type": "markdown",
   "metadata": {},
   "source": [
    "**Astrodynamics ▸ Trajectory ▸ Orbit ▸ Pass ▸ Methods**"
   ]
  },
  {
   "cell_type": "code",
   "execution_count": null,
   "metadata": {},
   "outputs": [],
   "source": [
    "pass_.isDefined() ;"
   ]
  },
  {
   "cell_type": "code",
   "execution_count": null,
   "metadata": {},
   "outputs": [],
   "source": [
    "pass_.isComplete() ;"
   ]
  },
  {
   "cell_type": "code",
   "execution_count": null,
   "metadata": {},
   "outputs": [],
   "source": [
    "pass_.getType() ;"
   ]
  },
  {
   "cell_type": "code",
   "execution_count": null,
   "metadata": {},
   "outputs": [],
   "source": [
    "pass_.getRevolutionNumber() ;"
   ]
  },
  {
   "cell_type": "code",
   "execution_count": null,
   "metadata": {},
   "outputs": [],
   "source": [
    "pass_.getInterval() ;"
   ]
  },
  {
   "cell_type": "markdown",
   "metadata": {},
   "source": [
    "**Astrodynamics ▸ Trajectory ▸ Orbit ▸ Pass ▸ Static Methods**"
   ]
  },
  {
   "cell_type": "code",
   "execution_count": null,
   "metadata": {},
   "outputs": [],
   "source": [
    "Pass.StringFromType(Pass.Type.Complete) ;"
   ]
  },
  {
   "cell_type": "code",
   "execution_count": null,
   "metadata": {},
   "outputs": [],
   "source": [
    "Pass.StringFromPhase(Pass.Phase.Ascending) ;"
   ]
  },
  {
   "cell_type": "code",
   "execution_count": null,
   "metadata": {},
   "outputs": [],
   "source": [
    "Pass.StringFromQuarter(Pass.Quarter.First) ;"
   ]
  },
  {
   "cell_type": "markdown",
   "metadata": {},
   "source": [
    "### Astrodynamics ▸ Access"
   ]
  },
  {
   "cell_type": "code",
   "execution_count": null,
   "metadata": {},
   "outputs": [],
   "source": [
    "Access = Astrodynamics.Access"
   ]
  },
  {
   "cell_type": "markdown",
   "metadata": {},
   "source": [
    "**Astrodynamics ▸ Access ▸ Constructors**"
   ]
  },
  {
   "cell_type": "code",
   "execution_count": null,
   "metadata": {},
   "outputs": [],
   "source": [
    "acquisition_of_signal = Physics.Time.Instant.DateTime(Physics.Time.DateTime(2018, 1, 1, 0, 0, 0), Physics.Time.Scale.UTC) ;\n",
    "time_at_closest_approach = Physics.Time.Instant.DateTime(Physics.Time.DateTime(2018, 1, 1, 0, 1, 0), Physics.Time.Scale.UTC) ;\n",
    "loss_of_signal = Physics.Time.Instant.DateTime(Physics.Time.DateTime(2018, 1, 1, 0, 2, 0), Physics.Time.Scale.UTC) ;\n",
    "\n",
    "access = Access(Access.Type.Complete, acquisition_of_signal, time_at_closest_approach, loss_of_signal) ;"
   ]
  },
  {
   "cell_type": "code",
   "execution_count": null,
   "metadata": {},
   "outputs": [],
   "source": [
    "Access.Undefined() ;"
   ]
  },
  {
   "cell_type": "markdown",
   "metadata": {},
   "source": [
    "**Astrodynamics ▸ Access ▸ Operators**"
   ]
  },
  {
   "cell_type": "code",
   "execution_count": null,
   "metadata": {},
   "outputs": [],
   "source": [
    "access == access ;\n",
    "access != access ;"
   ]
  },
  {
   "cell_type": "markdown",
   "metadata": {},
   "source": [
    "**Astrodynamics ▸ Access ▸ Methods**"
   ]
  },
  {
   "cell_type": "code",
   "execution_count": null,
   "metadata": {},
   "outputs": [],
   "source": [
    "access.isDefined() ;"
   ]
  },
  {
   "cell_type": "code",
   "execution_count": null,
   "metadata": {},
   "outputs": [],
   "source": [
    "access.isComplete() ;"
   ]
  },
  {
   "cell_type": "code",
   "execution_count": null,
   "metadata": {},
   "outputs": [],
   "source": [
    "access.getType() ;"
   ]
  },
  {
   "cell_type": "code",
   "execution_count": null,
   "metadata": {},
   "outputs": [],
   "source": [
    "access.getAcquisitionOfSignal() ;\n",
    "access.getTimeOfClosestApproach() ;\n",
    "access.getLossOfSignal() ;"
   ]
  },
  {
   "cell_type": "code",
   "execution_count": null,
   "metadata": {},
   "outputs": [],
   "source": [
    "access.getInterval() ;"
   ]
  },
  {
   "cell_type": "code",
   "execution_count": null,
   "metadata": {},
   "outputs": [],
   "source": [
    "access.getDuration() ;"
   ]
  },
  {
   "cell_type": "code",
   "execution_count": null,
   "metadata": {},
   "outputs": [],
   "source": [
    "Access.StringFromType(Access.Type.Undefined) ;\n",
    "Access.StringFromType(Access.Type.Complete) ;\n",
    "Access.StringFromType(Access.Type.Partial) ;"
   ]
  },
  {
   "cell_type": "markdown",
   "metadata": {},
   "source": [
    "### Astrodynamics ▸ Access ▸ Generator"
   ]
  },
  {
   "cell_type": "code",
   "execution_count": 1,
   "metadata": {},
   "outputs": [],
   "source": [
    "import numpy\n",
    "\n",
    "import Library.Core as Core\n",
    "import Library.Mathematics as Mathematics\n",
    "import Library.Physics as Physics\n",
    "import Library.Astrodynamics as Astrodynamics\n",
    "\n",
    "Access = Astrodynamics.Access"
   ]
  },
  {
   "cell_type": "markdown",
   "metadata": {},
   "source": [
    "**Astrodynamics ▸ Access ▸ Generator ▸ Constructors**"
   ]
  },
  {
   "cell_type": "code",
   "execution_count": 2,
   "metadata": {},
   "outputs": [],
   "source": [
    "environment = Physics.Environment.Default() ;\n",
    "\n",
    "access_generator = Access.Generator(environment) ;"
   ]
  },
  {
   "cell_type": "code",
   "execution_count": 3,
   "metadata": {},
   "outputs": [],
   "source": [
    "Access.Generator.Undefined() ;"
   ]
  },
  {
   "cell_type": "code",
   "execution_count": 10,
   "metadata": {},
   "outputs": [],
   "source": [
    "# Length = Physics.Units.Length\n",
    "# Angle = Physics.Units.Angle\n",
    "# Environment = Physics.Environment\n",
    "\n",
    "# azimuth_interval = Angle.Interval.Closed(Angle.Degrees(0.0), Angle.Degrees(360.0))\n",
    "# elevation_interval = Angle.Interval.Closed(Angle.Degrees(0.0), Angle.Degrees(90.0))\n",
    "# range_interval = Length.Interval.Closed(Length.Meters(0.0), Length.Meters(7000e3))\n",
    "\n",
    "# environment = Environment.Default() ;\n",
    "\n",
    "# Access.Generator.AerRanges(azimuth_interval, elevation_interval, range_interval, environment)"
   ]
  },
  {
   "cell_type": "markdown",
   "metadata": {},
   "source": [
    "**Astrodynamics ▸ Access ▸ Generator ▸ Methods**"
   ]
  },
  {
   "cell_type": "code",
   "execution_count": 3,
   "metadata": {},
   "outputs": [],
   "source": [
    "Length = Physics.Units.Length\n",
    "Angle = Physics.Units.Angle\n",
    "Scale = Physics.Time.Scale\n",
    "Instant = Physics.Time.Instant\n",
    "Interval = Physics.Time.Interval\n",
    "DateTime = Physics.Time.DateTime\n",
    "Earth = Physics.Environment.Objects.CelestialBodies.Earth\n",
    "\n",
    "Orbit = Astrodynamics.Trajectory.Orbit\n",
    "Kepler = Astrodynamics.Trajectory.Orbit.Models.Kepler\n",
    "\n",
    "start_instant = Instant.DateTime(DateTime(2018, 1, 1, 0, 0, 0), Scale.UTC) ;\n",
    "end_instant = Instant.DateTime(DateTime(2018, 1, 1, 2, 0, 0), Scale.UTC) ;\n",
    "interval = Interval.Closed(start_instant, end_instant) ;\n",
    "\n",
    "def generate_first_trajectory ():\n",
    "\n",
    "    a = Length.Kilometers(7000.0) ;\n",
    "    e = 0.0 ;\n",
    "    i = Angle.Degrees(45.0) ;\n",
    "    raan = Angle.Degrees(0.0) ;\n",
    "    aop = Angle.Degrees(0.0) ;\n",
    "    nu = Angle.Degrees(0.0) ;\n",
    "\n",
    "    coe = Kepler.COE(a, e, i, raan, aop, nu) ;\n",
    "\n",
    "    epoch = start_instant ;\n",
    "    earth = Earth.Analytical(epoch) ;\n",
    "\n",
    "    kepler = Kepler(coe, epoch, earth, Kepler.PerturbationType.No) ;\n",
    "    \n",
    "    return Orbit(kepler) ;\n",
    "\n",
    "def generate_second_trajectory ():\n",
    "\n",
    "    a = Length.Kilometers(7000.0) ;\n",
    "    e = 0.0 ;\n",
    "    i = Angle.Degrees(45.0) ;\n",
    "    raan = Angle.Degrees(180.0) ;\n",
    "    aop = Angle.Degrees(0.0) ;\n",
    "    nu = Angle.Degrees(180.0) ;\n",
    "\n",
    "    coe = Kepler.COE(a, e, i, raan, aop, nu) ;\n",
    "\n",
    "    epoch = start_instant ;\n",
    "    earth = Earth.Analytical(epoch) ;\n",
    "\n",
    "    kepler = Kepler(coe, epoch, earth, Kepler.PerturbationType.No) ;\n",
    "    \n",
    "    return Orbit(kepler) ;\n",
    "\n",
    "from_trajectory = generate_first_trajectory() ;\n",
    "to_trajectory = generate_second_trajectory() ;\n",
    "\n",
    "access_generator.computeAccesses(interval, from_trajectory, to_trajectory) ;"
   ]
  },
  {
   "cell_type": "code",
   "execution_count": 4,
   "metadata": {},
   "outputs": [],
   "source": [
    "def aer_filter (aer):\n",
    "    \n",
    "    return True\n",
    "\n",
    "access_generator.setAerFilter(aer_filter)"
   ]
  },
  {
   "cell_type": "code",
   "execution_count": 5,
   "metadata": {},
   "outputs": [],
   "source": [
    "def access_filter (access):\n",
    "    \n",
    "    return True\n",
    "\n",
    "access_generator.setAccessFilter(access_filter)"
   ]
  }
 ],
 "metadata": {
  "kernelspec": {
   "display_name": "Python 3",
   "language": "python",
   "name": "python3"
  },
  "language_info": {
   "codemirror_mode": {
    "name": "ipython",
    "version": 3
   },
   "file_extension": ".py",
   "mimetype": "text/x-python",
   "name": "python",
   "nbconvert_exporter": "python",
   "pygments_lexer": "ipython3",
   "version": "3.6.5"
  }
 },
 "nbformat": 4,
 "nbformat_minor": 2
}
