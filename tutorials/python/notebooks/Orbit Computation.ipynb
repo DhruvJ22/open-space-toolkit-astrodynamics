{
 "cells": [
  {
   "cell_type": "markdown",
   "metadata": {},
   "source": [
    "# Orbit Computation"
   ]
  },
  {
   "cell_type": "markdown",
   "metadata": {},
   "source": [
    "This tutorial demonstrates how to generate satellite orbits using various models."
   ]
  },
  {
   "cell_type": "markdown",
   "metadata": {},
   "source": [
    "## Setup"
   ]
  },
  {
   "cell_type": "code",
   "execution_count": null,
   "metadata": {},
   "outputs": [],
   "source": [
    "import numpy as np\n",
    "import pandas as pd\n",
    "\n",
    "from plotly.offline import download_plotlyjs, init_notebook_mode, plot, iplot\n",
    "import plotly.graph_objs as go\n",
    "\n",
    "init_notebook_mode(connected = True)"
   ]
  },
  {
   "cell_type": "code",
   "execution_count": 1,
   "metadata": {},
   "outputs": [
    {
     "name": "stderr",
     "output_type": "stream",
     "text": [
      "/opt/conda/lib/python3.6/importlib/_bootstrap.py:219: RuntimeWarning: to-Python converter for library::physics::time::DateTime already registered; second conversion method ignored.\n",
      "  return f(*args, **kwds)\n",
      "/opt/conda/lib/python3.6/importlib/_bootstrap.py:219: RuntimeWarning: to-Python converter for library::math::obj::IntervalBase::Type already registered; second conversion method ignored.\n",
      "  return f(*args, **kwds)\n"
     ]
    }
   ],
   "source": [
    "import Library.Physics as Physics\n",
    "import Library.Astrodynamics as Astrodynamics"
   ]
  },
  {
   "cell_type": "code",
   "execution_count": 2,
   "metadata": {},
   "outputs": [],
   "source": [
    "Length = Physics.Units.Length\n",
    "Angle = Physics.Units.Angle\n",
    "Time = Physics.Time\n",
    "LLA = Physics.Coordinate.Spherical.LLA\n",
    "Frame = Physics.Coordinate.Frame\n",
    "Environment = Physics.Environment\n",
    "Earth = Physics.Environment.Objects.CelestialBodies.Earth\n",
    "\n",
    "Trajectory = Astrodynamics.Trajectory\n",
    "Orbit = Trajectory.Orbit"
   ]
  },
  {
   "cell_type": "markdown",
   "metadata": {},
   "source": [
    "---"
   ]
  },
  {
   "cell_type": "markdown",
   "metadata": {},
   "source": [
    "## SGP4"
   ]
  },
  {
   "cell_type": "markdown",
   "metadata": {},
   "source": [
    "### Computation"
   ]
  },
  {
   "cell_type": "code",
   "execution_count": 3,
   "metadata": {},
   "outputs": [],
   "source": [
    "environment = Environment.Default()"
   ]
  },
  {
   "cell_type": "markdown",
   "metadata": {},
   "source": [
    "Create a Classical Orbital Element (COE) set:"
   ]
  },
  {
   "cell_type": "code",
   "execution_count": 4,
   "metadata": {},
   "outputs": [],
   "source": [
    "a = Length.Kilometers(7000.0)\n",
    "e = 0.0001\n",
    "i = Angle.Degrees(35.0)\n",
    "raan = Angle.Degrees(40.0)\n",
    "aop = Angle.Degrees(45.0)\n",
    "nu = Angle.Degrees(50.0)\n",
    "\n",
    "coe = Orbit.Models.Kepler.COE(a, e, i, raan, aop, nu)"
   ]
  },
  {
   "cell_type": "markdown",
   "metadata": {},
   "source": [
    "Setup a Keplerian orbital model:"
   ]
  },
  {
   "cell_type": "code",
   "execution_count": 5,
   "metadata": {},
   "outputs": [],
   "source": [
    "epoch = Time.Instant.DateTime(Time.DateTime(2018, 1, 1, 0, 0, 0), Time.Scale.UTC)\n",
    "earth = environment.accessCelestialObjectWithName(\"Earth\")\n",
    "\n",
    "keplerian_model = Orbit.Models.Kepler(coe, epoch, earth, Orbit.Models.Kepler.PerturbationType.No)"
   ]
  },
  {
   "cell_type": "markdown",
   "metadata": {},
   "source": [
    "Create a Two-Line Element (TLE) set:"
   ]
  },
  {
   "cell_type": "code",
   "execution_count": 6,
   "metadata": {},
   "outputs": [],
   "source": [
    "tle = Orbit.Models.SGP4.TLE(\"1 39419U 13066D   18260.77424112  .00000022  00000-0  72885-5 0  9996\",\n",
    "                            \"2 39419  97.6300 326.6556 0013847 175.2842 184.8495 14.93888428262811\")"
   ]
  },
  {
   "cell_type": "markdown",
   "metadata": {},
   "source": [
    "Setup a SGP4 orbital model:"
   ]
  },
  {
   "cell_type": "code",
   "execution_count": 7,
   "metadata": {},
   "outputs": [],
   "source": [
    "sgp4_model = Orbit.Models.SGP4(tle)"
   ]
  },
  {
   "cell_type": "markdown",
   "metadata": {},
   "source": [
    "Setup the orbit:"
   ]
  },
  {
   "cell_type": "code",
   "execution_count": 8,
   "metadata": {},
   "outputs": [],
   "source": [
    "orbit = Orbit(keplerian_model, environment.accessCelestialObjectWithName(\"Earth\"))\n",
    "# orbit = Orbit(sgp4_model, environment.accessCelestialObjectWithName(\"Earth\"))"
   ]
  },
  {
   "cell_type": "code",
   "execution_count": 22,
   "metadata": {},
   "outputs": [],
   "source": [
    "model = orbit.accessModel()"
   ]
  },
  {
   "cell_type": "code",
   "execution_count": 23,
   "metadata": {},
   "outputs": [
    {
     "data": {
      "text/plain": [
       "Library.Astrodynamics.Trajectory.Orbit.Models.Kepler"
      ]
     },
     "execution_count": 23,
     "metadata": {},
     "output_type": "execute_result"
    }
   ],
   "source": [
    "type(model)"
   ]
  },
  {
   "cell_type": "code",
   "execution_count": 24,
   "metadata": {},
   "outputs": [
    {
     "ename": "ArgumentError",
     "evalue": "Python argument types in\n    Kepler.isDefined(Kepler)\ndid not match C++ signature:\n    isDefined(library::astro::trajectory::orbit::models::Kepler {lvalue})",
     "output_type": "error",
     "traceback": [
      "\u001b[0;31m---------------------------------------------------------------------------\u001b[0m",
      "\u001b[0;31mArgumentError\u001b[0m                             Traceback (most recent call last)",
      "\u001b[0;32m<ipython-input-24-ac2af22c1517>\u001b[0m in \u001b[0;36m<module>\u001b[0;34m\u001b[0m\n\u001b[0;32m----> 1\u001b[0;31m \u001b[0mmodel\u001b[0m\u001b[0;34m.\u001b[0m\u001b[0misDefined\u001b[0m\u001b[0;34m(\u001b[0m\u001b[0;34m)\u001b[0m\u001b[0;34m\u001b[0m\u001b[0;34m\u001b[0m\u001b[0m\n\u001b[0m",
      "\u001b[0;31mArgumentError\u001b[0m: Python argument types in\n    Kepler.isDefined(Kepler)\ndid not match C++ signature:\n    isDefined(library::astro::trajectory::orbit::models::Kepler {lvalue})"
     ]
    }
   ],
   "source": [
    "model.isDefined()"
   ]
  },
  {
   "cell_type": "code",
   "execution_count": 12,
   "metadata": {},
   "outputs": [
    {
     "ename": "ArgumentError",
     "evalue": "Python argument types in\n    OrbitModel.asSGP4(Kepler)\ndid not match C++ signature:\n    asSGP4(library::astro::trajectory::orbit::Model)",
     "output_type": "error",
     "traceback": [
      "\u001b[0;31m---------------------------------------------------------------------------\u001b[0m",
      "\u001b[0;31mArgumentError\u001b[0m                             Traceback (most recent call last)",
      "\u001b[0;32m<ipython-input-12-a8c20d8d663a>\u001b[0m in \u001b[0;36m<module>\u001b[0;34m\u001b[0m\n\u001b[0;32m----> 1\u001b[0;31m \u001b[0mmodel\u001b[0m\u001b[0;34m.\u001b[0m\u001b[0masSGP4\u001b[0m\u001b[0;34m(\u001b[0m\u001b[0;34m)\u001b[0m\u001b[0;34m\u001b[0m\u001b[0;34m\u001b[0m\u001b[0m\n\u001b[0m",
      "\u001b[0;31mArgumentError\u001b[0m: Python argument types in\n    OrbitModel.asSGP4(Kepler)\ndid not match C++ signature:\n    asSGP4(library::astro::trajectory::orbit::Model)"
     ]
    }
   ],
   "source": [
    "model.asSGP4()"
   ]
  },
  {
   "cell_type": "markdown",
   "metadata": {},
   "source": [
    "Now that the orbit is set, we can compute the satellite position:"
   ]
  },
  {
   "cell_type": "code",
   "execution_count": null,
   "metadata": {},
   "outputs": [],
   "source": [
    "start_instant = Time.Instant.DateTime(Time.DateTime(2018, 9, 5, 0, 0, 0), Time.Scale.UTC)\n",
    "end_instant = Time.Instant.DateTime(Time.DateTime(2018, 9, 6, 0, 0, 0), Time.Scale.UTC)"
   ]
  },
  {
   "cell_type": "code",
   "execution_count": null,
   "metadata": {},
   "outputs": [],
   "source": [
    "interval = Time.Interval.Closed(start_instant, end_instant)"
   ]
  },
  {
   "cell_type": "code",
   "execution_count": null,
   "metadata": {},
   "outputs": [],
   "source": [
    "step = Time.Duration.Minutes(1.0)"
   ]
  },
  {
   "cell_type": "markdown",
   "metadata": {},
   "source": [
    "Generate a time grid:"
   ]
  },
  {
   "cell_type": "code",
   "execution_count": null,
   "metadata": {},
   "outputs": [],
   "source": [
    "instants = interval.generateGrid(step)"
   ]
  },
  {
   "cell_type": "code",
   "execution_count": null,
   "metadata": {},
   "outputs": [],
   "source": [
    "states = [[instant, orbit.getStateAt(instant)] for instant in instants]"
   ]
  },
  {
   "cell_type": "code",
   "execution_count": null,
   "metadata": {},
   "outputs": [],
   "source": [
    "def convert_state (instant, state):\n",
    "    \n",
    "    lla = LLA.Cartesian(state.getPosition().inFrame(Frame.ITRF(), state.getInstant()).getCoordinates(), Earth.EquatorialRadius, Earth.Flattening)\n",
    "    \n",
    "    return [\n",
    "                repr(instant),\n",
    "                float(instant.getModifiedJulianDate(Time.Scale.UTC)),\n",
    "                *state.getPosition().getCoordinates().transpose()[0].tolist(),\n",
    "                *state.getVelocity().getCoordinates().transpose()[0].tolist(),\n",
    "                float(lla.getLatitude().inDegrees()),\n",
    "                float(lla.getLongitude().inDegrees()),\n",
    "                float(lla.getAltitude().inMeters())\n",
    "            ]"
   ]
  },
  {
   "cell_type": "code",
   "execution_count": null,
   "metadata": {},
   "outputs": [],
   "source": [
    "orbit_data = [convert_state(instant, state) for [instant, state] in states]"
   ]
  },
  {
   "cell_type": "code",
   "execution_count": null,
   "metadata": {},
   "outputs": [],
   "source": [
    "orbit_df = pd.DataFrame(orbit_data, columns=['$Time^{UTC}$', '$MJD^{UTC}$', '$x_{x}^{ECI}$', '$x_{y}^{ECI}$', '$x_{z}^{ECI}$', '$v_{x}^{ECI}$', '$v_{y}^{ECI}$', '$v_{z}^{ECI}$', '$Latitude$', '$Longitude$', '$Altitude$'])"
   ]
  },
  {
   "cell_type": "code",
   "execution_count": null,
   "metadata": {},
   "outputs": [],
   "source": [
    "orbit_df.head()"
   ]
  },
  {
   "cell_type": "markdown",
   "metadata": {},
   "source": [
    "### Output"
   ]
  },
  {
   "cell_type": "markdown",
   "metadata": {},
   "source": [
    "In **Earth Fixed** frame:"
   ]
  },
  {
   "cell_type": "code",
   "execution_count": null,
   "metadata": {},
   "outputs": [],
   "source": [
    "contours = []\n",
    "\n",
    "contours.append( dict(\n",
    "    type = 'scattergeo',\n",
    "    lon = orbit_df['$Longitude$'],\n",
    "    lat = orbit_df['$Latitude$'],\n",
    "    mode = 'lines',\n",
    "    line = dict(\n",
    "        width = 2,\n",
    "        color = 'rgb(255, 62, 79)'\n",
    "    )\n",
    ") )\n",
    "\n",
    "layout = dict(\n",
    "        title = None,\n",
    "        showlegend = False,\n",
    "        height=1000,\n",
    "        geo = dict(\n",
    "            showland = True,\n",
    "            showlakes = True,\n",
    "            showcountries = False,\n",
    "            showocean = True,\n",
    "            countrywidth = 0.0,\n",
    "            landcolor = 'rgb(100, 100, 100)',\n",
    "            lakecolor = 'rgb(240, 240, 240)',\n",
    "            oceancolor = 'rgb(240, 240, 240)',\n",
    "            projection = dict( \n",
    "                type = 'orthographic',\n",
    "                rotation = dict(\n",
    "                    lon = -100,\n",
    "                    lat = 40,\n",
    "                    roll = 0\n",
    "                )            \n",
    "            ),\n",
    "            lonaxis = dict( \n",
    "                showgrid = True,\n",
    "                gridcolor = 'rgb(102, 102, 102)',\n",
    "                gridwidth = 0.5\n",
    "            ),\n",
    "            lataxis = dict( \n",
    "                showgrid = True,\n",
    "                gridcolor = 'rgb(102, 102, 102)',\n",
    "                gridwidth = 0.5\n",
    "            )\n",
    "        )\n",
    "    )\n",
    "    \n",
    "fig = dict(data=contours, layout=layout)\n",
    "\n",
    "iplot(fig)"
   ]
  },
  {
   "cell_type": "code",
   "execution_count": null,
   "metadata": {},
   "outputs": [],
   "source": [
    "data = []\n",
    "\n",
    "data.append(\n",
    "    dict(\n",
    "        type = 'scattergeo',\n",
    "        lon = orbit_df['$Longitude$'],\n",
    "        lat = orbit_df['$Latitude$'],\n",
    "        mode = 'lines',\n",
    "        line = dict(\n",
    "            width = 1,\n",
    "            color = 'red',\n",
    "        )\n",
    "    )\n",
    ")\n",
    "    \n",
    "layout = dict(\n",
    "        title = None,\n",
    "        showlegend = False,\n",
    "        height=1000,\n",
    "        geo = dict(\n",
    "            showland = True,\n",
    "            landcolor = 'rgb(243, 243, 243)',\n",
    "            countrycolor = 'rgb(204, 204, 204)',\n",
    "        ),\n",
    "    )\n",
    "    \n",
    "fig = dict(data=data, layout=layout)\n",
    "iplot(fig)"
   ]
  },
  {
   "cell_type": "markdown",
   "metadata": {},
   "source": [
    "In **Earth Inertial** frame:"
   ]
  },
  {
   "cell_type": "code",
   "execution_count": null,
   "metadata": {},
   "outputs": [],
   "source": [
    "theta = np.linspace(0, 2 * np.pi, 30)\n",
    "phi = np.linspace(0, np.pi, 30)\n",
    "\n",
    "theta_grid, phi_grid = np.meshgrid(theta, phi)\n",
    "\n",
    "r = float(Physics.Environment.Objects.CelestialBodies.Earth.EquatorialRadius.inMeters())\n",
    "\n",
    "x = r * np.cos(theta_grid) * np.sin(phi_grid)\n",
    "y = r * np.sin(theta_grid) * np.sin(phi_grid)\n",
    "z = r * np.cos(phi_grid)\n",
    "\n",
    "earth = go.Surface(\n",
    "    x=x,\n",
    "    y=y,\n",
    "    z=z,\n",
    "    colorscale='Viridis',\n",
    "    showscale=False\n",
    ")\n",
    "\n",
    "trace = go.Scatter3d(\n",
    "    x=orbit_df['$x_{x}^{ECI}$'],\n",
    "    y=orbit_df['$x_{y}^{ECI}$'],\n",
    "    z=orbit_df['$x_{z}^{ECI}$'],\n",
    "    mode='lines',\n",
    "    marker=dict(\n",
    "        size=0,\n",
    "        color=orbit_df['$x_{z}^{ECI}$'],\n",
    "        colorscale='Viridis',\n",
    "        showscale=False\n",
    "    ),\n",
    "    line=dict(\n",
    "        color=orbit_df['$x_{z}^{ECI}$'],\n",
    "        width=1\n",
    "    )\n",
    ")\n",
    "\n",
    "data = [earth, trace]\n",
    "\n",
    "layout = go.Layout(\n",
    "    title=None,\n",
    "#     width=800,\n",
    "    height=1000,\n",
    "#     autosize=False,\n",
    "    showlegend=False,\n",
    "    scene=dict(\n",
    "        xaxis=dict(\n",
    "            gridcolor='rgb(255, 255, 255)',\n",
    "            zerolinecolor='rgb(255, 255, 255)',\n",
    "            showbackground=True,\n",
    "            backgroundcolor='rgb(230, 230,230)'\n",
    "        ),\n",
    "        yaxis=dict(\n",
    "            gridcolor='rgb(255, 255, 255)',\n",
    "            zerolinecolor='rgb(255, 255, 255)',\n",
    "            showbackground=True,\n",
    "            backgroundcolor='rgb(230, 230,230)'\n",
    "        ),\n",
    "        zaxis=dict(\n",
    "            gridcolor='rgb(255, 255, 255)',\n",
    "            zerolinecolor='rgb(255, 255, 255)',\n",
    "            showbackground=True,\n",
    "            backgroundcolor='rgb(230, 230,230)'\n",
    "        ),\n",
    "        camera=dict(\n",
    "            up=dict(\n",
    "                x=0,\n",
    "                y=0,\n",
    "                z=1\n",
    "            ),\n",
    "            eye=dict(\n",
    "                x=-1.7428,\n",
    "                y=1.0707,\n",
    "                z=0.7100,\n",
    "            )\n",
    "        ),\n",
    "        aspectratio = dict( x=1, y=1, z=1 ),\n",
    "        aspectmode = 'manual'\n",
    "    ),\n",
    ")\n",
    "\n",
    "fig = dict(data=data, layout=layout)\n",
    "\n",
    "iplot(fig)"
   ]
  },
  {
   "cell_type": "markdown",
   "metadata": {},
   "source": [
    "Scatter plot:"
   ]
  },
  {
   "cell_type": "code",
   "execution_count": null,
   "metadata": {},
   "outputs": [],
   "source": [
    "plot_data = [\n",
    "    go.Scatter(\n",
    "        x=orbit_df['$MJD^{UTC}$'],\n",
    "        y=orbit_df['$x_{x}^{ECI}$']\n",
    "    ),\n",
    "    go.Scatter(\n",
    "        x=orbit_df['$MJD^{UTC}$'],\n",
    "        y=orbit_df['$x_{y}^{ECI}$']\n",
    "    ),\n",
    "    go.Scatter(\n",
    "        x=orbit_df['$MJD^{UTC}$'],\n",
    "        y=orbit_df['$x_{z}^{ECI}$']\n",
    "    )\n",
    "]\n",
    "\n",
    "iplot(plot_data)"
   ]
  }
 ],
 "metadata": {
  "kernelspec": {
   "display_name": "Python 3",
   "language": "python",
   "name": "python3"
  },
  "language_info": {
   "codemirror_mode": {
    "name": "ipython",
    "version": 3
   },
   "file_extension": ".py",
   "mimetype": "text/x-python",
   "name": "python",
   "nbconvert_exporter": "python",
   "pygments_lexer": "ipython3",
   "version": "3.6.8"
  }
 },
 "nbformat": 4,
 "nbformat_minor": 2
}
