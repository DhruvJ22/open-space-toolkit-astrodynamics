{
 "cells": [
  {
   "cell_type": "markdown",
   "metadata": {},
   "source": [
    "# Access Computation"
   ]
  },
  {
   "cell_type": "markdown",
   "metadata": {},
   "source": [
    "This tutorial demonstrates how to compute access."
   ]
  },
  {
   "cell_type": "markdown",
   "metadata": {},
   "source": [
    "## Setup"
   ]
  },
  {
   "cell_type": "code",
   "execution_count": 1,
   "metadata": {},
   "outputs": [],
   "source": [
    "import sys\n",
    "\n",
    "! {sys.executable} -m pip install --quiet LibraryCorePy\n",
    "! {sys.executable} -m pip install --quiet LibraryMathematicsPy\n",
    "! {sys.executable} -m pip install --quiet LibraryPhysicsPy\n",
    "! {sys.executable} -m pip install --quiet LibraryAstrodynamicsPy"
   ]
  },
  {
   "cell_type": "code",
   "execution_count": 2,
   "metadata": {},
   "outputs": [
    {
     "data": {
      "text/html": [
       "<script>requirejs.config({paths: { 'plotly': ['https://cdn.plot.ly/plotly-latest.min']},});if(!window.Plotly) {{require(['plotly'],function(plotly) {window.Plotly=plotly;});}}</script>"
      ],
      "text/vnd.plotly.v1+html": [
       "<script>requirejs.config({paths: { 'plotly': ['https://cdn.plot.ly/plotly-latest.min']},});if(!window.Plotly) {{require(['plotly'],function(plotly) {window.Plotly=plotly;});}}</script>"
      ]
     },
     "metadata": {},
     "output_type": "display_data"
    }
   ],
   "source": [
    "import numpy as np\n",
    "import pandas as pd\n",
    "\n",
    "from plotly.offline import download_plotlyjs, init_notebook_mode, plot, iplot\n",
    "import plotly.graph_objs as go\n",
    "\n",
    "init_notebook_mode(connected=True)"
   ]
  },
  {
   "cell_type": "code",
   "execution_count": 3,
   "metadata": {},
   "outputs": [
    {
     "name": "stderr",
     "output_type": "stream",
     "text": [
      "/opt/conda/lib/python3.6/importlib/_bootstrap.py:219: RuntimeWarning:\n",
      "\n",
      "to-Python converter for library::physics::time::DateTime already registered; second conversion method ignored.\n",
      "\n",
      "/opt/conda/lib/python3.6/importlib/_bootstrap.py:219: RuntimeWarning:\n",
      "\n",
      "to-Python converter for library::math::obj::IntervalBase::Type already registered; second conversion method ignored.\n",
      "\n"
     ]
    }
   ],
   "source": [
    "import Library.Core as Core\n",
    "import Library.Mathematics as Mathematics\n",
    "import Library.Physics as Physics\n",
    "import Library.Astrodynamics as Astrodynamics"
   ]
  },
  {
   "cell_type": "code",
   "execution_count": 4,
   "metadata": {},
   "outputs": [],
   "source": [
    "Length = Physics.Units.Length\n",
    "Angle = Physics.Units.Angle\n",
    "Scale = Physics.Time.Scale\n",
    "Instant = Physics.Time.Instant\n",
    "Duration = Physics.Time.Duration\n",
    "Interval = Physics.Time.Interval\n",
    "DateTime = Physics.Time.DateTime\n",
    "LLA = Physics.Coordinate.Spherical.LLA\n",
    "AER = Physics.Coordinate.Spherical.AER\n",
    "Position = Physics.Coordinate.Position\n",
    "Frame = Physics.Coordinate.Frame\n",
    "Environment = Physics.Environment\n",
    "Earth = Physics.Environment.Objects.CelestialBodies.Earth\n",
    "\n",
    "Trajectory = Astrodynamics.Trajectory\n",
    "Orbit = Astrodynamics.Trajectory.Orbit\n",
    "Access = Astrodynamics.Access"
   ]
  },
  {
   "cell_type": "markdown",
   "metadata": {},
   "source": [
    "---"
   ]
  },
  {
   "cell_type": "markdown",
   "metadata": {},
   "source": [
    "## Access"
   ]
  },
  {
   "cell_type": "markdown",
   "metadata": {},
   "source": [
    "An access represents an object-to-object visibility period."
   ]
  },
  {
   "cell_type": "markdown",
   "metadata": {},
   "source": [
    "In this example, let's compute accesses between a fixed position on the ground and a satellite in LEO."
   ]
  },
  {
   "cell_type": "markdown",
   "metadata": {},
   "source": [
    "## Environment"
   ]
  },
  {
   "cell_type": "markdown",
   "metadata": {},
   "source": [
    "Let's setup an environment (which describes where planets are, etc...):"
   ]
  },
  {
   "cell_type": "code",
   "execution_count": 5,
   "metadata": {},
   "outputs": [],
   "source": [
    "environment = Environment.Default() ;"
   ]
  },
  {
   "cell_type": "markdown",
   "metadata": {},
   "source": [
    "### Origin"
   ]
  },
  {
   "cell_type": "markdown",
   "metadata": {},
   "source": [
    "Let's define a fixed ground position, using its geographic coordinates:"
   ]
  },
  {
   "cell_type": "code",
   "execution_count": 233,
   "metadata": {},
   "outputs": [],
   "source": [
    "# Center\n",
    "\n",
    "# latitude = Angle.Degrees(0.0)\n",
    "# longitude = Angle.Degrees(0.0)\n",
    "# altitude = Length.Meters(10.0)\n",
    "\n",
    "# SvalSat\n",
    "\n",
    "# latitude = Angle.Degrees(78.229772)\n",
    "# longitude = Angle.Degrees(15.407786)\n",
    "# altitude = Length.Meters(10.0)\n",
    "\n",
    "# Test\n",
    "\n",
    "latitude = Angle.Degrees(-40.0)\n",
    "longitude = Angle.Degrees(-70.0)\n",
    "altitude = Length.Meters(10.0)"
   ]
  },
  {
   "cell_type": "code",
   "execution_count": 234,
   "metadata": {},
   "outputs": [],
   "source": [
    "from_lla = LLA(latitude, longitude, altitude)"
   ]
  },
  {
   "cell_type": "code",
   "execution_count": 235,
   "metadata": {},
   "outputs": [],
   "source": [
    "from_position = Position.Meters(from_lla.toCartesian(Earth.EquatorialRadius, Earth.Flattening), Frame.ITRF())"
   ]
  },
  {
   "cell_type": "markdown",
   "metadata": {},
   "source": [
    "And derive a trajectory, fixed at that position:"
   ]
  },
  {
   "cell_type": "code",
   "execution_count": 236,
   "metadata": {},
   "outputs": [],
   "source": [
    "from_trajectory = Trajectory.Position(from_position)"
   ]
  },
  {
   "cell_type": "markdown",
   "metadata": {},
   "source": [
    "### Target"
   ]
  },
  {
   "cell_type": "markdown",
   "metadata": {},
   "source": [
    "Let's define the orbit of a satellite in LEO. In this example, we're modeling the orbit using SGP4."
   ]
  },
  {
   "cell_type": "code",
   "execution_count": 237,
   "metadata": {},
   "outputs": [],
   "source": [
    "a = Earth.EquatorialRadius + Length.Kilometers(600.0)\n",
    "e = 0.000\n",
    "# i = Angle.Degrees(97.5034)\n",
    "i = Angle.Degrees(97.8893)\n",
    "raan = Angle.Degrees(100.372)\n",
    "aop = Angle.Degrees(0.0)\n",
    "nu = Angle.Degrees(0.0201851)\n",
    "\n",
    "coe = Orbit.Models.Kepler.COE(a, e, i, raan, aop, nu)"
   ]
  },
  {
   "cell_type": "code",
   "execution_count": 238,
   "metadata": {},
   "outputs": [],
   "source": [
    "epoch = Instant.DateTime(DateTime(2018, 1, 1, 0, 0, 0), Scale.UTC)\n",
    "earth = environment.accessCelestialObjectWithName(\"Earth\")\n",
    "\n",
    "keplerian_model = Orbit.Models.Kepler(coe, epoch, earth, Orbit.Models.Kepler.PerturbationType.J2)"
   ]
  },
  {
   "cell_type": "markdown",
   "metadata": {},
   "source": [
    "First, we need a **Two-Line Element** (TLE) set:"
   ]
  },
  {
   "cell_type": "code",
   "execution_count": 239,
   "metadata": {},
   "outputs": [],
   "source": [
    "# tle = Orbit.Models.SGP4.TLE(\"1 25544U 98067A   18231.17878740  .00000187  00000-0  10196-4 0  9994\",\n",
    "#                             \"2 25544  51.6447  64.7824 0005971  73.1467  36.4366 15.53848234128316\")\n",
    "# tle = Orbit.Models.SGP4.TLE(\"1 39419U 13066D   18248.44969859 -.00000394  00000-0 -31796-4 0  9997\",\n",
    "#                             \"2 39419  97.6313 314.6863 0012643 218.7350 141.2966 14.93878994260975\")\n",
    "\n",
    "tle = Orbit.Models.SGP4.TLE(\"ISS (ZARYA)\",\n",
    "                            \"1 25544U 98067A   18268.86272795  .00002184  00000-0  40781-4 0  9990\",\n",
    "                            \"2 25544  51.6405 237.0010 0003980 205.4375 242.3358 15.53733046134172\")"
   ]
  },
  {
   "cell_type": "markdown",
   "metadata": {},
   "source": [
    "To setup a **SGP4** orbital model:"
   ]
  },
  {
   "cell_type": "code",
   "execution_count": 240,
   "metadata": {},
   "outputs": [],
   "source": [
    "sgp4_model = Orbit.Models.SGP4(tle)"
   ]
  },
  {
   "cell_type": "code",
   "execution_count": 241,
   "metadata": {},
   "outputs": [],
   "source": [
    "# orbital_model = keplerian_model\n",
    "orbital_model = sgp4_model"
   ]
  },
  {
   "cell_type": "markdown",
   "metadata": {},
   "source": [
    "We then obtain the satellite orbit (which is a trajectory):"
   ]
  },
  {
   "cell_type": "code",
   "execution_count": 242,
   "metadata": {},
   "outputs": [],
   "source": [
    "environment = Environment.Default()\n",
    "satellite_orbit = Orbit(orbital_model, environment.accessCelestialObjectWithName(\"Earth\"))"
   ]
  },
  {
   "cell_type": "markdown",
   "metadata": {},
   "source": [
    "### Access"
   ]
  },
  {
   "cell_type": "markdown",
   "metadata": {},
   "source": [
    "Now that the origin and the target trajectories is well defined, we can compute the access."
   ]
  },
  {
   "cell_type": "markdown",
   "metadata": {},
   "source": [
    "Let's first define an **interval of interest**:"
   ]
  },
  {
   "cell_type": "code",
   "execution_count": 243,
   "metadata": {},
   "outputs": [],
   "source": [
    "start_instant = Instant.DateTime(DateTime.Parse(\"2018-01-01 00:00:00\"), Scale.UTC) ;\n",
    "end_instant = Instant.DateTime(DateTime.Parse(\"2018-01-10 00:00:00\"), Scale.UTC) ;\n",
    "\n",
    "interval = Interval.Closed(start_instant, end_instant) ;"
   ]
  },
  {
   "cell_type": "code",
   "execution_count": 244,
   "metadata": {},
   "outputs": [],
   "source": [
    "environment = Physics.Environment.Default() ;"
   ]
  },
  {
   "cell_type": "markdown",
   "metadata": {},
   "source": [
    "Then, using an **Access Generator**, we can compute the accesses within the intervals of interest:"
   ]
  },
  {
   "cell_type": "code",
   "execution_count": 245,
   "metadata": {},
   "outputs": [],
   "source": [
    "access_generator = Access.Generator(environment) ;\n",
    "\n",
    "accesses = access_generator.computeAccesses(interval, from_trajectory, satellite_orbit) ;"
   ]
  },
  {
   "cell_type": "code",
   "execution_count": 246,
   "metadata": {},
   "outputs": [],
   "source": [
    "# states = satellite_orbit.getStatesAt(access.getInterval().generateGrid(Duration.Minutes(1.0)))"
   ]
  },
  {
   "cell_type": "markdown",
   "metadata": {},
   "source": [
    "And format the output using a dataframe:"
   ]
  },
  {
   "cell_type": "code",
   "execution_count": 247,
   "metadata": {},
   "outputs": [],
   "source": [
    "accesses_df = pd.DataFrame([[str(access.getType()), repr(access.getAcquisitionOfSignal()), repr(access.getTimeOfClosestApproach()), repr(access.getLossOfSignal()), float(access.getDuration().inSeconds())] for access in accesses], columns=['Type', 'AOS', 'TCA', 'LOS', 'Duration'])"
   ]
  },
  {
   "cell_type": "code",
   "execution_count": 248,
   "metadata": {},
   "outputs": [
    {
     "data": {
      "text/html": [
       "<div>\n",
       "<style scoped>\n",
       "    .dataframe tbody tr th:only-of-type {\n",
       "        vertical-align: middle;\n",
       "    }\n",
       "\n",
       "    .dataframe tbody tr th {\n",
       "        vertical-align: top;\n",
       "    }\n",
       "\n",
       "    .dataframe thead th {\n",
       "        text-align: right;\n",
       "    }\n",
       "</style>\n",
       "<table border=\"1\" class=\"dataframe\">\n",
       "  <thead>\n",
       "    <tr style=\"text-align: right;\">\n",
       "      <th></th>\n",
       "      <th>Type</th>\n",
       "      <th>AOS</th>\n",
       "      <th>TCA</th>\n",
       "      <th>LOS</th>\n",
       "      <th>Duration</th>\n",
       "    </tr>\n",
       "  </thead>\n",
       "  <tbody>\n",
       "    <tr>\n",
       "      <th>0</th>\n",
       "      <td>Complete</td>\n",
       "      <td>2018-01-01 00:18:17.697.156.070 [UTC]</td>\n",
       "      <td>2018-01-01 00:22:53.497.750.364 [UTC]</td>\n",
       "      <td>2018-01-01 00:27:29.436.445.532 [UTC]</td>\n",
       "      <td>551.739289</td>\n",
       "    </tr>\n",
       "    <tr>\n",
       "      <th>1</th>\n",
       "      <td>Complete</td>\n",
       "      <td>2018-01-01 01:55:39.150.745.866 [UTC]</td>\n",
       "      <td>2018-01-01 02:00:35.711.234.012 [UTC]</td>\n",
       "      <td>2018-01-01 02:05:29.858.056.603 [UTC]</td>\n",
       "      <td>590.707311</td>\n",
       "    </tr>\n",
       "    <tr>\n",
       "      <th>2</th>\n",
       "      <td>Complete</td>\n",
       "      <td>2018-01-01 03:32:12.157.332.300 [UTC]</td>\n",
       "      <td>2018-01-01 03:37:41.976.868.711 [UTC]</td>\n",
       "      <td>2018-01-01 03:43:07.631.351.350 [UTC]</td>\n",
       "      <td>655.474019</td>\n",
       "    </tr>\n",
       "    <tr>\n",
       "      <th>3</th>\n",
       "      <td>Complete</td>\n",
       "      <td>2018-01-01 05:09:17.177.879.509 [UTC]</td>\n",
       "      <td>2018-01-01 05:13:54.893.248.477 [UTC]</td>\n",
       "      <td>2018-01-01 05:18:27.727.380.393 [UTC]</td>\n",
       "      <td>550.549501</td>\n",
       "    </tr>\n",
       "    <tr>\n",
       "      <th>4</th>\n",
       "      <td>Complete</td>\n",
       "      <td>2018-01-01 18:41:34.249.314.664 [UTC]</td>\n",
       "      <td>2018-01-01 18:42:20.906.922.422 [UTC]</td>\n",
       "      <td>2018-01-01 18:43:13.024.453.816 [UTC]</td>\n",
       "      <td>98.775139</td>\n",
       "    </tr>\n",
       "    <tr>\n",
       "      <th>5</th>\n",
       "      <td>Complete</td>\n",
       "      <td>2018-01-01 20:12:51.193.073.985 [UTC]</td>\n",
       "      <td>2018-01-01 20:18:02.725.464.903 [UTC]</td>\n",
       "      <td>2018-01-01 20:23:18.420.799.075 [UTC]</td>\n",
       "      <td>627.227725</td>\n",
       "    </tr>\n",
       "    <tr>\n",
       "      <th>6</th>\n",
       "      <td>Complete</td>\n",
       "      <td>2018-01-01 21:49:17.384.174.463 [UTC]</td>\n",
       "      <td>2018-01-01 21:54:36.185.242.735 [UTC]</td>\n",
       "      <td>2018-01-01 21:59:58.050.011.692 [UTC]</td>\n",
       "      <td>640.665837</td>\n",
       "    </tr>\n",
       "    <tr>\n",
       "      <th>7</th>\n",
       "      <td>Complete</td>\n",
       "      <td>2018-01-01 23:27:18.650.360.403 [UTC]</td>\n",
       "      <td>2018-01-01 23:31:59.992.615.782 [UTC]</td>\n",
       "      <td>2018-01-01 23:36:42.171.510.456 [UTC]</td>\n",
       "      <td>563.521150</td>\n",
       "    </tr>\n",
       "    <tr>\n",
       "      <th>8</th>\n",
       "      <td>Complete</td>\n",
       "      <td>2018-01-02 01:04:59.318.175.315 [UTC]</td>\n",
       "      <td>2018-01-02 01:09:44.897.400.938 [UTC]</td>\n",
       "      <td>2018-01-02 01:14:28.682.983.515 [UTC]</td>\n",
       "      <td>569.364808</td>\n",
       "    </tr>\n",
       "    <tr>\n",
       "      <th>9</th>\n",
       "      <td>Complete</td>\n",
       "      <td>2018-01-02 02:41:39.691.648.183 [UTC]</td>\n",
       "      <td>2018-01-02 02:47:04.394.471.250 [UTC]</td>\n",
       "      <td>2018-01-02 02:52:25.242.659.745 [UTC]</td>\n",
       "      <td>645.551012</td>\n",
       "    </tr>\n",
       "    <tr>\n",
       "      <th>10</th>\n",
       "      <td>Complete</td>\n",
       "      <td>2018-01-02 04:18:24.134.266.375 [UTC]</td>\n",
       "      <td>2018-01-02 04:23:32.348.387.637 [UTC]</td>\n",
       "      <td>2018-01-02 04:28:35.815.654.991 [UTC]</td>\n",
       "      <td>611.681389</td>\n",
       "    </tr>\n",
       "    <tr>\n",
       "      <th>11</th>\n",
       "      <td>Complete</td>\n",
       "      <td>2018-01-02 19:22:51.732.971.367 [UTC]</td>\n",
       "      <td>2018-01-02 19:27:38.539.979.063 [UTC]</td>\n",
       "      <td>2018-01-02 19:32:29.689.673.779 [UTC]</td>\n",
       "      <td>577.956702</td>\n",
       "    </tr>\n",
       "    <tr>\n",
       "      <th>12</th>\n",
       "      <td>Complete</td>\n",
       "      <td>2018-01-02 20:58:31.397.104.560 [UTC]</td>\n",
       "      <td>2018-01-02 21:03:56.812.874.876 [UTC]</td>\n",
       "      <td>2018-01-02 21:09:25.695.571.301 [UTC]</td>\n",
       "      <td>654.298467</td>\n",
       "    </tr>\n",
       "    <tr>\n",
       "      <th>13</th>\n",
       "      <td>Complete</td>\n",
       "      <td>2018-01-02 22:36:17.140.033.541 [UTC]</td>\n",
       "      <td>2018-01-02 22:41:08.020.995.059 [UTC]</td>\n",
       "      <td>2018-01-02 22:46:00.395.574.866 [UTC]</td>\n",
       "      <td>583.255541</td>\n",
       "    </tr>\n",
       "    <tr>\n",
       "      <th>14</th>\n",
       "      <td>Complete</td>\n",
       "      <td>2018-01-03 00:14:13.725.814.818 [UTC]</td>\n",
       "      <td>2018-01-03 00:18:51.635.916.629 [UTC]</td>\n",
       "      <td>2018-01-03 00:23:28.415.704.964 [UTC]</td>\n",
       "      <td>554.689890</td>\n",
       "    </tr>\n",
       "    <tr>\n",
       "      <th>15</th>\n",
       "      <td>Complete</td>\n",
       "      <td>2018-01-03 01:51:07.053.905.724 [UTC]</td>\n",
       "      <td>2018-01-03 01:56:22.302.306.094 [UTC]</td>\n",
       "      <td>2018-01-03 02:01:34.092.496.632 [UTC]</td>\n",
       "      <td>627.038591</td>\n",
       "    </tr>\n",
       "    <tr>\n",
       "      <th>16</th>\n",
       "      <td>Complete</td>\n",
       "      <td>2018-01-03 03:27:41.231.034.098 [UTC]</td>\n",
       "      <td>2018-01-03 03:33:05.484.984.317 [UTC]</td>\n",
       "      <td>2018-01-03 03:38:25.101.032.852 [UTC]</td>\n",
       "      <td>643.869999</td>\n",
       "    </tr>\n",
       "    <tr>\n",
       "      <th>17</th>\n",
       "      <td>Complete</td>\n",
       "      <td>2018-01-03 05:06:02.416.314.481 [UTC]</td>\n",
       "      <td>2018-01-03 05:08:55.955.260.196 [UTC]</td>\n",
       "      <td>2018-01-03 05:11:43.964.961.467 [UTC]</td>\n",
       "      <td>341.548647</td>\n",
       "    </tr>\n",
       "    <tr>\n",
       "      <th>18</th>\n",
       "      <td>Complete</td>\n",
       "      <td>2018-01-03 18:33:15.219.446.717 [UTC]</td>\n",
       "      <td>2018-01-03 18:37:18.002.989.688 [UTC]</td>\n",
       "      <td>2018-01-03 18:41:25.365.535.317 [UTC]</td>\n",
       "      <td>490.146089</td>\n",
       "    </tr>\n",
       "    <tr>\n",
       "      <th>19</th>\n",
       "      <td>Complete</td>\n",
       "      <td>2018-01-03 20:07:55.004.585.086 [UTC]</td>\n",
       "      <td>2018-01-03 20:13:21.499.268.614 [UTC]</td>\n",
       "      <td>2018-01-03 20:18:51.750.867.067 [UTC]</td>\n",
       "      <td>656.746282</td>\n",
       "    </tr>\n",
       "    <tr>\n",
       "      <th>20</th>\n",
       "      <td>Complete</td>\n",
       "      <td>2018-01-03 21:45:16.113.515.495 [UTC]</td>\n",
       "      <td>2018-01-03 21:50:18.521.058.165 [UTC]</td>\n",
       "      <td>2018-01-03 21:55:23.036.737.737 [UTC]</td>\n",
       "      <td>606.923222</td>\n",
       "    </tr>\n",
       "    <tr>\n",
       "      <th>21</th>\n",
       "      <td>Complete</td>\n",
       "      <td>2018-01-03 23:23:21.825.221.477 [UTC]</td>\n",
       "      <td>2018-01-03 23:27:56.980.530.821 [UTC]</td>\n",
       "      <td>2018-01-03 23:32:31.696.557.997 [UTC]</td>\n",
       "      <td>549.871337</td>\n",
       "    </tr>\n",
       "    <tr>\n",
       "      <th>22</th>\n",
       "      <td>Complete</td>\n",
       "      <td>2018-01-04 01:00:32.486.865.518 [UTC]</td>\n",
       "      <td>2018-01-04 01:05:35.971.129.336 [UTC]</td>\n",
       "      <td>2018-01-04 01:10:36.506.115.494 [UTC]</td>\n",
       "      <td>604.019250</td>\n",
       "    </tr>\n",
       "    <tr>\n",
       "      <th>23</th>\n",
       "      <td>Complete</td>\n",
       "      <td>2018-01-04 02:37:04.055.670.796 [UTC]</td>\n",
       "      <td>2018-01-04 02:42:34.119.933.047 [UTC]</td>\n",
       "      <td>2018-01-04 02:47:59.694.398.042 [UTC]</td>\n",
       "      <td>655.638727</td>\n",
       "    </tr>\n",
       "    <tr>\n",
       "      <th>24</th>\n",
       "      <td>Complete</td>\n",
       "      <td>2018-01-04 04:14:27.457.063.791 [UTC]</td>\n",
       "      <td>2018-01-04 04:18:38.736.703.001 [UTC]</td>\n",
       "      <td>2018-01-04 04:22:44.837.651.251 [UTC]</td>\n",
       "      <td>497.380587</td>\n",
       "    </tr>\n",
       "    <tr>\n",
       "      <th>25</th>\n",
       "      <td>Complete</td>\n",
       "      <td>2018-01-04 17:44:20.679.940.580 [UTC]</td>\n",
       "      <td>2018-01-04 17:47:00.858.704.649 [UTC]</td>\n",
       "      <td>2018-01-04 17:49:46.083.108.185 [UTC]</td>\n",
       "      <td>325.403168</td>\n",
       "    </tr>\n",
       "    <tr>\n",
       "      <th>26</th>\n",
       "      <td>Complete</td>\n",
       "      <td>2018-01-04 19:17:30.360.019.502 [UTC]</td>\n",
       "      <td>2018-01-04 19:22:50.231.383.243 [UTC]</td>\n",
       "      <td>2018-01-04 19:28:14.091.133.474 [UTC]</td>\n",
       "      <td>643.731114</td>\n",
       "    </tr>\n",
       "    <tr>\n",
       "      <th>27</th>\n",
       "      <td>Complete</td>\n",
       "      <td>2018-01-04 20:54:18.539.169.428 [UTC]</td>\n",
       "      <td>2018-01-04 20:59:32.219.178.282 [UTC]</td>\n",
       "      <td>2018-01-04 21:04:48.572.020.231 [UTC]</td>\n",
       "      <td>630.032851</td>\n",
       "    </tr>\n",
       "    <tr>\n",
       "      <th>28</th>\n",
       "      <td>Complete</td>\n",
       "      <td>2018-01-04 22:32:24.203.208.086 [UTC]</td>\n",
       "      <td>2018-01-04 22:37:02.087.227.903 [UTC]</td>\n",
       "      <td>2018-01-04 22:41:40.235.140.620 [UTC]</td>\n",
       "      <td>556.031933</td>\n",
       "    </tr>\n",
       "    <tr>\n",
       "      <th>29</th>\n",
       "      <td>Complete</td>\n",
       "      <td>2018-01-05 00:09:54.308.413.266 [UTC]</td>\n",
       "      <td>2018-01-05 00:14:45.915.701.785 [UTC]</td>\n",
       "      <td>2018-01-05 00:19:35.173.287.389 [UTC]</td>\n",
       "      <td>580.864874</td>\n",
       "    </tr>\n",
       "    <tr>\n",
       "      <th>...</th>\n",
       "      <td>...</td>\n",
       "      <td>...</td>\n",
       "      <td>...</td>\n",
       "      <td>...</td>\n",
       "      <td>...</td>\n",
       "    </tr>\n",
       "    <tr>\n",
       "      <th>35</th>\n",
       "      <td>Complete</td>\n",
       "      <td>2018-01-05 23:19:11.016.133.724 [UTC]</td>\n",
       "      <td>2018-01-05 23:23:52.895.682.254 [UTC]</td>\n",
       "      <td>2018-01-05 23:28:33.073.242.901 [UTC]</td>\n",
       "      <td>562.057109</td>\n",
       "    </tr>\n",
       "    <tr>\n",
       "      <th>36</th>\n",
       "      <td>Complete</td>\n",
       "      <td>2018-01-06 00:55:56.489.259.300 [UTC]</td>\n",
       "      <td>2018-01-06 01:01:17.557.242.313 [UTC]</td>\n",
       "      <td>2018-01-06 01:06:34.717.584.549 [UTC]</td>\n",
       "      <td>638.228325</td>\n",
       "    </tr>\n",
       "    <tr>\n",
       "      <th>37</th>\n",
       "      <td>Complete</td>\n",
       "      <td>2018-01-06 02:32:35.358.467.101 [UTC]</td>\n",
       "      <td>2018-01-06 02:37:52.144.715.391 [UTC]</td>\n",
       "      <td>2018-01-06 02:43:04.022.182.521 [UTC]</td>\n",
       "      <td>628.663715</td>\n",
       "    </tr>\n",
       "    <tr>\n",
       "      <th>38</th>\n",
       "      <td>Complete</td>\n",
       "      <td>2018-01-06 04:12:15.625.157.651 [UTC]</td>\n",
       "      <td>2018-01-06 04:14:00 [UTC]</td>\n",
       "      <td>2018-01-06 04:14:48.221.627.175 [UTC]</td>\n",
       "      <td>152.596470</td>\n",
       "    </tr>\n",
       "    <tr>\n",
       "      <th>39</th>\n",
       "      <td>Complete</td>\n",
       "      <td>2018-01-06 17:37:28.642.004.726 [UTC]</td>\n",
       "      <td>2018-01-06 17:41:59.359.190.860 [UTC]</td>\n",
       "      <td>2018-01-06 17:46:34.460.091.589 [UTC]</td>\n",
       "      <td>545.818087</td>\n",
       "    </tr>\n",
       "    <tr>\n",
       "      <th>40</th>\n",
       "      <td>Complete</td>\n",
       "      <td>2018-01-06 19:12:44.041.802.285 [UTC]</td>\n",
       "      <td>2018-01-06 19:18:11.013.733.946 [UTC]</td>\n",
       "      <td>2018-01-06 19:23:41.512.378.154 [UTC]</td>\n",
       "      <td>657.470576</td>\n",
       "    </tr>\n",
       "    <tr>\n",
       "      <th>41</th>\n",
       "      <td>Complete</td>\n",
       "      <td>2018-01-06 20:50:19.963.347.314 [UTC]</td>\n",
       "      <td>2018-01-06 20:55:16.094.115.176 [UTC]</td>\n",
       "      <td>2018-01-06 21:00:13.862.086.235 [UTC]</td>\n",
       "      <td>593.898739</td>\n",
       "    </tr>\n",
       "    <tr>\n",
       "      <th>42</th>\n",
       "      <td>Complete</td>\n",
       "      <td>2018-01-06 22:28:21.598.081.288 [UTC]</td>\n",
       "      <td>2018-01-06 22:32:57.867.676.817 [UTC]</td>\n",
       "      <td>2018-01-06 22:37:33.122.766.314 [UTC]</td>\n",
       "      <td>551.524685</td>\n",
       "    </tr>\n",
       "    <tr>\n",
       "      <th>43</th>\n",
       "      <td>Complete</td>\n",
       "      <td>2018-01-07 00:05:22.176.700.829 [UTC]</td>\n",
       "      <td>2018-01-07 00:10:32.544.190.489 [UTC]</td>\n",
       "      <td>2018-01-07 00:15:39.462.485.610 [UTC]</td>\n",
       "      <td>617.285785</td>\n",
       "    </tr>\n",
       "    <tr>\n",
       "      <th>44</th>\n",
       "      <td>Complete</td>\n",
       "      <td>2018-01-07 01:41:54.357.864.259 [UTC]</td>\n",
       "      <td>2018-01-07 01:47:22.326.109.805 [UTC]</td>\n",
       "      <td>2018-01-07 01:52:45.508.986.709 [UTC]</td>\n",
       "      <td>651.151122</td>\n",
       "    </tr>\n",
       "    <tr>\n",
       "      <th>45</th>\n",
       "      <td>Complete</td>\n",
       "      <td>2018-01-07 03:19:44.317.851.661 [UTC]</td>\n",
       "      <td>2018-01-07 03:23:18.859.923.282 [UTC]</td>\n",
       "      <td>2018-01-07 03:26:47.893.627.880 [UTC]</td>\n",
       "      <td>423.575776</td>\n",
       "    </tr>\n",
       "    <tr>\n",
       "      <th>46</th>\n",
       "      <td>Complete</td>\n",
       "      <td>2018-01-07 16:48:05.519.196.686 [UTC]</td>\n",
       "      <td>2018-01-07 16:51:39.327.452.579 [UTC]</td>\n",
       "      <td>2018-01-07 16:55:17.895.411.548 [UTC]</td>\n",
       "      <td>432.376215</td>\n",
       "    </tr>\n",
       "    <tr>\n",
       "      <th>47</th>\n",
       "      <td>Complete</td>\n",
       "      <td>2018-01-07 18:22:11.540.055.869 [UTC]</td>\n",
       "      <td>2018-01-07 18:27:36.474.669.375 [UTC]</td>\n",
       "      <td>2018-01-07 18:33:05.229.274.033 [UTC]</td>\n",
       "      <td>653.689218</td>\n",
       "    </tr>\n",
       "    <tr>\n",
       "      <th>48</th>\n",
       "      <td>Complete</td>\n",
       "      <td>2018-01-07 19:59:19.072.432.814 [UTC]</td>\n",
       "      <td>2018-01-07 20:04:26.901.681.028 [UTC]</td>\n",
       "      <td>2018-01-07 20:09:36.997.577.546 [UTC]</td>\n",
       "      <td>617.925145</td>\n",
       "    </tr>\n",
       "    <tr>\n",
       "      <th>49</th>\n",
       "      <td>Complete</td>\n",
       "      <td>2018-01-07 21:37:25.971.563.457 [UTC]</td>\n",
       "      <td>2018-01-07 21:42:01.937.195.860 [UTC]</td>\n",
       "      <td>2018-01-07 21:46:37.614.688.574 [UTC]</td>\n",
       "      <td>551.643125</td>\n",
       "    </tr>\n",
       "    <tr>\n",
       "      <th>50</th>\n",
       "      <td>Complete</td>\n",
       "      <td>2018-01-07 23:14:45.175.014.137 [UTC]</td>\n",
       "      <td>2018-01-07 23:19:43.482.230.105 [UTC]</td>\n",
       "      <td>2018-01-07 23:24:38.905.749.320 [UTC]</td>\n",
       "      <td>593.730735</td>\n",
       "    </tr>\n",
       "    <tr>\n",
       "      <th>51</th>\n",
       "      <td>Complete</td>\n",
       "      <td>2018-01-08 00:51:17.744.860.945 [UTC]</td>\n",
       "      <td>2018-01-08 00:56:47.941.529.356 [UTC]</td>\n",
       "      <td>2018-01-08 01:02:13.533.752.558 [UTC]</td>\n",
       "      <td>655.788892</td>\n",
       "    </tr>\n",
       "    <tr>\n",
       "      <th>52</th>\n",
       "      <td>Complete</td>\n",
       "      <td>2018-01-08 02:28:26.171.142.158 [UTC]</td>\n",
       "      <td>2018-01-08 02:32:58.952.462.278 [UTC]</td>\n",
       "      <td>2018-01-08 02:37:26.440.602.241 [UTC]</td>\n",
       "      <td>540.269460</td>\n",
       "    </tr>\n",
       "    <tr>\n",
       "      <th>53</th>\n",
       "      <td>Complete</td>\n",
       "      <td>2018-01-08 15:59:55.346.441.565 [UTC]</td>\n",
       "      <td>2018-01-08 16:01:22.628.233.829 [UTC]</td>\n",
       "      <td>2018-01-08 16:02:55.269.289.611 [UTC]</td>\n",
       "      <td>179.922848</td>\n",
       "    </tr>\n",
       "    <tr>\n",
       "      <th>54</th>\n",
       "      <td>Complete</td>\n",
       "      <td>2018-01-08 17:31:51.870.764.492 [UTC]</td>\n",
       "      <td>2018-01-08 17:37:05.956.480.899 [UTC]</td>\n",
       "      <td>2018-01-08 17:42:24.097.210.763 [UTC]</td>\n",
       "      <td>632.226446</td>\n",
       "    </tr>\n",
       "    <tr>\n",
       "      <th>55</th>\n",
       "      <td>Complete</td>\n",
       "      <td>2018-01-08 19:08:22.867.954.371 [UTC]</td>\n",
       "      <td>2018-01-08 19:13:41.169.259.153 [UTC]</td>\n",
       "      <td>2018-01-08 19:19:02.289.583.681 [UTC]</td>\n",
       "      <td>639.421629</td>\n",
       "    </tr>\n",
       "    <tr>\n",
       "      <th>56</th>\n",
       "      <td>Complete</td>\n",
       "      <td>2018-01-08 20:46:25.288.494.227 [UTC]</td>\n",
       "      <td>2018-01-08 20:51:06.284.119.688 [UTC]</td>\n",
       "      <td>2018-01-08 20:55:47.722.481.488 [UTC]</td>\n",
       "      <td>562.433987</td>\n",
       "    </tr>\n",
       "    <tr>\n",
       "      <th>57</th>\n",
       "      <td>Complete</td>\n",
       "      <td>2018-01-08 22:24:03.854.855.594 [UTC]</td>\n",
       "      <td>2018-01-08 22:28:50.996.878.543 [UTC]</td>\n",
       "      <td>2018-01-08 22:33:35.893.304.048 [UTC]</td>\n",
       "      <td>572.038448</td>\n",
       "    </tr>\n",
       "    <tr>\n",
       "      <th>58</th>\n",
       "      <td>Complete</td>\n",
       "      <td>2018-01-09 00:00:43.114.493.785 [UTC]</td>\n",
       "      <td>2018-01-09 00:06:08.917.296.329 [UTC]</td>\n",
       "      <td>2018-01-09 00:11:30.408.697.127 [UTC]</td>\n",
       "      <td>647.294203</td>\n",
       "    </tr>\n",
       "    <tr>\n",
       "      <th>59</th>\n",
       "      <td>Complete</td>\n",
       "      <td>2018-01-09 01:37:29.378.973.840 [UTC]</td>\n",
       "      <td>2018-01-09 01:42:34.940.011.106 [UTC]</td>\n",
       "      <td>2018-01-09 01:47:35.340.496.299 [UTC]</td>\n",
       "      <td>605.961522</td>\n",
       "    </tr>\n",
       "    <tr>\n",
       "      <th>60</th>\n",
       "      <td>Complete</td>\n",
       "      <td>2018-01-09 16:41:48.225.958.047 [UTC]</td>\n",
       "      <td>2018-01-09 16:46:39.317.496.219 [UTC]</td>\n",
       "      <td>2018-01-09 16:51:34.680.593.310 [UTC]</td>\n",
       "      <td>586.454635</td>\n",
       "    </tr>\n",
       "    <tr>\n",
       "      <th>61</th>\n",
       "      <td>Complete</td>\n",
       "      <td>2018-01-09 18:17:33.849.857.745 [UTC]</td>\n",
       "      <td>2018-01-09 18:22:59.294.983.946 [UTC]</td>\n",
       "      <td>2018-01-09 18:28:28.020.111.320 [UTC]</td>\n",
       "      <td>654.170254</td>\n",
       "    </tr>\n",
       "    <tr>\n",
       "      <th>62</th>\n",
       "      <td>Complete</td>\n",
       "      <td>2018-01-09 19:55:21.831.184.921 [UTC]</td>\n",
       "      <td>2018-01-09 20:00:12.028.023.802 [UTC]</td>\n",
       "      <td>2018-01-09 20:05:03.387.134.669 [UTC]</td>\n",
       "      <td>581.555950</td>\n",
       "    </tr>\n",
       "    <tr>\n",
       "      <th>63</th>\n",
       "      <td>Complete</td>\n",
       "      <td>2018-01-09 21:33:16.881.418.524 [UTC]</td>\n",
       "      <td>2018-01-09 21:37:55.938.780.704 [UTC]</td>\n",
       "      <td>2018-01-09 21:42:33.438.643.811 [UTC]</td>\n",
       "      <td>556.557225</td>\n",
       "    </tr>\n",
       "    <tr>\n",
       "      <th>64</th>\n",
       "      <td>Complete</td>\n",
       "      <td>2018-01-09 23:10:08.518.700.300 [UTC]</td>\n",
       "      <td>2018-01-09 23:15:25.334.647.098 [UTC]</td>\n",
       "      <td>2018-01-09 23:20:38.248.314.855 [UTC]</td>\n",
       "      <td>629.729615</td>\n",
       "    </tr>\n",
       "  </tbody>\n",
       "</table>\n",
       "<p>65 rows × 5 columns</p>\n",
       "</div>"
      ],
      "text/plain": [
       "        Type                                    AOS  \\\n",
       "0   Complete  2018-01-01 00:18:17.697.156.070 [UTC]   \n",
       "1   Complete  2018-01-01 01:55:39.150.745.866 [UTC]   \n",
       "2   Complete  2018-01-01 03:32:12.157.332.300 [UTC]   \n",
       "3   Complete  2018-01-01 05:09:17.177.879.509 [UTC]   \n",
       "4   Complete  2018-01-01 18:41:34.249.314.664 [UTC]   \n",
       "5   Complete  2018-01-01 20:12:51.193.073.985 [UTC]   \n",
       "6   Complete  2018-01-01 21:49:17.384.174.463 [UTC]   \n",
       "7   Complete  2018-01-01 23:27:18.650.360.403 [UTC]   \n",
       "8   Complete  2018-01-02 01:04:59.318.175.315 [UTC]   \n",
       "9   Complete  2018-01-02 02:41:39.691.648.183 [UTC]   \n",
       "10  Complete  2018-01-02 04:18:24.134.266.375 [UTC]   \n",
       "11  Complete  2018-01-02 19:22:51.732.971.367 [UTC]   \n",
       "12  Complete  2018-01-02 20:58:31.397.104.560 [UTC]   \n",
       "13  Complete  2018-01-02 22:36:17.140.033.541 [UTC]   \n",
       "14  Complete  2018-01-03 00:14:13.725.814.818 [UTC]   \n",
       "15  Complete  2018-01-03 01:51:07.053.905.724 [UTC]   \n",
       "16  Complete  2018-01-03 03:27:41.231.034.098 [UTC]   \n",
       "17  Complete  2018-01-03 05:06:02.416.314.481 [UTC]   \n",
       "18  Complete  2018-01-03 18:33:15.219.446.717 [UTC]   \n",
       "19  Complete  2018-01-03 20:07:55.004.585.086 [UTC]   \n",
       "20  Complete  2018-01-03 21:45:16.113.515.495 [UTC]   \n",
       "21  Complete  2018-01-03 23:23:21.825.221.477 [UTC]   \n",
       "22  Complete  2018-01-04 01:00:32.486.865.518 [UTC]   \n",
       "23  Complete  2018-01-04 02:37:04.055.670.796 [UTC]   \n",
       "24  Complete  2018-01-04 04:14:27.457.063.791 [UTC]   \n",
       "25  Complete  2018-01-04 17:44:20.679.940.580 [UTC]   \n",
       "26  Complete  2018-01-04 19:17:30.360.019.502 [UTC]   \n",
       "27  Complete  2018-01-04 20:54:18.539.169.428 [UTC]   \n",
       "28  Complete  2018-01-04 22:32:24.203.208.086 [UTC]   \n",
       "29  Complete  2018-01-05 00:09:54.308.413.266 [UTC]   \n",
       "..       ...                                    ...   \n",
       "35  Complete  2018-01-05 23:19:11.016.133.724 [UTC]   \n",
       "36  Complete  2018-01-06 00:55:56.489.259.300 [UTC]   \n",
       "37  Complete  2018-01-06 02:32:35.358.467.101 [UTC]   \n",
       "38  Complete  2018-01-06 04:12:15.625.157.651 [UTC]   \n",
       "39  Complete  2018-01-06 17:37:28.642.004.726 [UTC]   \n",
       "40  Complete  2018-01-06 19:12:44.041.802.285 [UTC]   \n",
       "41  Complete  2018-01-06 20:50:19.963.347.314 [UTC]   \n",
       "42  Complete  2018-01-06 22:28:21.598.081.288 [UTC]   \n",
       "43  Complete  2018-01-07 00:05:22.176.700.829 [UTC]   \n",
       "44  Complete  2018-01-07 01:41:54.357.864.259 [UTC]   \n",
       "45  Complete  2018-01-07 03:19:44.317.851.661 [UTC]   \n",
       "46  Complete  2018-01-07 16:48:05.519.196.686 [UTC]   \n",
       "47  Complete  2018-01-07 18:22:11.540.055.869 [UTC]   \n",
       "48  Complete  2018-01-07 19:59:19.072.432.814 [UTC]   \n",
       "49  Complete  2018-01-07 21:37:25.971.563.457 [UTC]   \n",
       "50  Complete  2018-01-07 23:14:45.175.014.137 [UTC]   \n",
       "51  Complete  2018-01-08 00:51:17.744.860.945 [UTC]   \n",
       "52  Complete  2018-01-08 02:28:26.171.142.158 [UTC]   \n",
       "53  Complete  2018-01-08 15:59:55.346.441.565 [UTC]   \n",
       "54  Complete  2018-01-08 17:31:51.870.764.492 [UTC]   \n",
       "55  Complete  2018-01-08 19:08:22.867.954.371 [UTC]   \n",
       "56  Complete  2018-01-08 20:46:25.288.494.227 [UTC]   \n",
       "57  Complete  2018-01-08 22:24:03.854.855.594 [UTC]   \n",
       "58  Complete  2018-01-09 00:00:43.114.493.785 [UTC]   \n",
       "59  Complete  2018-01-09 01:37:29.378.973.840 [UTC]   \n",
       "60  Complete  2018-01-09 16:41:48.225.958.047 [UTC]   \n",
       "61  Complete  2018-01-09 18:17:33.849.857.745 [UTC]   \n",
       "62  Complete  2018-01-09 19:55:21.831.184.921 [UTC]   \n",
       "63  Complete  2018-01-09 21:33:16.881.418.524 [UTC]   \n",
       "64  Complete  2018-01-09 23:10:08.518.700.300 [UTC]   \n",
       "\n",
       "                                      TCA  \\\n",
       "0   2018-01-01 00:22:53.497.750.364 [UTC]   \n",
       "1   2018-01-01 02:00:35.711.234.012 [UTC]   \n",
       "2   2018-01-01 03:37:41.976.868.711 [UTC]   \n",
       "3   2018-01-01 05:13:54.893.248.477 [UTC]   \n",
       "4   2018-01-01 18:42:20.906.922.422 [UTC]   \n",
       "5   2018-01-01 20:18:02.725.464.903 [UTC]   \n",
       "6   2018-01-01 21:54:36.185.242.735 [UTC]   \n",
       "7   2018-01-01 23:31:59.992.615.782 [UTC]   \n",
       "8   2018-01-02 01:09:44.897.400.938 [UTC]   \n",
       "9   2018-01-02 02:47:04.394.471.250 [UTC]   \n",
       "10  2018-01-02 04:23:32.348.387.637 [UTC]   \n",
       "11  2018-01-02 19:27:38.539.979.063 [UTC]   \n",
       "12  2018-01-02 21:03:56.812.874.876 [UTC]   \n",
       "13  2018-01-02 22:41:08.020.995.059 [UTC]   \n",
       "14  2018-01-03 00:18:51.635.916.629 [UTC]   \n",
       "15  2018-01-03 01:56:22.302.306.094 [UTC]   \n",
       "16  2018-01-03 03:33:05.484.984.317 [UTC]   \n",
       "17  2018-01-03 05:08:55.955.260.196 [UTC]   \n",
       "18  2018-01-03 18:37:18.002.989.688 [UTC]   \n",
       "19  2018-01-03 20:13:21.499.268.614 [UTC]   \n",
       "20  2018-01-03 21:50:18.521.058.165 [UTC]   \n",
       "21  2018-01-03 23:27:56.980.530.821 [UTC]   \n",
       "22  2018-01-04 01:05:35.971.129.336 [UTC]   \n",
       "23  2018-01-04 02:42:34.119.933.047 [UTC]   \n",
       "24  2018-01-04 04:18:38.736.703.001 [UTC]   \n",
       "25  2018-01-04 17:47:00.858.704.649 [UTC]   \n",
       "26  2018-01-04 19:22:50.231.383.243 [UTC]   \n",
       "27  2018-01-04 20:59:32.219.178.282 [UTC]   \n",
       "28  2018-01-04 22:37:02.087.227.903 [UTC]   \n",
       "29  2018-01-05 00:14:45.915.701.785 [UTC]   \n",
       "..                                    ...   \n",
       "35  2018-01-05 23:23:52.895.682.254 [UTC]   \n",
       "36  2018-01-06 01:01:17.557.242.313 [UTC]   \n",
       "37  2018-01-06 02:37:52.144.715.391 [UTC]   \n",
       "38              2018-01-06 04:14:00 [UTC]   \n",
       "39  2018-01-06 17:41:59.359.190.860 [UTC]   \n",
       "40  2018-01-06 19:18:11.013.733.946 [UTC]   \n",
       "41  2018-01-06 20:55:16.094.115.176 [UTC]   \n",
       "42  2018-01-06 22:32:57.867.676.817 [UTC]   \n",
       "43  2018-01-07 00:10:32.544.190.489 [UTC]   \n",
       "44  2018-01-07 01:47:22.326.109.805 [UTC]   \n",
       "45  2018-01-07 03:23:18.859.923.282 [UTC]   \n",
       "46  2018-01-07 16:51:39.327.452.579 [UTC]   \n",
       "47  2018-01-07 18:27:36.474.669.375 [UTC]   \n",
       "48  2018-01-07 20:04:26.901.681.028 [UTC]   \n",
       "49  2018-01-07 21:42:01.937.195.860 [UTC]   \n",
       "50  2018-01-07 23:19:43.482.230.105 [UTC]   \n",
       "51  2018-01-08 00:56:47.941.529.356 [UTC]   \n",
       "52  2018-01-08 02:32:58.952.462.278 [UTC]   \n",
       "53  2018-01-08 16:01:22.628.233.829 [UTC]   \n",
       "54  2018-01-08 17:37:05.956.480.899 [UTC]   \n",
       "55  2018-01-08 19:13:41.169.259.153 [UTC]   \n",
       "56  2018-01-08 20:51:06.284.119.688 [UTC]   \n",
       "57  2018-01-08 22:28:50.996.878.543 [UTC]   \n",
       "58  2018-01-09 00:06:08.917.296.329 [UTC]   \n",
       "59  2018-01-09 01:42:34.940.011.106 [UTC]   \n",
       "60  2018-01-09 16:46:39.317.496.219 [UTC]   \n",
       "61  2018-01-09 18:22:59.294.983.946 [UTC]   \n",
       "62  2018-01-09 20:00:12.028.023.802 [UTC]   \n",
       "63  2018-01-09 21:37:55.938.780.704 [UTC]   \n",
       "64  2018-01-09 23:15:25.334.647.098 [UTC]   \n",
       "\n",
       "                                      LOS    Duration  \n",
       "0   2018-01-01 00:27:29.436.445.532 [UTC]  551.739289  \n",
       "1   2018-01-01 02:05:29.858.056.603 [UTC]  590.707311  \n",
       "2   2018-01-01 03:43:07.631.351.350 [UTC]  655.474019  \n",
       "3   2018-01-01 05:18:27.727.380.393 [UTC]  550.549501  \n",
       "4   2018-01-01 18:43:13.024.453.816 [UTC]   98.775139  \n",
       "5   2018-01-01 20:23:18.420.799.075 [UTC]  627.227725  \n",
       "6   2018-01-01 21:59:58.050.011.692 [UTC]  640.665837  \n",
       "7   2018-01-01 23:36:42.171.510.456 [UTC]  563.521150  \n",
       "8   2018-01-02 01:14:28.682.983.515 [UTC]  569.364808  \n",
       "9   2018-01-02 02:52:25.242.659.745 [UTC]  645.551012  \n",
       "10  2018-01-02 04:28:35.815.654.991 [UTC]  611.681389  \n",
       "11  2018-01-02 19:32:29.689.673.779 [UTC]  577.956702  \n",
       "12  2018-01-02 21:09:25.695.571.301 [UTC]  654.298467  \n",
       "13  2018-01-02 22:46:00.395.574.866 [UTC]  583.255541  \n",
       "14  2018-01-03 00:23:28.415.704.964 [UTC]  554.689890  \n",
       "15  2018-01-03 02:01:34.092.496.632 [UTC]  627.038591  \n",
       "16  2018-01-03 03:38:25.101.032.852 [UTC]  643.869999  \n",
       "17  2018-01-03 05:11:43.964.961.467 [UTC]  341.548647  \n",
       "18  2018-01-03 18:41:25.365.535.317 [UTC]  490.146089  \n",
       "19  2018-01-03 20:18:51.750.867.067 [UTC]  656.746282  \n",
       "20  2018-01-03 21:55:23.036.737.737 [UTC]  606.923222  \n",
       "21  2018-01-03 23:32:31.696.557.997 [UTC]  549.871337  \n",
       "22  2018-01-04 01:10:36.506.115.494 [UTC]  604.019250  \n",
       "23  2018-01-04 02:47:59.694.398.042 [UTC]  655.638727  \n",
       "24  2018-01-04 04:22:44.837.651.251 [UTC]  497.380587  \n",
       "25  2018-01-04 17:49:46.083.108.185 [UTC]  325.403168  \n",
       "26  2018-01-04 19:28:14.091.133.474 [UTC]  643.731114  \n",
       "27  2018-01-04 21:04:48.572.020.231 [UTC]  630.032851  \n",
       "28  2018-01-04 22:41:40.235.140.620 [UTC]  556.031933  \n",
       "29  2018-01-05 00:19:35.173.287.389 [UTC]  580.864874  \n",
       "..                                    ...         ...  \n",
       "35  2018-01-05 23:28:33.073.242.901 [UTC]  562.057109  \n",
       "36  2018-01-06 01:06:34.717.584.549 [UTC]  638.228325  \n",
       "37  2018-01-06 02:43:04.022.182.521 [UTC]  628.663715  \n",
       "38  2018-01-06 04:14:48.221.627.175 [UTC]  152.596470  \n",
       "39  2018-01-06 17:46:34.460.091.589 [UTC]  545.818087  \n",
       "40  2018-01-06 19:23:41.512.378.154 [UTC]  657.470576  \n",
       "41  2018-01-06 21:00:13.862.086.235 [UTC]  593.898739  \n",
       "42  2018-01-06 22:37:33.122.766.314 [UTC]  551.524685  \n",
       "43  2018-01-07 00:15:39.462.485.610 [UTC]  617.285785  \n",
       "44  2018-01-07 01:52:45.508.986.709 [UTC]  651.151122  \n",
       "45  2018-01-07 03:26:47.893.627.880 [UTC]  423.575776  \n",
       "46  2018-01-07 16:55:17.895.411.548 [UTC]  432.376215  \n",
       "47  2018-01-07 18:33:05.229.274.033 [UTC]  653.689218  \n",
       "48  2018-01-07 20:09:36.997.577.546 [UTC]  617.925145  \n",
       "49  2018-01-07 21:46:37.614.688.574 [UTC]  551.643125  \n",
       "50  2018-01-07 23:24:38.905.749.320 [UTC]  593.730735  \n",
       "51  2018-01-08 01:02:13.533.752.558 [UTC]  655.788892  \n",
       "52  2018-01-08 02:37:26.440.602.241 [UTC]  540.269460  \n",
       "53  2018-01-08 16:02:55.269.289.611 [UTC]  179.922848  \n",
       "54  2018-01-08 17:42:24.097.210.763 [UTC]  632.226446  \n",
       "55  2018-01-08 19:19:02.289.583.681 [UTC]  639.421629  \n",
       "56  2018-01-08 20:55:47.722.481.488 [UTC]  562.433987  \n",
       "57  2018-01-08 22:33:35.893.304.048 [UTC]  572.038448  \n",
       "58  2018-01-09 00:11:30.408.697.127 [UTC]  647.294203  \n",
       "59  2018-01-09 01:47:35.340.496.299 [UTC]  605.961522  \n",
       "60  2018-01-09 16:51:34.680.593.310 [UTC]  586.454635  \n",
       "61  2018-01-09 18:28:28.020.111.320 [UTC]  654.170254  \n",
       "62  2018-01-09 20:05:03.387.134.669 [UTC]  581.555950  \n",
       "63  2018-01-09 21:42:33.438.643.811 [UTC]  556.557225  \n",
       "64  2018-01-09 23:20:38.248.314.855 [UTC]  629.729615  \n",
       "\n",
       "[65 rows x 5 columns]"
      ]
     },
     "execution_count": 248,
     "metadata": {},
     "output_type": "execute_result"
    }
   ],
   "source": [
    "accesses_df"
   ]
  },
  {
   "cell_type": "code",
   "execution_count": 249,
   "metadata": {},
   "outputs": [
    {
     "data": {
      "text/plain": [
       "65"
      ]
     },
     "execution_count": 249,
     "metadata": {},
     "output_type": "execute_result"
    }
   ],
   "source": [
    "len(accesses_df)"
   ]
  },
  {
   "cell_type": "code",
   "execution_count": 250,
   "metadata": {},
   "outputs": [
    {
     "data": {
      "text/plain": [
       "9.452275982500767"
      ]
     },
     "execution_count": 250,
     "metadata": {},
     "output_type": "execute_result"
    }
   ],
   "source": [
    "accesses_df['Duration'].mean() / 60"
   ]
  },
  {
   "cell_type": "markdown",
   "metadata": {},
   "source": [
    "### Output"
   ]
  },
  {
   "cell_type": "markdown",
   "metadata": {},
   "source": [
    "Let's calculate the geographic coordinate of the satellite, during access:"
   ]
  },
  {
   "cell_type": "code",
   "execution_count": 251,
   "metadata": {},
   "outputs": [],
   "source": [
    "def compute_time_lla_aer_state (state):\n",
    "    \n",
    "    lla = LLA.Cartesian(state.getPosition().inFrame(Frame.ITRF(), state.getInstant()).getCoordinates(), Earth.EquatorialRadius, Earth.Flattening)\n",
    "    \n",
    "    aer = AER.FromPositionToPosition(from_position, state.getPosition().inFrame(Frame.ITRF(), state.getInstant()))\n",
    "\n",
    "    return [state.getInstant(), float(lla.getLatitude().inDegrees()), float(lla.getLongitude().inDegrees()), float(lla.getAltitude().inMeters()), float(aer.getAzimuth().inDegrees()), float(aer.getElevation().inDegrees()), float(aer.getRange().inMeters())]\n",
    "\n",
    "def compute_access_geometry (access):\n",
    "\n",
    "    return [compute_time_lla_aer_state(state) for state in satellite_orbit.getStatesAt(access.getInterval().generateGrid(Duration.Minutes(1.0)))]"
   ]
  },
  {
   "cell_type": "code",
   "execution_count": 252,
   "metadata": {},
   "outputs": [],
   "source": [
    "access_geometry_dfs = [pd.DataFrame(compute_access_geometry(access), columns=['Time', 'Latitude', 'Longitude', 'Altitude', 'Azimuth', 'Elevation', 'Range']) for access in accesses] ;"
   ]
  },
  {
   "cell_type": "code",
   "execution_count": 253,
   "metadata": {},
   "outputs": [
    {
     "data": {
      "text/html": [
       "<div>\n",
       "<style scoped>\n",
       "    .dataframe tbody tr th:only-of-type {\n",
       "        vertical-align: middle;\n",
       "    }\n",
       "\n",
       "    .dataframe tbody tr th {\n",
       "        vertical-align: top;\n",
       "    }\n",
       "\n",
       "    .dataframe thead th {\n",
       "        text-align: right;\n",
       "    }\n",
       "</style>\n",
       "<table border=\"1\" class=\"dataframe\">\n",
       "  <thead>\n",
       "    <tr style=\"text-align: right;\">\n",
       "      <th></th>\n",
       "      <th>Time</th>\n",
       "      <th>Latitude</th>\n",
       "      <th>Longitude</th>\n",
       "      <th>Altitude</th>\n",
       "      <th>Azimuth</th>\n",
       "      <th>Elevation</th>\n",
       "      <th>Range</th>\n",
       "    </tr>\n",
       "  </thead>\n",
       "  <tbody>\n",
       "    <tr>\n",
       "      <th>0</th>\n",
       "      <td>-- Instant -----------------------------------...</td>\n",
       "      <td>-47.154917</td>\n",
       "      <td>-96.576450</td>\n",
       "      <td>423703.382750</td>\n",
       "      <td>180.131720</td>\n",
       "      <td>21.903066</td>\n",
       "      <td>2.375522e+06</td>\n",
       "    </tr>\n",
       "    <tr>\n",
       "      <th>1</th>\n",
       "      <td>-- Instant -----------------------------------...</td>\n",
       "      <td>-48.642399</td>\n",
       "      <td>-91.504192</td>\n",
       "      <td>424183.933371</td>\n",
       "      <td>176.915252</td>\n",
       "      <td>29.249385</td>\n",
       "      <td>2.056389e+06</td>\n",
       "    </tr>\n",
       "    <tr>\n",
       "      <th>2</th>\n",
       "      <td>-- Instant -----------------------------------...</td>\n",
       "      <td>-49.869927</td>\n",
       "      <td>-86.139433</td>\n",
       "      <td>424565.018364</td>\n",
       "      <td>171.128392</td>\n",
       "      <td>38.272531</td>\n",
       "      <td>1.776066e+06</td>\n",
       "    </tr>\n",
       "    <tr>\n",
       "      <th>3</th>\n",
       "      <td>-- Instant -----------------------------------...</td>\n",
       "      <td>-50.812659</td>\n",
       "      <td>-80.518225</td>\n",
       "      <td>424839.677244</td>\n",
       "      <td>160.053040</td>\n",
       "      <td>48.807382</td>\n",
       "      <td>1.557073e+06</td>\n",
       "    </tr>\n",
       "    <tr>\n",
       "      <th>4</th>\n",
       "      <td>-- Instant -----------------------------------...</td>\n",
       "      <td>-51.449397</td>\n",
       "      <td>-74.696311</td>\n",
       "      <td>425002.673407</td>\n",
       "      <td>137.821257</td>\n",
       "      <td>58.566755</td>\n",
       "      <td>1.428940e+06</td>\n",
       "    </tr>\n",
       "  </tbody>\n",
       "</table>\n",
       "</div>"
      ],
      "text/plain": [
       "                                                Time   Latitude  Longitude  \\\n",
       "0  -- Instant -----------------------------------... -47.154917 -96.576450   \n",
       "1  -- Instant -----------------------------------... -48.642399 -91.504192   \n",
       "2  -- Instant -----------------------------------... -49.869927 -86.139433   \n",
       "3  -- Instant -----------------------------------... -50.812659 -80.518225   \n",
       "4  -- Instant -----------------------------------... -51.449397 -74.696311   \n",
       "\n",
       "        Altitude     Azimuth  Elevation         Range  \n",
       "0  423703.382750  180.131720  21.903066  2.375522e+06  \n",
       "1  424183.933371  176.915252  29.249385  2.056389e+06  \n",
       "2  424565.018364  171.128392  38.272531  1.776066e+06  \n",
       "3  424839.677244  160.053040  48.807382  1.557073e+06  \n",
       "4  425002.673407  137.821257  58.566755  1.428940e+06  "
      ]
     },
     "execution_count": 253,
     "metadata": {},
     "output_type": "execute_result"
    }
   ],
   "source": [
    "access_geometry_dfs[0].head()"
   ]
  },
  {
   "cell_type": "markdown",
   "metadata": {},
   "source": [
    "And plot the geometries onto a map:"
   ]
  },
  {
   "cell_type": "code",
   "execution_count": 254,
   "metadata": {},
   "outputs": [
    {
     "data": {
      "0": {
       "lat": [
        -47.154917180269265,
        -48.642398617824355,
        -49.869926978910826,
        -50.81265878185976,
        -51.44939742250386,
        -51.764655735815886,
        -51.75038040335238,
        -51.406922507617686,
        -50.74299352986574,
        -49.774619064831256,
        -49.55131539641228
       ],
       "line": {
        "color": "red",
        "width": 1
       },
       "lon": [
        -96.57644973022637,
        -91.50419182543419,
        -86.13943331263503,
        -80.51822523996292,
        -74.6963110849746,
        -68.74720074178215,
        -62.75678147234327,
        -56.815150876530026,
        -51.00744080560567,
        -45.40582732620029,
        -44.33892379850028
       ],
       "mode": "lines",
       "type": "scattergeo",
       "uid": "eb13c5a6-c1cf-11e8-83c6-0242ac110002"
      },
      "1": {
       "lat": [
        -51.69312051155026,
        -51.79264823071564,
        -51.561904916500104,
        -51.00679558075535,
        -50.14099970029701,
        -48.984407030253834,
        -47.561101312660305,
        -45.89731545477644,
        -44.01967749102625,
        -41.953906578898966,
        -40.079183895197126
       ],
       "line": {
        "color": "red",
        "width": 1
       },
       "lon": [
        -94.36276460282743,
        -88.37642030199281,
        -82.4079563956372,
        -76.54521949932112,
        -70.8655907164562,
        -65.42975950988867,
        -60.27889807580006,
        -55.435068452685236,
        -50.903894404643225,
        -46.67831087205801,
        -43.33385763943672
       ],
       "mode": "lines",
       "type": "scattergeo",
       "uid": "eb13c862-c1cf-11e8-83c6-0242ac110002"
      },
      "10": {
       "lat": [
        -46.20683629917411,
        -44.36495740438428,
        -42.33051106801115,
        -40.1278197540176,
        -37.77907754343309,
        -35.304165833549916,
        -32.72068213255635,
        -30.044096537810432,
        -27.287973349926474,
        -24.464216311447295,
        -21.583312387961755,
        -21.01659288453072
       ],
       "line": {
        "color": "red",
        "width": 1
       },
       "lon": [
        -96.76861107616374,
        -92.18251183382417,
        -87.90398358248846,
        -83.91842160205493,
        -80.20520406888681,
        -76.74045263272932,
        -73.49903688008506,
        -70.45591460188452,
        -67.58695046609985,
        -64.86935491578642,
        -62.28186240263365,
        -61.79153034510926
       ],
       "mode": "lines",
       "type": "scattergeo",
       "uid": "eb13d9ec-c1cf-11e8-83c6-0242ac110002"
      },
      "11": {
       "lat": [
        -20.121723021116523,
        -23.025891742517015,
        -25.877842519248482,
        -28.667733427732323,
        -31.384423445648352,
        -34.015235080440235,
        -36.54570744234269,
        -38.95935840148489,
        -41.23748831130565,
        -43.359076646651545,
        -44.60991712343572
       ],
       "line": {
        "color": "red",
        "width": 1
       },
       "lon": [
        -74.70333469841829,
        -72.17527280546784,
        -69.52727430061947,
        -66.73886896918816,
        -63.78804045473726,
        -60.65130942043469,
        -57.30402591754342,
        -53.72097816444039,
        -49.87744847036333,
        -45.750862779683615,
        -42.98570292400742
       ],
       "mode": "lines",
       "type": "scattergeo",
       "uid": "eb13dbe0-c1cf-11e8-83c6-0242ac110002"
      },
      "12": {
       "lat": [
        -28.557332079124084,
        -31.277179566621324,
        -33.91168985056854,
        -36.44647835074015,
        -38.86514825225098,
        -41.14909171836043,
        -43.27738153522593,
        -45.2268261251167,
        -46.972282429143945,
        -48.48733143964545,
        -49.7454032401937,
        -50.6413880893483
       ],
       "line": {
        "color": "red",
        "width": 1
       },
       "lon": [
        -90.41241664194213,
        -87.46854746525645,
        -84.33974241247324,
        -81.00138931086241,
        -77.42828210316323,
        -73.59565620521694,
        -69.48081083833608,
        -65.0654492823691,
        -60.338778140354556,
        -55.30122490690982,
        -49.96831993484449,
        -44.91544508930473
       ],
       "mode": "lines",
       "type": "scattergeo",
       "uid": "eb13ddca-c1cf-11e8-83c6-0242ac110002"
      },
      "13": {
       "lat": [
        -41.284190931636786,
        -43.402208786335486,
        -45.33989360421653,
        -47.07200063327426,
        -48.57206448239069,
        -49.81355333926445,
        -50.77149184848256,
        -51.42444209778933,
        -51.75657160883108,
        -51.75940601149737,
        -51.55678691792329
       ],
       "line": {
        "color": "red",
        "width": 1
       },
       "lon": [
        -96.9107866935156,
        -92.7780099233233,
        -88.3438055064078,
        -83.59795537289924,
        -78.54170237553288,
        -73.19161834778716,
        -67.58273557248924,
        -61.76978571225002,
        -55.82545056235392,
        -49.83514783048425,
        -45.53884684134263
       ],
       "mode": "lines",
       "type": "scattergeo",
       "uid": "eb13dfbe-c1cf-11e8-83c6-0242ac110002"
      },
      "14": {
       "lat": [
        -50.07226089552834,
        -50.958183733907994,
        -51.534699098633446,
        -51.78761557040812,
        -51.71042753735424,
        -51.30510587494586,
        -50.581853839582735,
        -49.557895891338156,
        -48.25561791745487,
        -46.700487730816015,
        -46.28424630045238
       ],
       "line": {
        "color": "red",
        "width": 1
       },
       "lon": [
        -95.41522814287568,
        -89.75121905479588,
        -83.89922405636881,
        -77.93561211942124,
        -71.94774967726441,
        -66.02548132033559,
        -60.252015278023414,
        -54.6963804133437,
        -49.40897015389818,
        -44.42052829358284,
        -43.24656690553543
       ],
       "mode": "lines",
       "type": "scattergeo",
       "uid": "eb13e1b2-c1cf-11e8-83c6-0242ac110002"
      },
      "15": {
       "lat": [
        -51.65916226004378,
        -51.193154521641766,
        -50.41196437859589,
        -49.333939211970716,
        -47.9822013098288,
        -46.38257310842379,
        -44.561719548997395,
        -42.54571200941879,
        -40.35906651478233,
        -38.02420577879237,
        -35.56124757144753,
        -34.4143022983604
       ],
       "line": {
        "color": "red",
        "width": 1
       },
       "lon": [
        -94.38735182182057,
        -88.48701731935662,
        -82.74970330239788,
        -77.24117417951012,
        -72.00811501560148,
        -67.07771230774732,
        -62.45981477763939,
        -58.150494446327436,
        -54.135946283416956,
        -50.39602362697024,
        -46.90707741905817,
        -45.410159973333904
       ],
       "mode": "lines",
       "type": "scattergeo",
       "uid": "eb13e3a6-c1cf-11e8-83c6-0242ac110002"
      },
      "16": {
       "lat": [
        -48.1746204270316,
        -46.606061314288155,
        -44.81277880025079,
        -42.82098706599137,
        -40.65544544438611,
        -38.33886979123233,
        -35.89168401977647,
        -33.33200755913168,
        -30.675788435043327,
        -27.937014058678255,
        -25.127953687716087,
        -23.03585040355819
       ],
       "line": {
        "color": "red",
        "width": 1
       },
       "lon": [
        -96.23806724428968,
        -91.26697417029979,
        -86.60796055320883,
        -82.25868583609243,
        -78.20642892006309,
        -74.43169860845354,
        -70.91117169659327,
        -67.61986902272255,
        -64.5326387007343,
        -61.62508329122016,
        -58.874075690341805,
        -56.949186705335826
       ],
       "mode": "lines",
       "type": "scattergeo",
       "uid": "eb13e590-c1cf-11e8-83c6-0242ac110002"
      },
      "17": {
       "lat": [
        -36.756859929350156,
        -34.23440923568514,
        -31.610099788914525,
        -28.89857459911964,
        -26.11267266700851,
        -23.26367586691004,
        -21.25912279620249
       ],
       "line": {
        "color": "red",
        "width": 1
       },
       "lon": [
        -95.66779800696969,
        -92.29959625433396,
        -89.14417019108906,
        -86.17678334734985,
        -83.37382830689025,
        -80.71314363983858,
        -78.94314492986807
       ],
       "mode": "lines",
       "type": "scattergeo",
       "uid": "eb13e77a-c1cf-11e8-83c6-0242ac110002"
      },
      "18": {
       "lat": [
        -19.7610662394895,
        -22.67089923590149,
        -25.529652646452643,
        -28.32763107316994,
        -31.053868235705313,
        -33.69589158364714,
        -36.23947578725957,
        -38.668402346820514,
        -40.964255826533325,
        -41.337886949992786
       ],
       "line": {
        "color": "red",
        "width": 1
       },
       "lon": [
        -68.38998630166272,
        -65.87548727793977,
        -63.24347842026853,
        -60.47368001596257,
        -57.544267765488414,
        -54.43193406014646,
        -51.11214999600783,
        -47.55972825497504,
        -43.74981573389675,
        -43.078413527424665
       ],
       "mode": "lines",
       "type": "scattergeo",
       "uid": "eb13e96e-c1cf-11e8-83c6-0242ac110002"
      },
      "19": {
       "lat": [
        -25.422826258053473,
        -28.223280865763805,
        -30.952434463424147,
        -33.59787594828602,
        -36.14545078432817,
        -38.57901992447322,
        -40.88025390475502,
        -43.02851007859308,
        -45.00086310134887,
        -46.77238086459788,
        -48.31675051454266,
        -49.5442988698136
       ],
       "line": {
        "color": "red",
        "width": 1
       },
       "lon": [
        -86.90398974411298,
        -84.13978880039892,
        -81.21682630583308,
        -78.111847523478,
        -74.8003617854905,
        -71.25719182063746,
        -67.45744753941518,
        -63.37806983100488,
        -59.00007771304191,
        -54.31157830493282,
        -49.3114258997916,
        -44.3076469643372
       ],
       "mode": "lines",
       "type": "scattergeo",
       "uid": "eb13eb58-c1cf-11e8-83c6-0242ac110002"
      },
      "2": {
       "lat": [
        -50.291480173549786,
        -49.17749745560032,
        -47.79296429270251,
        -46.163910224320084,
        -44.3169989939324,
        -42.27815222619756,
        -40.07164557711951,
        -37.71961798995555,
        -35.24189390894608,
        -32.65601622495264,
        -29.977405072273385,
        -27.430099279655927
       ],
       "line": {
        "color": "red",
        "width": 1
       },
       "lon": [
        -95.27112168525275,
        -89.79519840005642,
        -84.59927315471597,
        -79.70817525578866,
        -75.12979307435455,
        -70.85873124291801,
        -66.88019551104425,
        -63.1734512758069,
        -59.71456692690164,
        -56.47839958593949,
        -53.439920827497055,
        -50.78559697909274
       ],
       "mode": "lines",
       "type": "scattergeo",
       "uid": "eb13ca60-c1cf-11e8-83c6-0242ac110002"
      },
      "20": {
       "lat": [
        -37.74375756140148,
        -40.093397013640754,
        -42.29752921610685,
        -44.33400900881073,
        -46.17855378965152,
        -47.805235522692975,
        -49.18738617029323,
        -50.29897566128582,
        -51.116425499837796,
        -51.620673681593466,
        -51.79914956947662,
        -51.79848460473258
       ],
       "line": {
        "color": "red",
        "width": 1
       },
       "lon": [
        -96.08048278217565,
        -92.37304952053131,
        -88.3936990641483,
        -84.12172396279372,
        -79.5423697218569,
        -74.65029604781351,
        -69.45346130551232,
        -63.97677562259094,
        -58.264497511101496,
        -52.38018661659738,
        -46.40333258883121,
        -45.71171242543255
       ],
       "mode": "lines",
       "type": "scattergeo",
       "uid": "eb13ed4c-c1cf-11e8-83c6-0242ac110002"
      },
      "21": {
       "lat": [
        -48.381016163895524,
        -49.659477991863945,
        -50.657676438912155,
        -51.35356351580304,
        -51.73042038939623,
        -51.77867936761674,
        -51.49706420807258,
        -50.89274688743311,
        -49.98047743699233,
        -48.780922310232654,
        -48.557707376111836
       ],
       "line": {
        "color": "red",
        "width": 1
       },
       "lon": [
        -96.19500270847018,
        -90.88379686731304,
        -85.30781995539132,
        -79.51911931589011,
        -73.58813592212319,
        -67.59895785693564,
        -61.64157358815535,
        -55.802721075280964,
        -50.157518137443724,
        -44.76372756197962,
        -43.90333089447101
       ],
       "mode": "lines",
       "type": "scattergeo",
       "uid": "eb13ef36-c1cf-11e8-83c6-0242ac110002"
      },
      "22": {
       "lat": [
        -51.79470149299957,
        -51.6852796753945,
        -51.24838194069091,
        -50.49495928271833,
        -49.442824195532644,
        -48.11475064689146,
        -46.5363956618219,
        -44.734411388275355,
        -42.734966908372435,
        -40.56274461337754,
        -38.24036761069247,
        -38.07994515627792
       ],
       "line": {
        "color": "red",
        "width": 1
       },
       "lon": [
        -94.29252999389912,
        -88.30728242764233,
        -82.39615431000222,
        -76.6412574619006,
        -71.10994155631981,
        -65.8506770270775,
        -60.892352819451574,
        -56.24625072990528,
        -51.90952742536478,
        -47.869118092418105,
        -44.10532237806801,
        -43.862516733072425
       ],
       "mode": "lines",
       "type": "scattergeo",
       "uid": "eb13f120-c1cf-11e8-83c6-0242ac110002"
      },
      "23": {
       "lat": [
        -49.64714162802835,
        -48.3654664149849,
        -46.828908427531154,
        -45.06406550927716,
        -43.097276537741436,
        -40.95353576021914,
        -38.65585098720006,
        -36.22495581851783,
        -33.679271224003315,
        -31.03502357338713,
        -28.30644810981899,
        -25.71176128109722
       ],
       "line": {
        "color": "red",
        "width": 1
       },
       "lon": [
        -95.61624999400327,
        -90.30685656445182,
        -85.29470730911541,
        -80.59393530020206,
        -76.20388328527498,
        -72.11299731021491,
        -68.30250550356037,
        -64.74945575152242,
        -61.42899182407472,
        -58.315921839427155,
        -55.38571108743779,
        -52.81154357122517
       ],
       "mode": "lines",
       "type": "scattergeo",
       "uid": "eb13f30a-c1cf-11e8-83c6-0242ac110002"
      },
      "24": {
       "lat": [
        -41.637200498997274,
        -39.38502393548128,
        -36.99344312387802,
        -34.48159067874408,
        -31.866355952016445,
        -29.16256815657129,
        -26.383229153736032,
        -23.539760249671993,
        -20.642242135564278,
        -19.794105865090142
       ],
       "line": {
        "color": "red",
        "width": 1
       },
       "lon": [
        -96.91201537606001,
        -93.01670463363227,
        -89.38626278872134,
        -85.99622665260894,
        -82.8213784620931,
        -79.83690176543655,
        -77.01906305971788,
        -74.34555506472141,
        -71.79561167024308,
        -71.07725248822581
       ],
       "mode": "lines",
       "type": "scattergeo",
       "uid": "eb13f4f4-c1cf-11e8-83c6-0242ac110002"
      },
      "25": {
       "lat": [
        -21.45702297119606,
        -24.338162275122514,
        -27.16273797161911,
        -29.92034635335835,
        -32.59917830436803,
        -35.185775977722045,
        -36.24944870230327
       ],
       "line": {
        "color": "red",
        "width": 1
       },
       "lon": [
        -60.32427687903946,
        -57.74404202303861,
        -55.034717483134436,
        -52.17513008971834,
        -49.14257767089249,
        -45.91299734221,
        -44.48020030190218
       ],
       "mode": "lines",
       "type": "scattergeo",
       "uid": "eb13f6e8-c1cf-11e8-83c6-0242ac110002"
      },
      "26": {
       "lat": [
        -22.791114324101272,
        -25.64739284442135,
        -28.442473679176,
        -31.165335090666467,
        -33.803439166835936,
        -36.34248516911964,
        -38.766169950915284,
        -41.0559866054952,
        -43.19111092349473,
        -45.148447588694175,
        -46.90292979455466,
        -48.03878485921951
       ],
       "line": {
        "color": "red",
        "width": 1
       },
       "lon": [
        -82.70876992806421,
        -80.07159132613234,
        -77.29575996685557,
        -74.35938983990094,
        -71.23911834268472,
        -67.91037760906967,
        -64.34797328620907,
        -60.527097088755006,
        -56.42492165398662,
        -52.022906903903234,
        -47.30986797197651,
        -43.67818352402152
       ],
       "mode": "lines",
       "type": "scattergeo",
       "uid": "eb13f8dc-c1cf-11e8-83c6-0242ac110002"
      },
      "27": {
       "lat": [
        -34.06843520115326,
        -36.59643935253893,
        -39.00729105915055,
        -41.28224932897536,
        -43.40025183678694,
        -45.337982452072545,
        -47.070202716154725,
        -48.57045193669971,
        -49.8122003322127,
        -50.7704707811023,
        -51.42381891942926,
        -51.631107330258864
       ],
       "line": {
        "color": "red",
        "width": 1
       },
       "lon": [
        -94.46678304111941,
        -91.11527374660587,
        -87.52752039684239,
        -83.67883329216667,
        -79.54670541278374,
        -75.11319662965944,
        -70.36807646763846,
        -65.31256611349679,
        -59.96320761156028,
        -54.35499582462187,
        -48.542621371977205,
        -45.578736191443845
       ],
       "mode": "lines",
       "type": "scattergeo",
       "uid": "eb13fabc-c1cf-11e8-83c6-0242ac110002"
      },
      "28": {
       "lat": [
        -46.046269153777,
        -47.69030980774196,
        -49.09185951132657,
        -50.22478255116765,
        -51.06524432471786,
        -51.59376708459087,
        -51.79722611934103,
        -51.670359723132584,
        -51.21641192048932,
        -50.44673204073524,
        -50.189809731291895
       ],
       "line": {
        "color": "red",
        "width": 1
       },
       "lon": [
        -96.84033136480916,
        -91.97205455792323,
        -86.79787342637084,
        -81.34130125870813,
        -75.64508693781238,
        -69.77139106088505,
        -63.798683071350275,
        -57.81527125132562,
        -51.9105576821818,
        -46.16602911372606,
        -44.667143891158666
       ],
       "mode": "lines",
       "type": "scattergeo",
       "uid": "eb13fca6-c1cf-11e8-83c6-0242ac110002"
      },
      "29": {
       "lat": [
        -51.5142939883248,
        -51.783046155463666,
        -51.72184838121794,
        -51.33225233993732,
        -50.62407640186758,
        -49.61423628713281,
        -48.32490780555356,
        -46.78144894815525,
        -45.010466722999126,
        -43.03827190354012,
        -41.592695855262875
       ],
       "line": {
        "color": "red",
        "width": 1
       },
       "lon": [
        -94.50811842249597,
        -88.54826650006599,
        -82.55977417146502,
        -76.63256725832257,
        -70.85036020406963,
        -65.28299545171384,
        -59.981819558016866,
        -54.978509994588734,
        -50.28672722240974,
        -45.90545003356667,
        -43.09348692452293
       ],
       "mode": "lines",
       "type": "scattergeo",
       "uid": "eb13fe9a-c1cf-11e8-83c6-0242ac110002"
      },
      "3": {
       "lat": [
        -43.55942259718445,
        -41.453770705329305,
        -39.18918307955961,
        -36.78692187603564,
        -34.26592758997859,
        -31.642908864099677,
        -28.932531768011295,
        -26.14765501689291,
        -23.299576913944897,
        -20.39827417850736,
        -19.88333118882983
       ],
       "line": {
        "color": "red",
        "width": 1
       },
       "lon": [
        -97.02158702335198,
        -92.86440782515159,
        -88.99236820677767,
        -85.38323102034101,
        -82.01240631471731,
        -78.85466999166273,
        -75.885274141777,
        -73.08059444324329,
        -70.41845123931496,
        -67.87820858491564,
        -67.44271457795202
       ],
       "mode": "lines",
       "type": "scattergeo",
       "uid": "eb13cc54-c1cf-11e8-83c6-0242ac110002"
      },
      "30": {
       "lat": [
        -50.715681711976,
        -49.73751857856003,
        -48.477275164350345,
        -46.96006313326763,
        -45.212436756123715,
        -43.26079894555442,
        -41.130277831021054,
        -38.84405239663631,
        -36.423040303731156,
        -33.88584320245371,
        -31.24885513898755,
        -28.877969437137402
       ],
       "line": {
        "color": "red",
        "width": 1
       },
       "lon": [
        -95.0260113887135,
        -89.43255583605573,
        -84.10068276102879,
        -79.06416130197239,
        -74.33846221253621,
        -69.92396812221023,
        -65.80985519510646,
        -61.97780805080627,
        -58.405116536452006,
        -55.06701195498712,
        -51.938287573682146,
        -49.36034749491404
       ],
       "mode": "lines",
       "type": "scattergeo",
       "uid": "eb140084-c1cf-11e8-83c6-0242ac110002"
      },
      "31": {
       "lat": [
        -44.82541676342331,
        -42.83485342042494,
        -40.67036559655375,
        -38.35468091120563,
        -35.90823669501928,
        -33.34916606194021,
        -30.69343013909357,
        -27.955028411503438,
        -25.146240993756308,
        -22.277874264907766,
        -20.2607812664834
       ],
       "line": {
        "color": "red",
        "width": 1
       },
       "lon": [
        -96.96066494422095,
        -92.60936246743451,
        -88.5551598534472,
        -84.77860584677904,
        -81.2563989361958,
        -77.96356911990225,
        -74.87496469290572,
        -71.96618290856495,
        -69.21408827604928,
        -66.59704415635893,
        -64.85248431050634
       ],
       "mode": "lines",
       "type": "scattergeo",
       "uid": "eb1402e6-c1cf-11e8-83c6-0242ac110002"
      },
      "32": {
       "lat": [
        -20.8309552237979,
        -23.72287109979802,
        -26.56030479477172,
        -29.333126826898756,
        -32.02985313219394,
        -34.63740430647639,
        -37.14085877533461,
        -39.523221401983356,
        -41.765244104592725,
        -43.84535498425056,
        -45.73977533395786,
        -46.02798369967511
       ],
       "line": {
        "color": "red",
        "width": 1
       },
       "lon": [
        -77.80351286668004,
        -75.24857148793856,
        -72.56890642159941,
        -69.74368019450263,
        -66.75051521497089,
        -63.56561870128165,
        -60.16414099730205,
        -56.52087880186301,
        -52.61146025090243,
        -48.41415756995039,
        -43.912440403892944,
        -43.1524578967182
       ],
       "mode": "lines",
       "type": "scattergeo",
       "uid": "eb1404bc-c1cf-11e8-83c6-0242ac110002"
      },
      "33": {
       "lat": [
        -30.463837975426642,
        -33.12518454389088,
        -35.69139304061916,
        -38.14670646134578,
        -40.473210648493655,
        -42.65069185630812,
        -44.656633009588965,
        -46.466437155966176,
        -48.05398180686269,
        -49.392600610012515,
        -50.456539538749546,
        -51.09700018272126
       ],
       "line": {
        "color": "red",
        "width": 1
       },
       "lon": [
        -92.08013153427821,
        -89.01025704123983,
        -85.73842202937483,
        -82.23952030768295,
        -78.4885177114409,
        -74.46188018059884,
        -70.13968556523609,
        -65.50849499383598,
        -60.564912946267825,
        -55.319488331847054,
        -49.80023675907813,
        -45.196032168326994
       ],
       "mode": "lines",
       "type": "scattergeo",
       "uid": "eb140688-c1cf-11e8-83c6-0242ac110002"
      },
      "34": {
       "lat": [
        -43.12082134082454,
        -45.08456340362298,
        -46.84636028117909,
        -48.37986370865036,
        -49.65846970813077,
        -50.65687901562363,
        -51.35304010851589,
        -51.73022625753538,
        -51.77885774052291,
        -51.49764319447144,
        -51.216771657478425
       ],
       "line": {
        "color": "red",
        "width": 1
       },
       "lon": [
        -97.06827998550001,
        -92.67700549596162,
        -87.9749494484745,
        -82.96153137362667,
        -77.65097955142303,
        -72.07562803021973,
        -66.28748959762274,
        -60.35697062285038,
        -54.36813071138794,
        -48.410940802985,
        -45.294437205079504
       ],
       "mode": "lines",
       "type": "scattergeo",
       "uid": "eb14085e-c1cf-11e8-83c6-0242ac110002"
      },
      "35": {
       "lat": [
        -50.7448412448056,
        -51.408062743925775,
        -51.750937435461154,
        -51.764720467701935,
        -51.44902149185391,
        -50.81185181019006,
        -49.868657345949835,
        -48.64059733490893,
        -47.152483870988554,
        -45.430788953227825,
        -44.744426001638125
       ],
       "line": {
        "color": "red",
        "width": 1
       },
       "lon": [
        -95.033222232232,
        -89.22648456702584,
        -83.28569451145938,
        -77.29593980766026,
        -71.34728632000599,
        -65.52560707323757,
        -59.90441608237334,
        -54.53947590813614,
        -49.46686593375398,
        -44.70408353643854,
        -43.031879604657924
       ],
       "mode": "lines",
       "type": "scattergeo",
       "uid": "eb140a34-c1cf-11e8-83c6-0242ac110002"
      },
      "36": {
       "lat": [
        -51.42088123833924,
        -50.76557646893918,
        -49.80533194845555,
        -48.56157441057509,
        -47.0592632442446,
        -45.32491153025723,
        -43.384965348456966,
        -41.2646514299595,
        -38.98727754558253,
        -36.573901225371586,
        -34.043262214776725,
        -32.37739826601024
       ],
       "line": {
        "color": "red",
        "width": 1
       },
       "lon": [
        -94.56588491844043,
        -88.75393412611602,
        -83.14620338779224,
        -77.79733939090731,
        -72.74229521280307,
        -67.99757750462426,
        -63.5643810714758,
        -59.4324561035251,
        -55.58385041766586,
        -51.99604952356209,
        -48.64435922219767,
        -46.62043583466448
       ],
       "mode": "lines",
       "type": "scattergeo",
       "uid": "eb140c0a-c1cf-11e8-83c6-0242ac110002"
      },
      "37": {
       "lat": [
        -47.14390630893946,
        -45.42104491192995,
        -43.491226312257815,
        -41.379761909849506,
        -39.11007079428758,
        -36.703331749097934,
        -34.17840441811607,
        -31.551923268455447,
        -28.838488903493868,
        -26.050903928320828,
        -23.200419710886088,
        -21.81940125021117
       ],
       "line": {
        "color": "red",
        "width": 1
       },
       "lon": [
        -96.55802594638736,
        -91.79691527460959,
        -87.34757959385153,
        -83.20027237245019,
        -79.33736061074306,
        -75.73650315689365,
        -72.37307328153028,
        -69.22185391434789,
        -66.25813107221515,
        -63.45832842336004,
        -60.80031877246553,
        -59.574502083830055
       ],
       "mode": "lines",
       "type": "scattergeo",
       "uid": "eb140dd6-c1cf-11e8-83c6-0242ac110002"
      },
      "38": {
       "lat": [
        -31.629504186677117,
        -28.91840590630591,
        -26.132807356859995,
        -24.5923010743595
       ],
       "line": {
        "color": "red",
        "width": 1
       },
       "lon": [
        -92.86929543336774,
        -89.9004608206526,
        -87.09621127784821,
        -85.63378789836918
       ],
       "mode": "lines",
       "type": "scattergeo",
       "uid": "eb140fa2-c1cf-11e8-83c6-0242ac110002"
      },
      "39": {
       "lat": [
        -19.780941461835162,
        -22.690035631494922,
        -25.548001696148145,
        -28.345143204155033,
        -31.07049195615526,
        -33.711572594193406,
        -36.254156135936626,
        -38.6820197392635,
        -40.976743257885076,
        -43.11759141311605,
        -43.31616412627442
       ],
       "line": {
        "color": "red",
        "width": 1
       },
       "lon": [
        -72.07373779041053,
        -69.55892674895824,
        -66.92651425685455,
        -64.15621809986304,
        -61.2262114433787,
        -58.11318560067994,
        -54.792613049687745,
        -51.239311923776995,
        -47.42844091460007,
        -43.337069311065264,
        -42.924671664404734
       ],
       "mode": "lines",
       "type": "scattergeo",
       "uid": "eb14116e-c1cf-11e8-83c6-0242ac110002"
      },
      "4": {
       "lat": [
        -25.67755037988082,
        -28.472326662964516,
        -30.240711296014787
       ],
       "line": {
        "color": "red",
        "width": 1
       },
       "lon": [
        -52.77646195253561,
        -49.99855390962831,
        -48.11921056435831
       ],
       "mode": "lines",
       "type": "scattergeo",
       "uid": "eb13ce48-c1cf-11e8-83c6-0242ac110002"
      },
      "40": {
       "lat": [
        -27.113486302402876,
        -29.87209404855563,
        -32.552165639192424,
        -35.140280118920685,
        -37.62112681357408,
        -39.97728075120176,
        -42.18903949730295,
        -44.234382280513294,
        -46.0891351855744,
        -47.727444061053454,
        -49.12265604233978,
        -50.20696279409815
       ],
       "line": {
        "color": "red",
        "width": 1
       },
       "lon": [
        -88.96113409779218,
        -86.10472265603234,
        -83.07579665947841,
        -79.8503195794525,
        -76.40330595987552,
        -72.70960734609355,
        -68.7452097043683,
        -64.48918485132576,
        -59.92639489795411,
        -55.05091943585041,
        -49.86992903649353,
        -44.642840525549325
       ],
       "mode": "lines",
       "type": "scattergeo",
       "uid": "eb141344-c1cf-11e8-83c6-0242ac110002"
      },
      "41": {
       "lat": [
        -39.74501510097593,
        -41.97234773024409,
        -44.03559743277167,
        -45.91079291932995,
        -47.57221773224623,
        -48.99324651400688,
        -50.147649270176686,
        -51.01134526317228,
        -51.56444708655503,
        -51.793275594232604,
        -51.71730255886921
       ],
       "line": {
        "color": "red",
        "width": 1
       },
       "lon": [
        -96.65401606494841,
        -92.71805564229071,
        -88.49237562907781,
        -83.96110694897219,
        -79.11722349913511,
        -73.96639265606332,
        -68.53072046539899,
        -62.851416816535696,
        -56.989194464987335,
        -51.02143625566487,
        -45.64280401812739
       ],
       "mode": "lines",
       "type": "scattergeo",
       "uid": "eb141510-c1cf-11e8-83c6-0242ac110002"
      },
      "42": {
       "lat": [
        -49.40171502694576,
        -50.463448043251766,
        -51.22740196260431,
        -51.67551270012434,
        -51.7965068939516,
        -51.58722504728196,
        -51.05300943171105,
        -50.20704972247155,
        -49.0688655440748,
        -47.66230837526417,
        -47.36358254837903
       ],
       "line": {
        "color": "red",
        "width": 1
       },
       "lon": [
        -95.7754591573908,
        -90.25454693935049,
        -84.50779536995611,
        -78.60185747769182,
        -72.6183676781115,
        -66.64675841593207,
        -60.77524250613954,
        -55.08208878588793,
        -49.62919670683983,
        -44.45903989340662,
        -43.500583579430256
       ],
       "mode": "lines",
       "type": "scattergeo",
       "uid": "eb1416e6-c1cf-11e8-83c6-0242ac110002"
      },
      "43": {
       "lat": [
        -51.766903077006546,
        -51.45601825501797,
        -50.82350396711731,
        -49.88470351628416,
        -48.66070207320411,
        -47.17626849909477,
        -45.45785929833069,
        -43.53196662802804,
        -41.42393143011752,
        -39.15721334354614,
        -36.75303617561184,
        -36.03762892158995
       ],
       "line": {
        "color": "red",
        "width": 1
       },
       "lon": [
        -94.32180331568807,
        -88.37208520750723,
        -82.54812449275553,
        -76.92365911783224,
        -71.55473377320236,
        -66.47771674751294,
        -61.71036338469165,
        -57.25485373762481,
        -53.10164013083855,
        -49.233217459566646,
        -45.62731555099846,
        -44.63372461898992
       ],
       "mode": "lines",
       "type": "scattergeo",
       "uid": "eb1418b2-c1cf-11e8-83c6-0242ac110002"
      },
      "44": {
       "lat": [
        -48.879358340472436,
        -47.43573054171527,
        -45.75375982762591,
        -43.860026231539806,
        -41.78012005322069,
        -39.53784138911185,
        -37.15479118360345,
        -34.65025062149835,
        -32.041249629940324,
        -29.342744847516848,
        -26.567850275695672,
        -24.150566295865076
       ],
       "line": {
        "color": "red",
        "width": 1
       },
       "lon": [
        -95.97209295102223,
        -90.84566647519802,
        -86.02715932334586,
        -81.52104442861238,
        -77.3194242778541,
        -73.40585813266158,
        -69.7586683190107,
        -66.35350271072052,
        -63.16515738480202,
        -60.16876827792099,
        -57.340519940922,
        -55.04529350516425
       ],
       "mode": "lines",
       "type": "scattergeo",
       "uid": "eb141a88-c1cf-11e8-83c6-0242ac110002"
      },
      "45": {
       "lat": [
        -39.22903183423994,
        -36.828789689149254,
        -34.309444628131764,
        -31.68773931087069,
        -28.97837171128165,
        -26.194229615622557,
        -23.346637351191752,
        -20.4455947060577,
        -20.27121356163358
       ],
       "line": {
        "color": "red",
        "width": 1
       },
       "lon": [
        -96.46529071620046,
        -92.85167599050915,
        -89.47675501148272,
        -86.31531239468283,
        -83.34259151050033,
        -80.53494961666779,
        -77.87018289265833,
        -75.32762948590624,
        -75.17953902194552
       ],
       "mode": "lines",
       "type": "scattergeo",
       "uid": "eb141c5e-c1cf-11e8-83c6-0242ac110002"
      },
      "46": {
       "lat": [
        -20.126892782399562,
        -23.0302805784416,
        -25.88145712899394,
        -28.670589718904875,
        -31.386547244035963,
        -34.016662957847615,
        -36.54648765679896,
        -38.95955190337791,
        -39.441101500447445
       ],
       "line": {
        "color": "red",
        "width": 1
       },
       "lon": [
        -65.16055830594165,
        -62.63299604621889,
        -59.98553059143842,
        -57.19770133061846,
        -54.247502891487784,
        -51.111467129190956,
        -47.76495592216177,
        -44.18276833395773,
        -43.412262937237266
       ],
       "mode": "lines",
       "type": "scattergeo",
       "uid": "eb141e34-c1cf-11e8-83c6-0242ac110002"
      },
      "47": {
       "lat": [
        -24.179638579418082,
        -27.007192748975505,
        -29.768411614967196,
        -32.45157817840044,
        -35.04334126843311,
        -37.52846945199662,
        -39.889625038164596,
        -42.1071975835065,
        -44.159256895041075,
        -46.021708434447014,
        -47.66875229442676,
        -48.93814978939273
       ],
       "line": {
        "color": "red",
        "width": 1
       },
       "lon": [
        -85.14610910057073,
        -82.44494970772725,
        -79.59479393367334,
        -76.57303074676052,
        -73.3556731016849,
        -69.9177626937621,
        -66.23413973329983,
        -62.28071760903176,
        -58.03640648737579,
        -53.485787687991696,
        -48.62251556056053,
        -44.01075519022161
       ],
       "mode": "lines",
       "type": "scattergeo",
       "uid": "eb14200a-c1cf-11e8-83c6-0242ac110002"
      },
      "48": {
       "lat": [
        -36.115824445871496,
        -38.55039182478504,
        -40.85291916242397,
        -43.0028043225242,
        -44.97716129041307,
        -46.75109187588523,
        -48.29830583903871,
        -49.59218101649515,
        -50.607296920127176,
        -51.32136013383538,
        -51.717282492036965,
        -51.77214472841025
       ],
       "line": {
        "color": "red",
        "width": 1
       },
       "lon": [
        -95.4783313576461,
        -91.93882843468143,
        -88.14312844957209,
        -84.06814405114679,
        -79.69482902134597,
        -75.01117659801771,
        -70.01586928429138,
        -64.7221760558737,
        -59.16131125400218,
        -53.38413986880156,
        -47.46008267785674,
        -45.67391749253415
       ],
       "mode": "lines",
       "type": "scattergeo",
       "uid": "eb1421d6-c1cf-11e8-83c6-0242ac110002"
      },
      "49": {
       "lat": [
        -47.42282814245338,
        -48.86801249956947,
        -50.049051648415755,
        -50.94157430908292,
        -51.525200170823354,
        -51.78557482871621,
        -51.71599433791571,
        -51.31821854347285,
        -50.60225256499361,
        -49.585157113396654,
        -49.35472118786654
       ],
       "line": {
        "color": "red",
        "width": 1
       },
       "lon": [
        -96.53222883887487,
        -91.41042072655878,
        -86.00086536064073,
        -80.34286878569257,
        -74.49532774137849,
        -68.53423290319267,
        -62.546742557107535,
        -56.62270974950018,
        -50.845562522328656,
        -45.28470689844209,
        -44.23531710677133
       ],
       "mode": "lines",
       "type": "scattergeo",
       "uid": "eb1423a2-c1cf-11e8-83c6-0242ac110002"
      },
      "5": {
       "lat": [
        -21.608804960268657,
        -24.48763498823977,
        -27.309368515970643,
        -30.063527531075163,
        -32.738215633055994,
        -35.31987412134442,
        -37.79303661433086,
        -40.14010729656869,
        -42.34120431084612,
        -44.37413088413138,
        -46.21455962510433,
        -46.97927610229549
       ],
       "line": {
        "color": "red",
        "width": 1
       },
       "lon": [
        -80.0438767235372,
        -77.45696527131832,
        -74.73985723110795,
        -71.87129147782044,
        -68.82848197803195,
        -65.5872965004656,
        -62.12269592324113,
        -58.40955344180314,
        -54.423995538052765,
        -50.14540710946862,
        -45.559193614904515,
        -43.374692887767694
       ],
       "mode": "lines",
       "type": "scattergeo",
       "uid": "eb13d03c-c1cf-11e8-83c6-0242ac110002"
      },
      "50": {
       "lat": [
        -51.72541693328159,
        -51.78132867328938,
        -51.50737262856963,
        -50.910516372133074,
        -50.00533324883771,
        -48.81235671708679,
        -47.3560397512127,
        -45.6627350656025,
        -43.758995578736396,
        -41.67033364741727,
        -39.66241783049616
       ],
       "line": {
        "color": "red",
        "width": 1
       },
       "lon": [
        -94.36324745974783,
        -88.37515239551706,
        -82.41668431562896,
        -76.57473036261638,
        -70.92473928769638,
        -65.52491230024764,
        -60.4138330702024,
        -55.61123265066575,
        -51.12086530163486,
        -46.93431457563911,
        -43.42944384021204
       ],
       "mode": "lines",
       "type": "scattergeo",
       "uid": "eb14256e-c1cf-11e8-83c6-0242ac110002"
      },
      "51": {
       "lat": [
        -50.166822106442936,
        -49.01742283327332,
        -47.600675939163125,
        -45.942758952787386,
        -44.07028744012884,
        -42.0089992580357,
        -39.78290732593757,
        -37.41385382860231,
        -34.92136390886299,
        -32.32269821099464,
        -29.633022245772246,
        -27.06214539676374
       ],
       "line": {
        "color": "red",
        "width": 1
       },
       "lon": [
        -95.35367966632676,
        -89.91159100898481,
        -84.75349538994736,
        -79.90192922892605,
        -75.36291089377572,
        -71.12967201685102,
        -67.18651316232187,
        -63.51218042458077,
        -60.08250999248831,
        -56.87232423016385,
        -53.856684003743425,
        -51.20623710368109
       ],
       "mode": "lines",
       "type": "scattergeo",
       "uid": "eb14273a-c1cf-11e8-83c6-0242ac110002"
      },
      "52": {
       "lat": [
        -43.18333545722238,
        -41.04655713530207,
        -38.75488596019513,
        -36.32914658677017,
        -33.78785069992425,
        -31.14730980336961,
        -28.421835997225212,
        -25.623981128775284,
        -22.764783141017503,
        -19.854001896305082,
        -19.8408266853899
       ],
       "line": {
        "color": "red",
        "width": 1
       },
       "lon": [
        -97.0182366325183,
        -92.9152190668487,
        -89.09341995393135,
        -85.5300227979745,
        -82.2002246422498,
        -79.07883180600916,
        -76.14127394218522,
        -73.3641824707435,
        -70.72566306814583,
        -68.20536451291836,
        -68.19428363004191
       ],
       "mode": "lines",
       "type": "scattergeo",
       "uid": "eb142910-c1cf-11e8-83c6-0242ac110002"
      },
      "53": {
       "lat": [
        -24.001167335023343,
        -26.83237945057884,
        -29.597943443979613,
        -32.28283683023627
       ],
       "line": {
        "color": "red",
        "width": 1
       },
       "lon": [
        -55.12898671728673,
        -52.43654138198227,
        -49.596477008527394,
        -46.590268425533296
       ],
       "mode": "lines",
       "type": "scattergeo",
       "uid": "eb142adc-c1cf-11e8-83c6-0242ac110002"
      },
      "54": {
       "lat": [
        -21.81988465364426,
        -24.693919464917403,
        -27.510177808994268,
        -30.258102950732393,
        -32.92570406239435,
        -35.49931182016516,
        -37.96333383031724,
        -40.30003592003129,
        -42.48939206268995,
        -44.5090670040163,
        -46.3346183896157,
        -47.22595706991579
       ],
       "line": {
        "color": "red",
        "width": 1
       },
       "lon": [
        -80.6409512064607,
        -78.04625791659963,
        -75.31997604003679,
        -72.44074962873664,
        -69.38570472874757,
        -66.13064358492306,
        -62.650504960612224,
        -58.92021394128322,
        -54.91606287736854,
        -50.61776442167224,
        -46.01126323072047,
        -43.407842785379195
       ],
       "mode": "lines",
       "type": "scattergeo",
       "uid": "eb142ca8-c1cf-11e8-83c6-0242ac110002"
      },
      "55": {
       "lat": [
        -32.444951716234705,
        -35.03682852273977,
        -37.522123042488126,
        -39.88350655101443,
        -42.101378193242525,
        -44.153817527276864,
        -46.01673914576119,
        -47.664350487719304,
        -49.070014330542534,
        -50.207581011629834,
        -51.05316498945476,
        -51.44011811732917
       ],
       "line": {
        "color": "red",
        "width": 1
       },
       "lon": [
        -93.51649166037757,
        -90.29983882300874,
        -86.8627206849404,
        -83.17997950549952,
        -79.2275261145395,
        -74.98426125891513,
        -70.43474654547295,
        -65.57260474336694,
        -60.4043824791222,
        -54.95326053826957,
        -49.261616706317156,
        -45.42018415082092
       ],
       "mode": "lines",
       "type": "scattergeo",
       "uid": "eb142e74-c1cf-11e8-83c6-0242ac110002"
      },
      "56": {
       "lat": [
        -44.811697684110925,
        -46.60415060693323,
        -48.17224878450287,
        -49.48934770341217,
        -50.529851376000856,
        -51.27111005195045,
        -51.69549822226263,
        -51.792300435230395,
        -51.558975255055984,
        -51.00146726367364,
        -50.71231719726274
       ],
       "line": {
        "color": "red",
        "width": 1
       },
       "lon": [
        -97.02613734323465,
        -92.37017303737298,
        -87.40216556728599,
        -82.13395074090703,
        -76.59506010394607,
        -70.83461998415093,
        -64.92054052703523,
        -58.9352826406575,
        -52.96848387987426,
        -47.10788927130365,
        -44.960077792619586
       ],
       "mode": "lines",
       "type": "scattergeo",
       "uid": "eb14304a-c1cf-11e8-83c6-0242ac110002"
      },
      "57": {
       "lat": [
        -51.23751522641226,
        -51.680175538628816,
        -51.795647379600716,
        -51.58090881931994,
        -51.04143444193948,
        -50.190525117837296,
        -49.04778005286034,
        -47.6370954025984,
        -45.984614530690585,
        -44.11695609377177,
        -43.04052395717351
       ],
       "line": {
        "color": "red",
        "width": 1
       },
       "lon": [
        -94.72353408704203,
        -88.8160659509143,
        -82.83248433316699,
        -76.86225565587847,
        -70.99347551551048,
        -65.30417159235328,
        -59.855929087564625,
        -54.69089273358515,
        -49.8320287878576,
        -45.28570792196175,
        -42.98424800820281
       ],
       "mode": "lines",
       "type": "scattergeo",
       "uid": "eb14320c-c1cf-11e8-83c6-0242ac110002"
      },
      "58": {
       "lat": [
        -51.0724967127608,
        -50.23521470164939,
        -49.105108491142566,
        -47.70592573817503,
        -46.063749416978474,
        -44.20520861923906,
        -42.1561302356977,
        -39.94066108277587,
        -37.580797634016484,
        -35.096222460903405,
        -32.504345931329695,
        -30.395800512629926
       ],
       "line": {
        "color": "red",
        "width": 1
       },
       "lon": [
        -94.81250620254889,
        -89.11368194330247,
        -83.65355513031956,
        -78.47516079873273,
        -73.6022853102716,
        -69.04197043250329,
        -64.78820291367384,
        -60.82578467896834,
        -57.13375335665839,
        -53.68807935283346,
        -50.463610691115726,
        -48.061473784916636
       ],
       "mode": "lines",
       "type": "scattergeo",
       "uid": "eb1433d8-c1cf-11e8-83c6-0242ac110002"
      },
      "59": {
       "lat": [
        -45.937199434791836,
        -44.06413882841361,
        -42.00233781708061,
        -39.77580003340053,
        -37.40635811756808,
        -34.91352812307219,
        -32.31456246273842,
        -29.624619461047264,
        -26.856990457702974,
        -24.023345814938487,
        -21.133976820908504,
        -20.844207481435923
       ],
       "line": {
        "color": "red",
        "width": 1
       },
       "lon": [
        -96.82292685922839,
        -92.28495642984294,
        -88.05270196295771,
        -84.11044565935391,
        -80.43692459202845,
        -77.00797257515153,
        -73.79841406648336,
        -70.78331401003814,
        -67.93873064812986,
        -65.2421070226178,
        -62.67241843845426,
        -62.4232720018054
       ],
       "mode": "lines",
       "type": "scattergeo",
       "uid": "eb1435a4-c1cf-11e8-83c6-0242ac110002"
      },
      "6": {
       "lat": [
        -32.038164648017705,
        -34.645884056562934,
        -37.1494044927374,
        -39.531713240496536,
        -41.77354357360565,
        -43.85330463671667,
        -45.747199765726066,
        -47.42963247706915,
        -48.874003541315034,
        -50.05397287992087,
        -50.9451781667228,
        -51.374467545843885
       ],
       "line": {
        "color": "red",
        "width": 1
       },
       "lon": [
        -93.21180355748962,
        -90.02559205333074,
        -86.62264966215658,
        -82.97776602569186,
        -79.06657011817927,
        -74.8673464253285,
        -70.36359342457614,
        -65.5473262204283,
        -60.42290385559994,
        -55.01082133069543,
        -49.35052207274965,
        -45.40226283776603
       ],
       "mode": "lines",
       "type": "scattergeo",
       "uid": "eb13d230-c1cf-11e8-83c6-0242ac110002"
      },
      "60": {
       "lat": [
        -20.223519739785438,
        -23.12505303869252,
        -25.974072897228904,
        -28.760712023469566,
        -31.473797735297097,
        -34.10061428271073,
        -36.62665604705162,
        -39.03539056692123,
        -41.30806435507492,
        -43.42360340850762,
        -44.93887729926036
       ],
       "line": {
        "color": "red",
        "width": 1
       },
       "lon": [
        -75.39054130713782,
        -72.85959016543607,
        -70.20811567634516,
        -67.41561207708008,
        -64.46002961477295,
        -61.31786196183763,
        -57.96444709216044,
        -54.374587058800806,
        -50.52361890442982,
        -46.38908285306673,
        -42.98158141254504
       ],
       "mode": "lines",
       "type": "scattergeo",
       "uid": "eb143766-c1cf-11e8-83c6-0242ac110002"
      },
      "61": {
       "lat": [
        -28.929507335313513,
        -31.637673163171424,
        -34.25873398030198,
        -36.77806653401672,
        -39.17900717211914,
        -41.442661759002554,
        -43.54781418033135,
        -45.47100931786364,
        -47.186907150845265,
        -48.66901229545333,
        -49.89086020419472,
        -50.74977252318441
       ],
       "line": {
        "color": "red",
        "width": 1
       },
       "lon": [
        -90.7974834533271,
        -87.8311495893566,
        -84.67674674308971,
        -81.30955858408718,
        -77.70438361626216,
        -73.83663950952612,
        -69.68407181713708,
        -65.22919134356347,
        -60.46246548091751,
        -55.38608678513583,
        -50.01781819778448,
        -44.950244504865736
       ],
       "mode": "lines",
       "type": "scattergeo",
       "uid": "eb143932-c1cf-11e8-83c6-0242ac110002"
      },
      "62": {
       "lat": [
        -41.662158570111565,
        -43.75008332367267,
        -45.65357747302525,
        -47.34714479533006,
        -48.8042315289741,
        -49.99846071026372,
        -50.905326112103744,
        -51.50420932448135,
        -51.78042264949449,
        -51.726863050325285,
        -51.49683489545275
       ],
       "line": {
        "color": "red",
        "width": 1
       },
       "lon": [
        -96.99016701989926,
        -92.80786529954943,
        -88.3218733833411,
        -83.52366208112885,
        -78.41682201299199,
        -73.02087461983463,
        -67.3741628137648,
        -61.53464829086793,
        -55.57758347879065,
        -49.589743375072835,
        -45.47198531755933
       ],
       "mode": "lines",
       "type": "scattergeo",
       "uid": "eb143af4-c1cf-11e8-83c6-0242ac110002"
      },
      "63": {
       "lat": [
        -50.221930278574405,
        -51.063086592518765,
        -51.59248064554956,
        -51.796962659160265,
        -51.6712348401037,
        -51.218497809726216,
        -50.4500552062361,
        -49.38398576338507,
        -48.04322711854699,
        -46.453501486265736,
        -45.974540338469325
       ],
       "line": {
        "color": "red",
        "width": 1
       },
       "lon": [
        -95.36515332699577,
        -89.67072424091423,
        -83.79860707133852,
        -77.82717534286071,
        -71.84466503958484,
        -65.94044282311091,
        -60.19600151473163,
        -54.67780630206702,
        -49.43335005374411,
        -44.490601749415916,
        -43.181522359341514
       ],
       "mode": "lines",
       "type": "scattergeo",
       "uid": "eb143cca-c1cf-11e8-83c6-0242ac110002"
      },
      "64": {
       "lat": [
        -51.62000406238329,
        -51.11528089597498,
        -50.29736177115456,
        -49.18524952579598,
        -47.80247036124347,
        -46.17501144742195,
        -44.32950816834523,
        -42.29186575604122,
        -40.08635274670682,
        -37.73510759591004,
        -35.25795869328141,
        -33.98939309828022
       ],
       "line": {
        "color": "red",
        "width": 1
       },
       "lon": [
        -94.44119682512901,
        -88.55761511716095,
        -82.84571851643297,
        -77.36907986860744,
        -72.17199205560493,
        -67.2794109758103,
        -62.69934326829785,
        -58.42649224558432,
        -54.44613979181745,
        -50.73760572512303,
        -47.27699357647776,
        -45.64640341124356
       ],
       "mode": "lines",
       "type": "scattergeo",
       "uid": "eb143e8c-c1cf-11e8-83c6-0242ac110002"
      },
      "7": {
       "lat": [
        -44.48017244026466,
        -46.309315027782375,
        -47.91855155135528,
        -49.28120536820256,
        -50.37136242776423,
        -51.16571296078831,
        -51.64562369561075,
        -51.799088903183964,
        -51.62212977773529,
        -51.119282752143036,
        -50.83572231318882
       ],
       "line": {
        "color": "red",
        "width": 1
       },
       "lon": [
        -97.02023160854947,
        -92.4169418280257,
        -87.50099987740955,
        -82.28153520374842,
        -76.78487269201203,
        -71.05678606093414,
        -65.16221997808712,
        -59.18165078533264,
        -53.204168837019495,
        -47.318546282741494,
        -45.05412294445565
       ],
       "mode": "lines",
       "type": "scattergeo",
       "uid": "eb13d41a-c1cf-11e8-83c6-0242ac110002"
      },
      "8": {
       "lat": [
        -51.15052650683262,
        -51.638030048161596,
        -51.799283854818725,
        -51.630109660747,
        -51.13484495400426,
        -50.32580981353925,
        -49.22187479328347,
        -47.84649597776848,
        -46.225646955216256,
        -44.3859934453833,
        -43.413802290311324
       ],
       "line": {
        "color": "red",
        "width": 1
       },
       "lon": [
        -94.75320369084771,
        -88.86169910767916,
        -82.88215790396296,
        -76.90356542705118,
        -71.0148079447869,
        -65.29578965701083,
        -59.810643890846286,
        -54.6042518140411,
        -49.7021009721103,
        -45.11262502004867,
        -42.97933688622104
       ],
       "mode": "lines",
       "type": "scattergeo",
       "uid": "eb13d60e-c1cf-11e8-83c6-0242ac110002"
      },
      "9": {
       "lat": [
        -51.15337940111735,
        -50.35305441691252,
        -49.257218292933054,
        -47.88922525691903,
        -46.275003962518504,
        -44.441221796706174,
        -42.41387822570469,
        -40.217371736878846,
        -37.8739854007942,
        -35.40369216935299,
        -32.8241770498713,
        -30.802539654445937
       ],
       "line": {
        "color": "red",
        "width": 1
       },
       "lon": [
        -94.73960160231879,
        -89.01477449473772,
        -83.52224849765514,
        -78.30746989389874,
        -73.39645620892027,
        -68.7980804246546,
        -64.50768170954555,
        -60.51095908572047,
        -56.78746983984301,
        -53.31342092339044,
        -50.063701825870524,
        -47.73094876173956
       ],
       "mode": "lines",
       "type": "scattergeo",
       "uid": "eb13d802-c1cf-11e8-83c6-0242ac110002"
      },
      "image/png": "[encoded data removed]"
     },
     "metadata": {},
     "output_type": "display_data"
    }
   ],
   "source": [
    "access_paths = []\n",
    "\n",
    "for access_geometry_df in access_geometry_dfs:\n",
    "    \n",
    "    access_paths.append(\n",
    "        dict(\n",
    "            type = 'scattergeo',\n",
    "            lon = access_geometry_df['Longitude'],\n",
    "            lat = access_geometry_df['Latitude'],\n",
    "            mode = 'lines',\n",
    "            line = dict(\n",
    "                width = 1,\n",
    "                color = 'red',\n",
    "            )\n",
    "        )\n",
    "    )\n",
    "    \n",
    "layout = dict(\n",
    "        title = None,\n",
    "        showlegend = False,\n",
    "        height= 1000,\n",
    "        geo = dict(\n",
    "            showland = True,\n",
    "            landcolor = 'rgb(243, 243, 243)',\n",
    "            countrycolor = 'rgb(204, 204, 204)',\n",
    "        ),\n",
    "    )\n",
    "    \n",
    "fig = dict(data=access_paths, layout=layout)\n",
    "iplot(fig)"
   ]
  }
 ],
 "metadata": {
  "kernelspec": {
   "display_name": "Python 3",
   "language": "python",
   "name": "python3"
  },
  "language_info": {
   "codemirror_mode": {
    "name": "ipython",
    "version": 3
   },
   "file_extension": ".py",
   "mimetype": "text/x-python",
   "name": "python",
   "nbconvert_exporter": "python",
   "pygments_lexer": "ipython3",
   "version": "3.6.5"
  }
 },
 "nbformat": 4,
 "nbformat_minor": 2
}
