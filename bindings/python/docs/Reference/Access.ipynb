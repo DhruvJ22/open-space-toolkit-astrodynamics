{
 "cells": [
  {
   "cell_type": "markdown",
   "metadata": {},
   "source": [
    "# Open Space Toolkit ▸ Astrodynamics ▸ Access"
   ]
  },
  {
   "cell_type": "markdown",
   "metadata": {},
   "source": [
    "## Setup"
   ]
  },
  {
   "cell_type": "code",
   "execution_count": 3,
   "metadata": {},
   "outputs": [],
   "source": [
    "import numpy"
   ]
  },
  {
   "cell_type": "code",
   "execution_count": 4,
   "metadata": {},
   "outputs": [],
   "source": [
    "import ostk.mathematics as mathematics\n",
    "import ostk.physics as physics\n",
    "import ostk.astrodynamics as astrodynamics"
   ]
  },
  {
   "cell_type": "code",
   "execution_count": 8,
   "metadata": {},
   "outputs": [],
   "source": [
    "RealInterval = Mathematics.Objects.RealInterval\n",
    "\n",
    "Scale = Physics.Time.Scale\n",
    "Instant = Physics.Time.Instant\n",
    "Interval = Physics.Time.Interval\n",
    "DateTime = Physics.Time.DateTime\n",
    "Frame = Physics.Coordinate.Frame\n",
    "Environment = Physics.Environment\n",
    "\n",
    "Trajectory = Astrodynamics.Trajectory\n",
    "Orbit = Astrodynamics.Trajectory.Orbit\n",
    "Pass = Astrodynamics.Trajectory.Orbit.Pass\n",
    "Kepler = Astrodynamics.Trajectory.Orbit.Models.Kepler\n",
    "COE = Astrodynamics.Trajectory.Orbit.Models.Kepler.COE\n",
    "SGP4 = Astrodynamics.Trajectory.Orbit.Models.SGP4\n",
    "State = Astrodynamics.Trajectory.State\n",
    "Access = Astrodynamics.Access"
   ]
  },
  {
   "cell_type": "markdown",
   "metadata": {},
   "source": [
    "---"
   ]
  },
  {
   "cell_type": "markdown",
   "metadata": {},
   "source": [
    "## Access"
   ]
  },
  {
   "cell_type": "markdown",
   "metadata": {},
   "source": [
    "**Astrodynamics ▸ Access ▸ Constructors**"
   ]
  },
  {
   "cell_type": "code",
   "execution_count": 9,
   "metadata": {},
   "outputs": [],
   "source": [
    "acquisition_of_signal = Instant.DateTime(DateTime(2018, 1, 1, 0, 0, 0), Scale.UTC) ;\n",
    "time_at_closest_approach = Instant.DateTime(DateTime(2018, 1, 1, 0, 1, 0), Scale.UTC) ;\n",
    "loss_of_signal = Instant.DateTime(DateTime(2018, 1, 1, 0, 2, 0), Scale.UTC) ;\n",
    "\n",
    "access = Access(Access.Type.Complete, acquisition_of_signal, time_at_closest_approach, loss_of_signal) ;"
   ]
  },
  {
   "cell_type": "code",
   "execution_count": 10,
   "metadata": {},
   "outputs": [],
   "source": [
    "Access.Undefined() ;"
   ]
  },
  {
   "cell_type": "markdown",
   "metadata": {},
   "source": [
    "**Astrodynamics ▸ Access ▸ Operators**"
   ]
  },
  {
   "cell_type": "code",
   "execution_count": 11,
   "metadata": {},
   "outputs": [],
   "source": [
    "access == access ;\n",
    "access != access ;"
   ]
  },
  {
   "cell_type": "markdown",
   "metadata": {},
   "source": [
    "**Astrodynamics ▸ Access ▸ Methods**"
   ]
  },
  {
   "cell_type": "code",
   "execution_count": 12,
   "metadata": {},
   "outputs": [],
   "source": [
    "access.isDefined() ;"
   ]
  },
  {
   "cell_type": "code",
   "execution_count": 13,
   "metadata": {},
   "outputs": [],
   "source": [
    "access.isComplete() ;"
   ]
  },
  {
   "cell_type": "code",
   "execution_count": 14,
   "metadata": {},
   "outputs": [],
   "source": [
    "access.getType() ;"
   ]
  },
  {
   "cell_type": "code",
   "execution_count": 15,
   "metadata": {},
   "outputs": [],
   "source": [
    "access.getAcquisitionOfSignal() ;\n",
    "access.getTimeOfClosestApproach() ;\n",
    "access.getLossOfSignal() ;"
   ]
  },
  {
   "cell_type": "code",
   "execution_count": 16,
   "metadata": {},
   "outputs": [],
   "source": [
    "access.getInterval() ;"
   ]
  },
  {
   "cell_type": "code",
   "execution_count": 17,
   "metadata": {},
   "outputs": [],
   "source": [
    "access.getDuration() ;"
   ]
  },
  {
   "cell_type": "code",
   "execution_count": 18,
   "metadata": {},
   "outputs": [],
   "source": [
    "Access.StringFromType(Access.Type.Undefined) ;\n",
    "Access.StringFromType(Access.Type.Complete) ;\n",
    "Access.StringFromType(Access.Type.Partial) ;"
   ]
  },
  {
   "cell_type": "markdown",
   "metadata": {},
   "source": [
    "## Access ▸ Generator"
   ]
  },
  {
   "cell_type": "markdown",
   "metadata": {},
   "source": [
    "**Astrodynamics ▸ Access ▸ Generator ▸ Constructors**"
   ]
  },
  {
   "cell_type": "code",
   "execution_count": 19,
   "metadata": {},
   "outputs": [],
   "source": [
    "environment = Physics.Environment.Default() ;\n",
    "\n",
    "access_generator = Access.Generator(environment) ;"
   ]
  },
  {
   "cell_type": "code",
   "execution_count": 20,
   "metadata": {},
   "outputs": [],
   "source": [
    "Access.Generator.Undefined() ;"
   ]
  },
  {
   "cell_type": "code",
   "execution_count": 21,
   "metadata": {},
   "outputs": [],
   "source": [
    "azimuth_interval = RealInterval.Closed(0.0, 360.0)\n",
    "elevation_interval = RealInterval.Closed(0.0, 90.0)\n",
    "range_interval = RealInterval.Closed(0.0, 7000e3)\n",
    "\n",
    "environment = Environment.Default() ;\n",
    "\n",
    "Access.Generator.AerRanges(azimuth_interval, elevation_interval, range_interval, environment) ;"
   ]
  },
  {
   "cell_type": "markdown",
   "metadata": {},
   "source": [
    "**Astrodynamics ▸ Access ▸ Generator ▸ Methods**"
   ]
  },
  {
   "cell_type": "code",
   "execution_count": 22,
   "metadata": {},
   "outputs": [],
   "source": [
    "Length = Physics.Units.Length\n",
    "Angle = Physics.Units.Angle\n",
    "Scale = Physics.Time.Scale\n",
    "Instant = Physics.Time.Instant\n",
    "Interval = Physics.Time.Interval\n",
    "DateTime = Physics.Time.DateTime\n",
    "Earth = Physics.Environment.Objects.CelestialBodies.Earth\n",
    "\n",
    "Orbit = Astrodynamics.Trajectory.Orbit\n",
    "Kepler = Astrodynamics.Trajectory.Orbit.Models.Kepler\n",
    "\n",
    "start_instant = Instant.DateTime(DateTime(2018, 1, 1, 0, 0, 0), Scale.UTC) ;\n",
    "end_instant = Instant.DateTime(DateTime(2018, 1, 1, 2, 0, 0), Scale.UTC) ;\n",
    "interval = Interval.Closed(start_instant, end_instant) ;\n",
    "\n",
    "def generate_first_trajectory ():\n",
    "\n",
    "    a = Length.Kilometers(7000.0) ;\n",
    "    e = 0.0 ;\n",
    "    i = Angle.Degrees(45.0) ;\n",
    "    raan = Angle.Degrees(0.0) ;\n",
    "    aop = Angle.Degrees(0.0) ;\n",
    "    nu = Angle.Degrees(0.0) ;\n",
    "\n",
    "    coe = Kepler.COE(a, e, i, raan, aop, nu) ;\n",
    "\n",
    "    epoch = start_instant ;\n",
    "    earth = Earth.Default() ;\n",
    "\n",
    "    kepler = Kepler(coe, epoch, earth, Kepler.PerturbationType.No) ;\n",
    "    \n",
    "    return Orbit(kepler, earth) ;\n",
    "\n",
    "def generate_second_trajectory ():\n",
    "\n",
    "    a = Length.Kilometers(7000.0) ;\n",
    "    e = 0.0 ;\n",
    "    i = Angle.Degrees(45.0) ;\n",
    "    raan = Angle.Degrees(180.0) ;\n",
    "    aop = Angle.Degrees(0.0) ;\n",
    "    nu = Angle.Degrees(180.0) ;\n",
    "\n",
    "    coe = Kepler.COE(a, e, i, raan, aop, nu) ;\n",
    "\n",
    "    epoch = start_instant ;\n",
    "    earth = Earth.Default() ;\n",
    "\n",
    "    kepler = Kepler(coe, epoch, earth, Kepler.PerturbationType.No) ;\n",
    "    \n",
    "    return Orbit(kepler, earth) ;\n",
    "\n",
    "from_trajectory = generate_first_trajectory() ;\n",
    "to_trajectory = generate_second_trajectory() ;\n",
    "\n",
    "access_generator.computeAccesses(interval, from_trajectory, to_trajectory) ;"
   ]
  },
  {
   "cell_type": "code",
   "execution_count": 23,
   "metadata": {},
   "outputs": [],
   "source": [
    "def aer_filter (aer):\n",
    "    \n",
    "    return True\n",
    "\n",
    "access_generator.setAerFilter(aer_filter)"
   ]
  },
  {
   "cell_type": "code",
   "execution_count": 24,
   "metadata": {},
   "outputs": [],
   "source": [
    "def access_filter (access):\n",
    "    \n",
    "    return True\n",
    "\n",
    "access_generator.setAccessFilter(access_filter)"
   ]
  }
 ],
 "metadata": {
  "kernelspec": {
   "display_name": "Python 3",
   "language": "python",
   "name": "python3"
  },
  "language_info": {
   "codemirror_mode": {
    "name": "ipython",
    "version": 3
   },
   "file_extension": ".py",
   "mimetype": "text/x-python",
   "name": "python",
   "nbconvert_exporter": "python",
   "pygments_lexer": "ipython3",
   "version": "3.6.8"
  }
 },
 "nbformat": 4,
 "nbformat_minor": 2
}
