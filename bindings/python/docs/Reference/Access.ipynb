{
 "cells": [
  {
   "cell_type": "markdown",
   "metadata": {},
   "source": [
    "# Library ▸ Astrodynamics ▸ Access"
   ]
  },
  {
   "cell_type": "markdown",
   "metadata": {},
   "source": [
    "## Setup"
   ]
  },
  {
   "cell_type": "code",
   "execution_count": 2,
   "metadata": {},
   "outputs": [
    {
     "name": "stdout",
     "output_type": "stream",
     "text": [
      "\u001b[31m  Could not find a version that satisfies the requirement LibraryAstrodynamicsPy (from versions: )\u001b[0m\n",
      "\u001b[31mNo matching distribution found for LibraryAstrodynamicsPy\u001b[0m\n"
     ]
    }
   ],
   "source": [
    "import sys\n",
    "\n",
    "!{sys.executable} -m pip install --quiet LibraryCorePy\n",
    "!{sys.executable} -m pip install --quiet LibraryMathematicsPy\n",
    "!{sys.executable} -m pip install --quiet LibraryPhysicsPy\n",
    "!{sys.executable} -m pip install --quiet LibraryAstrodynamicsPy"
   ]
  },
  {
   "cell_type": "code",
   "execution_count": 3,
   "metadata": {},
   "outputs": [],
   "source": [
    "import numpy"
   ]
  },
  {
   "cell_type": "code",
   "execution_count": 6,
   "metadata": {},
   "outputs": [],
   "source": [
    "import Library.Core as Core\n",
    "import Library.Mathematics as Mathematics\n",
    "import Library.Physics as Physics\n",
    "import Library.Astrodynamics as Astrodynamics"
   ]
  },
  {
   "cell_type": "code",
   "execution_count": 62,
   "metadata": {},
   "outputs": [],
   "source": [
    "Frame = Physics.Coordinate.Frame\n",
    "Environment = Physics.Environment\n",
    "\n",
    "Trajectory = Astrodynamics.Trajectory\n",
    "Model = Astrodynamics.Trajectory.Model\n",
    "Orbit = Astrodynamics.Trajectory.Orbit\n",
    "Pass = Astrodynamics.Trajectory.Orbit.Pass\n",
    "Kepler = Astrodynamics.Trajectory.Orbit.Models.Kepler\n",
    "COE = Astrodynamics.Trajectory.Orbit.Models.Kepler.COE\n",
    "SGP4 = Astrodynamics.Trajectory.Orbit.Models.SGP4\n",
    "State = Astrodynamics.Trajectory.State\n",
    "Access = Astrodynamics.Access"
   ]
  },
  {
   "cell_type": "markdown",
   "metadata": {},
   "source": [
    "---"
   ]
  },
  {
   "cell_type": "markdown",
   "metadata": {},
   "source": [
    "## Access"
   ]
  },
  {
   "cell_type": "markdown",
   "metadata": {},
   "source": [
    "**Astrodynamics ▸ Access ▸ Constructors**"
   ]
  },
  {
   "cell_type": "code",
   "execution_count": 104,
   "metadata": {},
   "outputs": [],
   "source": [
    "acquisition_of_signal = Physics.Time.Instant.DateTime(Physics.Time.DateTime(2018, 1, 1, 0, 0, 0), Physics.Time.Scale.UTC) ;\n",
    "time_at_closest_approach = Physics.Time.Instant.DateTime(Physics.Time.DateTime(2018, 1, 1, 0, 1, 0), Physics.Time.Scale.UTC) ;\n",
    "loss_of_signal = Physics.Time.Instant.DateTime(Physics.Time.DateTime(2018, 1, 1, 0, 2, 0), Physics.Time.Scale.UTC) ;\n",
    "\n",
    "access = Access(Access.Type.Complete, acquisition_of_signal, time_at_closest_approach, loss_of_signal) ;"
   ]
  },
  {
   "cell_type": "code",
   "execution_count": 105,
   "metadata": {},
   "outputs": [],
   "source": [
    "Access.Undefined() ;"
   ]
  },
  {
   "cell_type": "markdown",
   "metadata": {},
   "source": [
    "**Astrodynamics ▸ Access ▸ Operators**"
   ]
  },
  {
   "cell_type": "code",
   "execution_count": 106,
   "metadata": {},
   "outputs": [],
   "source": [
    "access == access ;\n",
    "access != access ;"
   ]
  },
  {
   "cell_type": "markdown",
   "metadata": {},
   "source": [
    "**Astrodynamics ▸ Access ▸ Methods**"
   ]
  },
  {
   "cell_type": "code",
   "execution_count": 107,
   "metadata": {},
   "outputs": [],
   "source": [
    "access.isDefined() ;"
   ]
  },
  {
   "cell_type": "code",
   "execution_count": 108,
   "metadata": {},
   "outputs": [],
   "source": [
    "access.isComplete() ;"
   ]
  },
  {
   "cell_type": "code",
   "execution_count": 109,
   "metadata": {},
   "outputs": [],
   "source": [
    "access.getType() ;"
   ]
  },
  {
   "cell_type": "code",
   "execution_count": 110,
   "metadata": {},
   "outputs": [],
   "source": [
    "access.getAcquisitionOfSignal() ;\n",
    "access.getTimeOfClosestApproach() ;\n",
    "access.getLossOfSignal() ;"
   ]
  },
  {
   "cell_type": "code",
   "execution_count": 111,
   "metadata": {},
   "outputs": [],
   "source": [
    "access.getInterval() ;"
   ]
  },
  {
   "cell_type": "code",
   "execution_count": 112,
   "metadata": {},
   "outputs": [],
   "source": [
    "access.getDuration() ;"
   ]
  },
  {
   "cell_type": "code",
   "execution_count": 113,
   "metadata": {},
   "outputs": [],
   "source": [
    "Access.StringFromType(Access.Type.Undefined) ;\n",
    "Access.StringFromType(Access.Type.Complete) ;\n",
    "Access.StringFromType(Access.Type.Partial) ;"
   ]
  },
  {
   "cell_type": "markdown",
   "metadata": {},
   "source": [
    "## Access ▸ Generator"
   ]
  },
  {
   "cell_type": "markdown",
   "metadata": {},
   "source": [
    "**Astrodynamics ▸ Access ▸ Generator ▸ Constructors**"
   ]
  },
  {
   "cell_type": "code",
   "execution_count": 114,
   "metadata": {},
   "outputs": [],
   "source": [
    "environment = Physics.Environment.Default() ;\n",
    "\n",
    "access_generator = Access.Generator(environment) ;"
   ]
  },
  {
   "cell_type": "code",
   "execution_count": 115,
   "metadata": {},
   "outputs": [],
   "source": [
    "Access.Generator.Undefined() ;"
   ]
  },
  {
   "cell_type": "code",
   "execution_count": 116,
   "metadata": {},
   "outputs": [],
   "source": [
    "# Length = Physics.Units.Length\n",
    "# Angle = Physics.Units.Angle\n",
    "# Environment = Physics.Environment\n",
    "\n",
    "# azimuth_interval = Angle.Interval.Closed(Angle.Degrees(0.0), Angle.Degrees(360.0))\n",
    "# elevation_interval = Angle.Interval.Closed(Angle.Degrees(0.0), Angle.Degrees(90.0))\n",
    "# range_interval = Length.Interval.Closed(Length.Meters(0.0), Length.Meters(7000e3))\n",
    "\n",
    "# environment = Environment.Default() ;\n",
    "\n",
    "# Access.Generator.AerRanges(azimuth_interval, elevation_interval, range_interval, environment)"
   ]
  },
  {
   "cell_type": "markdown",
   "metadata": {},
   "source": [
    "**Astrodynamics ▸ Access ▸ Generator ▸ Methods**"
   ]
  },
  {
   "cell_type": "code",
   "execution_count": 120,
   "metadata": {},
   "outputs": [],
   "source": [
    "Length = Physics.Units.Length\n",
    "Angle = Physics.Units.Angle\n",
    "Scale = Physics.Time.Scale\n",
    "Instant = Physics.Time.Instant\n",
    "Interval = Physics.Time.Interval\n",
    "DateTime = Physics.Time.DateTime\n",
    "Earth = Physics.Environment.Objects.CelestialBodies.Earth\n",
    "\n",
    "Orbit = Astrodynamics.Trajectory.Orbit\n",
    "Kepler = Astrodynamics.Trajectory.Orbit.Models.Kepler\n",
    "\n",
    "start_instant = Instant.DateTime(DateTime(2018, 1, 1, 0, 0, 0), Scale.UTC) ;\n",
    "end_instant = Instant.DateTime(DateTime(2018, 1, 1, 2, 0, 0), Scale.UTC) ;\n",
    "interval = Interval.Closed(start_instant, end_instant) ;\n",
    "\n",
    "def generate_first_trajectory ():\n",
    "\n",
    "    a = Length.Kilometers(7000.0) ;\n",
    "    e = 0.0 ;\n",
    "    i = Angle.Degrees(45.0) ;\n",
    "    raan = Angle.Degrees(0.0) ;\n",
    "    aop = Angle.Degrees(0.0) ;\n",
    "    nu = Angle.Degrees(0.0) ;\n",
    "\n",
    "    coe = Kepler.COE(a, e, i, raan, aop, nu) ;\n",
    "\n",
    "    epoch = start_instant ;\n",
    "    earth = Earth.Default() ;\n",
    "\n",
    "    kepler = Kepler(coe, epoch, earth, Kepler.PerturbationType.No) ;\n",
    "    \n",
    "    return Orbit(kepler, earth) ;\n",
    "\n",
    "def generate_second_trajectory ():\n",
    "\n",
    "    a = Length.Kilometers(7000.0) ;\n",
    "    e = 0.0 ;\n",
    "    i = Angle.Degrees(45.0) ;\n",
    "    raan = Angle.Degrees(180.0) ;\n",
    "    aop = Angle.Degrees(0.0) ;\n",
    "    nu = Angle.Degrees(180.0) ;\n",
    "\n",
    "    coe = Kepler.COE(a, e, i, raan, aop, nu) ;\n",
    "\n",
    "    epoch = start_instant ;\n",
    "    earth = Earth.Default() ;\n",
    "\n",
    "    kepler = Kepler(coe, epoch, earth, Kepler.PerturbationType.No) ;\n",
    "    \n",
    "    return Orbit(kepler, earth) ;\n",
    "\n",
    "from_trajectory = generate_first_trajectory() ;\n",
    "to_trajectory = generate_second_trajectory() ;\n",
    "\n",
    "access_generator.computeAccesses(interval, from_trajectory, to_trajectory) ;"
   ]
  },
  {
   "cell_type": "code",
   "execution_count": 121,
   "metadata": {},
   "outputs": [],
   "source": [
    "def aer_filter (aer):\n",
    "    \n",
    "    return True\n",
    "\n",
    "access_generator.setAerFilter(aer_filter)"
   ]
  },
  {
   "cell_type": "code",
   "execution_count": 122,
   "metadata": {},
   "outputs": [],
   "source": [
    "def access_filter (access):\n",
    "    \n",
    "    return True\n",
    "\n",
    "access_generator.setAccessFilter(access_filter)"
   ]
  }
 ],
 "metadata": {
  "kernelspec": {
   "display_name": "Python 3",
   "language": "python",
   "name": "python3"
  },
  "language_info": {
   "codemirror_mode": {
    "name": "ipython",
    "version": 3
   },
   "file_extension": ".py",
   "mimetype": "text/x-python",
   "name": "python",
   "nbconvert_exporter": "python",
   "pygments_lexer": "ipython3",
   "version": "3.6.5"
  }
 },
 "nbformat": 4,
 "nbformat_minor": 2
}
