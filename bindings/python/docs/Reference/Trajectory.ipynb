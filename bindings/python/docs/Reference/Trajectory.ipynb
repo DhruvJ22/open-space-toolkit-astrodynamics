{
 "cells": [
  {
   "cell_type": "markdown",
   "metadata": {},
   "source": [
    "# Library ▸ Astrodynamics ▸ Trajectory"
   ]
  },
  {
   "cell_type": "markdown",
   "metadata": {},
   "source": [
    "## Setup"
   ]
  },
  {
   "cell_type": "code",
   "execution_count": 1,
   "metadata": {},
   "outputs": [
    {
     "name": "stdout",
     "output_type": "stream",
     "text": [
      "\u001b[31m  Could not find a version that satisfies the requirement LibraryAstrodynamicsPy (from versions: )\u001b[0m\n",
      "\u001b[31mNo matching distribution found for LibraryAstrodynamicsPy\u001b[0m\n"
     ]
    }
   ],
   "source": [
    "import sys\n",
    "\n",
    "!{sys.executable} -m pip install --quiet LibraryCorePy\n",
    "!{sys.executable} -m pip install --quiet LibraryMathematicsPy\n",
    "!{sys.executable} -m pip install --quiet LibraryPhysicsPy\n",
    "!{sys.executable} -m pip install --quiet LibraryAstrodynamicsPy"
   ]
  },
  {
   "cell_type": "code",
   "execution_count": 2,
   "metadata": {},
   "outputs": [],
   "source": [
    "import numpy"
   ]
  },
  {
   "cell_type": "code",
   "execution_count": 3,
   "metadata": {},
   "outputs": [
    {
     "name": "stderr",
     "output_type": "stream",
     "text": [
      "/opt/conda/lib/python3.6/importlib/_bootstrap.py:219: RuntimeWarning: to-Python converter for library::physics::time::DateTime already registered; second conversion method ignored.\n",
      "  return f(*args, **kwds)\n",
      "/opt/conda/lib/python3.6/importlib/_bootstrap.py:219: RuntimeWarning: to-Python converter for library::math::obj::IntervalBase::Type already registered; second conversion method ignored.\n",
      "  return f(*args, **kwds)\n"
     ]
    }
   ],
   "source": [
    "import Library.Core as Core\n",
    "import Library.Mathematics as Mathematics\n",
    "import Library.Physics as Physics\n",
    "import Library.Astrodynamics as Astrodynamics"
   ]
  },
  {
   "cell_type": "code",
   "execution_count": 4,
   "metadata": {},
   "outputs": [],
   "source": [
    "Frame = Physics.Coordinate.Frame\n",
    "Environment = Physics.Environment\n",
    "\n",
    "Trajectory = Astrodynamics.Trajectory\n",
    "Model = Astrodynamics.Trajectory.Model\n",
    "Orbit = Astrodynamics.Trajectory.Orbit\n",
    "Pass = Astrodynamics.Trajectory.Orbit.Pass\n",
    "Kepler = Astrodynamics.Trajectory.Orbit.Models.Kepler\n",
    "COE = Astrodynamics.Trajectory.Orbit.Models.Kepler.COE\n",
    "SGP4 = Astrodynamics.Trajectory.Orbit.Models.SGP4\n",
    "State = Astrodynamics.Trajectory.State\n",
    "Access = Astrodynamics.Access"
   ]
  },
  {
   "cell_type": "markdown",
   "metadata": {},
   "source": [
    "---"
   ]
  },
  {
   "cell_type": "markdown",
   "metadata": {},
   "source": [
    "## Trajectory ▸ State"
   ]
  },
  {
   "cell_type": "markdown",
   "metadata": {},
   "source": [
    "**Trajectory ▸ State ▸ Constructors**"
   ]
  },
  {
   "cell_type": "code",
   "execution_count": 5,
   "metadata": {},
   "outputs": [],
   "source": [
    "instant = Physics.Time.Instant.DateTime(Physics.Time.DateTime(2018, 1, 1, 0, 0, 0), Physics.Time.Scale.UTC) ;\n",
    "position = Physics.Coordinate.Position.Meters(numpy.array((7000e3, 0.0, 0.0)), Physics.Coordinate.Frame.GCRF()) ;\n",
    "velocity = Physics.Coordinate.Velocity.MetersPerSecond(numpy.array((0.0, 0.0, 0.0)), Physics.Coordinate.Frame.GCRF()) ;\n",
    "\n",
    "state = State(instant, position, velocity) ;"
   ]
  },
  {
   "cell_type": "code",
   "execution_count": 6,
   "metadata": {},
   "outputs": [],
   "source": [
    "State.Undefined() ;"
   ]
  },
  {
   "cell_type": "markdown",
   "metadata": {},
   "source": [
    "**Trajectory ▸ State ▸ Operators**"
   ]
  },
  {
   "cell_type": "code",
   "execution_count": 7,
   "metadata": {},
   "outputs": [],
   "source": [
    "state == state ;\n",
    "state != state ;"
   ]
  },
  {
   "cell_type": "markdown",
   "metadata": {},
   "source": [
    "**Trajectory ▸ State ▸ Methods**"
   ]
  },
  {
   "cell_type": "code",
   "execution_count": 8,
   "metadata": {},
   "outputs": [],
   "source": [
    "state.isDefined() ;"
   ]
  },
  {
   "cell_type": "code",
   "execution_count": 9,
   "metadata": {},
   "outputs": [],
   "source": [
    "state.getInstant() ;"
   ]
  },
  {
   "cell_type": "code",
   "execution_count": 10,
   "metadata": {},
   "outputs": [],
   "source": [
    "state.getPosition() ;"
   ]
  },
  {
   "cell_type": "code",
   "execution_count": 11,
   "metadata": {},
   "outputs": [],
   "source": [
    "state.getVelocity() ;"
   ]
  },
  {
   "cell_type": "code",
   "execution_count": 12,
   "metadata": {},
   "outputs": [],
   "source": [
    "state.inFrame(Physics.Coordinate.Frame.ITRF()) ;"
   ]
  },
  {
   "cell_type": "markdown",
   "metadata": {},
   "source": [
    "## Trajectory ▸ Model"
   ]
  },
  {
   "cell_type": "markdown",
   "metadata": {},
   "source": [
    "## Trajectory ▸ Orbit"
   ]
  },
  {
   "cell_type": "markdown",
   "metadata": {},
   "source": [
    "**Trajectory ▸ Orbit ▸ Constructors**"
   ]
  },
  {
   "cell_type": "code",
   "execution_count": 13,
   "metadata": {},
   "outputs": [],
   "source": [
    "tle = Orbit.Models.SGP4.TLE(\"1 25544U 98067A   18231.17878740  .00000187  00000-0  10196-4 0  9994\", \"2 25544  51.6447  64.7824 0005971  73.1467  36.4366 15.53848234128316\")\n",
    "model = Orbit.Models.SGP4(tle)\n",
    "earth = Environment.Default().accessCelestialObjectWithName(\"Earth\") ;\n",
    "\n",
    "orbit = Orbit(model, earth) ;"
   ]
  },
  {
   "cell_type": "markdown",
   "metadata": {},
   "source": [
    "**Trajectory ▸ Orbit ▸ Methods**"
   ]
  },
  {
   "cell_type": "code",
   "execution_count": 14,
   "metadata": {},
   "outputs": [],
   "source": [
    "state = orbit.getStateAt(Physics.Time.Instant.Now()) ;"
   ]
  },
  {
   "cell_type": "markdown",
   "metadata": {},
   "source": [
    "### Trajectory ▸ Orbit ▸ Models"
   ]
  },
  {
   "cell_type": "markdown",
   "metadata": {},
   "source": [
    "#### Trajectory ▸ Orbit ▸ Models ▸ Kepler"
   ]
  },
  {
   "cell_type": "markdown",
   "metadata": {},
   "source": [
    "**Trajectory ▸ Orbit ▸ Models ▸ Kepler ▸ Constructors**"
   ]
  },
  {
   "cell_type": "code",
   "execution_count": 15,
   "metadata": {},
   "outputs": [],
   "source": [
    "a = Physics.Units.Length.Kilometers(7000.0) ;\n",
    "e = 0.1 ;\n",
    "i = Physics.Units.Angle.Degrees(35.0) ;\n",
    "raan = Physics.Units.Angle.Degrees(40.0) ;\n",
    "aop = Physics.Units.Angle.Degrees(50.0) ;\n",
    "nu = Physics.Units.Angle.Degrees(60.0) ;\n",
    "\n",
    "coe = Kepler.COE(a, e, i, raan, aop, nu) ;\n",
    "\n",
    "epoch = Physics.Time.Instant.DateTime(Physics.Time.DateTime(2018, 1, 1, 0, 0, 0), Physics.Time.Scale.UTC) ;\n",
    "earth = Environment.Default().accessCelestialObjectWithName(\"Earth\") ;\n",
    "\n",
    "kepler = Kepler(coe, epoch, earth, Kepler.PerturbationType.No) ;"
   ]
  },
  {
   "cell_type": "markdown",
   "metadata": {},
   "source": [
    "**Trajectory ▸ Orbit ▸ Models ▸ Kepler ▸ Operators**"
   ]
  },
  {
   "cell_type": "code",
   "execution_count": 16,
   "metadata": {},
   "outputs": [],
   "source": [
    "kepler == kepler ;\n",
    "kepler != kepler ;"
   ]
  },
  {
   "cell_type": "markdown",
   "metadata": {},
   "source": [
    "**Trajectory ▸ Orbit ▸ Models ▸ Kepler ▸ Methods**"
   ]
  },
  {
   "cell_type": "code",
   "execution_count": 17,
   "metadata": {},
   "outputs": [],
   "source": [
    "kepler.isDefined() ;"
   ]
  },
  {
   "cell_type": "code",
   "execution_count": 18,
   "metadata": {},
   "outputs": [],
   "source": [
    "kepler.getClassicalOrbitalElements() ;"
   ]
  },
  {
   "cell_type": "code",
   "execution_count": 19,
   "metadata": {},
   "outputs": [],
   "source": [
    "kepler.getEpoch() ;"
   ]
  },
  {
   "cell_type": "code",
   "execution_count": 20,
   "metadata": {},
   "outputs": [],
   "source": [
    "kepler.getRevolutionNumberAtEpoch() ;"
   ]
  },
  {
   "cell_type": "code",
   "execution_count": 21,
   "metadata": {},
   "outputs": [],
   "source": [
    "kepler.getGravitationalParameter() ;"
   ]
  },
  {
   "cell_type": "code",
   "execution_count": 22,
   "metadata": {},
   "outputs": [],
   "source": [
    "kepler.getEquatorialRadius() ;"
   ]
  },
  {
   "cell_type": "code",
   "execution_count": 23,
   "metadata": {},
   "outputs": [],
   "source": [
    "kepler.getJ2() ;"
   ]
  },
  {
   "cell_type": "code",
   "execution_count": 24,
   "metadata": {},
   "outputs": [],
   "source": [
    "kepler.getPerturbationType() ;"
   ]
  },
  {
   "cell_type": "code",
   "execution_count": 25,
   "metadata": {},
   "outputs": [],
   "source": [
    "kepler.calculateStateAt(epoch) ;"
   ]
  },
  {
   "cell_type": "code",
   "execution_count": 26,
   "metadata": {},
   "outputs": [],
   "source": [
    "kepler.calculateRevolutionNumberAt(epoch) ;"
   ]
  },
  {
   "cell_type": "markdown",
   "metadata": {},
   "source": [
    "#### Trajectory ▸ Orbit ▸ Models ▸ Kepler ▸ COE"
   ]
  },
  {
   "cell_type": "markdown",
   "metadata": {},
   "source": [
    "**Trajectory ▸ Orbit ▸ Models ▸ Kepler ▸ COE ▸ Constructors**"
   ]
  },
  {
   "cell_type": "code",
   "execution_count": 27,
   "metadata": {},
   "outputs": [],
   "source": [
    "a = Physics.Units.Length.Kilometers(7000.0) ;\n",
    "e = 0.1 ;\n",
    "i = Physics.Units.Angle.Degrees(35.0) ;\n",
    "raan = Physics.Units.Angle.Degrees(40.0) ;\n",
    "aop = Physics.Units.Angle.Degrees(50.0) ;\n",
    "nu = Physics.Units.Angle.Degrees(60.0) ;\n",
    "\n",
    "coe = COE(a, e, i, raan, aop, nu) ;"
   ]
  },
  {
   "cell_type": "code",
   "execution_count": 28,
   "metadata": {},
   "outputs": [],
   "source": [
    "COE.Undefined() ;"
   ]
  },
  {
   "cell_type": "markdown",
   "metadata": {},
   "source": [
    "**Trajectory ▸ Orbit ▸ Models ▸ Kepler ▸ COE ▸ Operators**"
   ]
  },
  {
   "cell_type": "code",
   "execution_count": 29,
   "metadata": {},
   "outputs": [],
   "source": [
    "coe == coe ;\n",
    "coe != coe ;"
   ]
  },
  {
   "cell_type": "markdown",
   "metadata": {},
   "source": [
    "**Trajectory ▸ Orbit ▸ Models ▸ Kepler ▸ COE ▸ Methods**"
   ]
  },
  {
   "cell_type": "code",
   "execution_count": 30,
   "metadata": {},
   "outputs": [],
   "source": [
    "coe.isDefined() ;"
   ]
  },
  {
   "cell_type": "code",
   "execution_count": 31,
   "metadata": {},
   "outputs": [],
   "source": [
    "coe.getSemiMajorAxis() ;"
   ]
  },
  {
   "cell_type": "code",
   "execution_count": 32,
   "metadata": {},
   "outputs": [],
   "source": [
    "coe.getEccentricity() ;"
   ]
  },
  {
   "cell_type": "code",
   "execution_count": 33,
   "metadata": {},
   "outputs": [],
   "source": [
    "coe.getInclination() ;"
   ]
  },
  {
   "cell_type": "code",
   "execution_count": 34,
   "metadata": {},
   "outputs": [],
   "source": [
    "coe.getRaan() ;"
   ]
  },
  {
   "cell_type": "code",
   "execution_count": 35,
   "metadata": {},
   "outputs": [],
   "source": [
    "coe.getAop() ;"
   ]
  },
  {
   "cell_type": "code",
   "execution_count": 36,
   "metadata": {},
   "outputs": [],
   "source": [
    "coe.getTrueAnomaly() ;"
   ]
  },
  {
   "cell_type": "code",
   "execution_count": 37,
   "metadata": {},
   "outputs": [],
   "source": [
    "coe.getMeanAnomaly() ;"
   ]
  },
  {
   "cell_type": "code",
   "execution_count": 38,
   "metadata": {},
   "outputs": [],
   "source": [
    "coe.getEccentricAnomaly() ;"
   ]
  },
  {
   "cell_type": "code",
   "execution_count": 39,
   "metadata": {},
   "outputs": [],
   "source": [
    "coe.getMeanMotion(Physics.Environment.Objects.CelestialBodies.Earth.GravitationalConstant) ;"
   ]
  },
  {
   "cell_type": "code",
   "execution_count": 40,
   "metadata": {},
   "outputs": [],
   "source": [
    "coe.getOrbitalPeriod(Physics.Environment.Objects.CelestialBodies.Earth.GravitationalConstant) ;"
   ]
  },
  {
   "cell_type": "code",
   "execution_count": 41,
   "metadata": {},
   "outputs": [],
   "source": [
    "# coe.getCartesianState(Physics.Environment.Objects.CelestialBodies.Earth.GravitationalConstant, Frame.GCRF()) ;"
   ]
  },
  {
   "cell_type": "markdown",
   "metadata": {},
   "source": [
    "**Trajectory ▸ Orbit ▸ Models ▸ Kepler ▸ COE ▸ Static Methods**"
   ]
  },
  {
   "cell_type": "code",
   "execution_count": 42,
   "metadata": {},
   "outputs": [],
   "source": [
    "COE.EccentricAnomalyFromTrueAnomaly(Physics.Units.Angle.Degrees(0.0), 0.0) ;"
   ]
  },
  {
   "cell_type": "code",
   "execution_count": 43,
   "metadata": {},
   "outputs": [],
   "source": [
    "COE.TrueAnomalyFromEccentricAnomaly(Physics.Units.Angle.Degrees(0.0), 0.0) ;"
   ]
  },
  {
   "cell_type": "code",
   "execution_count": 44,
   "metadata": {},
   "outputs": [],
   "source": [
    "COE.MeanAnomalyFromEccentricAnomaly(Physics.Units.Angle.Degrees(0.0), 0.0) ;"
   ]
  },
  {
   "cell_type": "code",
   "execution_count": 45,
   "metadata": {},
   "outputs": [],
   "source": [
    "COE.EccentricAnomalyFromMeanAnomaly(Physics.Units.Angle.Degrees(0.0), 0.0, 0.0) ;"
   ]
  },
  {
   "cell_type": "markdown",
   "metadata": {},
   "source": [
    "#### Trajectory ▸ Orbit ▸ Models ▸ SGP4"
   ]
  },
  {
   "cell_type": "markdown",
   "metadata": {},
   "source": [
    "**Trajectory ▸ Orbit ▸ Models ▸ SGP4 ▸ Constructors**"
   ]
  },
  {
   "cell_type": "code",
   "execution_count": 46,
   "metadata": {},
   "outputs": [],
   "source": [
    "tle = SGP4.TLE(\"1 25544U 98067A   18231.17878740  .00000187  00000-0  10196-4 0  9994\", \"2 25544  51.6447  64.7824 0005971  73.1467  36.4366 15.53848234128316\")\n",
    "\n",
    "sgp4 = SGP4(tle)"
   ]
  },
  {
   "cell_type": "markdown",
   "metadata": {},
   "source": [
    "**Trajectory ▸ Orbit ▸ Models ▸ SGP4 ▸ Methods**"
   ]
  },
  {
   "cell_type": "code",
   "execution_count": 47,
   "metadata": {},
   "outputs": [],
   "source": [
    "instant = Physics.Time.Instant.Now()\n",
    "\n",
    "state = sgp4.calculateStateAt(instant)"
   ]
  },
  {
   "cell_type": "markdown",
   "metadata": {},
   "source": [
    "#### Trajectory ▸ Orbit ▸ Models ▸ SGP4 ▸ TLE"
   ]
  },
  {
   "cell_type": "code",
   "execution_count": 48,
   "metadata": {},
   "outputs": [],
   "source": [
    "TLE = SGP4.TLE"
   ]
  },
  {
   "cell_type": "markdown",
   "metadata": {},
   "source": [
    "**Trajectory ▸ Orbit ▸ Models ▸ SGP4 ▸ TLE ▸ Constructors**"
   ]
  },
  {
   "cell_type": "code",
   "execution_count": 49,
   "metadata": {},
   "outputs": [],
   "source": [
    "tle = TLE(\"1 25544U 98067A   18231.17878740  .00000187  00000-0  10196-4 0  9994\",\n",
    "          \"2 25544  51.6447  64.7824 0005971  73.1467  36.4366 15.53848234128316\") ;\n",
    "\n",
    "tle = TLE.Undefined() ;\n",
    "tle = TLE.Parse(\"1 25544U 98067A   18231.17878740  .00000187  00000-0  10196-4 0  9994\\n2 25544  51.6447  64.7824 0005971  73.1467  36.4366 15.53848234128316\") ;"
   ]
  },
  {
   "cell_type": "markdown",
   "metadata": {},
   "source": [
    "**Trajectory ▸ Orbit ▸ Models ▸ SGP4 ▸ TLE ▸ Methods**"
   ]
  },
  {
   "cell_type": "code",
   "execution_count": 50,
   "metadata": {},
   "outputs": [],
   "source": [
    "tle.isDefined() ;"
   ]
  },
  {
   "cell_type": "code",
   "execution_count": 51,
   "metadata": {},
   "outputs": [],
   "source": [
    "tle.getSatelliteName() ;"
   ]
  },
  {
   "cell_type": "code",
   "execution_count": 52,
   "metadata": {},
   "outputs": [],
   "source": [
    "tle.getFirstLine() ;"
   ]
  },
  {
   "cell_type": "code",
   "execution_count": 53,
   "metadata": {},
   "outputs": [],
   "source": [
    "tle.getSecondLine() ;"
   ]
  },
  {
   "cell_type": "code",
   "execution_count": 54,
   "metadata": {},
   "outputs": [],
   "source": [
    "tle.getSatelliteNumber() ;"
   ]
  },
  {
   "cell_type": "code",
   "execution_count": 55,
   "metadata": {},
   "outputs": [],
   "source": [
    "tle.getClassification() ;"
   ]
  },
  {
   "cell_type": "code",
   "execution_count": 56,
   "metadata": {},
   "outputs": [],
   "source": [
    "tle.getInternationalDesignator() ;"
   ]
  },
  {
   "cell_type": "code",
   "execution_count": 57,
   "metadata": {},
   "outputs": [],
   "source": [
    "tle.getEpoch() ;"
   ]
  },
  {
   "cell_type": "code",
   "execution_count": 58,
   "metadata": {},
   "outputs": [],
   "source": [
    "tle.getMeanMotionFirstTimeDerivativeDividedByTwo() ;"
   ]
  },
  {
   "cell_type": "code",
   "execution_count": 59,
   "metadata": {},
   "outputs": [],
   "source": [
    "tle.getMeanMotionSecondTimeDerivativeDividedBySix() ;"
   ]
  },
  {
   "cell_type": "code",
   "execution_count": 60,
   "metadata": {},
   "outputs": [],
   "source": [
    "tle.getBStarDragTerm() ;"
   ]
  },
  {
   "cell_type": "code",
   "execution_count": 61,
   "metadata": {},
   "outputs": [],
   "source": [
    "tle.getEphemerisType() ;"
   ]
  },
  {
   "cell_type": "code",
   "execution_count": 62,
   "metadata": {},
   "outputs": [],
   "source": [
    "tle.getElementSetNumber() ;"
   ]
  },
  {
   "cell_type": "code",
   "execution_count": 63,
   "metadata": {},
   "outputs": [],
   "source": [
    "tle.getFirstLineChecksum() ;"
   ]
  },
  {
   "cell_type": "code",
   "execution_count": 64,
   "metadata": {},
   "outputs": [],
   "source": [
    "tle.getInclination() ;"
   ]
  },
  {
   "cell_type": "code",
   "execution_count": 65,
   "metadata": {},
   "outputs": [],
   "source": [
    "tle.getRaan() ;"
   ]
  },
  {
   "cell_type": "code",
   "execution_count": 66,
   "metadata": {},
   "outputs": [],
   "source": [
    "tle.getEccentricity() ;"
   ]
  },
  {
   "cell_type": "code",
   "execution_count": 67,
   "metadata": {},
   "outputs": [],
   "source": [
    "tle.getAop() ;"
   ]
  },
  {
   "cell_type": "code",
   "execution_count": 68,
   "metadata": {},
   "outputs": [],
   "source": [
    "tle.getMeanAnomaly() ;"
   ]
  },
  {
   "cell_type": "code",
   "execution_count": 69,
   "metadata": {},
   "outputs": [],
   "source": [
    "tle.getMeanMotion() ;"
   ]
  },
  {
   "cell_type": "code",
   "execution_count": 70,
   "metadata": {},
   "outputs": [],
   "source": [
    "tle.getRevolutionNumberAtEpoch() ;"
   ]
  },
  {
   "cell_type": "markdown",
   "metadata": {},
   "source": [
    "**Trajectory ▸ Orbit ▸ Models ▸ SGP4 ▸ TLE ▸ Static Methods**"
   ]
  },
  {
   "cell_type": "code",
   "execution_count": 71,
   "metadata": {},
   "outputs": [],
   "source": [
    "TLE.CanParse(\"1 25544U 98067A   18231.17878740  .00000187  00000-0  10196-4 0  9994\", \"2 25544  51.6447  64.7824 0005971  73.1467  36.4366 15.53848234128316\") ;"
   ]
  },
  {
   "cell_type": "markdown",
   "metadata": {},
   "source": [
    "### Trajectory ▸ Orbit ▸ Pass"
   ]
  },
  {
   "cell_type": "markdown",
   "metadata": {},
   "source": [
    "**Trajectory ▸ Orbit ▸ Pass ▸ Constructors**"
   ]
  },
  {
   "cell_type": "code",
   "execution_count": 72,
   "metadata": {},
   "outputs": [],
   "source": [
    "pass_type = Pass.Type.Complete\n",
    "pass_revolution_number = 123\n",
    "pass_start_instant = Physics.Time.Instant.Now()\n",
    "pass_end_instant = Physics.Time.Instant.Now()\n",
    "pass_interval = Physics.Time.Interval.Closed(pass_start_instant, pass_end_instant)\n",
    "\n",
    "pass_ = Pass(pass_type, pass_revolution_number, pass_interval)"
   ]
  },
  {
   "cell_type": "markdown",
   "metadata": {},
   "source": [
    "**Trajectory ▸ Orbit ▸ Pass ▸ Methods**"
   ]
  },
  {
   "cell_type": "code",
   "execution_count": 73,
   "metadata": {},
   "outputs": [],
   "source": [
    "pass_.isDefined() ;"
   ]
  },
  {
   "cell_type": "code",
   "execution_count": 74,
   "metadata": {},
   "outputs": [],
   "source": [
    "pass_.isComplete() ;"
   ]
  },
  {
   "cell_type": "code",
   "execution_count": 75,
   "metadata": {},
   "outputs": [],
   "source": [
    "pass_.getType() ;"
   ]
  },
  {
   "cell_type": "code",
   "execution_count": 76,
   "metadata": {},
   "outputs": [],
   "source": [
    "pass_.getRevolutionNumber() ;"
   ]
  },
  {
   "cell_type": "code",
   "execution_count": 77,
   "metadata": {},
   "outputs": [],
   "source": [
    "pass_.getInterval() ;"
   ]
  },
  {
   "cell_type": "markdown",
   "metadata": {},
   "source": [
    "**Trajectory ▸ Orbit ▸ Pass ▸ Static Methods**"
   ]
  },
  {
   "cell_type": "code",
   "execution_count": 78,
   "metadata": {},
   "outputs": [],
   "source": [
    "Pass.StringFromType(Pass.Type.Complete) ;"
   ]
  },
  {
   "cell_type": "code",
   "execution_count": 79,
   "metadata": {},
   "outputs": [],
   "source": [
    "Pass.StringFromPhase(Pass.Phase.Ascending) ;"
   ]
  },
  {
   "cell_type": "code",
   "execution_count": 80,
   "metadata": {},
   "outputs": [],
   "source": [
    "Pass.StringFromQuarter(Pass.Quarter.First) ;"
   ]
  }
 ],
 "metadata": {
  "kernelspec": {
   "display_name": "Python 3",
   "language": "python",
   "name": "python3"
  },
  "language_info": {
   "codemirror_mode": {
    "name": "ipython",
    "version": 3
   },
   "file_extension": ".py",
   "mimetype": "text/x-python",
   "name": "python",
   "nbconvert_exporter": "python",
   "pygments_lexer": "ipython3",
   "version": "3.6.5"
  }
 },
 "nbformat": 4,
 "nbformat_minor": 2
}
