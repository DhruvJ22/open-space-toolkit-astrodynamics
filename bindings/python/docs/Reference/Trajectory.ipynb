{
 "cells": [
  {
   "cell_type": "markdown",
   "metadata": {},
   "source": [
    "# Open Space Toolkit ▸ Astrodynamics ▸ Trajectory"
   ]
  },
  {
   "cell_type": "markdown",
   "metadata": {},
   "source": [
    "## Setup"
   ]
  },
  {
   "cell_type": "code",
   "execution_count": 2,
   "metadata": {},
   "outputs": [],
   "source": [
    "import numpy"
   ]
  },
  {
   "cell_type": "code",
   "execution_count": 3,
   "metadata": {},
   "outputs": [
    {
     "name": "stderr",
     "output_type": "stream",
     "text": [
      "/opt/conda/lib/python3.6/importlib/_bootstrap.py:219: RuntimeWarning: to-Python converter for ostk::physics::time::DateTime already registered; second conversion method ignored.\n",
      "  return f(*args, **kwds)\n",
      "/opt/conda/lib/python3.6/importlib/_bootstrap.py:219: RuntimeWarning: to-Python converter for ostk::math::obj::IntervalBase::Type already registered; second conversion method ignored.\n",
      "  return f(*args, **kwds)\n"
     ]
    }
   ],
   "source": [
    "import ostk.physics as physics\n",
    "import ostk.astrodynamics as astrodynamics"
   ]
  },
  {
   "cell_type": "code",
   "execution_count": 93,
   "metadata": {},
   "outputs": [],
   "source": [
    "Length = physics.units.Length\n",
    "Angle = physics.units.Angle\n",
    "Scale = physics.time.Scale\n",
    "Instant = physics.time.Instant\n",
    "Interval = physics.time.Interval\n",
    "DateTime = physics.time.DateTime\n",
    "Position = physics.coordinate.Position\n",
    "Velocity = physics.coordinate.Velocity\n",
    "Frame = physics.coordinate.Frame\n",
    "Environment = physics.Environment\n",
    "\n",
    "Trajectory = astrodynamics.Trajectory\n",
    "Model = astrodynamics.trajectory.Model\n",
    "Orbit = astrodynamics.trajectory.Orbit\n",
    "Pass = astrodynamics.trajectory.orbit.Pass\n",
    "Kepler = astrodynamics.trajectory.orbit.models.Kepler\n",
    "COE = astrodynamics.trajectory.orbit.models.kepler.COE\n",
    "SGP4 = astrodynamics.trajectory.orbit.models.SGP4\n",
    "TLE = astrodynamics.trajectory.orbit.models.sgp4.TLE\n",
    "State = astrodynamics.trajectory.State\n",
    "Access = astrodynamics.Access"
   ]
  },
  {
   "cell_type": "markdown",
   "metadata": {},
   "source": [
    "---"
   ]
  },
  {
   "cell_type": "markdown",
   "metadata": {},
   "source": [
    "## Trajectory ▸ State"
   ]
  },
  {
   "cell_type": "markdown",
   "metadata": {},
   "source": [
    "**Trajectory ▸ State ▸ Constructors**"
   ]
  },
  {
   "cell_type": "code",
   "execution_count": 6,
   "metadata": {},
   "outputs": [],
   "source": [
    "instant = Instant.date_time(DateTime(2018, 1, 1, 0, 0, 0), Scale.UTC) ;\n",
    "position = Position.meters(numpy.array((7000e3, 0.0, 0.0)), Frame.GCRF()) ;\n",
    "velocity = Velocity.meters_per_second(numpy.array((0.0, 0.0, 0.0)), Frame.GCRF()) ;\n",
    "\n",
    "state = State(instant, position, velocity) ;"
   ]
  },
  {
   "cell_type": "code",
   "execution_count": 7,
   "metadata": {},
   "outputs": [],
   "source": [
    "State.undefined() ;"
   ]
  },
  {
   "cell_type": "markdown",
   "metadata": {},
   "source": [
    "**Trajectory ▸ State ▸ Operators**"
   ]
  },
  {
   "cell_type": "code",
   "execution_count": 8,
   "metadata": {},
   "outputs": [],
   "source": [
    "state == state ;\n",
    "state != state ;"
   ]
  },
  {
   "cell_type": "markdown",
   "metadata": {},
   "source": [
    "**Trajectory ▸ State ▸ Methods**"
   ]
  },
  {
   "cell_type": "code",
   "execution_count": 9,
   "metadata": {},
   "outputs": [],
   "source": [
    "state.is_defined() ;"
   ]
  },
  {
   "cell_type": "code",
   "execution_count": 10,
   "metadata": {},
   "outputs": [],
   "source": [
    "state.get_instant() ;"
   ]
  },
  {
   "cell_type": "code",
   "execution_count": 11,
   "metadata": {},
   "outputs": [],
   "source": [
    "state.get_position() ;"
   ]
  },
  {
   "cell_type": "code",
   "execution_count": 12,
   "metadata": {},
   "outputs": [],
   "source": [
    "state.get_velocity() ;"
   ]
  },
  {
   "cell_type": "code",
   "execution_count": 13,
   "metadata": {},
   "outputs": [],
   "source": [
    "state.in_frame(Frame.ITRF()) ;"
   ]
  },
  {
   "cell_type": "markdown",
   "metadata": {},
   "source": [
    "## Trajectory ▸ Model"
   ]
  },
  {
   "cell_type": "markdown",
   "metadata": {},
   "source": [
    "## Trajectory ▸ Orbit"
   ]
  },
  {
   "cell_type": "markdown",
   "metadata": {},
   "source": [
    "**Trajectory ▸ Orbit ▸ Constructors**"
   ]
  },
  {
   "cell_type": "code",
   "execution_count": 14,
   "metadata": {},
   "outputs": [],
   "source": [
    "tle = TLE(\"1 25544U 98067A   18231.17878740  .00000187  00000-0  10196-4 0  9994\", \"2 25544  51.6447  64.7824 0005971  73.1467  36.4366 15.53848234128316\")\n",
    "model = SGP4(tle)\n",
    "earth = Environment.default().access_celestial_object_with_name(\"Earth\") ;\n",
    "\n",
    "orbit = Orbit(model, earth) ;"
   ]
  },
  {
   "cell_type": "code",
   "execution_count": 21,
   "metadata": {},
   "outputs": [],
   "source": [
    "epoch = Instant.date_time(DateTime(2018, 1, 1, 0, 0, 0), Scale.UTC)\n",
    "altitude = Length.kilometers(500.0)\n",
    "inclination = Angle.degrees(45.0)\n",
    "\n",
    "Orbit.circular(epoch, altitude, inclination, earth) ;"
   ]
  },
  {
   "cell_type": "code",
   "execution_count": 27,
   "metadata": {},
   "outputs": [],
   "source": [
    "epoch = Instant.date_time(DateTime(2018, 1, 1, 0, 0, 0), Scale.UTC)\n",
    "altitude = Length.kilometers(500.0)\n",
    "eccentricity = 0.1\n",
    "\n",
    "Orbit.equatorial(epoch, altitude, eccentricity, earth) ;"
   ]
  },
  {
   "cell_type": "code",
   "execution_count": 28,
   "metadata": {},
   "outputs": [],
   "source": [
    "epoch = Instant.date_time(DateTime(2018, 1, 1, 0, 0, 0), Scale.UTC)\n",
    "altitude = Length.kilometers(500.0)\n",
    "\n",
    "Orbit.circular_equatorial(epoch, altitude, earth) ;"
   ]
  },
  {
   "cell_type": "code",
   "execution_count": 29,
   "metadata": {},
   "outputs": [],
   "source": [
    "epoch = Instant.date_time(DateTime(2018, 1, 1, 0, 0, 0), Scale.UTC)\n",
    "altitude = Length.kilometers(500.0)\n",
    "\n",
    "Orbit.sun_synchronous(epoch, altitude, earth) ;"
   ]
  },
  {
   "cell_type": "markdown",
   "metadata": {},
   "source": [
    "**Trajectory ▸ Orbit ▸ Methods**"
   ]
  },
  {
   "cell_type": "code",
   "execution_count": 30,
   "metadata": {},
   "outputs": [],
   "source": [
    "state = orbit.get_state_at(Instant.now()) ;"
   ]
  },
  {
   "cell_type": "markdown",
   "metadata": {},
   "source": [
    "### Trajectory ▸ Orbit ▸ Models"
   ]
  },
  {
   "cell_type": "markdown",
   "metadata": {},
   "source": [
    "#### Trajectory ▸ Orbit ▸ Models ▸ Kepler"
   ]
  },
  {
   "cell_type": "markdown",
   "metadata": {},
   "source": [
    "**Trajectory ▸ Orbit ▸ Models ▸ Kepler ▸ Constructors**"
   ]
  },
  {
   "cell_type": "code",
   "execution_count": 31,
   "metadata": {},
   "outputs": [],
   "source": [
    "a = Length.kilometers(7000.0) ;\n",
    "e = 0.1 ;\n",
    "i = Angle.degrees(35.0) ;\n",
    "raan = Angle.degrees(40.0) ;\n",
    "aop = Angle.degrees(50.0) ;\n",
    "nu = Angle.degrees(60.0) ;\n",
    "\n",
    "coe = COE(a, e, i, raan, aop, nu) ;\n",
    "\n",
    "epoch = Instant.date_time(DateTime(2018, 1, 1, 0, 0, 0), Scale.UTC) ;\n",
    "earth = Environment.default().access_celestial_object_with_name(\"Earth\") ;\n",
    "\n",
    "kepler = Kepler(coe, epoch, earth, Kepler.PerturbationType.No) ;"
   ]
  },
  {
   "cell_type": "markdown",
   "metadata": {},
   "source": [
    "**Trajectory ▸ Orbit ▸ Models ▸ Kepler ▸ Operators**"
   ]
  },
  {
   "cell_type": "code",
   "execution_count": 32,
   "metadata": {},
   "outputs": [],
   "source": [
    "kepler == kepler ;\n",
    "kepler != kepler ;"
   ]
  },
  {
   "cell_type": "markdown",
   "metadata": {},
   "source": [
    "**Trajectory ▸ Orbit ▸ Models ▸ Kepler ▸ Methods**"
   ]
  },
  {
   "cell_type": "code",
   "execution_count": 33,
   "metadata": {},
   "outputs": [],
   "source": [
    "kepler.is_defined() ;"
   ]
  },
  {
   "cell_type": "code",
   "execution_count": 34,
   "metadata": {},
   "outputs": [],
   "source": [
    "kepler.get_classical_orbital_elements() ;"
   ]
  },
  {
   "cell_type": "code",
   "execution_count": 35,
   "metadata": {},
   "outputs": [],
   "source": [
    "kepler.get_epoch() ;"
   ]
  },
  {
   "cell_type": "code",
   "execution_count": 36,
   "metadata": {},
   "outputs": [],
   "source": [
    "kepler.get_revolution_number_at_epoch() ;"
   ]
  },
  {
   "cell_type": "code",
   "execution_count": 37,
   "metadata": {},
   "outputs": [],
   "source": [
    "kepler.get_gravitational_parameter() ;"
   ]
  },
  {
   "cell_type": "code",
   "execution_count": 38,
   "metadata": {},
   "outputs": [],
   "source": [
    "kepler.get_equatorial_radius() ;"
   ]
  },
  {
   "cell_type": "code",
   "execution_count": 39,
   "metadata": {},
   "outputs": [],
   "source": [
    "kepler.get_j2() ;"
   ]
  },
  {
   "cell_type": "code",
   "execution_count": 40,
   "metadata": {},
   "outputs": [],
   "source": [
    "kepler.get_perturbation_type() ;"
   ]
  },
  {
   "cell_type": "code",
   "execution_count": 41,
   "metadata": {},
   "outputs": [],
   "source": [
    "kepler.calculate_state_at(epoch) ;"
   ]
  },
  {
   "cell_type": "code",
   "execution_count": 42,
   "metadata": {},
   "outputs": [],
   "source": [
    "kepler.calculate_revolution_number_at(epoch) ;"
   ]
  },
  {
   "cell_type": "markdown",
   "metadata": {},
   "source": [
    "#### Trajectory ▸ Orbit ▸ Models ▸ Kepler ▸ COE"
   ]
  },
  {
   "cell_type": "markdown",
   "metadata": {},
   "source": [
    "**Trajectory ▸ Orbit ▸ Models ▸ Kepler ▸ COE ▸ Constructors**"
   ]
  },
  {
   "cell_type": "code",
   "execution_count": 43,
   "metadata": {},
   "outputs": [],
   "source": [
    "a = Length.kilometers(7000.0) ;\n",
    "e = 0.1 ;\n",
    "i = Angle.degrees(35.0) ;\n",
    "raan = Angle.degrees(40.0) ;\n",
    "aop = Angle.degrees(50.0) ;\n",
    "nu = Angle.degrees(60.0) ;\n",
    "\n",
    "coe = COE(a, e, i, raan, aop, nu) ;"
   ]
  },
  {
   "cell_type": "code",
   "execution_count": 44,
   "metadata": {},
   "outputs": [],
   "source": [
    "COE.undefined() ;"
   ]
  },
  {
   "cell_type": "markdown",
   "metadata": {},
   "source": [
    "**Trajectory ▸ Orbit ▸ Models ▸ Kepler ▸ COE ▸ Operators**"
   ]
  },
  {
   "cell_type": "code",
   "execution_count": 45,
   "metadata": {},
   "outputs": [],
   "source": [
    "coe == coe ;\n",
    "coe != coe ;"
   ]
  },
  {
   "cell_type": "markdown",
   "metadata": {},
   "source": [
    "**Trajectory ▸ Orbit ▸ Models ▸ Kepler ▸ COE ▸ Methods**"
   ]
  },
  {
   "cell_type": "code",
   "execution_count": 46,
   "metadata": {},
   "outputs": [],
   "source": [
    "coe.is_defined() ;"
   ]
  },
  {
   "cell_type": "code",
   "execution_count": 47,
   "metadata": {},
   "outputs": [],
   "source": [
    "coe.get_semi_major_axis() ;"
   ]
  },
  {
   "cell_type": "code",
   "execution_count": 48,
   "metadata": {},
   "outputs": [],
   "source": [
    "coe.get_eccentricity() ;"
   ]
  },
  {
   "cell_type": "code",
   "execution_count": 49,
   "metadata": {},
   "outputs": [],
   "source": [
    "coe.get_inclination() ;"
   ]
  },
  {
   "cell_type": "code",
   "execution_count": 50,
   "metadata": {},
   "outputs": [],
   "source": [
    "coe.get_raan() ;"
   ]
  },
  {
   "cell_type": "code",
   "execution_count": 51,
   "metadata": {},
   "outputs": [],
   "source": [
    "coe.get_aop() ;"
   ]
  },
  {
   "cell_type": "code",
   "execution_count": 52,
   "metadata": {},
   "outputs": [],
   "source": [
    "coe.get_true_anomaly() ;"
   ]
  },
  {
   "cell_type": "code",
   "execution_count": 53,
   "metadata": {},
   "outputs": [],
   "source": [
    "coe.get_mean_anomaly() ;"
   ]
  },
  {
   "cell_type": "code",
   "execution_count": 54,
   "metadata": {},
   "outputs": [],
   "source": [
    "coe.get_eccentric_anomaly() ;"
   ]
  },
  {
   "cell_type": "code",
   "execution_count": 55,
   "metadata": {},
   "outputs": [],
   "source": [
    "coe.get_mean_motion(environment.objects.celestial_bodies.earth.gravitational_parameter) ;"
   ]
  },
  {
   "cell_type": "code",
   "execution_count": 57,
   "metadata": {},
   "outputs": [],
   "source": [
    "coe.get_orbital_period(environment.objects.celestial_bodies.earth.gravitational_parameter) ;"
   ]
  },
  {
   "cell_type": "code",
   "execution_count": 58,
   "metadata": {},
   "outputs": [],
   "source": [
    "# coe.getCartesianState(Physics.environment.objects.celestial_bodies.earth.gravitational_parameter, Frame.GCRF()) ;"
   ]
  },
  {
   "cell_type": "markdown",
   "metadata": {},
   "source": [
    "**Trajectory ▸ Orbit ▸ Models ▸ Kepler ▸ COE ▸ Static Methods**"
   ]
  },
  {
   "cell_type": "code",
   "execution_count": 60,
   "metadata": {},
   "outputs": [],
   "source": [
    "COE.eccentric_anomaly_from_true_anomaly(Angle.degrees(0.0), 0.0) ;"
   ]
  },
  {
   "cell_type": "code",
   "execution_count": 61,
   "metadata": {},
   "outputs": [],
   "source": [
    "COE.true_anomaly_from_eccentric_anomaly(Angle.degrees(0.0), 0.0) ;"
   ]
  },
  {
   "cell_type": "code",
   "execution_count": 62,
   "metadata": {},
   "outputs": [],
   "source": [
    "COE.mean_anomaly_from_eccentric_anomaly(Angle.degrees(0.0), 0.0) ;"
   ]
  },
  {
   "cell_type": "code",
   "execution_count": 63,
   "metadata": {},
   "outputs": [],
   "source": [
    "COE.eccentric_anomaly_from_mean_anomaly(Angle.degrees(0.0), 0.0, 0.0) ;"
   ]
  },
  {
   "cell_type": "markdown",
   "metadata": {},
   "source": [
    "#### Trajectory ▸ Orbit ▸ Models ▸ SGP4"
   ]
  },
  {
   "cell_type": "markdown",
   "metadata": {},
   "source": [
    "**Trajectory ▸ Orbit ▸ Models ▸ SGP4 ▸ Constructors**"
   ]
  },
  {
   "cell_type": "code",
   "execution_count": 64,
   "metadata": {},
   "outputs": [],
   "source": [
    "tle = TLE(\"1 25544U 98067A   18231.17878740  .00000187  00000-0  10196-4 0  9994\", \"2 25544  51.6447  64.7824 0005971  73.1467  36.4366 15.53848234128316\")\n",
    "\n",
    "sgp4 = SGP4(tle)"
   ]
  },
  {
   "cell_type": "markdown",
   "metadata": {},
   "source": [
    "**Trajectory ▸ Orbit ▸ Models ▸ SGP4 ▸ Methods**"
   ]
  },
  {
   "cell_type": "code",
   "execution_count": 66,
   "metadata": {},
   "outputs": [],
   "source": [
    "instant = Instant.now()\n",
    "\n",
    "state = sgp4.calculate_state_at(instant)"
   ]
  },
  {
   "cell_type": "markdown",
   "metadata": {},
   "source": [
    "#### Trajectory ▸ Orbit ▸ Models ▸ SGP4 ▸ TLE"
   ]
  },
  {
   "cell_type": "markdown",
   "metadata": {},
   "source": [
    "**Trajectory ▸ Orbit ▸ Models ▸ SGP4 ▸ TLE ▸ Constructors**"
   ]
  },
  {
   "cell_type": "code",
   "execution_count": 68,
   "metadata": {},
   "outputs": [],
   "source": [
    "tle = TLE(\"1 25544U 98067A   18231.17878740  .00000187  00000-0  10196-4 0  9994\",\n",
    "          \"2 25544  51.6447  64.7824 0005971  73.1467  36.4366 15.53848234128316\") ;\n",
    "\n",
    "tle = TLE.undefined() ;\n",
    "tle = TLE.parse(\"1 25544U 98067A   18231.17878740  .00000187  00000-0  10196-4 0  9994\\n2 25544  51.6447  64.7824 0005971  73.1467  36.4366 15.53848234128316\") ;"
   ]
  },
  {
   "cell_type": "markdown",
   "metadata": {},
   "source": [
    "**Trajectory ▸ Orbit ▸ Models ▸ SGP4 ▸ TLE ▸ Methods**"
   ]
  },
  {
   "cell_type": "code",
   "execution_count": 69,
   "metadata": {},
   "outputs": [],
   "source": [
    "tle.is_defined() ;"
   ]
  },
  {
   "cell_type": "code",
   "execution_count": 70,
   "metadata": {},
   "outputs": [],
   "source": [
    "tle.get_satellite_name() ;"
   ]
  },
  {
   "cell_type": "code",
   "execution_count": 71,
   "metadata": {},
   "outputs": [],
   "source": [
    "tle.get_first_line() ;"
   ]
  },
  {
   "cell_type": "code",
   "execution_count": 72,
   "metadata": {},
   "outputs": [],
   "source": [
    "tle.get_second_line() ;"
   ]
  },
  {
   "cell_type": "code",
   "execution_count": 73,
   "metadata": {},
   "outputs": [],
   "source": [
    "tle.get_satellite_number() ;"
   ]
  },
  {
   "cell_type": "code",
   "execution_count": 74,
   "metadata": {},
   "outputs": [],
   "source": [
    "tle.get_classification() ;"
   ]
  },
  {
   "cell_type": "code",
   "execution_count": 75,
   "metadata": {},
   "outputs": [],
   "source": [
    "tle.get_international_designator() ;"
   ]
  },
  {
   "cell_type": "code",
   "execution_count": 76,
   "metadata": {},
   "outputs": [],
   "source": [
    "tle.get_epoch() ;"
   ]
  },
  {
   "cell_type": "code",
   "execution_count": 77,
   "metadata": {},
   "outputs": [],
   "source": [
    "tle.get_mean_motion_first_time_derivative_divided_by_two() ;"
   ]
  },
  {
   "cell_type": "code",
   "execution_count": 78,
   "metadata": {},
   "outputs": [],
   "source": [
    "tle.get_mean_motion_second_time_derivative_divided_by_six() ;"
   ]
  },
  {
   "cell_type": "code",
   "execution_count": 79,
   "metadata": {},
   "outputs": [],
   "source": [
    "tle.get_b_star_drag_term() ;"
   ]
  },
  {
   "cell_type": "code",
   "execution_count": 80,
   "metadata": {},
   "outputs": [],
   "source": [
    "tle.get_ephemeris_type() ;"
   ]
  },
  {
   "cell_type": "code",
   "execution_count": 81,
   "metadata": {},
   "outputs": [],
   "source": [
    "tle.get_element_set_number() ;"
   ]
  },
  {
   "cell_type": "code",
   "execution_count": 82,
   "metadata": {},
   "outputs": [],
   "source": [
    "tle.get_first_line_checksum() ;"
   ]
  },
  {
   "cell_type": "code",
   "execution_count": 83,
   "metadata": {},
   "outputs": [],
   "source": [
    "tle.get_inclination() ;"
   ]
  },
  {
   "cell_type": "code",
   "execution_count": 84,
   "metadata": {},
   "outputs": [],
   "source": [
    "tle.get_raan() ;"
   ]
  },
  {
   "cell_type": "code",
   "execution_count": 85,
   "metadata": {},
   "outputs": [],
   "source": [
    "tle.get_eccentricity() ;"
   ]
  },
  {
   "cell_type": "code",
   "execution_count": 86,
   "metadata": {},
   "outputs": [],
   "source": [
    "tle.get_aop() ;"
   ]
  },
  {
   "cell_type": "code",
   "execution_count": 87,
   "metadata": {},
   "outputs": [],
   "source": [
    "tle.get_mean_anomaly() ;"
   ]
  },
  {
   "cell_type": "code",
   "execution_count": 88,
   "metadata": {},
   "outputs": [],
   "source": [
    "tle.get_mean_motion() ;"
   ]
  },
  {
   "cell_type": "code",
   "execution_count": 89,
   "metadata": {},
   "outputs": [],
   "source": [
    "tle.get_revolution_number_at_epoch() ;"
   ]
  },
  {
   "cell_type": "markdown",
   "metadata": {},
   "source": [
    "**Trajectory ▸ Orbit ▸ Models ▸ SGP4 ▸ TLE ▸ Static Methods**"
   ]
  },
  {
   "cell_type": "code",
   "execution_count": 90,
   "metadata": {},
   "outputs": [],
   "source": [
    "TLE.can_parse(\"1 25544U 98067A   18231.17878740  .00000187  00000-0  10196-4 0  9994\", \"2 25544  51.6447  64.7824 0005971  73.1467  36.4366 15.53848234128316\") ;"
   ]
  },
  {
   "cell_type": "markdown",
   "metadata": {},
   "source": [
    "### Trajectory ▸ Orbit ▸ Pass"
   ]
  },
  {
   "cell_type": "markdown",
   "metadata": {},
   "source": [
    "**Trajectory ▸ Orbit ▸ Pass ▸ Constructors**"
   ]
  },
  {
   "cell_type": "code",
   "execution_count": 94,
   "metadata": {},
   "outputs": [],
   "source": [
    "pass_type = Pass.Type.Partial\n",
    "pass_revolution_number = 123\n",
    "pass_start_instant = Instant.date_time(DateTime(2018, 1, 1, 0, 0, 0), Scale.UTC)\n",
    "pass_end_instant = Instant.date_time(DateTime(2018, 1, 1, 1, 0, 0), Scale.UTC)\n",
    "pass_interval = Interval.closed(pass_start_instant, pass_end_instant)\n",
    "\n",
    "pass_ = Pass(pass_type, pass_revolution_number, pass_interval)"
   ]
  },
  {
   "cell_type": "markdown",
   "metadata": {},
   "source": [
    "**Trajectory ▸ Orbit ▸ Pass ▸ Methods**"
   ]
  },
  {
   "cell_type": "code",
   "execution_count": 95,
   "metadata": {},
   "outputs": [],
   "source": [
    "pass_.is_defined() ;"
   ]
  },
  {
   "cell_type": "code",
   "execution_count": 96,
   "metadata": {},
   "outputs": [],
   "source": [
    "pass_.is_complete() ;"
   ]
  },
  {
   "cell_type": "code",
   "execution_count": 97,
   "metadata": {},
   "outputs": [],
   "source": [
    "pass_.get_type() ;"
   ]
  },
  {
   "cell_type": "code",
   "execution_count": 98,
   "metadata": {},
   "outputs": [],
   "source": [
    "pass_.get_revolution_number() ;"
   ]
  },
  {
   "cell_type": "code",
   "execution_count": 99,
   "metadata": {},
   "outputs": [],
   "source": [
    "pass_.get_interval() ;"
   ]
  },
  {
   "cell_type": "markdown",
   "metadata": {},
   "source": [
    "**Trajectory ▸ Orbit ▸ Pass ▸ Static Methods**"
   ]
  },
  {
   "cell_type": "code",
   "execution_count": 100,
   "metadata": {},
   "outputs": [],
   "source": [
    "Pass.string_from_type(Pass.Type.Complete) ;"
   ]
  },
  {
   "cell_type": "code",
   "execution_count": 101,
   "metadata": {},
   "outputs": [],
   "source": [
    "Pass.string_from_phase(Pass.Phase.Ascending) ;"
   ]
  },
  {
   "cell_type": "code",
   "execution_count": 102,
   "metadata": {},
   "outputs": [],
   "source": [
    "Pass.string_from_quarter(Pass.Quarter.First) ;"
   ]
  }
 ],
 "metadata": {
  "kernelspec": {
   "display_name": "Python 3",
   "language": "python",
   "name": "python3"
  },
  "language_info": {
   "codemirror_mode": {
    "name": "ipython",
    "version": 3
   },
   "file_extension": ".py",
   "mimetype": "text/x-python",
   "name": "python",
   "nbconvert_exporter": "python",
   "pygments_lexer": "ipython3",
   "version": "3.6.8"
  }
 },
 "nbformat": 4,
 "nbformat_minor": 2
}
